{
 "cells": [
  {
   "cell_type": "markdown",
   "id": "de4810e5",
   "metadata": {},
   "source": [
    "## This script:\n",
    "### -Identifies the optimal hyperparameters for an XGBoost model trained on our data\n",
    "### -Trains this optimized model \n",
    "### -Deploys this optimized model \n",
    "### -Assesses this model in terms of statistical prowess and operational impact\n",
    "<br><br>\n",
    "### Outline of Notebook:\n",
    "\n",
    "#### 2.1 Establish environment and define variables\n",
    "#### 2.2 Tune Hyperparameters\n",
    "#### 2.3 Train Optimized Model\n",
    "#### 2.4 Deploy Optimized Model\n",
    "#### 2.5 Make Batch Predictions on Test Data\n",
    "&nbsp;&nbsp;&nbsp;&nbsp;Function: <u>CSV_Reader()</u>\n",
    "#### 2.6 Identify Optimal Likelihood Cutoff for Predictions\n",
    "#### 2.7 Evaluate Model<br>\n",
    "&nbsp;&nbsp;&nbsp;&nbsp;Function: <u>Plot_Confusion_Matrix()</u>\n",
    "#### 2.8 Feature Importance\n",
    "#### 2.9 Assess Financial/Operational Impact of Model"
   ]
  },
  {
   "cell_type": "markdown",
   "id": "b03e3d89",
   "metadata": {},
   "source": [
    "### 2.1 Establish Environment and Define Variables"
   ]
  },
  {
   "cell_type": "code",
   "execution_count": 1,
   "id": "e279d88d",
   "metadata": {},
   "outputs": [
    {
     "name": "stdout",
     "output_type": "stream",
     "text": [
      "sagemaker.config INFO - Not applying SDK defaults from location: /etc/xdg/sagemaker/config.yaml\n",
      "sagemaker.config INFO - Not applying SDK defaults from location: /home/ec2-user/.config/sagemaker/config.yaml\n",
      "sagemaker.config INFO - Not applying SDK defaults from location: /etc/xdg/sagemaker/config.yaml\n",
      "sagemaker.config INFO - Not applying SDK defaults from location: /home/ec2-user/.config/sagemaker/config.yaml\n"
     ]
    }
   ],
   "source": [
    "#The first step is to import the necessary libraries\n",
    "\n",
    "#Data manipulation libraries\n",
    "import pandas as pd\n",
    "import numpy as np\n",
    "from datetime import datetime\n",
    "#from sklearn.utils import shuffle\n",
    "from time import gmtime, strftime\n",
    "%matplotlib inline\n",
    "\n",
    "#Data visualization libraries\n",
    "import seaborn as sns\n",
    "import matplotlib.pyplot as plt\n",
    "\n",
    "#AWS Sagemaker libraries\n",
    "import sagemaker\n",
    "import boto3\n",
    "import io\n",
    "from io import StringIO\n",
    "from sagemaker import get_execution_role\n",
    "import sagemaker.amazon.common as smac\n",
    "import os\n",
    "from sagemaker.xgboost.estimator import XGBoost\n",
    "from sagemaker.session import Session\n",
    "from sagemaker.inputs import TrainingInput\n",
    "from sagemaker.amazon.amazon_estimator import get_image_uri\n",
    "\n",
    "#Libraries needed to evaluate/produce machine learning models\n",
    "from sklearn.metrics import precision_recall_fscore_support\n",
    "from sklearn.metrics import accuracy_score\n",
    "from sklearn.metrics import roc_auc_score\n",
    "from sklearn.ensemble import RandomForestClassifier as rfc\n",
    "\n",
    "#Defining some global variables for Sagemaker\n",
    "region = boto3.Session().region_name\n",
    "smclient = boto3.Session().client('sagemaker')\n",
    "role = get_execution_role()"
   ]
  },
  {
   "cell_type": "markdown",
   "id": "18b6218a",
   "metadata": {},
   "source": [
    "#### As this is a fairly large dataset we will reformat the default display dimensions to reflect this."
   ]
  },
  {
   "cell_type": "code",
   "execution_count": 2,
   "id": "e293703c",
   "metadata": {},
   "outputs": [],
   "source": [
    "#500 rows and columns will be presented\n",
    "pd.set_option('display.max_columns', 500)\n",
    "pd.set_option('display.max_rows', 500)"
   ]
  },
  {
   "cell_type": "markdown",
   "id": "9ccb844d",
   "metadata": {},
   "source": [
    "#### Defining the names of different directory folders and files to be called upon later in the script."
   ]
  },
  {
   "cell_type": "code",
   "execution_count": 3,
   "id": "a40cbd19",
   "metadata": {},
   "outputs": [],
   "source": [
    "#Head repository\n",
    "bucket = 'diabetes-directory'\n",
    "#Relevant subfolders\n",
    "processed_data_subfolder = 'processed_data_location'\n",
    "xgb_subfolder = 'xgb'\n",
    "hyperparameter_tuning_subfolder = 'tuning'\n",
    "tuned_model_subfolder = 'optimized_model'\n",
    "#Input files\n",
    "train_file = 'train.csv'\n",
    "validation_file = 'validation.csv'\n",
    "test_file = 'test.csv'\n",
    "full_cleaned_dataset = 'aggregate_cleaned_data.csv'\n",
    "\n",
    "#File paths for model data\n",
    "s3_train_filepath = 's3://{}/{}/{}'.format(bucket, processed_data_subfolder, train_file)\n",
    "s3_validation_filepath ='s3://{}/{}/{}'.format(bucket, processed_data_subfolder, validation_file)\n",
    "\n",
    "#File paths for model output\n",
    "hyperparameter_tuning_output = \"s3://{}/{}/{}/output\".format(bucket, xgb_subfolder, hyperparameter_tuning_subfolder)\n",
    "tuned_model_output = 's3://{}/{}/{}/'.format(bucket, xgb_subfolder, tuned_model_subfolder)\n",
    "\n",
    "#Tuning and training \n",
    "tuning_job_name = 'diabetes-XGB-{}'.format(datetime.now().strftime(\"%Y%m%d%H%M%S\"))\n",
    "#optimized_job_name = 'diabetes-XGB-job-optimized-{}'.format(datetime.now().strftime(\"%Y%m%d%H%M%S\"))\n"
   ]
  },
  {
   "cell_type": "markdown",
   "id": "f9f9e505",
   "metadata": {},
   "source": [
    "### 2.2 Tune Hyperparameters"
   ]
  },
  {
   "cell_type": "markdown",
   "id": "498179a7",
   "metadata": {},
   "source": [
    "#### We begin by defining a range of hyperparameters for our XGB model to cycle through.\n",
    "We are initiating 50 individual jobs to see which produces the highes AUC value."
   ]
  },
  {
   "cell_type": "code",
   "execution_count": 4,
   "id": "b93536fb",
   "metadata": {},
   "outputs": [],
   "source": [
    "tuning_job_config = {\n",
    "    \"ParameterRanges\": {\n",
    "      \"CategoricalParameterRanges\": [],\n",
    "      \"ContinuousParameterRanges\": [\n",
    "        {\n",
    "          \"MaxValue\": \"1\",\n",
    "          \"MinValue\": \"0\",\n",
    "          \"Name\": \"eta\"\n",
    "        },\n",
    "        {\n",
    "          \"MaxValue\": \"2\",\n",
    "          \"MinValue\": \"0\",\n",
    "          \"Name\": \"alpha\"\n",
    "        },\n",
    "        {\n",
    "          \"MaxValue\": \"10\",\n",
    "          \"MinValue\": \"1\",\n",
    "          \"Name\": \"min_child_weight\"\n",
    "        }\n",
    "      ],\n",
    "      \"IntegerParameterRanges\": [\n",
    "        {\n",
    "          \"MaxValue\": \"10\",\n",
    "          \"MinValue\": \"1\",\n",
    "          \"Name\": \"max_depth\"\n",
    "        }\n",
    "      ]\n",
    "    },\n",
    "    \"ResourceLimits\": {\n",
    "      \"MaxNumberOfTrainingJobs\": 50,\n",
    "      \"MaxParallelTrainingJobs\": 5\n",
    "    },\n",
    "    \"Strategy\": \"Bayesian\",\n",
    "    \"HyperParameterTuningJobObjective\": {\n",
    "      \"MetricName\": \"validation:auc\",\n",
    "      \"Type\": \"Maximize\"\n",
    "    },\n",
    "    \"RandomSeed\" : 123\n",
    "  }"
   ]
  },
  {
   "cell_type": "markdown",
   "id": "322fbb5a",
   "metadata": {},
   "source": [
    "#### Now we set up the resources for our XGB model, feed in the input/output locations as well as our defined hyperparameter ranges, and initiate the session.\n",
    "\n",
    "The hyperparameter-tuning-job can be monitored, and even set up/initiated, within the Sagemaker UI. Upon completion, we need then reference the specific training job with the optimal outcome metric (Area Under the Curve AUC), import the hyperparameters from this job, and then feed these hyperparameters into our model for deployment, thereby optimizing this final model."
   ]
  },
  {
   "cell_type": "code",
   "execution_count": 5,
   "id": "0615275f",
   "metadata": {},
   "outputs": [],
   "source": [
    "#sagemaker.image_uris.retrieve\n",
    "training_image = sagemaker.image_uris.retrieve(framework = 'xgboost', region = 'us-east-1', version = '1.0-1')\n",
    "\n",
    "#Identifying the optimal hyperparameters, and specifying input/output file paths\n",
    "training_job_definition = {\n",
    "    \"AlgorithmSpecification\": {\n",
    "      \"TrainingImage\": training_image,\n",
    "      \"TrainingInputMode\": \"File\"\n",
    "    },\n",
    "    \"InputDataConfig\": [\n",
    "      {\n",
    "        \"ChannelName\": \"train\",\n",
    "        \"CompressionType\": \"None\",\n",
    "        \"ContentType\": \"csv\",\n",
    "        \"DataSource\": {\n",
    "          \"S3DataSource\": {\n",
    "            \"S3DataDistributionType\": \"FullyReplicated\",\n",
    "            \"S3DataType\": \"S3Prefix\",\n",
    "            \"S3Uri\": s3_train_filepath\n",
    "          }\n",
    "        }\n",
    "      },\n",
    "      {\n",
    "        \"ChannelName\": \"validation\",\n",
    "        \"CompressionType\": \"None\",\n",
    "        \"ContentType\": \"csv\",\n",
    "        \"DataSource\": {\n",
    "          \"S3DataSource\": {\n",
    "            \"S3DataDistributionType\": \"FullyReplicated\",\n",
    "            \"S3DataType\": \"S3Prefix\",\n",
    "            \"S3Uri\": s3_validation_filepath\n",
    "          }\n",
    "        }\n",
    "      }\n",
    "    ],\n",
    "    \"OutputDataConfig\": {\n",
    "      \"S3OutputPath\": hyperparameter_tuning_output\n",
    "    },\n",
    "    \"ResourceConfig\": {\n",
    "      \"InstanceCount\": 2,\n",
    "      \"InstanceType\": \"ml.c4.2xlarge\",\n",
    "      \"VolumeSizeInGB\": 10\n",
    "    },\n",
    "    \"RoleArn\": role,\n",
    "    \"StaticHyperParameters\": {\n",
    "      \"eval_metric\": \"auc\",\n",
    "      \"num_round\": \"100\",\n",
    "      \"objective\": \"binary:logistic\",\n",
    "      \"rate_drop\": \"0.3\",\n",
    "      \"tweedie_variance_power\": \"1.4\"\n",
    "    },\n",
    "    \"StoppingCondition\": {\n",
    "      \"MaxRuntimeInSeconds\": 43200\n",
    "    }\n",
    "}"
   ]
  },
  {
   "cell_type": "markdown",
   "id": "1781e468",
   "metadata": {},
   "source": [
    "#### Here we initiate the training job with the parameters/model specified above"
   ]
  },
  {
   "cell_type": "code",
   "execution_count": 6,
   "id": "7819c8e4",
   "metadata": {},
   "outputs": [
    {
     "data": {
      "text/plain": [
       "{'HyperParameterTuningJobArn': 'arn:aws:sagemaker:us-east-1:665277163763:hyper-parameter-tuning-job/diabetes-XGB-20231022151850',\n",
       " 'ResponseMetadata': {'RequestId': '706c8eb3-2bd6-4418-953e-3b085d914842',\n",
       "  'HTTPStatusCode': 200,\n",
       "  'HTTPHeaders': {'x-amzn-requestid': '706c8eb3-2bd6-4418-953e-3b085d914842',\n",
       "   'content-type': 'application/x-amz-json-1.1',\n",
       "   'content-length': '128',\n",
       "   'date': 'Sun, 22 Oct 2023 15:18:49 GMT'},\n",
       "  'RetryAttempts': 0}}"
      ]
     },
     "execution_count": 6,
     "metadata": {},
     "output_type": "execute_result"
    }
   ],
   "source": [
    "smclient.create_hyper_parameter_tuning_job(HyperParameterTuningJobName = tuning_job_name,\n",
    "                                           HyperParameterTuningJobConfig = tuning_job_config,\n",
    "                                           TrainingJobDefinition = training_job_definition)"
   ]
  },
  {
   "cell_type": "markdown",
   "id": "60b48ecc",
   "metadata": {},
   "source": [
    "#### Once complete, we now get the training job, we can extract the hyperparameters from the model iteration that demonstrated the highest outcome metric, AUC."
   ]
  },
  {
   "cell_type": "code",
   "execution_count": 8,
   "id": "57eee60c",
   "metadata": {
    "scrolled": true
   },
   "outputs": [
    {
     "name": "stdout",
     "output_type": "stream",
     "text": [
      "sagemaker.config INFO - Not applying SDK defaults from location: /etc/xdg/sagemaker/config.yaml\n",
      "sagemaker.config INFO - Not applying SDK defaults from location: /home/ec2-user/.config/sagemaker/config.yaml\n"
     ]
    }
   ],
   "source": [
    "# Get the best training job name\n",
    "tuner = sagemaker.HyperparameterTuningJobAnalytics(tuning_job_name)\n",
    "best_training_job = tuner.dataframe().sort_values('FinalObjectiveValue', ascending=False).iloc[0]\n",
    "best_training_job_name = best_training_job['TrainingJobName']\n",
    "\n",
    "# Get the best hyperparameters from the best training job\n",
    "response = smclient.describe_training_job(TrainingJobName=best_training_job_name)\n",
    "best_hyperparameters = response['HyperParameters']"
   ]
  },
  {
   "cell_type": "code",
   "execution_count": 9,
   "id": "5c983965",
   "metadata": {},
   "outputs": [
    {
     "name": "stdout",
     "output_type": "stream",
     "text": [
      "The optimized hyperparameters from the Sagemaker Tuning Job are as follows:\n",
      "\n",
      "{'_tuning_objective_metric': 'validation:auc', 'alpha': '1.9966580973532295', 'eta': '0.5532925240524408', 'eval_metric': 'auc', 'max_depth': '2', 'min_child_weight': '9.356431646086168', 'num_round': '100', 'objective': 'binary:logistic', 'rate_drop': '0.3', 'tweedie_variance_power': '1.4'}\n"
     ]
    }
   ],
   "source": [
    "print('The optimized hyperparameters from the Sagemaker Tuning Job are as follows:')\n",
    "print()\n",
    "print(best_hyperparameters)"
   ]
  },
  {
   "cell_type": "markdown",
   "id": "1ba6c4ee",
   "metadata": {},
   "source": [
    "### 2.3 Train Optimized Model"
   ]
  },
  {
   "cell_type": "markdown",
   "id": "2c23cdd7",
   "metadata": {},
   "source": [
    "#### In the below cell, we now train a model with the hyperparameters specified in the above training job."
   ]
  },
  {
   "cell_type": "code",
   "execution_count": 10,
   "id": "7a3b1d34",
   "metadata": {},
   "outputs": [
    {
     "name": "stdout",
     "output_type": "stream",
     "text": [
      "sagemaker.config INFO - Not applying SDK defaults from location: /etc/xdg/sagemaker/config.yaml\n",
      "sagemaker.config INFO - Not applying SDK defaults from location: /home/ec2-user/.config/sagemaker/config.yaml\n",
      "sagemaker.config INFO - Not applying SDK defaults from location: /etc/xdg/sagemaker/config.yaml\n",
      "sagemaker.config INFO - Not applying SDK defaults from location: /home/ec2-user/.config/sagemaker/config.yaml\n"
     ]
    },
    {
     "name": "stderr",
     "output_type": "stream",
     "text": [
      "INFO:sagemaker:Creating training-job with name: sagemaker-xgboost-2023-10-22-15-37-05-080\n"
     ]
    },
    {
     "name": "stdout",
     "output_type": "stream",
     "text": [
      "2023-10-22 15:37:05 Starting - Starting the training job...\n",
      "2023-10-22 15:37:21 Starting - Preparing the instances for training......\n",
      "2023-10-22 15:38:18 Downloading - Downloading input data...\n",
      "2023-10-22 15:38:38 Training - Downloading the training image...\n",
      "2023-10-22 15:39:29 Training - Training image download completed. Training in progress...\u001b[34m[2023-10-22 15:39:42.288 ip-10-0-157-94.ec2.internal:7 INFO utils.py:28] RULE_JOB_STOP_SIGNAL_FILENAME: None\u001b[0m\n",
      "\u001b[34m[2023-10-22 15:39:42.312 ip-10-0-157-94.ec2.internal:7 INFO profiler_config_parser.py:111] User has disabled profiler.\u001b[0m\n",
      "\u001b[34m[2023-10-22:15:39:42:INFO] Imported framework sagemaker_xgboost_container.training\u001b[0m\n",
      "\u001b[34m[2023-10-22:15:39:42:INFO] Failed to parse hyperparameter _tuning_objective_metric value validation:auc to Json.\u001b[0m\n",
      "\u001b[34mReturning the value itself\u001b[0m\n",
      "\u001b[34m[2023-10-22:15:39:42:INFO] Failed to parse hyperparameter eval_metric value auc to Json.\u001b[0m\n",
      "\u001b[34mReturning the value itself\u001b[0m\n",
      "\u001b[34m[2023-10-22:15:39:42:INFO] Failed to parse hyperparameter objective value binary:logistic to Json.\u001b[0m\n",
      "\u001b[34mReturning the value itself\u001b[0m\n",
      "\u001b[34m[2023-10-22:15:39:42:INFO] No GPUs detected (normal if no gpus installed)\u001b[0m\n",
      "\u001b[34m[2023-10-22:15:39:42:INFO] Running XGBoost Sagemaker in algorithm mode\u001b[0m\n",
      "\u001b[34m[2023-10-22:15:39:42:INFO] Determined 0 GPU(s) available on the instance.\u001b[0m\n",
      "\u001b[34m[2023-10-22:15:39:42:INFO] Determined delimiter of CSV input is ','\u001b[0m\n",
      "\u001b[34m[2023-10-22:15:39:42:INFO] Determined delimiter of CSV input is ','\u001b[0m\n",
      "\u001b[34m[2023-10-22:15:39:42:INFO] File path /opt/ml/input/data/train of input files\u001b[0m\n",
      "\u001b[34m[2023-10-22:15:39:42:INFO] Making smlinks from folder /opt/ml/input/data/train to folder /tmp/sagemaker_xgboost_input_data\u001b[0m\n",
      "\u001b[34m[2023-10-22:15:39:42:INFO] creating symlink between Path /opt/ml/input/data/train/train.csv and destination /tmp/sagemaker_xgboost_input_data/train.csv-5152889832052459838\u001b[0m\n",
      "\u001b[34m[2023-10-22:15:39:42:INFO] files path: /tmp/sagemaker_xgboost_input_data\u001b[0m\n",
      "\u001b[34m[2023-10-22:15:39:42:INFO] Determined delimiter of CSV input is ','\u001b[0m\n",
      "\u001b[34m[2023-10-22:15:39:42:INFO] File path /opt/ml/input/data/validation of input files\u001b[0m\n",
      "\u001b[34m[2023-10-22:15:39:42:INFO] Making smlinks from folder /opt/ml/input/data/validation to folder /tmp/sagemaker_xgboost_input_data\u001b[0m\n",
      "\u001b[34m[2023-10-22:15:39:42:INFO] creating symlink between Path /opt/ml/input/data/validation/validation.csv and destination /tmp/sagemaker_xgboost_input_data/validation.csv-7482384719690286528\u001b[0m\n",
      "\u001b[34m[2023-10-22:15:39:42:INFO] files path: /tmp/sagemaker_xgboost_input_data\u001b[0m\n",
      "\u001b[34m[2023-10-22:15:39:42:INFO] Determined delimiter of CSV input is ','\u001b[0m\n",
      "\u001b[34m[2023-10-22:15:39:43:INFO] Single node training.\u001b[0m\n",
      "\u001b[34m[2023-10-22:15:39:43:INFO] Setting up HPO optimized metric to be : auc\u001b[0m\n",
      "\u001b[34m[2023-10-22:15:39:43:INFO] Train matrix has 70113 rows and 97 columns\u001b[0m\n",
      "\u001b[34m[2023-10-22:15:39:43:INFO] Validation matrix has 19949 rows\u001b[0m\n",
      "\u001b[34m[2023-10-22 15:39:43.077 ip-10-0-157-94.ec2.internal:7 INFO json_config.py:92] Creating hook from json_config at /opt/ml/input/config/debughookconfig.json.\u001b[0m\n",
      "\u001b[34m[2023-10-22 15:39:43.077 ip-10-0-157-94.ec2.internal:7 INFO hook.py:206] tensorboard_dir has not been set for the hook. SMDebug will not be exporting tensorboard summaries.\u001b[0m\n",
      "\u001b[34m[2023-10-22 15:39:43.078 ip-10-0-157-94.ec2.internal:7 INFO hook.py:259] Saving to /opt/ml/output/tensors\u001b[0m\n",
      "\u001b[34m[2023-10-22 15:39:43.078 ip-10-0-157-94.ec2.internal:7 INFO state_store.py:77] The checkpoint config file /opt/ml/input/config/checkpointconfig.json does not exist.\u001b[0m\n",
      "\u001b[34m[2023-10-22:15:39:43:INFO] Debug hook created from config\u001b[0m\n",
      "\u001b[34m[15:39:43] WARNING: ../src/learner.cc:767: \u001b[0m\n",
      "\u001b[34mParameters: { \"rate_drop\", \"tweedie_variance_power\" } are not used.\u001b[0m\n",
      "\u001b[34m[0]#011train-auc:0.59089#011validation-auc:0.59466\u001b[0m\n",
      "\u001b[34m[2023-10-22 15:39:43.416 ip-10-0-157-94.ec2.internal:7 INFO hook.py:427] Monitoring the collections: metrics\u001b[0m\n",
      "\u001b[34m[2023-10-22 15:39:43.418 ip-10-0-157-94.ec2.internal:7 INFO hook.py:491] Hook is writing from the hook with pid: 7\u001b[0m\n",
      "\u001b[34m[1]#011train-auc:0.62130#011validation-auc:0.62114\u001b[0m\n",
      "\u001b[34m[2]#011train-auc:0.63509#011validation-auc:0.62966\u001b[0m\n",
      "\u001b[34m[3]#011train-auc:0.64335#011validation-auc:0.63442\u001b[0m\n",
      "\u001b[34m[4]#011train-auc:0.64422#011validation-auc:0.63501\u001b[0m\n",
      "\u001b[34m[5]#011train-auc:0.65001#011validation-auc:0.64203\u001b[0m\n",
      "\u001b[34m[6]#011train-auc:0.65207#011validation-auc:0.64462\u001b[0m\n",
      "\u001b[34m[7]#011train-auc:0.65542#011validation-auc:0.64839\u001b[0m\n",
      "\u001b[34m[8]#011train-auc:0.65703#011validation-auc:0.64909\u001b[0m\n",
      "\u001b[34m[9]#011train-auc:0.65924#011validation-auc:0.65037\u001b[0m\n",
      "\u001b[34m[10]#011train-auc:0.66036#011validation-auc:0.65106\u001b[0m\n",
      "\u001b[34m[11]#011train-auc:0.66267#011validation-auc:0.65147\u001b[0m\n",
      "\u001b[34m[12]#011train-auc:0.66379#011validation-auc:0.65333\u001b[0m\n",
      "\u001b[34m[13]#011train-auc:0.66430#011validation-auc:0.65426\u001b[0m\n",
      "\u001b[34m[14]#011train-auc:0.66485#011validation-auc:0.65383\u001b[0m\n",
      "\u001b[34m[15]#011train-auc:0.66582#011validation-auc:0.65406\u001b[0m\n",
      "\u001b[34m[16]#011train-auc:0.66588#011validation-auc:0.65435\u001b[0m\n",
      "\u001b[34m[17]#011train-auc:0.66661#011validation-auc:0.65478\u001b[0m\n",
      "\u001b[34m[18]#011train-auc:0.66681#011validation-auc:0.65489\u001b[0m\n",
      "\u001b[34m[19]#011train-auc:0.66720#011validation-auc:0.65450\u001b[0m\n",
      "\u001b[34m[20]#011train-auc:0.66794#011validation-auc:0.65595\u001b[0m\n",
      "\u001b[34m[21]#011train-auc:0.66834#011validation-auc:0.65558\u001b[0m\n",
      "\u001b[34m[22]#011train-auc:0.66858#011validation-auc:0.65609\u001b[0m\n",
      "\u001b[34m[23]#011train-auc:0.66891#011validation-auc:0.65620\u001b[0m\n",
      "\u001b[34m[24]#011train-auc:0.66955#011validation-auc:0.65668\u001b[0m\n",
      "\u001b[34m[25]#011train-auc:0.67013#011validation-auc:0.65613\u001b[0m\n",
      "\u001b[34m[26]#011train-auc:0.67039#011validation-auc:0.65642\u001b[0m\n",
      "\u001b[34m[27]#011train-auc:0.67076#011validation-auc:0.65654\u001b[0m\n",
      "\u001b[34m[28]#011train-auc:0.67124#011validation-auc:0.65699\u001b[0m\n",
      "\u001b[34m[29]#011train-auc:0.67150#011validation-auc:0.65725\u001b[0m\n",
      "\u001b[34m[30]#011train-auc:0.67197#011validation-auc:0.65743\u001b[0m\n",
      "\u001b[34m[31]#011train-auc:0.67229#011validation-auc:0.65716\u001b[0m\n",
      "\u001b[34m[32]#011train-auc:0.67266#011validation-auc:0.65738\u001b[0m\n",
      "\u001b[34m[33]#011train-auc:0.67290#011validation-auc:0.65761\u001b[0m\n",
      "\u001b[34m[34]#011train-auc:0.67327#011validation-auc:0.65768\u001b[0m\n",
      "\u001b[34m[35]#011train-auc:0.67386#011validation-auc:0.65766\u001b[0m\n",
      "\u001b[34m[36]#011train-auc:0.67425#011validation-auc:0.65836\u001b[0m\n",
      "\u001b[34m[37]#011train-auc:0.67439#011validation-auc:0.65821\u001b[0m\n",
      "\u001b[34m[38]#011train-auc:0.67474#011validation-auc:0.65787\u001b[0m\n",
      "\u001b[34m[39]#011train-auc:0.67520#011validation-auc:0.65790\u001b[0m\n",
      "\u001b[34m[40]#011train-auc:0.67602#011validation-auc:0.65860\u001b[0m\n",
      "\u001b[34m[41]#011train-auc:0.67646#011validation-auc:0.65865\u001b[0m\n",
      "\u001b[34m[42]#011train-auc:0.67676#011validation-auc:0.65897\u001b[0m\n",
      "\u001b[34m[43]#011train-auc:0.67720#011validation-auc:0.65899\u001b[0m\n",
      "\u001b[34m[44]#011train-auc:0.67762#011validation-auc:0.65923\u001b[0m\n",
      "\u001b[34m[45]#011train-auc:0.67780#011validation-auc:0.65886\u001b[0m\n",
      "\u001b[34m[46]#011train-auc:0.67819#011validation-auc:0.65894\u001b[0m\n",
      "\u001b[34m[47]#011train-auc:0.67835#011validation-auc:0.65871\u001b[0m\n",
      "\u001b[34m[48]#011train-auc:0.67864#011validation-auc:0.65871\u001b[0m\n",
      "\u001b[34m[49]#011train-auc:0.67894#011validation-auc:0.65908\u001b[0m\n",
      "\u001b[34m[50]#011train-auc:0.67905#011validation-auc:0.65912\u001b[0m\n",
      "\u001b[34m[51]#011train-auc:0.67946#011validation-auc:0.65911\u001b[0m\n",
      "\u001b[34m[52]#011train-auc:0.67975#011validation-auc:0.65937\u001b[0m\n",
      "\u001b[34m[53]#011train-auc:0.67990#011validation-auc:0.65963\u001b[0m\n",
      "\u001b[34m[54]#011train-auc:0.68002#011validation-auc:0.65980\u001b[0m\n",
      "\u001b[34m[55]#011train-auc:0.68035#011validation-auc:0.66021\u001b[0m\n",
      "\u001b[34m[56]#011train-auc:0.68061#011validation-auc:0.66047\u001b[0m\n",
      "\u001b[34m[57]#011train-auc:0.68080#011validation-auc:0.66059\u001b[0m\n",
      "\u001b[34m[58]#011train-auc:0.68109#011validation-auc:0.66000\u001b[0m\n",
      "\u001b[34m[59]#011train-auc:0.68125#011validation-auc:0.65991\u001b[0m\n",
      "\u001b[34m[60]#011train-auc:0.68230#011validation-auc:0.66026\u001b[0m\n",
      "\u001b[34m[61]#011train-auc:0.68280#011validation-auc:0.66023\u001b[0m\n",
      "\u001b[34m[62]#011train-auc:0.68301#011validation-auc:0.66022\u001b[0m\n",
      "\u001b[34m[63]#011train-auc:0.68303#011validation-auc:0.66036\u001b[0m\n",
      "\u001b[34m[64]#011train-auc:0.68321#011validation-auc:0.66039\u001b[0m\n",
      "\u001b[34m[65]#011train-auc:0.68349#011validation-auc:0.66044\u001b[0m\n",
      "\u001b[34m[66]#011train-auc:0.68391#011validation-auc:0.66085\u001b[0m\n",
      "\u001b[34m[67]#011train-auc:0.68415#011validation-auc:0.66090\u001b[0m\n",
      "\u001b[34m[68]#011train-auc:0.68449#011validation-auc:0.66126\u001b[0m\n",
      "\u001b[34m[69]#011train-auc:0.68469#011validation-auc:0.66106\u001b[0m\n",
      "\u001b[34m[70]#011train-auc:0.68505#011validation-auc:0.66141\u001b[0m\n",
      "\u001b[34m[71]#011train-auc:0.68524#011validation-auc:0.66139\u001b[0m\n",
      "\u001b[34m[72]#011train-auc:0.68549#011validation-auc:0.66078\u001b[0m\n",
      "\u001b[34m[73]#011train-auc:0.68555#011validation-auc:0.66074\u001b[0m\n",
      "\u001b[34m[74]#011train-auc:0.68575#011validation-auc:0.66078\u001b[0m\n",
      "\u001b[34m[75]#011train-auc:0.68621#011validation-auc:0.66046\u001b[0m\n",
      "\u001b[34m[76]#011train-auc:0.68628#011validation-auc:0.65993\u001b[0m\n",
      "\u001b[34m[77]#011train-auc:0.68633#011validation-auc:0.66003\u001b[0m\n",
      "\u001b[34m[78]#011train-auc:0.68649#011validation-auc:0.66009\u001b[0m\n",
      "\u001b[34m[79]#011train-auc:0.68652#011validation-auc:0.65997\u001b[0m\n",
      "\u001b[34m[80]#011train-auc:0.68663#011validation-auc:0.66009\u001b[0m\n",
      "\u001b[34m[81]#011train-auc:0.68706#011validation-auc:0.66002\u001b[0m\n",
      "\u001b[34m[82]#011train-auc:0.68723#011validation-auc:0.65983\u001b[0m\n",
      "\u001b[34m[83]#011train-auc:0.68748#011validation-auc:0.65972\u001b[0m\n",
      "\u001b[34m[84]#011train-auc:0.68765#011validation-auc:0.65937\u001b[0m\n",
      "\u001b[34m[85]#011train-auc:0.68781#011validation-auc:0.65903\u001b[0m\n",
      "\u001b[34m[86]#011train-auc:0.68785#011validation-auc:0.65910\u001b[0m\n",
      "\u001b[34m[87]#011train-auc:0.68789#011validation-auc:0.65890\u001b[0m\n",
      "\u001b[34m[88]#011train-auc:0.68817#011validation-auc:0.65871\u001b[0m\n",
      "\u001b[34m[89]#011train-auc:0.68836#011validation-auc:0.65899\u001b[0m\n",
      "\u001b[34m[90]#011train-auc:0.68850#011validation-auc:0.65886\u001b[0m\n",
      "\u001b[34m[91]#011train-auc:0.68874#011validation-auc:0.65888\u001b[0m\n",
      "\u001b[34m[92]#011train-auc:0.68888#011validation-auc:0.65865\u001b[0m\n",
      "\u001b[34m[93]#011train-auc:0.68909#011validation-auc:0.65853\u001b[0m\n",
      "\u001b[34m[94]#011train-auc:0.68915#011validation-auc:0.65856\u001b[0m\n",
      "\u001b[34m[95]#011train-auc:0.68933#011validation-auc:0.65841\u001b[0m\n",
      "\u001b[34m[96]#011train-auc:0.68940#011validation-auc:0.65842\u001b[0m\n",
      "\u001b[34m[97]#011train-auc:0.68965#011validation-auc:0.65853\u001b[0m\n",
      "\u001b[34m[98]#011train-auc:0.68979#011validation-auc:0.65857\u001b[0m\n",
      "\u001b[34m[99]#011train-auc:0.68990#011validation-auc:0.65843\u001b[0m\n"
     ]
    },
    {
     "name": "stdout",
     "output_type": "stream",
     "text": [
      "\n",
      "2023-10-22 15:40:06 Uploading - Uploading generated training model\n",
      "2023-10-22 15:40:06 Completed - Training job completed\n",
      "Training seconds: 107\n",
      "Billable seconds: 107\n"
     ]
    }
   ],
   "source": [
    "# this line automatically looks for the XGBoost image URI and builds an XGBoost container.\n",
    "xgboost_container = sagemaker.image_uris.retrieve(\"xgboost\", 'us-east-1', \"1.7-1\")\n",
    "\n",
    "# construct a SageMaker estimator that calls the xgboost-container\n",
    "estimator = sagemaker.estimator.Estimator(image_uri=xgboost_container, \n",
    "                                          #The optimal hyperparameters from tuning are brought into our new model\n",
    "                                          hyperparameters=best_hyperparameters,\n",
    "                                          role=sagemaker.get_execution_role(),\n",
    "                                          instance_count=1, \n",
    "                                          instance_type='ml.m5.2xlarge', \n",
    "                                          volume_size=5, # 5 GB \n",
    "                                          output_path=tuned_model_output)\n",
    "\n",
    "# define the data type and paths to the training and validation datasets\n",
    "content_type = \"csv\"\n",
    "train_input = TrainingInput(s3_train_filepath, content_type=content_type)\n",
    "validation_input = TrainingInput(s3_validation_filepath, content_type=content_type)\n",
    "\n",
    "# execute the XGBoost training job\n",
    "estimator.fit({'train': train_input, 'validation': validation_input})"
   ]
  },
  {
   "cell_type": "markdown",
   "id": "17f3d746",
   "metadata": {},
   "source": [
    "### 2.4 Deploy Optimized Model"
   ]
  },
  {
   "cell_type": "markdown",
   "id": "a1c8efc1",
   "metadata": {},
   "source": [
    "#### Below we deploy our model for inference. The type and instance count of underlying cumpute resources are specified."
   ]
  },
  {
   "cell_type": "code",
   "execution_count": 11,
   "id": "3cd27e89",
   "metadata": {
    "scrolled": true
   },
   "outputs": [
    {
     "name": "stderr",
     "output_type": "stream",
     "text": [
      "INFO:sagemaker:Creating model with name: sagemaker-xgboost-2023-10-22-15-40-17-869\n",
      "INFO:sagemaker:Creating endpoint-config with name sagemaker-xgboost-2023-10-22-15-40-17-869\n",
      "INFO:sagemaker:Creating endpoint with name sagemaker-xgboost-2023-10-22-15-40-17-869\n"
     ]
    },
    {
     "name": "stdout",
     "output_type": "stream",
     "text": [
      "-------!"
     ]
    }
   ],
   "source": [
    "deployed_predictor = estimator.deploy(initial_instance_count=1, instance_type='ml.m4.xlarge')"
   ]
  },
  {
   "cell_type": "markdown",
   "id": "426d0351",
   "metadata": {},
   "source": [
    "### 2.5 Make Batch Predictions on Test Data"
   ]
  },
  {
   "cell_type": "markdown",
   "id": "b78b1363",
   "metadata": {},
   "source": [
    "#### Here we read in our holdout test dataset for assessment on the deployed model."
   ]
  },
  {
   "cell_type": "code",
   "execution_count": 12,
   "id": "f682fd09",
   "metadata": {},
   "outputs": [],
   "source": [
    "def CSV_Reader(bucket, subfolder, source_file_name):\n",
    "    \n",
    "    '''The CSV_Reader() function takes in the names of the bucket, subfolder, and source file name, and desired dataframe name. \n",
    "    It first constructs the filepath, and then imports the file residing at this filepath, based on the title fed to the function.\n",
    "    \n",
    "    Arguments \n",
    "    --------- \n",
    "    bucket: Head S3 repository bucket\n",
    "    subfolder: Subfolder containing the source data\n",
    "    source_file_name: Name of source CSV data file \n",
    "    \n",
    "    Return\n",
    "    ---------\n",
    "    Returns the source data in a pandas dataframe '''\n",
    "    \n",
    "    data_location = 's3://{}/{}/{}'.format(bucket, subfolder, source_file_name)  \n",
    "    dataset = pd.read_csv(data_location, low_memory=False)\n",
    "    return dataset"
   ]
  },
  {
   "cell_type": "code",
   "execution_count": 13,
   "id": "492dc07b",
   "metadata": {},
   "outputs": [
    {
     "name": "stderr",
     "output_type": "stream",
     "text": [
      "INFO:botocore.credentials:Found credentials from IAM Role: BaseNotebookInstanceEc2InstanceRole\n"
     ]
    }
   ],
   "source": [
    "test_dataset = CSV_Reader(bucket, processed_data_subfolder, test_file)"
   ]
  },
  {
   "cell_type": "markdown",
   "id": "f4eab6d8",
   "metadata": {},
   "source": [
    "#### We seperate our dependent and independent variables from the test dataset, so that they can be fed to the deployed model for a patch prediction job."
   ]
  },
  {
   "cell_type": "code",
   "execution_count": 14,
   "id": "446bb6ac",
   "metadata": {},
   "outputs": [],
   "source": [
    "test_X = test_dataset.drop(columns='readmitted').values\n",
    "test_y = test_dataset['readmitted'].values"
   ]
  },
  {
   "cell_type": "markdown",
   "id": "863506ae",
   "metadata": {},
   "source": [
    "#### Here we make the necessary specifications to format our data, and then feed it to the deployed model.\n",
    "<br>\n",
    "Our responses are returned to us in a list of values (between 0 and 1) demonstrating how likely each individual record is to be readmitted."
   ]
  },
  {
   "cell_type": "code",
   "execution_count": 15,
   "id": "de590978",
   "metadata": {},
   "outputs": [
    {
     "name": "stdout",
     "output_type": "stream",
     "text": [
      "10052\n"
     ]
    }
   ],
   "source": [
    "deployed_predictor.serializer = sagemaker.serializers.CSVSerializer()\n",
    "deployed_predictor.deserializer = sagemaker.deserializers.JSONDeserializer()\n",
    "\n",
    "predictions = []\n",
    "results = deployed_predictor.predict(test_X)\n",
    "predictions += [r['score'] for r in results['predictions']]\n",
    "\n",
    "print(len(predictions))"
   ]
  },
  {
   "cell_type": "code",
   "execution_count": 16,
   "id": "3a7c8716",
   "metadata": {},
   "outputs": [],
   "source": [
    "test_dataset['predictions'] = predictions"
   ]
  },
  {
   "cell_type": "markdown",
   "id": "1974a48d",
   "metadata": {},
   "source": [
    "#### Here we will look at the distribution of our prediction values."
   ]
  },
  {
   "cell_type": "code",
   "execution_count": 17,
   "id": "43d07b12",
   "metadata": {
    "scrolled": false
   },
   "outputs": [
    {
     "data": {
      "image/png": "[encoded data removed]",
      "text/plain": [
       "<Figure size 640x480 with 1 Axes>"
      ]
     },
     "metadata": {},
     "output_type": "display_data"
    },
    {
     "name": "stdout",
     "output_type": "stream",
     "text": [
      "The mean predictive value for the test dataset is: 0.11347168519439964\n"
     ]
    }
   ],
   "source": [
    "plt.hist(test_dataset.predictions, bins=1000, density=True, alpha=0.7, color='blue')\n",
    "plt.xlabel('Predicted Values for Holdout Test Dataset')\n",
    "plt.ylabel('Frequency')\n",
    "plt.title('Distribution of Prediction Values from Model')\n",
    "\n",
    "mean_value = np.mean(test_dataset.predictions)\n",
    "max_value = np.max(test_dataset.predictions)\n",
    "min_value = np.min(test_dataset.predictions)\n",
    "\n",
    "\n",
    "# Add mean line to the histogram\n",
    "plt.axvline(mean_value, color='red', linestyle='dashed', linewidth=2, label=f'Mean Prediction Value: {mean_value:.2f}')\n",
    "\n",
    "plt.axvline(max_value, color='orange', linestyle='dashed', linewidth=1, label=f'Maximum Prediction Value: {max_value:.2f}')\n",
    "\n",
    "plt.axvline(min_value, color='green', linestyle='dashed', linewidth=1, label=f'Minimum Prediction Value: {min_value:.2f}')\n",
    "\n",
    "\n",
    "# Display legend\n",
    "plt.legend()\n",
    "\n",
    "# Show the histogram\n",
    "plt.show()\n",
    "\n",
    "print('The mean predictive value for the test dataset is: {}'.format(mean_value))"
   ]
  },
  {
   "cell_type": "markdown",
   "id": "08fec072",
   "metadata": {},
   "source": [
    "### 2.6. Identify Optimal Likelihood Cutoff for our Predictions"
   ]
  },
  {
   "cell_type": "markdown",
   "id": "1d46a7eb",
   "metadata": {},
   "source": [
    "As we can see here, our algorithm is hesitant to place much predictive weight behind any particular patient record, and so the majority of our predictions are centered near 0.1 and skew right. As the dataset is weighted heavily towards those who were not readmitted (i.e about 1 in 10 patients being readmitted), this makes sense.\n",
    "\n",
    "In fact, despiute this rightskew, it almost appears as though there is a small, second hump just above the average value. If we can identify a cutoff that will allow us to predict these records as readmitted, it is likely that our model will perform well regarding an optimal AUC value.\n",
    "\n",
    "We will therefore institute a prediction/rounding cutoff value lower than 0.5 to determine which records are predicted as being readmitted. As the mean prediction is around 0.11, using this value instead of 0.5 would likely predict around half of records as being classified as readmissions.\n",
    "\n",
    "We will therefore use a average of these predictions is likely a good place to start. Let us try this value, as well with a few other values to see which cutoff value gives us the best statistical outcome.\n",
    "\n",
    "As mentioned earlier, optimizing the Area Under the Curve (AUC) metric will be our highest priority, as this metric takes into account both false positives and false negatives."
   ]
  },
  {
   "cell_type": "markdown",
   "id": "e6f9bb96",
   "metadata": {},
   "source": [
    "#### Here we create new lists that will cut probabilities (ranging from 50% to 5%), while focusing on cutoff values close to the mean prediction of 11.3%. "
   ]
  },
  {
   "cell_type": "code",
   "execution_count": 18,
   "id": "2705890a",
   "metadata": {},
   "outputs": [],
   "source": [
    "pred_50 = [1 if i>=0.5 else 0 for i in test_dataset[\"predictions\"]]\n",
    "pred_20 = [1 if i>=0.2 else 0 for i in test_dataset[\"predictions\"]]\n",
    "pred_12 = [1 if i>=0.12 else 0 for i in test_dataset[\"predictions\"]]\n",
    "pred_115 = [1 if i>=0.115 else 0 for i in test_dataset[\"predictions\"]]\n",
    "pred_113 = [1 if i>=0.11395876273220806 else 0 for i in test_dataset[\"predictions\"]]\n",
    "pred_11 = [1 if i>=0.11 else 0 for i in test_dataset[\"predictions\"]]\n",
    "pred_105 = [1 if i>=0.105 else 0 for i in test_dataset[\"predictions\"]]\n",
    "pred_05 = [1 if i>=0.05 else 0 for i in test_dataset[\"predictions\"]]"
   ]
  },
  {
   "cell_type": "markdown",
   "id": "e252956f",
   "metadata": {},
   "source": [
    "#### Each list is now a series of 1/0 values"
   ]
  },
  {
   "cell_type": "code",
   "execution_count": 19,
   "id": "d41f08ef",
   "metadata": {},
   "outputs": [
    {
     "data": {
      "text/plain": [
       "[1, 1, 0, 0, 1, 0, 0, 0, 0, 0, 0, 0, 0, 0, 0, 0, 1, 0, 0, 1]"
      ]
     },
     "execution_count": 19,
     "metadata": {},
     "output_type": "execute_result"
    }
   ],
   "source": [
    "pred_105[0:20]"
   ]
  },
  {
   "cell_type": "markdown",
   "id": "1be5fbe4",
   "metadata": {},
   "source": [
    "#### Here we list our different prediction lists together"
   ]
  },
  {
   "cell_type": "code",
   "execution_count": 20,
   "id": "c1b35e70",
   "metadata": {},
   "outputs": [],
   "source": [
    "list_of_prediction_lists = [pred_50, pred_20, pred_12, pred_115, pred_113, pred_11, pred_105, pred_05]"
   ]
  },
  {
   "cell_type": "markdown",
   "id": "55c09e3f",
   "metadata": {},
   "source": [
    "#### Here we provde an accompanying name for each list, based off of the respective likelihood cutoff value applied to the list "
   ]
  },
  {
   "cell_type": "code",
   "execution_count": 21,
   "id": "759901f4",
   "metadata": {},
   "outputs": [],
   "source": [
    "names_of_levels = ['50%', '20%', '12%', '11.5%', '11.396% (mean)', '11%', '10.5%', '5%']"
   ]
  },
  {
   "cell_type": "markdown",
   "id": "9135b0f1",
   "metadata": {},
   "source": [
    "#### Here we define the function to conduct our statistical analysis"
   ]
  },
  {
   "cell_type": "code",
   "execution_count": 22,
   "id": "1138dfbc",
   "metadata": {},
   "outputs": [],
   "source": [
    "def XGB_Statistical_Evaluation(probability_rounding_threshold_values, names_of_levels):\n",
    "    \n",
    "    '''The CSV_Reader() function takes different readmission predictions, based off of different likelihood roundoff \n",
    "    values, and computes different \n",
    "    \n",
    "    Arguments \n",
    "    --------- \n",
    "    probability_rounding_threshold_values: A list of probabilities for each likelihood cutoff value\n",
    "    subfolder: A list of names for each item of the probability_rounding_threshold_values list, representing \n",
    "        the implimented likelihood cutoff value\n",
    "    \n",
    "    Return\n",
    "    ---------\n",
    "    For each prediction list, the following is computed:\n",
    "    -The likelihood cutoff value being used\n",
    "    -The number of predicted positived\n",
    "    -The accuracy of the predictions\n",
    "    -The precision of the predictions\n",
    "    -The recall of the predictions\n",
    "    -The F1 score of the predictions\n",
    "    -The ROC AUC score of the predictions\n",
    "    '''\n",
    "    \n",
    "    for i, j in zip(probability_rounding_threshold_values, names_of_levels):\n",
    "        y_test = test_dataset['readmitted']\n",
    "        scores = precision_recall_fscore_support(y_test, i, average='macro', labels=np.unique(i))\n",
    "        acc = accuracy_score(y_test, i)\n",
    "        roc = roc_auc_score(y_test, i)\n",
    "        positives = sum(i)\n",
    "        \n",
    "        print()\n",
    "        print('The cutoff percentage being used for predictions is: {}'.format(j))\n",
    "        print('Number of predicted readmissions: {}'.format(positives))\n",
    "        print('Accuracy is: {}'.format(acc))\n",
    "        print('Precision is: {}'.format(scores[0]))\n",
    "        print('Recall is: {}'.format(scores[1]))\n",
    "        print('F1 score is: {}'.format(scores[2]))     \n",
    "        print('ROC AUC score (i.e. the metric of primary interest) is: {}'.format(roc))"
   ]
  },
  {
   "cell_type": "markdown",
   "id": "2f36e19b",
   "metadata": {},
   "source": [
    "#### Here we assess the statistical output for the predictions from each likelihood cutoff level"
   ]
  },
  {
   "cell_type": "code",
   "execution_count": 23,
   "id": "3b5a4698",
   "metadata": {
    "scrolled": true
   },
   "outputs": [
    {
     "name": "stdout",
     "output_type": "stream",
     "text": [
      "\n",
      "The cutoff percentage being used for predictions is: 50%\n",
      "Number of predicted readmissions: 24\n",
      "Accuracy is: 0.8804218066056506\n",
      "Precision is: 0.7530165536497806\n",
      "Recall is: 0.5056997897328529\n",
      "F1 score is: 0.480329203437512\n",
      "ROC AUC score (i.e. the metric of primary interest) is: 0.505699789732853\n",
      "\n",
      "The cutoff percentage being used for predictions is: 20%\n",
      "Number of predicted readmissions: 941\n",
      "Accuracy is: 0.8363509749303621\n",
      "Precision is: 0.5814360518302373\n",
      "Recall is: 0.5653516733011643\n",
      "F1 score is: 0.57145487678661\n",
      "ROC AUC score (i.e. the metric of primary interest) is: 0.5653516733011643\n",
      "\n",
      "The cutoff percentage being used for predictions is: 12%\n",
      "Number of predicted readmissions: 3300\n",
      "Accuracy is: 0.6784719458814167\n",
      "Precision is: 0.5544569510268562\n",
      "Recall is: 0.6135753352443083\n",
      "F1 score is: 0.5379098638128267\n",
      "ROC AUC score (i.e. the metric of primary interest) is: 0.6135753352443083\n",
      "\n",
      "The cutoff percentage being used for predictions is: 11.5%\n",
      "Number of predicted readmissions: 3550\n",
      "Accuracy is: 0.6575805809789097\n",
      "Precision is: 0.5503813777775852\n",
      "Recall is: 0.6088503149514319\n",
      "F1 score is: 0.5261469129043955\n",
      "ROC AUC score (i.e. the metric of primary interest) is: 0.6088503149514319\n",
      "\n",
      "The cutoff percentage being used for predictions is: 11.396% (mean)\n",
      "Number of predicted readmissions: 3598\n",
      "Accuracy is: 0.6541981695185037\n",
      "Precision is: 0.5503455161279043\n",
      "Recall is: 0.6094297102686448\n",
      "F1 score is: 0.524759083611603\n",
      "ROC AUC score (i.e. the metric of primary interest) is: 0.6094297102686448\n",
      "\n",
      "The cutoff percentage being used for predictions is: 11%\n",
      "Number of predicted readmissions: 3838\n",
      "Accuracy is: 0.6372861122164744\n",
      "Precision is: 0.550317887310219\n",
      "Recall is: 0.612326686854709\n",
      "F1 score is: 0.5176585270735689\n",
      "ROC AUC score (i.e. the metric of primary interest) is: 0.612326686854709\n",
      "\n",
      "The cutoff percentage being used for predictions is: 10.5%\n",
      "Number of predicted readmissions: 4165\n",
      "Accuracy is: 0.6117190608834063\n",
      "Precision is: 0.5480620309955135\n",
      "Recall is: 0.6103050745669605\n",
      "F1 score is: 0.504319355093148\n",
      "ROC AUC score (i.e. the metric of primary interest) is: 0.6103050745669605\n",
      "\n",
      "The cutoff percentage being used for predictions is: 5%\n",
      "Number of predicted readmissions: 9245\n",
      "Accuracy is: 0.19269797055312377\n",
      "Precision is: 0.5390597952072957\n",
      "Recall is: 0.5272768831939041\n",
      "F1 score is: 0.1914111691568705\n",
      "ROC AUC score (i.e. the metric of primary interest) is: 0.5272768831939041\n"
     ]
    }
   ],
   "source": [
    "XGB_Statistical_Evaluation(list_of_prediction_lists, names_of_levels)"
   ]
  },
  {
   "cell_type": "markdown",
   "id": "90e426a4",
   "metadata": {},
   "source": [
    "#### By looking at the above, it would appear that the highest AUC value is somewhere between 11.396% and 10.5%, likely around 11%. Let us explore this more granularly..."
   ]
  },
  {
   "cell_type": "code",
   "execution_count": 24,
   "id": "3b80bd50",
   "metadata": {},
   "outputs": [],
   "source": [
    "pred_11 = [1 if i>=0.11 else 0 for i in test_dataset[\"predictions\"]]\n",
    "pred_110025 = [1 if i>=0.110025 else 0 for i in test_dataset[\"predictions\"]]\n",
    "pred_11005 = [1 if i>=0.11005 else 0 for i in test_dataset[\"predictions\"]]\n",
    "pred_110075 = [1 if i>=0.110075 else 0 for i in test_dataset[\"predictions\"]]\n",
    "pred_1101 = [1 if i>=0.1101 else 0 for i in test_dataset[\"predictions\"]]\n",
    "pred_110125 = [1 if i>=0.110125 else 0 for i in test_dataset[\"predictions\"]]\n",
    "pred_11015 = [1 if i>=0.11015 else 0 for i in test_dataset[\"predictions\"]]\n",
    "pred_110175 = [1 if i>=0.110175 else 0 for i in test_dataset[\"predictions\"]]\n",
    "pred_1102 = [1 if i>=0.1102 else 0 for i in test_dataset[\"predictions\"]]"
   ]
  },
  {
   "cell_type": "markdown",
   "id": "0fbc58f5",
   "metadata": {},
   "source": [
    "#### Here we provde an accompanying name for each list, based off of the respective likelihood cutoff value applied to the list "
   ]
  },
  {
   "cell_type": "code",
   "execution_count": 25,
   "id": "41ebbb50",
   "metadata": {},
   "outputs": [],
   "source": [
    "more_precise_names_of_levels = ['11%', '11.0025%','11.005%', '11.0075%', '11.01%', '11.0125%', '11.015%', '11.0175%', '11.01%']"
   ]
  },
  {
   "cell_type": "markdown",
   "id": "56c640b6",
   "metadata": {},
   "source": [
    "#### Here we list our different prediction lists together"
   ]
  },
  {
   "cell_type": "code",
   "execution_count": 26,
   "id": "3981f390",
   "metadata": {},
   "outputs": [],
   "source": [
    "more_precise_rounding_threshold_predictions = [pred_11, pred_110025, pred_11005, pred_110075, pred_1101, pred_110125, pred_11015, pred_110175, pred_1102]"
   ]
  },
  {
   "cell_type": "markdown",
   "id": "76141c05",
   "metadata": {},
   "source": [
    "#### Here we assess the statistical output for the predictions from each likelihood cutoff level"
   ]
  },
  {
   "cell_type": "code",
   "execution_count": 27,
   "id": "0e5b54ca",
   "metadata": {
    "scrolled": true
   },
   "outputs": [
    {
     "name": "stdout",
     "output_type": "stream",
     "text": [
      "\n",
      "The cutoff percentage being used for predictions is: 11%\n",
      "Number of predicted readmissions: 3838\n",
      "Accuracy is: 0.6372861122164744\n",
      "Precision is: 0.550317887310219\n",
      "Recall is: 0.612326686854709\n",
      "F1 score is: 0.5176585270735689\n",
      "ROC AUC score (i.e. the metric of primary interest) is: 0.612326686854709\n",
      "\n",
      "The cutoff percentage being used for predictions is: 11.0025%\n",
      "Number of predicted readmissions: 3837\n",
      "Accuracy is: 0.6373855949064863\n",
      "Precision is: 0.5503482310424958\n",
      "Recall is: 0.6123832223590057\n",
      "F1 score is: 0.5177272664750231\n",
      "ROC AUC score (i.e. the metric of primary interest) is: 0.6123832223590057\n",
      "\n",
      "The cutoff percentage being used for predictions is: 11.005%\n",
      "Number of predicted readmissions: 3835\n",
      "Accuracy is: 0.6371866295264624\n",
      "Precision is: 0.5499873438666196\n",
      "Recall is: 0.6115554077894693\n",
      "F1 score is: 0.5173353789243065\n",
      "ROC AUC score (i.e. the metric of primary interest) is: 0.6115554077894692\n",
      "\n",
      "The cutoff percentage being used for predictions is: 11.0075%\n",
      "Number of predicted readmissions: 3834\n",
      "Accuracy is: 0.6372861122164744\n",
      "Precision is: 0.5500176763138904\n",
      "Recall is: 0.6116119432937659\n",
      "F1 score is: 0.5174040647855582\n",
      "ROC AUC score (i.e. the metric of primary interest) is: 0.611611943293766\n",
      "\n",
      "The cutoff percentage being used for predictions is: 11.01%\n",
      "Number of predicted readmissions: 3834\n",
      "Accuracy is: 0.6372861122164744\n",
      "Precision is: 0.5500176763138904\n",
      "Recall is: 0.6116119432937659\n",
      "F1 score is: 0.5174040647855582\n",
      "ROC AUC score (i.e. the metric of primary interest) is: 0.611611943293766\n",
      "\n",
      "The cutoff percentage being used for predictions is: 11.0125%\n",
      "Number of predicted readmissions: 3833\n",
      "Accuracy is: 0.6373855949064863\n",
      "Precision is: 0.5500480190248721\n",
      "Recall is: 0.6116684787980626\n",
      "F1 score is: 0.5174727560630987\n",
      "ROC AUC score (i.e. the metric of primary interest) is: 0.6116684787980626\n",
      "\n",
      "The cutoff percentage being used for predictions is: 11.015%\n",
      "Number of predicted readmissions: 3832\n",
      "Accuracy is: 0.6374850775964982\n",
      "Precision is: 0.550078372010284\n",
      "Recall is: 0.6117250143023594\n",
      "F1 score is: 0.517541452764501\n",
      "ROC AUC score (i.e. the metric of primary interest) is: 0.6117250143023594\n",
      "\n",
      "The cutoff percentage being used for predictions is: 11.0175%\n",
      "Number of predicted readmissions: 3830\n",
      "Accuracy is: 0.637684042976522\n",
      "Precision is: 0.5501391088473226\n",
      "Recall is: 0.6118380853109527\n",
      "F1 score is: 0.5176788624692086\n",
      "ROC AUC score (i.e. the metric of primary interest) is: 0.6118380853109527\n",
      "\n",
      "The cutoff percentage being used for predictions is: 11.01%\n",
      "Number of predicted readmissions: 3829\n",
      "Accuracy is: 0.6375845602865101\n",
      "Precision is: 0.5499585632234728\n",
      "Recall is: 0.6114241780261845\n",
      "F1 score is: 0.5174826744030854\n",
      "ROC AUC score (i.e. the metric of primary interest) is: 0.6114241780261845\n"
     ]
    }
   ],
   "source": [
    "XGB_Statistical_Evaluation(more_precise_rounding_threshold_predictions, more_precise_names_of_levels)"
   ]
  },
  {
   "cell_type": "markdown",
   "id": "3ac25891",
   "metadata": {},
   "source": [
    "It can be seen that the highest AUC value occurs at a probability threshold of 11.0175%."
   ]
  },
  {
   "cell_type": "markdown",
   "id": "c7e7dd1f",
   "metadata": {},
   "source": [
    "From the above results, we can see that a cutoff value of 11.0175% (i.e. those predicted as being 11.0175% risk of readmission) gives us the greatest Area-Under-The-Curve value of 0.6118.\n",
    "\n",
    "This can be roughly interpreted as: \"Given a random readmitted/positive record, and random not-readmitted/negative record, the algorithm will correctly identify the positive record as being more likely to be readmitted than the negative record, 61% of the time.\n",
    "\n",
    "This value of 0.61 is fairly close to the AUC value of 0.66 that we recieved from our best hyperparameter tuning session off of the validation data subset. This indicates that while there is likely some degree of overfitting present, generally, generally our model does a good job at providing generalizable, unbiased predictions across the entirity of the patient population.\n",
    "\n",
    "Although the accuracy and precission have decreased due to our lower prediction cutoff point, we are able to predict these costly readmissions demonstratably better with the algorithm than without."
   ]
  },
  {
   "cell_type": "markdown",
   "id": "d9f133b5",
   "metadata": {},
   "source": [
    "#### Defining our optimal prediction values"
   ]
  },
  {
   "cell_type": "code",
   "execution_count": 28,
   "id": "c4bc52cb",
   "metadata": {},
   "outputs": [],
   "source": [
    "optimal_cutoff = pred_110175"
   ]
  },
  {
   "cell_type": "markdown",
   "id": "7511354d",
   "metadata": {},
   "source": [
    "### 2.7. Evaluate Model"
   ]
  },
  {
   "cell_type": "markdown",
   "id": "a0c17ba9",
   "metadata": {},
   "source": [
    "#### This cell creates the function that will be used to produce a confusion matrix for the predictions derived from the Test dataset."
   ]
  },
  {
   "cell_type": "code",
   "execution_count": 29,
   "id": "8f22afde",
   "metadata": {},
   "outputs": [],
   "source": [
    "from sklearn.metrics import confusion_matrix\n",
    "from sklearn.utils.multiclass import unique_labels\n",
    "\n",
    "def Plot_Confusion_Matrix(y_true, y_pred, classes,\n",
    "                          normalize=False,\n",
    "                          title=None, \n",
    "                          cmap=None):\n",
    "    \n",
    "    '''The Plot_Confusion_Matrix() function produces a confusion matrix with which to view our final results.\n",
    "    \n",
    "    Arguments \n",
    "    --------- \n",
    "    y_true: the actual readmission values for the test dataset\n",
    "    y_pred: the predicted readmission values for the test dataset\n",
    "    classes: The names for the outcome possibilities (i.e. readmitted/not readmitted) \n",
    "    title: chart title\n",
    "    cmap: sets the color gradient\n",
    "    \n",
    "    Return\n",
    "    ---------\n",
    "    Returns the specified confusion matrix '''\n",
    "    \n",
    "    if not title:\n",
    "        if normalize:\n",
    "            title = 'Normalized confusion matrix'\n",
    "            plt.cm.Greens\n",
    "        else:\n",
    "            title = 'Confusion matrix, without normalization'\n",
    "\n",
    "    # Compute confusion matrix\n",
    "    cm = confusion_matrix(y_true, y_pred)\n",
    "    # Only use the labels that appear in the data\n",
    "    classes = classes[unique_labels(y_true, y_pred)]\n",
    "    if normalize:\n",
    "        cm = cm.astype('float') / cm.sum(axis=1)[:, np.newaxis]\n",
    "\n",
    "    fig, ax = plt.subplots()\n",
    "    im = ax.imshow(cm, interpolation='nearest', cmap=cmap)\n",
    "    ax.figure.colorbar(im, ax=ax)\n",
    "    # We want to show all ticks...\n",
    "    ax.set(xticks=np.arange(cm.shape[1]),\n",
    "           yticks=np.arange(cm.shape[0]),\n",
    "           # ... and label them with the respective list entries\n",
    "           xticklabels=classes, yticklabels=classes,\n",
    "           title=title,\n",
    "           ylabel='Actual',\n",
    "           xlabel='Predicted')\n",
    "\n",
    "    # Rotate the tick labels and set their alignment.\n",
    "    plt.setp(ax.get_xticklabels(), rotation=45, ha=\"right\",\n",
    "             rotation_mode=\"anchor\")\n",
    "\n",
    "    # Loop over data dimensions and create text annotations.\n",
    "    fmt = '.2f' if normalize else 'd'\n",
    "    thresh = cm.max() / 2.\n",
    "    for i in range(cm.shape[0]):\n",
    "        for j in range(cm.shape[1]):\n",
    "            ax.text(j, i, format(cm[i, j], fmt),\n",
    "                    ha=\"center\", va=\"center\",\n",
    "                    color=\"white\" if cm[i, j] > thresh else \"black\")\n",
    "    fig.tight_layout()\n",
    "    return ax\n",
    "\n",
    "\n",
    "np.set_printoptions(precision=2)"
   ]
  },
  {
   "cell_type": "markdown",
   "id": "2ac91432",
   "metadata": {},
   "source": [
    "#### The below cell produces the confusion matrix detainkling our predictions"
   ]
  },
  {
   "cell_type": "code",
   "execution_count": 31,
   "id": "519b06db",
   "metadata": {
    "scrolled": false
   },
   "outputs": [
    {
     "data": {
      "image/png": "[encoded data removed]",
      "text/plain": [
       "<Figure size 640x480 with 2 Axes>"
      ]
     },
     "metadata": {},
     "output_type": "display_data"
    }
   ],
   "source": [
    "%matplotlib inline\n",
    "sns.set_context(\"paper\", font_scale=1.4)\n",
    "\n",
    "y_test = test_dataset['readmitted']\n",
    "y_pred = optimal_cutoff\n",
    "\n",
    "class_names = np.array(['Not Readmitted', 'Readmitted'])\n",
    "\n",
    "# Plot non-normalized confusion matrix\n",
    "Plot_Confusion_Matrix(y_test, y_pred, classes=class_names,\n",
    "                      title='Confusion matrix',\n",
    "                      cmap=plt.cm.Blues)\n",
    "plt.grid(False)\n",
    "plt.show()"
   ]
  },
  {
   "cell_type": "code",
   "execution_count": 42,
   "id": "4255f2f1",
   "metadata": {},
   "outputs": [
    {
     "name": "stdout",
     "output_type": "stream",
     "text": [
      "\n",
      "The cutoff percentage being used for predictions is: 11.0175%\n",
      "Number of predicted readmissions: 3830\n",
      "Accuracy is: 0.637684042976522\n",
      "Precision is: 0.5501391088473226\n",
      "Recall is: 0.6118380853109527\n",
      "F1 score is: 0.5176788624692086\n",
      "ROC AUC score (i.e. the metric of primary interest) is: 0.6118380853109527\n"
     ]
    }
   ],
   "source": [
    "XGB_Statistical_Evaluation([optimal_cutoff],[\"11.0175%\"])"
   ]
  },
  {
   "cell_type": "markdown",
   "id": "b11b762f",
   "metadata": {},
   "source": [
    "As can be seen in the above confusion matrix, although we are <u>identifying a little more than one third (38%) of patients as being at risk</u> for a readmission, we were <u>correctly identifying close to two thirds (58%) of correct cases</u> among these predictions."
   ]
  },
  {
   "cell_type": "markdown",
   "id": "663412b9",
   "metadata": {},
   "source": [
    "### 2.8 Feature Importance"
   ]
  },
  {
   "cell_type": "markdown",
   "id": "55422bcf",
   "metadata": {},
   "source": [
    "#### It is also of interest for us to determine what degree of impact different variables had on the outcome. By training a Random Forest model on the whole dataset, we can identify this relationship."
   ]
  },
  {
   "cell_type": "markdown",
   "id": "1505b845",
   "metadata": {},
   "source": [
    "Here we define our Random Forest Model"
   ]
  },
  {
   "cell_type": "code",
   "execution_count": 32,
   "id": "d9ddf463",
   "metadata": {},
   "outputs": [],
   "source": [
    "full_cleaned_dataset = 'aggregate_cleaned_data.csv'"
   ]
  },
  {
   "cell_type": "code",
   "execution_count": 33,
   "id": "e0ce3a9d",
   "metadata": {},
   "outputs": [],
   "source": [
    "full_diabetes = CSV_Reader(bucket, processed_data_subfolder, full_cleaned_dataset)"
   ]
  },
  {
   "cell_type": "code",
   "execution_count": 34,
   "id": "005fc9ea",
   "metadata": {},
   "outputs": [],
   "source": [
    "full_diabetes_X = full_diabetes.drop(columns='readmitted').values\n",
    "full_diabetes_y = full_diabetes['readmitted'].values"
   ]
  },
  {
   "cell_type": "code",
   "execution_count": 35,
   "id": "be5a6e13",
   "metadata": {},
   "outputs": [
    {
     "data": {
      "text/html": [
       "<style>#sk-container-id-1 {color: black;}#sk-container-id-1 pre{padding: 0;}#sk-container-id-1 div.sk-toggleable {background-color: white;}#sk-container-id-1 label.sk-toggleable__label {cursor: pointer;display: block;width: 100%;margin-bottom: 0;padding: 0.3em;box-sizing: border-box;text-align: center;}#sk-container-id-1 label.sk-toggleable__label-arrow:before {content: \"▸\";float: left;margin-right: 0.25em;color: #696969;}#sk-container-id-1 label.sk-toggleable__label-arrow:hover:before {color: black;}#sk-container-id-1 div.sk-estimator:hover label.sk-toggleable__label-arrow:before {color: black;}#sk-container-id-1 div.sk-toggleable__content {max-height: 0;max-width: 0;overflow: hidden;text-align: left;background-color: #f0f8ff;}#sk-container-id-1 div.sk-toggleable__content pre {margin: 0.2em;color: black;border-radius: 0.25em;background-color: #f0f8ff;}#sk-container-id-1 input.sk-toggleable__control:checked~div.sk-toggleable__content {max-height: 200px;max-width: 100%;overflow: auto;}#sk-container-id-1 input.sk-toggleable__control:checked~label.sk-toggleable__label-arrow:before {content: \"▾\";}#sk-container-id-1 div.sk-estimator input.sk-toggleable__control:checked~label.sk-toggleable__label {background-color: #d4ebff;}#sk-container-id-1 div.sk-label input.sk-toggleable__control:checked~label.sk-toggleable__label {background-color: #d4ebff;}#sk-container-id-1 input.sk-hidden--visually {border: 0;clip: rect(1px 1px 1px 1px);clip: rect(1px, 1px, 1px, 1px);height: 1px;margin: -1px;overflow: hidden;padding: 0;position: absolute;width: 1px;}#sk-container-id-1 div.sk-estimator {font-family: monospace;background-color: #f0f8ff;border: 1px dotted black;border-radius: 0.25em;box-sizing: border-box;margin-bottom: 0.5em;}#sk-container-id-1 div.sk-estimator:hover {background-color: #d4ebff;}#sk-container-id-1 div.sk-parallel-item::after {content: \"\";width: 100%;border-bottom: 1px solid gray;flex-grow: 1;}#sk-container-id-1 div.sk-label:hover label.sk-toggleable__label {background-color: #d4ebff;}#sk-container-id-1 div.sk-serial::before {content: \"\";position: absolute;border-left: 1px solid gray;box-sizing: border-box;top: 0;bottom: 0;left: 50%;z-index: 0;}#sk-container-id-1 div.sk-serial {display: flex;flex-direction: column;align-items: center;background-color: white;padding-right: 0.2em;padding-left: 0.2em;position: relative;}#sk-container-id-1 div.sk-item {position: relative;z-index: 1;}#sk-container-id-1 div.sk-parallel {display: flex;align-items: stretch;justify-content: center;background-color: white;position: relative;}#sk-container-id-1 div.sk-item::before, #sk-container-id-1 div.sk-parallel-item::before {content: \"\";position: absolute;border-left: 1px solid gray;box-sizing: border-box;top: 0;bottom: 0;left: 50%;z-index: -1;}#sk-container-id-1 div.sk-parallel-item {display: flex;flex-direction: column;z-index: 1;position: relative;background-color: white;}#sk-container-id-1 div.sk-parallel-item:first-child::after {align-self: flex-end;width: 50%;}#sk-container-id-1 div.sk-parallel-item:last-child::after {align-self: flex-start;width: 50%;}#sk-container-id-1 div.sk-parallel-item:only-child::after {width: 0;}#sk-container-id-1 div.sk-dashed-wrapped {border: 1px dashed gray;margin: 0 0.4em 0.5em 0.4em;box-sizing: border-box;padding-bottom: 0.4em;background-color: white;}#sk-container-id-1 div.sk-label label {font-family: monospace;font-weight: bold;display: inline-block;line-height: 1.2em;}#sk-container-id-1 div.sk-label-container {text-align: center;}#sk-container-id-1 div.sk-container {/* jupyter's `normalize.less` sets `[hidden] { display: none; }` but bootstrap.min.css set `[hidden] { display: none !important; }` so we also need the `!important` here to be able to override the default hidden behavior on the sphinx rendered scikit-learn.org. See: https://github.com/scikit-learn/scikit-learn/issues/21755 */display: inline-block !important;position: relative;}#sk-container-id-1 div.sk-text-repr-fallback {display: none;}</style><div id=\"sk-container-id-1\" class=\"sk-top-container\"><div class=\"sk-text-repr-fallback\"><pre>RandomForestClassifier(max_depth=60, min_samples_split=5, n_estimators=200)</pre><b>In a Jupyter environment, please rerun this cell to show the HTML representation or trust the notebook. <br />On GitHub, the HTML representation is unable to render, please try loading this page with nbviewer.org.</b></div><div class=\"sk-container\" hidden><div class=\"sk-item\"><div class=\"sk-estimator sk-toggleable\"><input class=\"sk-toggleable__control sk-hidden--visually\" id=\"sk-estimator-id-1\" type=\"checkbox\" checked><label for=\"sk-estimator-id-1\" class=\"sk-toggleable__label sk-toggleable__label-arrow\">RandomForestClassifier</label><div class=\"sk-toggleable__content\"><pre>RandomForestClassifier(max_depth=60, min_samples_split=5, n_estimators=200)</pre></div></div></div></div></div>"
      ],
      "text/plain": [
       "RandomForestClassifier(max_depth=60, min_samples_split=5, n_estimators=200)"
      ]
     },
     "execution_count": 35,
     "metadata": {},
     "output_type": "execute_result"
    }
   ],
   "source": [
    "rfc = rfc()\n",
    "rfc.set_params(n_estimators=200, min_samples_split=5, min_samples_leaf=1, max_features='sqrt', max_depth=60)\n",
    "\n",
    "#Run ths fit with the initial DF with all conditions:\n",
    "rfc.fit(full_diabetes_X, full_diabetes_y)"
   ]
  },
  {
   "cell_type": "code",
   "execution_count": 36,
   "id": "0b523c53",
   "metadata": {},
   "outputs": [
    {
     "data": {
      "text/html": [
       "<div>\n",
       "<style scoped>\n",
       "    .dataframe tbody tr th:only-of-type {\n",
       "        vertical-align: middle;\n",
       "    }\n",
       "\n",
       "    .dataframe tbody tr th {\n",
       "        vertical-align: top;\n",
       "    }\n",
       "\n",
       "    .dataframe thead th {\n",
       "        text-align: right;\n",
       "    }\n",
       "</style>\n",
       "<table border=\"1\" class=\"dataframe\">\n",
       "  <thead>\n",
       "    <tr style=\"text-align: right;\">\n",
       "      <th></th>\n",
       "      <th>Feature</th>\n",
       "      <th>Importance</th>\n",
       "    </tr>\n",
       "  </thead>\n",
       "  <tbody>\n",
       "    <tr>\n",
       "      <th>1</th>\n",
       "      <td>num_lab_procedures</td>\n",
       "      <td>0.098811</td>\n",
       "    </tr>\n",
       "    <tr>\n",
       "      <th>3</th>\n",
       "      <td>num_medications</td>\n",
       "      <td>0.083784</td>\n",
       "    </tr>\n",
       "    <tr>\n",
       "      <th>0</th>\n",
       "      <td>time_in_hospital</td>\n",
       "      <td>0.058069</td>\n",
       "    </tr>\n",
       "    <tr>\n",
       "      <th>6</th>\n",
       "      <td>number_inpatient</td>\n",
       "      <td>0.057322</td>\n",
       "    </tr>\n",
       "    <tr>\n",
       "      <th>2</th>\n",
       "      <td>num_procedures</td>\n",
       "      <td>0.040606</td>\n",
       "    </tr>\n",
       "    <tr>\n",
       "      <th>7</th>\n",
       "      <td>number_diagnoses</td>\n",
       "      <td>0.037695</td>\n",
       "    </tr>\n",
       "    <tr>\n",
       "      <th>4</th>\n",
       "      <td>number_outpatient</td>\n",
       "      <td>0.022118</td>\n",
       "    </tr>\n",
       "    <tr>\n",
       "      <th>5</th>\n",
       "      <td>number_emergency</td>\n",
       "      <td>0.019894</td>\n",
       "    </tr>\n",
       "    <tr>\n",
       "      <th>27</th>\n",
       "      <td>gender_Male</td>\n",
       "      <td>0.017883</td>\n",
       "    </tr>\n",
       "    <tr>\n",
       "      <th>14</th>\n",
       "      <td>race_AfricanAmerican</td>\n",
       "      <td>0.014913</td>\n",
       "    </tr>\n",
       "    <tr>\n",
       "      <th>24</th>\n",
       "      <td>age_7</td>\n",
       "      <td>0.013873</td>\n",
       "    </tr>\n",
       "    <tr>\n",
       "      <th>12</th>\n",
       "      <td>change</td>\n",
       "      <td>0.013828</td>\n",
       "    </tr>\n",
       "    <tr>\n",
       "      <th>90</th>\n",
       "      <td>admission_source_id_1</td>\n",
       "      <td>0.013694</td>\n",
       "    </tr>\n",
       "    <tr>\n",
       "      <th>85</th>\n",
       "      <td>admission_type_id_2</td>\n",
       "      <td>0.013259</td>\n",
       "    </tr>\n",
       "    <tr>\n",
       "      <th>66</th>\n",
       "      <td>diag_3_Nothing</td>\n",
       "      <td>0.012783</td>\n",
       "    </tr>\n",
       "    <tr>\n",
       "      <th>25</th>\n",
       "      <td>age_9</td>\n",
       "      <td>0.011879</td>\n",
       "    </tr>\n",
       "    <tr>\n",
       "      <th>9</th>\n",
       "      <td>medication_glipizide</td>\n",
       "      <td>0.011616</td>\n",
       "    </tr>\n",
       "    <tr>\n",
       "      <th>11</th>\n",
       "      <td>medication_insulin</td>\n",
       "      <td>0.011402</td>\n",
       "    </tr>\n",
       "    <tr>\n",
       "      <th>51</th>\n",
       "      <td>diag_2_Nothing</td>\n",
       "      <td>0.011264</td>\n",
       "    </tr>\n",
       "    <tr>\n",
       "      <th>63</th>\n",
       "      <td>diag_2_respiratory</td>\n",
       "      <td>0.010905</td>\n",
       "    </tr>\n",
       "    <tr>\n",
       "      <th>86</th>\n",
       "      <td>admission_type_id_3</td>\n",
       "      <td>0.010577</td>\n",
       "    </tr>\n",
       "    <tr>\n",
       "      <th>65</th>\n",
       "      <td>diag_2_urogenital</td>\n",
       "      <td>0.010303</td>\n",
       "    </tr>\n",
       "    <tr>\n",
       "      <th>8</th>\n",
       "      <td>medication_metformin</td>\n",
       "      <td>0.010282</td>\n",
       "    </tr>\n",
       "    <tr>\n",
       "      <th>10</th>\n",
       "      <td>medication_glyburide</td>\n",
       "      <td>0.010254</td>\n",
       "    </tr>\n",
       "    <tr>\n",
       "      <th>72</th>\n",
       "      <td>diag_3_metabolic</td>\n",
       "      <td>0.010163</td>\n",
       "    </tr>\n",
       "    <tr>\n",
       "      <th>33</th>\n",
       "      <td>discharge_disposition_outpatient</td>\n",
       "      <td>0.010070</td>\n",
       "    </tr>\n",
       "    <tr>\n",
       "      <th>28</th>\n",
       "      <td>discharge_disposition_hhealth</td>\n",
       "      <td>0.009989</td>\n",
       "    </tr>\n",
       "    <tr>\n",
       "      <th>78</th>\n",
       "      <td>diag_3_respiratory</td>\n",
       "      <td>0.009925</td>\n",
       "    </tr>\n",
       "    <tr>\n",
       "      <th>57</th>\n",
       "      <td>diag_2_metabolic</td>\n",
       "      <td>0.009848</td>\n",
       "    </tr>\n",
       "    <tr>\n",
       "      <th>23</th>\n",
       "      <td>age_6</td>\n",
       "      <td>0.009503</td>\n",
       "    </tr>\n",
       "    <tr>\n",
       "      <th>48</th>\n",
       "      <td>diag_1_respiratory</td>\n",
       "      <td>0.009435</td>\n",
       "    </tr>\n",
       "    <tr>\n",
       "      <th>38</th>\n",
       "      <td>diag_1_digestive</td>\n",
       "      <td>0.009215</td>\n",
       "    </tr>\n",
       "    <tr>\n",
       "      <th>40</th>\n",
       "      <td>diag_1_injury</td>\n",
       "      <td>0.008938</td>\n",
       "    </tr>\n",
       "    <tr>\n",
       "      <th>80</th>\n",
       "      <td>diag_3_urogenital</td>\n",
       "      <td>0.008936</td>\n",
       "    </tr>\n",
       "    <tr>\n",
       "      <th>32</th>\n",
       "      <td>discharge_disposition_nursing</td>\n",
       "      <td>0.008890</td>\n",
       "    </tr>\n",
       "    <tr>\n",
       "      <th>22</th>\n",
       "      <td>age_5</td>\n",
       "      <td>0.008643</td>\n",
       "    </tr>\n",
       "    <tr>\n",
       "      <th>70</th>\n",
       "      <td>diag_3_injury</td>\n",
       "      <td>0.008543</td>\n",
       "    </tr>\n",
       "    <tr>\n",
       "      <th>88</th>\n",
       "      <td>admission_type_id_5</td>\n",
       "      <td>0.008498</td>\n",
       "    </tr>\n",
       "    <tr>\n",
       "      <th>36</th>\n",
       "      <td>diag_1_Nothing</td>\n",
       "      <td>0.008212</td>\n",
       "    </tr>\n",
       "    <tr>\n",
       "      <th>55</th>\n",
       "      <td>diag_2_injury</td>\n",
       "      <td>0.007759</td>\n",
       "    </tr>\n",
       "    <tr>\n",
       "      <th>13</th>\n",
       "      <td>any_medication</td>\n",
       "      <td>0.007663</td>\n",
       "    </tr>\n",
       "    <tr>\n",
       "      <th>50</th>\n",
       "      <td>diag_1_urogenital</td>\n",
       "      <td>0.007628</td>\n",
       "    </tr>\n",
       "    <tr>\n",
       "      <th>84</th>\n",
       "      <td>A1Cresult_Norm</td>\n",
       "      <td>0.007238</td>\n",
       "    </tr>\n",
       "    <tr>\n",
       "      <th>68</th>\n",
       "      <td>diag_3_digestive</td>\n",
       "      <td>0.006829</td>\n",
       "    </tr>\n",
       "    <tr>\n",
       "      <th>53</th>\n",
       "      <td>diag_2_digestive</td>\n",
       "      <td>0.006774</td>\n",
       "    </tr>\n",
       "    <tr>\n",
       "      <th>64</th>\n",
       "      <td>diag_2_skin</td>\n",
       "      <td>0.006577</td>\n",
       "    </tr>\n",
       "    <tr>\n",
       "      <th>35</th>\n",
       "      <td>discharge_disposition_unknown</td>\n",
       "      <td>0.006552</td>\n",
       "    </tr>\n",
       "    <tr>\n",
       "      <th>96</th>\n",
       "      <td>admission_source_id_8</td>\n",
       "      <td>0.006423</td>\n",
       "    </tr>\n",
       "    <tr>\n",
       "      <th>76</th>\n",
       "      <td>diag_3_other</td>\n",
       "      <td>0.006262</td>\n",
       "    </tr>\n",
       "    <tr>\n",
       "      <th>83</th>\n",
       "      <td>A1Cresult_&gt;7</td>\n",
       "      <td>0.006224</td>\n",
       "    </tr>\n",
       "    <tr>\n",
       "      <th>30</th>\n",
       "      <td>discharge_disposition_hospital</td>\n",
       "      <td>0.006071</td>\n",
       "    </tr>\n",
       "    <tr>\n",
       "      <th>42</th>\n",
       "      <td>diag_1_metabolic</td>\n",
       "      <td>0.005746</td>\n",
       "    </tr>\n",
       "    <tr>\n",
       "      <th>17</th>\n",
       "      <td>race_Other</td>\n",
       "      <td>0.005639</td>\n",
       "    </tr>\n",
       "    <tr>\n",
       "      <th>61</th>\n",
       "      <td>diag_2_other</td>\n",
       "      <td>0.005632</td>\n",
       "    </tr>\n",
       "    <tr>\n",
       "      <th>79</th>\n",
       "      <td>diag_3_skin</td>\n",
       "      <td>0.005600</td>\n",
       "    </tr>\n",
       "    <tr>\n",
       "      <th>67</th>\n",
       "      <td>diag_3_blooddis</td>\n",
       "      <td>0.005514</td>\n",
       "    </tr>\n",
       "    <tr>\n",
       "      <th>39</th>\n",
       "      <td>diag_1_infection</td>\n",
       "      <td>0.005488</td>\n",
       "    </tr>\n",
       "    <tr>\n",
       "      <th>43</th>\n",
       "      <td>diag_1_musculoskeletal</td>\n",
       "      <td>0.005465</td>\n",
       "    </tr>\n",
       "    <tr>\n",
       "      <th>59</th>\n",
       "      <td>diag_2_neoplasm</td>\n",
       "      <td>0.005457</td>\n",
       "    </tr>\n",
       "    <tr>\n",
       "      <th>71</th>\n",
       "      <td>diag_3_mentaldis</td>\n",
       "      <td>0.005420</td>\n",
       "    </tr>\n",
       "    <tr>\n",
       "      <th>46</th>\n",
       "      <td>diag_1_other</td>\n",
       "      <td>0.005417</td>\n",
       "    </tr>\n",
       "    <tr>\n",
       "      <th>26</th>\n",
       "      <td>age_10</td>\n",
       "      <td>0.005281</td>\n",
       "    </tr>\n",
       "    <tr>\n",
       "      <th>21</th>\n",
       "      <td>age_4</td>\n",
       "      <td>0.005269</td>\n",
       "    </tr>\n",
       "    <tr>\n",
       "      <th>44</th>\n",
       "      <td>diag_1_neoplasm</td>\n",
       "      <td>0.005100</td>\n",
       "    </tr>\n",
       "    <tr>\n",
       "      <th>29</th>\n",
       "      <td>discharge_disposition_hospice</td>\n",
       "      <td>0.005007</td>\n",
       "    </tr>\n",
       "    <tr>\n",
       "      <th>52</th>\n",
       "      <td>diag_2_blooddis</td>\n",
       "      <td>0.004778</td>\n",
       "    </tr>\n",
       "    <tr>\n",
       "      <th>93</th>\n",
       "      <td>admission_source_id_4</td>\n",
       "      <td>0.004764</td>\n",
       "    </tr>\n",
       "    <tr>\n",
       "      <th>41</th>\n",
       "      <td>diag_1_mentaldis</td>\n",
       "      <td>0.004723</td>\n",
       "    </tr>\n",
       "    <tr>\n",
       "      <th>49</th>\n",
       "      <td>diag_1_skin</td>\n",
       "      <td>0.004616</td>\n",
       "    </tr>\n",
       "    <tr>\n",
       "      <th>54</th>\n",
       "      <td>diag_2_infection</td>\n",
       "      <td>0.004598</td>\n",
       "    </tr>\n",
       "    <tr>\n",
       "      <th>56</th>\n",
       "      <td>diag_2_mentaldis</td>\n",
       "      <td>0.004594</td>\n",
       "    </tr>\n",
       "    <tr>\n",
       "      <th>16</th>\n",
       "      <td>race_Hispanic</td>\n",
       "      <td>0.004588</td>\n",
       "    </tr>\n",
       "    <tr>\n",
       "      <th>74</th>\n",
       "      <td>diag_3_neoplasm</td>\n",
       "      <td>0.004525</td>\n",
       "    </tr>\n",
       "    <tr>\n",
       "      <th>73</th>\n",
       "      <td>diag_3_musculoskeletal</td>\n",
       "      <td>0.004392</td>\n",
       "    </tr>\n",
       "    <tr>\n",
       "      <th>69</th>\n",
       "      <td>diag_3_infection</td>\n",
       "      <td>0.004288</td>\n",
       "    </tr>\n",
       "    <tr>\n",
       "      <th>58</th>\n",
       "      <td>diag_2_musculoskeletal</td>\n",
       "      <td>0.003734</td>\n",
       "    </tr>\n",
       "    <tr>\n",
       "      <th>95</th>\n",
       "      <td>admission_source_id_6</td>\n",
       "      <td>0.003486</td>\n",
       "    </tr>\n",
       "    <tr>\n",
       "      <th>37</th>\n",
       "      <td>diag_1_blooddis</td>\n",
       "      <td>0.003419</td>\n",
       "    </tr>\n",
       "    <tr>\n",
       "      <th>82</th>\n",
       "      <td>max_glu_serum_&gt;300</td>\n",
       "      <td>0.003119</td>\n",
       "    </tr>\n",
       "    <tr>\n",
       "      <th>20</th>\n",
       "      <td>age_3</td>\n",
       "      <td>0.003055</td>\n",
       "    </tr>\n",
       "    <tr>\n",
       "      <th>81</th>\n",
       "      <td>max_glu_serum_&gt;200</td>\n",
       "      <td>0.002947</td>\n",
       "    </tr>\n",
       "    <tr>\n",
       "      <th>91</th>\n",
       "      <td>admission_source_id_2</td>\n",
       "      <td>0.002542</td>\n",
       "    </tr>\n",
       "    <tr>\n",
       "      <th>94</th>\n",
       "      <td>admission_source_id_5</td>\n",
       "      <td>0.002509</td>\n",
       "    </tr>\n",
       "    <tr>\n",
       "      <th>31</th>\n",
       "      <td>discharge_disposition_leftAMA</td>\n",
       "      <td>0.002491</td>\n",
       "    </tr>\n",
       "    <tr>\n",
       "      <th>34</th>\n",
       "      <td>discharge_disposition_psych</td>\n",
       "      <td>0.002365</td>\n",
       "    </tr>\n",
       "    <tr>\n",
       "      <th>15</th>\n",
       "      <td>race_Asian</td>\n",
       "      <td>0.002222</td>\n",
       "    </tr>\n",
       "    <tr>\n",
       "      <th>75</th>\n",
       "      <td>diag_3_nervous</td>\n",
       "      <td>0.002152</td>\n",
       "    </tr>\n",
       "    <tr>\n",
       "      <th>60</th>\n",
       "      <td>diag_2_nervous</td>\n",
       "      <td>0.001455</td>\n",
       "    </tr>\n",
       "    <tr>\n",
       "      <th>45</th>\n",
       "      <td>diag_1_nervous</td>\n",
       "      <td>0.001326</td>\n",
       "    </tr>\n",
       "    <tr>\n",
       "      <th>92</th>\n",
       "      <td>admission_source_id_3</td>\n",
       "      <td>0.001220</td>\n",
       "    </tr>\n",
       "    <tr>\n",
       "      <th>19</th>\n",
       "      <td>age_2</td>\n",
       "      <td>0.000750</td>\n",
       "    </tr>\n",
       "    <tr>\n",
       "      <th>47</th>\n",
       "      <td>diag_1_pregnancy</td>\n",
       "      <td>0.000691</td>\n",
       "    </tr>\n",
       "    <tr>\n",
       "      <th>62</th>\n",
       "      <td>diag_2_pregnancy</td>\n",
       "      <td>0.000345</td>\n",
       "    </tr>\n",
       "    <tr>\n",
       "      <th>77</th>\n",
       "      <td>diag_3_pregnancy</td>\n",
       "      <td>0.000235</td>\n",
       "    </tr>\n",
       "    <tr>\n",
       "      <th>18</th>\n",
       "      <td>age_1</td>\n",
       "      <td>0.000121</td>\n",
       "    </tr>\n",
       "    <tr>\n",
       "      <th>87</th>\n",
       "      <td>admission_type_id_4</td>\n",
       "      <td>0.000081</td>\n",
       "    </tr>\n",
       "    <tr>\n",
       "      <th>89</th>\n",
       "      <td>admission_type_id_7</td>\n",
       "      <td>0.000013</td>\n",
       "    </tr>\n",
       "  </tbody>\n",
       "</table>\n",
       "</div>"
      ],
      "text/plain": [
       "                             Feature  Importance\n",
       "1                 num_lab_procedures    0.098811\n",
       "3                    num_medications    0.083784\n",
       "0                   time_in_hospital    0.058069\n",
       "6                   number_inpatient    0.057322\n",
       "2                     num_procedures    0.040606\n",
       "7                   number_diagnoses    0.037695\n",
       "4                  number_outpatient    0.022118\n",
       "5                   number_emergency    0.019894\n",
       "27                       gender_Male    0.017883\n",
       "14              race_AfricanAmerican    0.014913\n",
       "24                             age_7    0.013873\n",
       "12                            change    0.013828\n",
       "90             admission_source_id_1    0.013694\n",
       "85               admission_type_id_2    0.013259\n",
       "66                    diag_3_Nothing    0.012783\n",
       "25                             age_9    0.011879\n",
       "9               medication_glipizide    0.011616\n",
       "11                medication_insulin    0.011402\n",
       "51                    diag_2_Nothing    0.011264\n",
       "63                diag_2_respiratory    0.010905\n",
       "86               admission_type_id_3    0.010577\n",
       "65                 diag_2_urogenital    0.010303\n",
       "8               medication_metformin    0.010282\n",
       "10              medication_glyburide    0.010254\n",
       "72                  diag_3_metabolic    0.010163\n",
       "33  discharge_disposition_outpatient    0.010070\n",
       "28     discharge_disposition_hhealth    0.009989\n",
       "78                diag_3_respiratory    0.009925\n",
       "57                  diag_2_metabolic    0.009848\n",
       "23                             age_6    0.009503\n",
       "48                diag_1_respiratory    0.009435\n",
       "38                  diag_1_digestive    0.009215\n",
       "40                     diag_1_injury    0.008938\n",
       "80                 diag_3_urogenital    0.008936\n",
       "32     discharge_disposition_nursing    0.008890\n",
       "22                             age_5    0.008643\n",
       "70                     diag_3_injury    0.008543\n",
       "88               admission_type_id_5    0.008498\n",
       "36                    diag_1_Nothing    0.008212\n",
       "55                     diag_2_injury    0.007759\n",
       "13                    any_medication    0.007663\n",
       "50                 diag_1_urogenital    0.007628\n",
       "84                    A1Cresult_Norm    0.007238\n",
       "68                  diag_3_digestive    0.006829\n",
       "53                  diag_2_digestive    0.006774\n",
       "64                       diag_2_skin    0.006577\n",
       "35     discharge_disposition_unknown    0.006552\n",
       "96             admission_source_id_8    0.006423\n",
       "76                      diag_3_other    0.006262\n",
       "83                      A1Cresult_>7    0.006224\n",
       "30    discharge_disposition_hospital    0.006071\n",
       "42                  diag_1_metabolic    0.005746\n",
       "17                        race_Other    0.005639\n",
       "61                      diag_2_other    0.005632\n",
       "79                       diag_3_skin    0.005600\n",
       "67                   diag_3_blooddis    0.005514\n",
       "39                  diag_1_infection    0.005488\n",
       "43            diag_1_musculoskeletal    0.005465\n",
       "59                   diag_2_neoplasm    0.005457\n",
       "71                  diag_3_mentaldis    0.005420\n",
       "46                      diag_1_other    0.005417\n",
       "26                            age_10    0.005281\n",
       "21                             age_4    0.005269\n",
       "44                   diag_1_neoplasm    0.005100\n",
       "29     discharge_disposition_hospice    0.005007\n",
       "52                   diag_2_blooddis    0.004778\n",
       "93             admission_source_id_4    0.004764\n",
       "41                  diag_1_mentaldis    0.004723\n",
       "49                       diag_1_skin    0.004616\n",
       "54                  diag_2_infection    0.004598\n",
       "56                  diag_2_mentaldis    0.004594\n",
       "16                     race_Hispanic    0.004588\n",
       "74                   diag_3_neoplasm    0.004525\n",
       "73            diag_3_musculoskeletal    0.004392\n",
       "69                  diag_3_infection    0.004288\n",
       "58            diag_2_musculoskeletal    0.003734\n",
       "95             admission_source_id_6    0.003486\n",
       "37                   diag_1_blooddis    0.003419\n",
       "82                max_glu_serum_>300    0.003119\n",
       "20                             age_3    0.003055\n",
       "81                max_glu_serum_>200    0.002947\n",
       "91             admission_source_id_2    0.002542\n",
       "94             admission_source_id_5    0.002509\n",
       "31     discharge_disposition_leftAMA    0.002491\n",
       "34       discharge_disposition_psych    0.002365\n",
       "15                        race_Asian    0.002222\n",
       "75                    diag_3_nervous    0.002152\n",
       "60                    diag_2_nervous    0.001455\n",
       "45                    diag_1_nervous    0.001326\n",
       "92             admission_source_id_3    0.001220\n",
       "19                             age_2    0.000750\n",
       "47                  diag_1_pregnancy    0.000691\n",
       "62                  diag_2_pregnancy    0.000345\n",
       "77                  diag_3_pregnancy    0.000235\n",
       "18                             age_1    0.000121\n",
       "87               admission_type_id_4    0.000081\n",
       "89               admission_type_id_7    0.000013"
      ]
     },
     "execution_count": 36,
     "metadata": {},
     "output_type": "execute_result"
    }
   ],
   "source": [
    "#Finally, we list out the importance of each feature:\n",
    "FIAllDummyAllFeatures = pd.DataFrame({'Feature':pd.Series(full_diabetes.drop(columns='readmitted').columns), 'Importance':rfc.feature_importances_})\n",
    "\n",
    "FIAllDummyAllFeatures = FIAllDummyAllFeatures.sort_values('Importance', ascending=False)\n",
    "FIAllDummyAllFeatures"
   ]
  },
  {
   "cell_type": "markdown",
   "id": "7a6413e6",
   "metadata": {},
   "source": [
    "It can be seen above that while no single feature is a standaway contributor, those with the highest Importance scores relate to the extent that the individual had interacted with the medical system during their stay, and within the past year."
   ]
  },
  {
   "cell_type": "markdown",
   "id": "bb5ee409",
   "metadata": {},
   "source": [
    "### 2.9. Assess Financial/Operational Impact of Model\n",
    "\n",
    "#### To complete our assessment, let us determine the impact our algorithm would have had if implemented on our entire dataset in terms of:<br>\n",
    "   1. Readmissions Prevented<br>\n",
    "   2. Dollars Saved"
   ]
  },
  {
   "cell_type": "markdown",
   "id": "69c02b66",
   "metadata": {},
   "source": [
    "#### Let us identify the relevant numbers from our confusion matrix necessary to populate our financial assessment (i.e. our: \n",
    "   True Positives<br>\n",
    "   False Positives<br>\n",
    "   False Negatives<br><br>\n",
    "These correspond to the bottom right, top right, and bottom left cells of the prior confusion matrix."
   ]
  },
  {
   "cell_type": "code",
   "execution_count": 37,
   "id": "cce875cb",
   "metadata": {},
   "outputs": [
    {
     "name": "stdout",
     "output_type": "stream",
     "text": [
      "The number of True Positives (those correctly flagged) is: 698\n",
      "The number of False Positives (those incorrectly flagged) is: 3132\n",
      "The number of False Negatives (those missed) is: 510\n"
     ]
    }
   ],
   "source": [
    "cm2 = confusion_matrix(full_diabetes['readmitted'], optimal_cutoff)\n",
    "\n",
    "True_Positives_those_correctly_flagged = cm2[1][1]\n",
    "False_Positives_those_incorrectly_flagged = cm2[0][1]\n",
    "False_Negatives_those_missed = cm2[1][0]\n",
    "\n",
    "print('The number of True Positives (those correctly flagged) is: {}'.format(True_Positives_those_correctly_flagged))\n",
    "print('The number of False Positives (those incorrectly flagged) is: {}'.format(False_Positives_those_incorrectly_flagged))\n",
    "print('The number of False Negatives (those missed) is: {}'.format(False_Negatives_those_missed))"
   ]
  },
  {
   "cell_type": "markdown",
   "id": "72a2c689",
   "metadata": {},
   "source": [
    "#### Next, let us define a few variables: <br>\n",
    "&nbsp;&nbsp;&nbsp;&nbsp;&nbsp;&nbsp;&nbsp;&nbsp;The <u>cost of each readmission</u> is estimated at <u>$15,000</u> <br><br>\n",
    "   A diabetes-management-program is a patient-follow-up regimen, with the goal of preventing a readmission, and ultimately enabling the patient to manage their diabetes.<br><br>\n",
    "   \n",
    "The following variables pertaining to readmissions are defined/estimated below:<br><br>\n",
    "&nbsp;&nbsp;&nbsp;&nbsp;&nbsp;&nbsp;&nbsp;&nbsp;The <u>cost of implimenting the diabetes-management-program</u> for 1 month is estimated at <u>$500</u><br>\n",
    "&nbsp;&nbsp;&nbsp;&nbsp;&nbsp;&nbsp;&nbsp;&nbsp;The <u>likelihood</u> of the diabetes-management-program <u>preventing a readmission is</u> estimated at <u>50%</u><br><br>\n",
    "\n",
    "Obviously, each of these variables are likely to vary across health systems, and these are just estimation values. However an update of these variables would enable a simple update of this assessment."
   ]
  },
  {
   "cell_type": "code",
   "execution_count": 38,
   "id": "ed6181f2",
   "metadata": {},
   "outputs": [],
   "source": [
    "cost_of_readmission = 15000\n",
    "cost_of_management_program = 500\n",
    "sucess_rate_of_intervention = 0.5"
   ]
  },
  {
   "cell_type": "markdown",
   "id": "341c0d04",
   "metadata": {},
   "source": [
    "#### Below we calculate the total cost of the program, and the total number of readmissions that the program would prevent."
   ]
  },
  {
   "cell_type": "code",
   "execution_count": 39,
   "id": "c7461c6e",
   "metadata": {},
   "outputs": [
    {
     "name": "stdout",
     "output_type": "stream",
     "text": [
      "The total cost of implementing the program across 3830 patients would be: $1915000\n",
      "The total number of prevented readmissions would be : 349.0\n"
     ]
    }
   ],
   "source": [
    "total_cost_of_implimenting_program = cost_of_management_program*(True_Positives_those_correctly_flagged+False_Positives_those_incorrectly_flagged)\n",
    "\n",
    "readmissions_prevented = sucess_rate_of_intervention*True_Positives_those_correctly_flagged\n",
    "\n",
    "print('The total cost of implementing the program across {} patients would be: ${}'.format((True_Positives_those_correctly_flagged + False_Positives_those_incorrectly_flagged), total_cost_of_implimenting_program))\n",
    "print('The total number of prevented readmissions would be : {}'.format(readmissions_prevented))"
   ]
  },
  {
   "cell_type": "markdown",
   "id": "dac83238",
   "metadata": {},
   "source": [
    "#### Now, we calculate the difference between the expense of implimenting the program (about $2 Million) with the savings from prevented readmissions."
   ]
  },
  {
   "cell_type": "code",
   "execution_count": 40,
   "id": "642e455c",
   "metadata": {},
   "outputs": [
    {
     "name": "stdout",
     "output_type": "stream",
     "text": [
      "The savings stemming from prevented readmissions would be: $5235000.0\n",
      "The net savings from implementing the program would be : $3320000.0\n",
      "The per-patient savings would be: $330.2825308396339\n"
     ]
    }
   ],
   "source": [
    "savings_from_readmissions_prevention = (readmissions_prevented) * (cost_of_readmission)\n",
    "\n",
    "net_savings_to_hosptial_system = (savings_from_readmissions_prevention) - (total_cost_of_implimenting_program)\n",
    "\n",
    "per_patient_savings = net_savings_to_hosptial_system/len(optimal_cutoff)\n",
    "\n",
    "print('The savings stemming from prevented readmissions would be: ${}'.format(savings_from_readmissions_prevention))\n",
    "print('The net savings from implementing the program would be : ${}'.format(net_savings_to_hosptial_system))\n",
    "print('The per-patient savings would be: ${}'.format(per_patient_savings))"
   ]
  },
  {
   "cell_type": "markdown",
   "id": "50230ea3",
   "metadata": {},
   "source": [
    "#### As we can see, using machine learning to identify diabetic patients at risk for a readmission can provide dramatic per-patient financial savings.\n",
    "\n",
    "Even with the high number of false positives, (i.e. 3132, indicative of a diabetes-management-program being implimented on a patient who would not have otherwise been readmitted -- over 4 false positives for each true positive) The savings derived from the patients that would have be readmitted (349 -- or up to 698 with a diabetes-management-program that is more than 50% effective) makes up for this at a rate of saving nearly 3 dollars saved on prevented readmissions for every 1 dollar spent on the diabetes-management-program. \n",
    "\n",
    "Furthermore, it is likely that the diabetes management program may have significant residual health benefits on both the true and false positive populations applied to. As both of these populations are presumably at risk for complications stemming from their diabetes, these programs may promote a healthly lifestyle and prevent costly complications down the road."
   ]
  },
  {
   "cell_type": "markdown",
   "id": "a221da53",
   "metadata": {},
   "source": [
    "#### In summation, 5.3 Million dollars would be saved from readmissions, with 1.9 Million would be spent on the program, leading to an aggregate 340 dollar savings per-patient."
   ]
  }
 ],
 "metadata": {
  "kernelspec": {
   "display_name": "conda_python3",
   "language": "python",
   "name": "conda_python3"
  },
  "language_info": {
   "codemirror_mode": {
    "name": "ipython",
    "version": 3
   },
   "file_extension": ".py",
   "mimetype": "text/x-python",
   "name": "python",
   "nbconvert_exporter": "python",
   "pygments_lexer": "ipython3",
   "version": "3.10.12"
  }
 },
 "nbformat": 4,
 "nbformat_minor": 5
}
