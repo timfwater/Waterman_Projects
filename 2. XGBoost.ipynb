{
 "cells": [
  {
   "cell_type": "markdown",
   "id": "de4810e5",
   "metadata": {},
   "source": [
    "## This script:\n",
    "### -Identifies the optimal hyperparameters for an XGBoost model trained on our data\n",
    "### -Trains this optimized model \n",
    "### -Deploys this optimized model \n",
    "### -Assesses this model in terms of statistical prowess and operational impact\n",
    "<br><br>\n",
    "### Outline of Notebook:\n",
    "\n",
    "#### 2.1 Establish environment and define variables\n",
    "#### 2.2 Tune Hyperparameters\n",
    "#### 2.3 Train Optimized Model\n",
    "#### 2.4 Deploy Optimized Model\n",
    "#### 2.5 Make Batch Predictions on Test Data\n",
    "&nbsp;&nbsp;&nbsp;&nbsp;Function: <u>CSV_Reader()</u>\n",
    "#### 2.6 Identify Optimal Likelihood Cutoff for Predictions\n",
    "#### 2.7 Evaluate Model<br>\n",
    "&nbsp;&nbsp;&nbsp;&nbsp;Function: <u>Plot_Confusion_Matrix()</u>\n",
    "#### 2.8 Feature Importance\n",
    "#### 2.9 Assess Financial/Operational Impact of Model"
   ]
  },
  {
   "cell_type": "markdown",
   "id": "b03e3d89",
   "metadata": {},
   "source": [
    "### 2.1 Establish Environment and Define Variables"
   ]
  },
  {
   "cell_type": "code",
   "execution_count": 1,
   "id": "e279d88d",
   "metadata": {},
   "outputs": [
    {
     "name": "stdout",
     "output_type": "stream",
     "text": [
      "sagemaker.config INFO - Not applying SDK defaults from location: /etc/xdg/sagemaker/config.yaml\n",
      "sagemaker.config INFO - Not applying SDK defaults from location: /home/ec2-user/.config/sagemaker/config.yaml\n",
      "sagemaker.config INFO - Not applying SDK defaults from location: /etc/xdg/sagemaker/config.yaml\n",
      "sagemaker.config INFO - Not applying SDK defaults from location: /home/ec2-user/.config/sagemaker/config.yaml\n"
     ]
    }
   ],
   "source": [
    "#The first step is to import the necessary libraries\n",
    "\n",
    "#Data manipulation libraries\n",
    "import pandas as pd\n",
    "import numpy as np\n",
    "from datetime import datetime\n",
    "#from sklearn.utils import shuffle\n",
    "from time import gmtime, strftime\n",
    "%matplotlib inline\n",
    "\n",
    "#Data visualization libraries\n",
    "import seaborn as sns\n",
    "import matplotlib.pyplot as plt\n",
    "\n",
    "#AWS Sagemaker libraries\n",
    "import sagemaker\n",
    "import boto3\n",
    "import io\n",
    "from io import StringIO\n",
    "from io import BytesIO\n",
    "\n",
    "from sagemaker import get_execution_role\n",
    "import sagemaker.amazon.common as smac\n",
    "import os\n",
    "from sagemaker.xgboost.estimator import XGBoost\n",
    "from sagemaker.session import Session\n",
    "from sagemaker.inputs import TrainingInput\n",
    "from sagemaker.amazon.amazon_estimator import get_image_uri\n",
    "\n",
    "#Libraries needed to evaluate/produce machine learning models\n",
    "from sklearn.metrics import precision_recall_fscore_support\n",
    "from sklearn.metrics import accuracy_score\n",
    "from sklearn.metrics import roc_auc_score\n",
    "from sklearn.ensemble import RandomForestClassifier as rfc\n",
    "\n",
    "#Defining some global variables for Sagemaker\n",
    "region = boto3.Session().region_name\n",
    "smclient = boto3.Session().client('sagemaker')\n",
    "s3_client = boto3.client('s3')\n",
    "role = get_execution_role()"
   ]
  },
  {
   "cell_type": "markdown",
   "id": "18b6218a",
   "metadata": {},
   "source": [
    "#### As this is a fairly large dataset we will reformat the default display dimensions to reflect this."
   ]
  },
  {
   "cell_type": "code",
   "execution_count": 2,
   "id": "e293703c",
   "metadata": {},
   "outputs": [],
   "source": [
    "#500 rows and columns will be presented\n",
    "pd.set_option('display.max_columns', 500)\n",
    "pd.set_option('display.max_rows', 500)"
   ]
  },
  {
   "cell_type": "markdown",
   "id": "9ccb844d",
   "metadata": {},
   "source": [
    "#### Defining the names of different directory folders and files to be called upon later in the script."
   ]
  },
  {
   "cell_type": "code",
   "execution_count": 3,
   "id": "a40cbd19",
   "metadata": {},
   "outputs": [],
   "source": [
    "#Head repository\n",
    "bucket = 'diabetes-directory'\n",
    "#Relevant subfolders\n",
    "processed_data_subfolder = 'processed_data'\n",
    "xgb_subfolder = 'xgboost'\n",
    "hyperparameter_tuning_subfolder = 'hyperparameter_tuning'\n",
    "tuned_model_subfolder = 'optimized_model'\n",
    "#Input files\n",
    "train_file = 'train.csv'\n",
    "validation_file = 'validation.csv'\n",
    "test_file = 'test.csv'\n",
    "full_cleaned_dataset = 'aggregate_cleaned_data.csv'\n",
    "\n",
    "#File paths for model data\n",
    "s3_train_filepath = 's3://{}/{}/{}'.format(bucket, processed_data_subfolder, train_file)\n",
    "s3_validation_filepath ='s3://{}/{}/{}'.format(bucket, processed_data_subfolder, validation_file)\n",
    "\n",
    "#File paths for model output\n",
    "hyperparameter_tuning_output = \"s3://{}/{}/{}/output\".format(bucket, xgb_subfolder, hyperparameter_tuning_subfolder)\n",
    "tuned_model_output = 's3://{}/{}/{}/'.format(bucket, xgb_subfolder, tuned_model_subfolder)\n",
    "\n",
    "#Tuning and training \n",
    "tuning_job_name = 'diabetes-XGB-{}'.format(datetime.now().strftime(\"%Y%m%d%H%M%S\"))\n",
    "#optimized_job_name = 'diabetes-XGB-job-optimized-{}'.format(datetime.now().strftime(\"%Y%m%d%H%M%S\"))\n"
   ]
  },
  {
   "cell_type": "markdown",
   "id": "f9f9e505",
   "metadata": {},
   "source": [
    "### 2.2 Tune Hyperparameters"
   ]
  },
  {
   "cell_type": "markdown",
   "id": "498179a7",
   "metadata": {},
   "source": [
    "#### We begin by defining a range of hyperparameters for our XGB model to cycle through.\n",
    "We are initiating 50 individual jobs to see which produces the highes AUC value."
   ]
  },
  {
   "cell_type": "code",
   "execution_count": 4,
   "id": "b93536fb",
   "metadata": {},
   "outputs": [],
   "source": [
    "tuning_job_config = {\n",
    "    \"ParameterRanges\": {\n",
    "      \"CategoricalParameterRanges\": [],\n",
    "      \"ContinuousParameterRanges\": [\n",
    "        {\n",
    "          \"MaxValue\": \"1\",\n",
    "          \"MinValue\": \"0\",\n",
    "          \"Name\": \"eta\"\n",
    "        },\n",
    "        {\n",
    "          \"MaxValue\": \"2\",\n",
    "          \"MinValue\": \"0\",\n",
    "          \"Name\": \"alpha\"\n",
    "        },\n",
    "        {\n",
    "          \"MaxValue\": \"10\",\n",
    "          \"MinValue\": \"1\",\n",
    "          \"Name\": \"min_child_weight\"\n",
    "        }\n",
    "      ],\n",
    "      \"IntegerParameterRanges\": [\n",
    "        {\n",
    "          \"MaxValue\": \"10\",\n",
    "          \"MinValue\": \"1\",\n",
    "          \"Name\": \"max_depth\"\n",
    "        }\n",
    "      ]\n",
    "    },\n",
    "    \"ResourceLimits\": {\n",
    "      \"MaxNumberOfTrainingJobs\": 50,\n",
    "      \"MaxParallelTrainingJobs\": 10\n",
    "    },\n",
    "    \"Strategy\": \"Bayesian\",\n",
    "    \"HyperParameterTuningJobObjective\": {\n",
    "      \"MetricName\": \"validation:auc\",\n",
    "      \"Type\": \"Maximize\"\n",
    "    },\n",
    "    \"RandomSeed\" : 123\n",
    "  }"
   ]
  },
  {
   "cell_type": "markdown",
   "id": "322fbb5a",
   "metadata": {},
   "source": [
    "#### Now we set up the resources for our XGB model, feed in the input/output locations as well as our defined hyperparameter ranges, and initiate the session.\n",
    "\n",
    "The hyperparameter-tuning-job can be monitored, and even set up/initiated, within the Sagemaker Management Console UI. Upon completion, we need then reference the specific training job with the optimal outcome metric (Area Under the Curve AUC), import the hyperparameters from this job, and then feed these hyperparameters into our new model slated for deployment, thereby optimizing this final model from what was learned during the training session."
   ]
  },
  {
   "cell_type": "code",
   "execution_count": 5,
   "id": "0615275f",
   "metadata": {},
   "outputs": [],
   "source": [
    "#sagemaker.image_uris.retrieve\n",
    "training_image = sagemaker.image_uris.retrieve(framework = 'xgboost', region = 'us-east-1', version = '1.0-1')\n",
    "\n",
    "#Identifying the optimal hyperparameters, and specifying input/output file paths\n",
    "training_job_definition = {\n",
    "    \"AlgorithmSpecification\": {\n",
    "      \"TrainingImage\": training_image,\n",
    "      \"TrainingInputMode\": \"File\"\n",
    "    },\n",
    "    \"InputDataConfig\": [\n",
    "      {\n",
    "        \"ChannelName\": \"train\",\n",
    "        \"CompressionType\": \"None\",\n",
    "        \"ContentType\": \"csv\",\n",
    "        \"DataSource\": {\n",
    "          \"S3DataSource\": {\n",
    "            \"S3DataDistributionType\": \"FullyReplicated\",\n",
    "            \"S3DataType\": \"S3Prefix\",\n",
    "            \"S3Uri\": s3_train_filepath\n",
    "          }\n",
    "        }\n",
    "      },\n",
    "      {\n",
    "        \"ChannelName\": \"validation\",\n",
    "        \"CompressionType\": \"None\",\n",
    "        \"ContentType\": \"csv\",\n",
    "        \"DataSource\": {\n",
    "          \"S3DataSource\": {\n",
    "            \"S3DataDistributionType\": \"FullyReplicated\",\n",
    "            \"S3DataType\": \"S3Prefix\",\n",
    "            \"S3Uri\": s3_validation_filepath\n",
    "          }\n",
    "        }\n",
    "      }\n",
    "    ],\n",
    "    \"OutputDataConfig\": {\n",
    "      \"S3OutputPath\": hyperparameter_tuning_output\n",
    "    },\n",
    "    \"ResourceConfig\": {\n",
    "      \"InstanceCount\": 2,\n",
    "      \"InstanceType\": \"ml.c4.2xlarge\",\n",
    "      \"VolumeSizeInGB\": 10\n",
    "    },\n",
    "    \"RoleArn\": role,\n",
    "    \"StaticHyperParameters\": {\n",
    "      \"eval_metric\": \"auc\",\n",
    "      \"num_round\": \"100\",\n",
    "      \"objective\": \"binary:logistic\",\n",
    "      \"rate_drop\": \"0.3\",\n",
    "      \"tweedie_variance_power\": \"1.4\"\n",
    "    },\n",
    "    \"StoppingCondition\": {\n",
    "      \"MaxRuntimeInSeconds\": 43200\n",
    "    }\n",
    "}"
   ]
  },
  {
   "cell_type": "markdown",
   "id": "1781e468",
   "metadata": {},
   "source": [
    "#### Here we initiate the training job with the parameters/model specified above"
   ]
  },
  {
   "cell_type": "code",
   "execution_count": 6,
   "id": "7819c8e4",
   "metadata": {},
   "outputs": [
    {
     "data": {
      "text/plain": [
       "{'HyperParameterTuningJobArn': 'arn:aws:sagemaker:us-east-1:665277163763:hyper-parameter-tuning-job/diabetes-XGB-20231102184847',\n",
       " 'ResponseMetadata': {'RequestId': 'ca044531-0cd6-41a9-afcb-28a2aca3d4ef',\n",
       "  'HTTPStatusCode': 200,\n",
       "  'HTTPHeaders': {'x-amzn-requestid': 'ca044531-0cd6-41a9-afcb-28a2aca3d4ef',\n",
       "   'content-type': 'application/x-amz-json-1.1',\n",
       "   'content-length': '128',\n",
       "   'date': 'Thu, 02 Nov 2023 18:48:47 GMT'},\n",
       "  'RetryAttempts': 0}}"
      ]
     },
     "execution_count": 6,
     "metadata": {},
     "output_type": "execute_result"
    }
   ],
   "source": [
    "smclient.create_hyper_parameter_tuning_job(HyperParameterTuningJobName = tuning_job_name,\n",
    "                                           HyperParameterTuningJobConfig = tuning_job_config,\n",
    "                                           TrainingJobDefinition = training_job_definition)"
   ]
  },
  {
   "cell_type": "markdown",
   "id": "60b48ecc",
   "metadata": {},
   "source": [
    "#### Once complete, we now get the training job, we can extract the hyperparameters from the model iteration that demonstrated the highest outcome metric, AUC."
   ]
  },
  {
   "cell_type": "code",
   "execution_count": 7,
   "id": "57eee60c",
   "metadata": {
    "scrolled": true
   },
   "outputs": [
    {
     "name": "stdout",
     "output_type": "stream",
     "text": [
      "sagemaker.config INFO - Not applying SDK defaults from location: /etc/xdg/sagemaker/config.yaml\n",
      "sagemaker.config INFO - Not applying SDK defaults from location: /home/ec2-user/.config/sagemaker/config.yaml\n"
     ]
    }
   ],
   "source": [
    "# Get the best training job name\n",
    "tuner = sagemaker.HyperparameterTuningJobAnalytics(tuning_job_name)\n",
    "best_training_job = tuner.dataframe().sort_values('FinalObjectiveValue', ascending=False).iloc[0]\n",
    "best_training_job_name = best_training_job['TrainingJobName']\n",
    "\n",
    "# Get the best hyperparameters from the best training job\n",
    "response = smclient.describe_training_job(TrainingJobName=best_training_job_name)\n",
    "best_hyperparameters = response['HyperParameters']"
   ]
  },
  {
   "cell_type": "code",
   "execution_count": 8,
   "id": "5c983965",
   "metadata": {},
   "outputs": [
    {
     "name": "stdout",
     "output_type": "stream",
     "text": [
      "The optimized hyperparameters from the Sagemaker Tuning Job are as follows:\n",
      "\n",
      "{'_tuning_objective_metric': 'validation:auc', 'alpha': '2.0', 'eta': '0.16566457832735912', 'eval_metric': 'auc', 'max_depth': '4', 'min_child_weight': '3.293799395759985', 'num_round': '100', 'objective': 'binary:logistic', 'rate_drop': '0.3', 'tweedie_variance_power': '1.4'}\n"
     ]
    }
   ],
   "source": [
    "print('The optimized hyperparameters from the Sagemaker Tuning Job are as follows:')\n",
    "print()\n",
    "print(best_hyperparameters)"
   ]
  },
  {
   "cell_type": "markdown",
   "id": "1ba6c4ee",
   "metadata": {},
   "source": [
    "### 2.3 Train Optimized Model"
   ]
  },
  {
   "cell_type": "markdown",
   "id": "2c23cdd7",
   "metadata": {},
   "source": [
    "#### In the below cell, we now train a model with the hyperparameters specified in the above training job."
   ]
  },
  {
   "cell_type": "code",
   "execution_count": 9,
   "id": "7a3b1d34",
   "metadata": {},
   "outputs": [
    {
     "name": "stdout",
     "output_type": "stream",
     "text": [
      "sagemaker.config INFO - Not applying SDK defaults from location: /etc/xdg/sagemaker/config.yaml\n",
      "sagemaker.config INFO - Not applying SDK defaults from location: /home/ec2-user/.config/sagemaker/config.yaml\n",
      "sagemaker.config INFO - Not applying SDK defaults from location: /etc/xdg/sagemaker/config.yaml\n",
      "sagemaker.config INFO - Not applying SDK defaults from location: /home/ec2-user/.config/sagemaker/config.yaml\n"
     ]
    },
    {
     "name": "stderr",
     "output_type": "stream",
     "text": [
      "INFO:sagemaker:Creating training-job with name: sagemaker-xgboost-2023-11-02-19-00-08-929\n"
     ]
    },
    {
     "name": "stdout",
     "output_type": "stream",
     "text": [
      "2023-11-02 19:00:09 Starting - Starting the training job...\n",
      "2023-11-02 19:00:25 Starting - Preparing the instances for training......\n",
      "2023-11-02 19:01:29 Downloading - Downloading input data...\n",
      "2023-11-02 19:01:54 Training - Downloading the training image...\n",
      "2023-11-02 19:02:35 Training - Training image download completed. Training in progress....\n",
      "2023-11-02 19:03:05 Uploading - Uploading generated training model\u001b[34m[2023-11-02 19:02:51.758 ip-10-0-130-207.ec2.internal:7 INFO utils.py:28] RULE_JOB_STOP_SIGNAL_FILENAME: None\u001b[0m\n",
      "\u001b[34m[2023-11-02 19:02:51.780 ip-10-0-130-207.ec2.internal:7 INFO profiler_config_parser.py:111] User has disabled profiler.\u001b[0m\n",
      "\u001b[34m[2023-11-02:19:02:52:INFO] Imported framework sagemaker_xgboost_container.training\u001b[0m\n",
      "\u001b[34m[2023-11-02:19:02:52:INFO] Failed to parse hyperparameter _tuning_objective_metric value validation:auc to Json.\u001b[0m\n",
      "\u001b[34mReturning the value itself\u001b[0m\n",
      "\u001b[34m[2023-11-02:19:02:52:INFO] Failed to parse hyperparameter eval_metric value auc to Json.\u001b[0m\n",
      "\u001b[34mReturning the value itself\u001b[0m\n",
      "\u001b[34m[2023-11-02:19:02:52:INFO] Failed to parse hyperparameter objective value binary:logistic to Json.\u001b[0m\n",
      "\u001b[34mReturning the value itself\u001b[0m\n",
      "\u001b[34m[2023-11-02:19:02:52:INFO] No GPUs detected (normal if no gpus installed)\u001b[0m\n",
      "\u001b[34m[2023-11-02:19:02:52:INFO] Running XGBoost Sagemaker in algorithm mode\u001b[0m\n",
      "\u001b[34m[2023-11-02:19:02:52:INFO] Determined 0 GPU(s) available on the instance.\u001b[0m\n",
      "\u001b[34m[2023-11-02:19:02:52:INFO] Determined delimiter of CSV input is ','\u001b[0m\n",
      "\u001b[34m[2023-11-02:19:02:52:INFO] Determined delimiter of CSV input is ','\u001b[0m\n",
      "\u001b[34m[2023-11-02:19:02:52:INFO] File path /opt/ml/input/data/train of input files\u001b[0m\n",
      "\u001b[34m[2023-11-02:19:02:52:INFO] Making smlinks from folder /opt/ml/input/data/train to folder /tmp/sagemaker_xgboost_input_data\u001b[0m\n",
      "\u001b[34m[2023-11-02:19:02:52:INFO] creating symlink between Path /opt/ml/input/data/train/train.csv and destination /tmp/sagemaker_xgboost_input_data/train.csv-8052402683335304238\u001b[0m\n",
      "\u001b[34m[2023-11-02:19:02:52:INFO] files path: /tmp/sagemaker_xgboost_input_data\u001b[0m\n",
      "\u001b[34m[2023-11-02:19:02:52:INFO] Determined delimiter of CSV input is ','\u001b[0m\n",
      "\u001b[34m[2023-11-02:19:02:52:INFO] File path /opt/ml/input/data/validation of input files\u001b[0m\n",
      "\u001b[34m[2023-11-02:19:02:52:INFO] Making smlinks from folder /opt/ml/input/data/validation to folder /tmp/sagemaker_xgboost_input_data\u001b[0m\n",
      "\u001b[34m[2023-11-02:19:02:52:INFO] creating symlink between Path /opt/ml/input/data/validation/validation.csv and destination /tmp/sagemaker_xgboost_input_data/validation.csv2558668702109882622\u001b[0m\n",
      "\u001b[34m[2023-11-02:19:02:52:INFO] files path: /tmp/sagemaker_xgboost_input_data\u001b[0m\n",
      "\u001b[34m[2023-11-02:19:02:52:INFO] Determined delimiter of CSV input is ','\u001b[0m\n",
      "\u001b[34m[2023-11-02:19:02:52:INFO] Single node training.\u001b[0m\n",
      "\u001b[34m[2023-11-02:19:02:52:INFO] Setting up HPO optimized metric to be : auc\u001b[0m\n",
      "\u001b[34m[2023-11-02:19:02:52:INFO] Train matrix has 70113 rows and 97 columns\u001b[0m\n",
      "\u001b[34m[2023-11-02:19:02:52:INFO] Validation matrix has 19949 rows\u001b[0m\n",
      "\u001b[34m[2023-11-02 19:02:52.519 ip-10-0-130-207.ec2.internal:7 INFO json_config.py:92] Creating hook from json_config at /opt/ml/input/config/debughookconfig.json.\u001b[0m\n",
      "\u001b[34m[2023-11-02 19:02:52.520 ip-10-0-130-207.ec2.internal:7 INFO hook.py:206] tensorboard_dir has not been set for the hook. SMDebug will not be exporting tensorboard summaries.\u001b[0m\n",
      "\u001b[34m[2023-11-02 19:02:52.520 ip-10-0-130-207.ec2.internal:7 INFO hook.py:259] Saving to /opt/ml/output/tensors\u001b[0m\n",
      "\u001b[34m[2023-11-02 19:02:52.520 ip-10-0-130-207.ec2.internal:7 INFO state_store.py:77] The checkpoint config file /opt/ml/input/config/checkpointconfig.json does not exist.\u001b[0m\n",
      "\u001b[34m[2023-11-02:19:02:52:INFO] Debug hook created from config\u001b[0m\n",
      "\u001b[34m[19:02:52] WARNING: ../src/learner.cc:767: \u001b[0m\n",
      "\u001b[34mParameters: { \"rate_drop\", \"tweedie_variance_power\" } are not used.\u001b[0m\n",
      "\u001b[34m[2023-11-02 19:02:52.873 ip-10-0-130-207.ec2.internal:7 INFO hook.py:427] Monitoring the collections: metrics\u001b[0m\n",
      "\u001b[34m[2023-11-02 19:02:52.875 ip-10-0-130-207.ec2.internal:7 INFO hook.py:491] Hook is writing from the hook with pid: 7\u001b[0m\n",
      "\u001b[34m[0]#011train-auc:0.63644#011validation-auc:0.62737\u001b[0m\n",
      "\u001b[34m[1]#011train-auc:0.63743#011validation-auc:0.62901\u001b[0m\n",
      "\u001b[34m[2]#011train-auc:0.63797#011validation-auc:0.62909\u001b[0m\n",
      "\u001b[34m[3]#011train-auc:0.63809#011validation-auc:0.62924\u001b[0m\n",
      "\u001b[34m[4]#011train-auc:0.63819#011validation-auc:0.62930\u001b[0m\n",
      "\u001b[34m[5]#011train-auc:0.64793#011validation-auc:0.63697\u001b[0m\n",
      "\u001b[34m[6]#011train-auc:0.64848#011validation-auc:0.63718\u001b[0m\n",
      "\u001b[34m[7]#011train-auc:0.64955#011validation-auc:0.63837\u001b[0m\n",
      "\u001b[34m[8]#011train-auc:0.65363#011validation-auc:0.64455\u001b[0m\n",
      "\u001b[34m[9]#011train-auc:0.65461#011validation-auc:0.64550\u001b[0m\n",
      "\u001b[34m[10]#011train-auc:0.65601#011validation-auc:0.64562\u001b[0m\n",
      "\u001b[34m[11]#011train-auc:0.65802#011validation-auc:0.64814\u001b[0m\n",
      "\u001b[34m[12]#011train-auc:0.65977#011validation-auc:0.64992\u001b[0m\n",
      "\u001b[34m[13]#011train-auc:0.66055#011validation-auc:0.65132\u001b[0m\n",
      "\u001b[34m[14]#011train-auc:0.66188#011validation-auc:0.65278\u001b[0m\n",
      "\u001b[34m[15]#011train-auc:0.66282#011validation-auc:0.65308\u001b[0m\n",
      "\u001b[34m[16]#011train-auc:0.66440#011validation-auc:0.65399\u001b[0m\n",
      "\u001b[34m[17]#011train-auc:0.66533#011validation-auc:0.65485\u001b[0m\n",
      "\u001b[34m[18]#011train-auc:0.66688#011validation-auc:0.65611\u001b[0m\n",
      "\u001b[34m[19]#011train-auc:0.66742#011validation-auc:0.65656\u001b[0m\n",
      "\u001b[34m[20]#011train-auc:0.66804#011validation-auc:0.65766\u001b[0m\n",
      "\u001b[34m[21]#011train-auc:0.66886#011validation-auc:0.65761\u001b[0m\n",
      "\u001b[34m[22]#011train-auc:0.66932#011validation-auc:0.65770\u001b[0m\n",
      "\u001b[34m[23]#011train-auc:0.67001#011validation-auc:0.65763\u001b[0m\n",
      "\u001b[34m[24]#011train-auc:0.67208#011validation-auc:0.65917\u001b[0m\n",
      "\u001b[34m[25]#011train-auc:0.67261#011validation-auc:0.65952\u001b[0m\n",
      "\u001b[34m[26]#011train-auc:0.67411#011validation-auc:0.66012\u001b[0m\n",
      "\u001b[34m[27]#011train-auc:0.67508#011validation-auc:0.66074\u001b[0m\n",
      "\u001b[34m[28]#011train-auc:0.67606#011validation-auc:0.66124\u001b[0m\n",
      "\u001b[34m[29]#011train-auc:0.67682#011validation-auc:0.66246\u001b[0m\n",
      "\u001b[34m[30]#011train-auc:0.67810#011validation-auc:0.66278\u001b[0m\n",
      "\u001b[34m[31]#011train-auc:0.67880#011validation-auc:0.66360\u001b[0m\n",
      "\u001b[34m[32]#011train-auc:0.67978#011validation-auc:0.66407\u001b[0m\n",
      "\u001b[34m[33]#011train-auc:0.68018#011validation-auc:0.66395\u001b[0m\n",
      "\u001b[34m[34]#011train-auc:0.68049#011validation-auc:0.66383\u001b[0m\n",
      "\u001b[34m[35]#011train-auc:0.68114#011validation-auc:0.66486\u001b[0m\n",
      "\u001b[34m[36]#011train-auc:0.68199#011validation-auc:0.66484\u001b[0m\n",
      "\u001b[34m[37]#011train-auc:0.68291#011validation-auc:0.66523\u001b[0m\n",
      "\u001b[34m[38]#011train-auc:0.68316#011validation-auc:0.66508\u001b[0m\n",
      "\u001b[34m[39]#011train-auc:0.68343#011validation-auc:0.66522\u001b[0m\n",
      "\u001b[34m[40]#011train-auc:0.68416#011validation-auc:0.66578\u001b[0m\n",
      "\u001b[34m[41]#011train-auc:0.68468#011validation-auc:0.66584\u001b[0m\n",
      "\u001b[34m[42]#011train-auc:0.68532#011validation-auc:0.66571\u001b[0m\n",
      "\u001b[34m[43]#011train-auc:0.68581#011validation-auc:0.66569\u001b[0m\n",
      "\u001b[34m[44]#011train-auc:0.68677#011validation-auc:0.66557\u001b[0m\n",
      "\u001b[34m[45]#011train-auc:0.68765#011validation-auc:0.66586\u001b[0m\n",
      "\u001b[34m[46]#011train-auc:0.68806#011validation-auc:0.66606\u001b[0m\n",
      "\u001b[34m[47]#011train-auc:0.68884#011validation-auc:0.66635\u001b[0m\n",
      "\u001b[34m[48]#011train-auc:0.68955#011validation-auc:0.66650\u001b[0m\n",
      "\u001b[34m[49]#011train-auc:0.69012#011validation-auc:0.66652\u001b[0m\n",
      "\u001b[34m[50]#011train-auc:0.69091#011validation-auc:0.66668\u001b[0m\n",
      "\u001b[34m[51]#011train-auc:0.69140#011validation-auc:0.66694\u001b[0m\n",
      "\u001b[34m[52]#011train-auc:0.69185#011validation-auc:0.66674\u001b[0m\n",
      "\u001b[34m[53]#011train-auc:0.69238#011validation-auc:0.66647\u001b[0m\n",
      "\u001b[34m[54]#011train-auc:0.69275#011validation-auc:0.66644\u001b[0m\n",
      "\u001b[34m[55]#011train-auc:0.69343#011validation-auc:0.66664\u001b[0m\n",
      "\u001b[34m[56]#011train-auc:0.69393#011validation-auc:0.66658\u001b[0m\n",
      "\u001b[34m[57]#011train-auc:0.69464#011validation-auc:0.66646\u001b[0m\n",
      "\u001b[34m[58]#011train-auc:0.69503#011validation-auc:0.66650\u001b[0m\n",
      "\u001b[34m[59]#011train-auc:0.69564#011validation-auc:0.66671\u001b[0m\n",
      "\u001b[34m[60]#011train-auc:0.69596#011validation-auc:0.66682\u001b[0m\n",
      "\u001b[34m[61]#011train-auc:0.69645#011validation-auc:0.66697\u001b[0m\n",
      "\u001b[34m[62]#011train-auc:0.69694#011validation-auc:0.66702\u001b[0m\n",
      "\u001b[34m[63]#011train-auc:0.69731#011validation-auc:0.66716\u001b[0m\n",
      "\u001b[34m[64]#011train-auc:0.69786#011validation-auc:0.66741\u001b[0m\n",
      "\u001b[34m[65]#011train-auc:0.69832#011validation-auc:0.66761\u001b[0m\n",
      "\u001b[34m[66]#011train-auc:0.69897#011validation-auc:0.66765\u001b[0m\n",
      "\u001b[34m[67]#011train-auc:0.69956#011validation-auc:0.66807\u001b[0m\n",
      "\u001b[34m[68]#011train-auc:0.70019#011validation-auc:0.66807\u001b[0m\n",
      "\u001b[34m[69]#011train-auc:0.70045#011validation-auc:0.66819\u001b[0m\n",
      "\u001b[34m[70]#011train-auc:0.70085#011validation-auc:0.66845\u001b[0m\n",
      "\u001b[34m[71]#011train-auc:0.70127#011validation-auc:0.66853\u001b[0m\n",
      "\u001b[34m[72]#011train-auc:0.70177#011validation-auc:0.66851\u001b[0m\n",
      "\u001b[34m[73]#011train-auc:0.70230#011validation-auc:0.66869\u001b[0m\n",
      "\u001b[34m[74]#011train-auc:0.70269#011validation-auc:0.66870\u001b[0m\n",
      "\u001b[34m[75]#011train-auc:0.70275#011validation-auc:0.66873\u001b[0m\n",
      "\u001b[34m[76]#011train-auc:0.70297#011validation-auc:0.66863\u001b[0m\n",
      "\u001b[34m[77]#011train-auc:0.70336#011validation-auc:0.66876\u001b[0m\n",
      "\u001b[34m[78]#011train-auc:0.70385#011validation-auc:0.66899\u001b[0m\n",
      "\u001b[34m[79]#011train-auc:0.70418#011validation-auc:0.66899\u001b[0m\n",
      "\u001b[34m[80]#011train-auc:0.70441#011validation-auc:0.66895\u001b[0m\n",
      "\u001b[34m[81]#011train-auc:0.70473#011validation-auc:0.66921\u001b[0m\n",
      "\u001b[34m[82]#011train-auc:0.70492#011validation-auc:0.66915\u001b[0m\n",
      "\u001b[34m[83]#011train-auc:0.70510#011validation-auc:0.66922\u001b[0m\n",
      "\u001b[34m[84]#011train-auc:0.70565#011validation-auc:0.66903\u001b[0m\n",
      "\u001b[34m[85]#011train-auc:0.70596#011validation-auc:0.66904\u001b[0m\n",
      "\u001b[34m[86]#011train-auc:0.70652#011validation-auc:0.66911\u001b[0m\n",
      "\u001b[34m[87]#011train-auc:0.70691#011validation-auc:0.66934\u001b[0m\n",
      "\u001b[34m[88]#011train-auc:0.70728#011validation-auc:0.66917\u001b[0m\n",
      "\u001b[34m[89]#011train-auc:0.70770#011validation-auc:0.66923\u001b[0m\n",
      "\u001b[34m[90]#011train-auc:0.70830#011validation-auc:0.66898\u001b[0m\n",
      "\u001b[34m[91]#011train-auc:0.70853#011validation-auc:0.66895\u001b[0m\n",
      "\u001b[34m[92]#011train-auc:0.70889#011validation-auc:0.66896\u001b[0m\n",
      "\u001b[34m[93]#011train-auc:0.70906#011validation-auc:0.66887\u001b[0m\n",
      "\u001b[34m[94]#011train-auc:0.70935#011validation-auc:0.66892\u001b[0m\n",
      "\u001b[34m[95]#011train-auc:0.70945#011validation-auc:0.66892\u001b[0m\n",
      "\u001b[34m[96]#011train-auc:0.70978#011validation-auc:0.66896\u001b[0m\n",
      "\u001b[34m[97]#011train-auc:0.71008#011validation-auc:0.66910\u001b[0m\n",
      "\u001b[34m[98]#011train-auc:0.71029#011validation-auc:0.66917\u001b[0m\n",
      "\u001b[34m[99]#011train-auc:0.71053#011validation-auc:0.66924\u001b[0m\n"
     ]
    },
    {
     "name": "stdout",
     "output_type": "stream",
     "text": [
      "\n",
      "2023-11-02 19:03:18 Completed - Training job completed\n",
      "Training seconds: 107\n",
      "Billable seconds: 107\n"
     ]
    }
   ],
   "source": [
    "# this line automatically looks for the XGBoost image URI and builds an XGBoost container.\n",
    "xgboost_container = sagemaker.image_uris.retrieve(\"xgboost\", 'us-east-1', \"1.7-1\")\n",
    "\n",
    "# construct a SageMaker estimator that calls the xgboost-container\n",
    "estimator = sagemaker.estimator.Estimator(image_uri=xgboost_container, \n",
    "                                          #The optimal hyperparameters from tuning are brought into our new model\n",
    "                                          hyperparameters=best_hyperparameters,\n",
    "                                          role=sagemaker.get_execution_role(),\n",
    "                                          instance_count=1, \n",
    "                                          instance_type='ml.m5.2xlarge', \n",
    "                                          volume_size=5, # 5 GB \n",
    "                                          output_path=tuned_model_output)\n",
    "\n",
    "# define the data type and paths to the training and validation datasets\n",
    "content_type = \"csv\"\n",
    "train_input = TrainingInput(s3_train_filepath, content_type=content_type)\n",
    "validation_input = TrainingInput(s3_validation_filepath, content_type=content_type)\n",
    "\n",
    "# execute the XGBoost training job\n",
    "estimator.fit({'train': train_input, 'validation': validation_input})"
   ]
  },
  {
   "cell_type": "markdown",
   "id": "17f3d746",
   "metadata": {},
   "source": [
    "### 2.4 Deploy Optimized Model"
   ]
  },
  {
   "cell_type": "markdown",
   "id": "a1c8efc1",
   "metadata": {},
   "source": [
    "#### Below we deploy our model for inference. The type and instance count of underlying cumpute resources are specified."
   ]
  },
  {
   "cell_type": "code",
   "execution_count": 10,
   "id": "3cd27e89",
   "metadata": {
    "scrolled": true
   },
   "outputs": [
    {
     "name": "stderr",
     "output_type": "stream",
     "text": [
      "INFO:sagemaker:Creating model with name: sagemaker-xgboost-2023-11-02-19-03-51-921\n",
      "INFO:sagemaker:Creating endpoint-config with name sagemaker-xgboost-2023-11-02-19-03-51-921\n",
      "INFO:sagemaker:Creating endpoint with name sagemaker-xgboost-2023-11-02-19-03-51-921\n"
     ]
    },
    {
     "name": "stdout",
     "output_type": "stream",
     "text": [
      "----------!"
     ]
    }
   ],
   "source": [
    "deployed_predictor = estimator.deploy(initial_instance_count=1, instance_type='ml.m4.xlarge')"
   ]
  },
  {
   "cell_type": "markdown",
   "id": "426d0351",
   "metadata": {},
   "source": [
    "### 2.5 Make Batch Predictions on Test Data"
   ]
  },
  {
   "cell_type": "markdown",
   "id": "b78b1363",
   "metadata": {},
   "source": [
    "#### Here we read in our holdout test dataset for assessment on the deployed model."
   ]
  },
  {
   "cell_type": "code",
   "execution_count": 11,
   "id": "f682fd09",
   "metadata": {},
   "outputs": [],
   "source": [
    "def CSV_Reader(bucket, subfolder, source_file_name):\n",
    "    \n",
    "    '''The CSV_Reader() function takes in the names of the bucket, subfolder, and source file name, and desired dataframe name. \n",
    "    It first constructs the filepath, and then imports the file residing at this filepath, based on the title fed to the function.\n",
    "    \n",
    "    Arguments \n",
    "    --------- \n",
    "    bucket: Head S3 repository bucket\n",
    "    subfolder: Subfolder containing the source data\n",
    "    source_file_name: Name of source CSV data file \n",
    "    \n",
    "    Return\n",
    "    ---------\n",
    "    Returns the source data in a pandas dataframe '''\n",
    "    \n",
    "    data_location = 's3://{}/{}/{}'.format(bucket, subfolder, source_file_name)  \n",
    "    dataset = pd.read_csv(data_location, low_memory=False)\n",
    "    return dataset"
   ]
  },
  {
   "cell_type": "code",
   "execution_count": 12,
   "id": "492dc07b",
   "metadata": {},
   "outputs": [
    {
     "name": "stderr",
     "output_type": "stream",
     "text": [
      "INFO:botocore.credentials:Found credentials from IAM Role: BaseNotebookInstanceEc2InstanceRole\n"
     ]
    }
   ],
   "source": [
    "test_dataset = CSV_Reader(bucket, processed_data_subfolder, test_file)"
   ]
  },
  {
   "cell_type": "markdown",
   "id": "f4eab6d8",
   "metadata": {},
   "source": [
    "#### We seperate our dependent and independent variables from the test dataset, so that they can be fed to the deployed model for a patch prediction job."
   ]
  },
  {
   "cell_type": "code",
   "execution_count": 13,
   "id": "446bb6ac",
   "metadata": {},
   "outputs": [],
   "source": [
    "test_X = test_dataset.drop(columns='readmitted').values\n",
    "test_y = test_dataset['readmitted'].values"
   ]
  },
  {
   "cell_type": "markdown",
   "id": "863506ae",
   "metadata": {},
   "source": [
    "#### Here we make the necessary specifications to format our data, and then feed it to the deployed model.\n",
    "<br>\n",
    "Our responses are returned to us in a list of values (between 0 and 1) demonstrating how likely each individual record is to be readmitted."
   ]
  },
  {
   "cell_type": "code",
   "execution_count": 14,
   "id": "de590978",
   "metadata": {},
   "outputs": [
    {
     "name": "stdout",
     "output_type": "stream",
     "text": [
      "10052\n"
     ]
    }
   ],
   "source": [
    "deployed_predictor.serializer = sagemaker.serializers.CSVSerializer()\n",
    "deployed_predictor.deserializer = sagemaker.deserializers.JSONDeserializer()\n",
    "\n",
    "predictions = []\n",
    "results = deployed_predictor.predict(test_X)\n",
    "predictions += [r['score'] for r in results['predictions']]\n",
    "\n",
    "print(len(predictions))"
   ]
  },
  {
   "cell_type": "code",
   "execution_count": 15,
   "id": "3a7c8716",
   "metadata": {},
   "outputs": [],
   "source": [
    "test_dataset['predictions'] = predictions"
   ]
  },
  {
   "cell_type": "markdown",
   "id": "1974a48d",
   "metadata": {},
   "source": [
    "#### Here we will look at the distribution of our prediction values."
   ]
  },
  {
   "cell_type": "code",
   "execution_count": 16,
   "id": "43d07b12",
   "metadata": {
    "scrolled": false
   },
   "outputs": [
    {
     "data": {
      "image/png": "[encoded data removed]",
      "text/plain": [
       "<Figure size 640x480 with 1 Axes>"
      ]
     },
     "metadata": {},
     "output_type": "display_data"
    },
    {
     "name": "stdout",
     "output_type": "stream",
     "text": [
      "The mean predictive value for the test dataset is: 0.1135292371302855\n"
     ]
    }
   ],
   "source": [
    "plt.hist(test_dataset.predictions, bins=1000, density=True, alpha=0.7, color='blue')\n",
    "plt.xlabel('Predicted Values for Holdout Test Dataset')\n",
    "plt.ylabel('Frequency')\n",
    "plt.title('Distribution of Prediction Values from Model')\n",
    "\n",
    "mean_value = np.mean(test_dataset.predictions)\n",
    "max_value = np.max(test_dataset.predictions)\n",
    "min_value = np.min(test_dataset.predictions)\n",
    "\n",
    "\n",
    "# Add mean line to the histogram\n",
    "plt.axvline(mean_value, color='red', linestyle='dashed', linewidth=2, label=f'Mean Prediction Value: {mean_value:.2f}')\n",
    "\n",
    "plt.axvline(max_value, color='orange', linestyle='dashed', linewidth=1, label=f'Maximum Prediction Value: {max_value:.2f}')\n",
    "\n",
    "plt.axvline(min_value, color='green', linestyle='dashed', linewidth=1, label=f'Minimum Prediction Value: {min_value:.2f}')\n",
    "\n",
    "\n",
    "# Display legend\n",
    "plt.legend()\n",
    "\n",
    "# Show the histogram\n",
    "plt.show()\n",
    "\n",
    "print('The mean predictive value for the test dataset is: {}'.format(mean_value))"
   ]
  },
  {
   "cell_type": "markdown",
   "id": "08fec072",
   "metadata": {},
   "source": [
    "### 2.6. Identify Optimal Likelihood Cutoff for our Predictions"
   ]
  },
  {
   "cell_type": "markdown",
   "id": "1d46a7eb",
   "metadata": {},
   "source": [
    "As we can see here, our algorithm is hesitant to place much predictive weight behind any particular patient record, and so the majority of our predictions are centered near 0.1 and skew right. As the dataset is weighted heavily towards those who were not readmitted (i.e about 1 in 10 patients being readmitted), this makes sense.\n",
    "\n",
    "In fact, despiute this rightskew, it almost appears as though there is a small, second hump just above the average value. If we can identify a cutoff that will allow us to predict these records as readmitted, it is likely that our model will perform well regarding an optimal AUC value.\n",
    "\n",
    "We will therefore institute a prediction/rounding cutoff value lower than 0.5 to determine which records are predicted as being readmitted. As the mean prediction is around 0.11, using this value instead of 0.5 would likely predict around half of records as being classified as readmissions.\n",
    "\n",
    "We will therefore use a average of these predictions is likely a good place to start. Let us try this value, as well with a few other values to see which cutoff value gives us the best statistical outcome.\n",
    "\n",
    "As mentioned earlier, optimizing the Area Under the Curve (AUC) metric will be our highest priority, as this metric takes into account both false positives and false negatives."
   ]
  },
  {
   "cell_type": "markdown",
   "id": "e6f9bb96",
   "metadata": {},
   "source": [
    "#### Here we create new lists that will cut probabilities (ranging from 50% to 5%), while focusing on cutoff values close to the mean prediction of 11.3%. "
   ]
  },
  {
   "cell_type": "code",
   "execution_count": 17,
   "id": "2705890a",
   "metadata": {},
   "outputs": [],
   "source": [
    "pred_50 = [1 if i>=0.5 else 0 for i in test_dataset[\"predictions\"]]\n",
    "pred_20 = [1 if i>=0.2 else 0 for i in test_dataset[\"predictions\"]]\n",
    "pred_12 = [1 if i>=0.12 else 0 for i in test_dataset[\"predictions\"]]\n",
    "pred_115 = [1 if i>=0.115 else 0 for i in test_dataset[\"predictions\"]]\n",
    "pred_113 = [1 if i>=0.11395876273220806 else 0 for i in test_dataset[\"predictions\"]]\n",
    "pred_111 = [1 if i>=0.111 else 0 for i in test_dataset[\"predictions\"]]\n",
    "pred_11 = [1 if i>=0.11 else 0 for i in test_dataset[\"predictions\"]]\n",
    "pred_109 = [1 if i>=0.109 else 0 for i in test_dataset[\"predictions\"]]\n",
    "pred_105 = [1 if i>=0.105 else 0 for i in test_dataset[\"predictions\"]]\n",
    "pred_05 = [1 if i>=0.05 else 0 for i in test_dataset[\"predictions\"]]"
   ]
  },
  {
   "cell_type": "markdown",
   "id": "e252956f",
   "metadata": {},
   "source": [
    "#### Each list is now a series of 1/0 values"
   ]
  },
  {
   "cell_type": "code",
   "execution_count": 18,
   "id": "d41f08ef",
   "metadata": {},
   "outputs": [
    {
     "data": {
      "text/plain": [
       "[1, 1, 0, 0, 0, 0, 0, 0, 0, 0, 0, 0, 0, 0, 0, 1, 0, 0, 0, 1]"
      ]
     },
     "execution_count": 18,
     "metadata": {},
     "output_type": "execute_result"
    }
   ],
   "source": [
    "pred_105[0:20]"
   ]
  },
  {
   "cell_type": "markdown",
   "id": "1be5fbe4",
   "metadata": {},
   "source": [
    "#### Here we list our different prediction lists together"
   ]
  },
  {
   "cell_type": "code",
   "execution_count": 19,
   "id": "c1b35e70",
   "metadata": {},
   "outputs": [],
   "source": [
    "list_of_prediction_lists = [pred_50, pred_20, pred_12, pred_115, pred_113, pred_111, pred_11, pred_109, pred_105, pred_05]"
   ]
  },
  {
   "cell_type": "markdown",
   "id": "55c09e3f",
   "metadata": {},
   "source": [
    "#### Here we provde an accompanying name for each list, based off of the respective likelihood cutoff value applied to the list "
   ]
  },
  {
   "cell_type": "code",
   "execution_count": 20,
   "id": "759901f4",
   "metadata": {},
   "outputs": [],
   "source": [
    "names_of_levels = ['50%', '20%', '12%', '11.5%', '11.396% (mean)', '11.1%', '11%', '10.9%', '10.5%', '5%']"
   ]
  },
  {
   "cell_type": "markdown",
   "id": "9135b0f1",
   "metadata": {},
   "source": [
    "#### Here we define the function to conduct our statistical analysis"
   ]
  },
  {
   "cell_type": "code",
   "execution_count": 21,
   "id": "1138dfbc",
   "metadata": {},
   "outputs": [],
   "source": [
    "def XGB_Statistical_Evaluation(probability_rounding_threshold_values, names_of_levels):\n",
    "    \n",
    "    '''The CSV_Reader() function takes different readmission predictions, based off of different likelihood roundoff \n",
    "    values, and computes different \n",
    "    \n",
    "    Arguments \n",
    "    --------- \n",
    "    probability_rounding_threshold_values: A list of probabilities for each likelihood cutoff value\n",
    "    subfolder: A list of names for each item of the probability_rounding_threshold_values list, representing \n",
    "        the implimented likelihood cutoff value\n",
    "    \n",
    "    Return\n",
    "    ---------\n",
    "    For each prediction list, the following is computed:\n",
    "    -The likelihood cutoff value being used\n",
    "    -The number of predicted positived\n",
    "    -The accuracy of the predictions\n",
    "    -The precision of the predictions\n",
    "    -The recall of the predictions\n",
    "    -The F1 score of the predictions\n",
    "    -The ROC AUC score of the predictions\n",
    "    '''\n",
    "    \n",
    "    for i, j in zip(probability_rounding_threshold_values, names_of_levels):\n",
    "        y_test = test_dataset['readmitted']\n",
    "        scores = precision_recall_fscore_support(y_test, i, average='macro', labels=np.unique(i))\n",
    "        acc = accuracy_score(y_test, i)\n",
    "        roc = roc_auc_score(y_test, i)\n",
    "        positives = sum(i)\n",
    "        \n",
    "        print()\n",
    "        print('The cutoff percentage being used for predictions is: {}'.format(j))\n",
    "        print('Number of predicted readmissions: {}'.format(positives))\n",
    "        print('Accuracy is: {}'.format(acc))\n",
    "        print('Precision is: {}'.format(scores[0]))\n",
    "        print('Recall is: {}'.format(scores[1]))\n",
    "        print('F1 score is: {}'.format(scores[2]))     \n",
    "        print('ROC AUC score (i.e. the metric of primary interest) is: {}'.format(roc))"
   ]
  },
  {
   "cell_type": "markdown",
   "id": "2f36e19b",
   "metadata": {},
   "source": [
    "#### Here we assess the statistical output for the predictions from each likelihood cutoff level"
   ]
  },
  {
   "cell_type": "code",
   "execution_count": 22,
   "id": "3b5a4698",
   "metadata": {
    "scrolled": true
   },
   "outputs": [
    {
     "name": "stdout",
     "output_type": "stream",
     "text": [
      "\n",
      "The cutoff percentage being used for predictions is: 50%\n",
      "Number of predicted readmissions: 32\n",
      "Accuracy is: 0.8804218066056506\n",
      "Precision is: 0.7375436626746508\n",
      "Recall is: 0.507129276854739\n",
      "F1 score is: 0.4834629538427864\n",
      "ROC AUC score (i.e. the metric of primary interest) is: 0.507129276854739\n",
      "\n",
      "The cutoff percentage being used for predictions is: 20%\n",
      "Number of predicted readmissions: 905\n",
      "Accuracy is: 0.8425189017111022\n",
      "Precision is: 0.5948618844931194\n",
      "Recall is: 0.5735027077136893\n",
      "F1 score is: 0.5814198838389589\n",
      "ROC AUC score (i.e. the metric of primary interest) is: 0.5735027077136893\n",
      "\n",
      "The cutoff percentage being used for predictions is: 12%\n",
      "Number of predicted readmissions: 3326\n",
      "Accuracy is: 0.6756864305610824\n",
      "Precision is: 0.5533134537373837\n",
      "Recall is: 0.6116349693435292\n",
      "F1 score is: 0.5358055414609492\n",
      "ROC AUC score (i.e. the metric of primary interest) is: 0.6116349693435292\n",
      "\n",
      "The cutoff percentage being used for predictions is: 11.5%\n",
      "Number of predicted readmissions: 3584\n",
      "Accuracy is: 0.6561878233187426\n",
      "Precision is: 0.5514479939703154\n",
      "Recall is: 0.6116325356959933\n",
      "F1 score is: 0.5265463337537484\n",
      "ROC AUC score (i.e. the metric of primary interest) is: 0.6116325356959933\n",
      "\n",
      "The cutoff percentage being used for predictions is: 11.396% (mean)\n",
      "Number of predicted readmissions: 3642\n",
      "Accuracy is: 0.6518105849582173\n",
      "Precision is: 0.551093200235423\n",
      "Recall is: 0.6116465759702391\n",
      "F1 score is: 0.524451250914075\n",
      "ROC AUC score (i.e. the metric of primary interest) is: 0.6116465759702392\n",
      "\n",
      "The cutoff percentage being used for predictions is: 11.1%\n",
      "Number of predicted readmissions: 3824\n",
      "Accuracy is: 0.6400716275368086\n",
      "Precision is: 0.5522208886577825\n",
      "Recall is: 0.6164112834383171\n",
      "F1 score is: 0.5204769095622411\n",
      "ROC AUC score (i.e. the metric of primary interest) is: 0.6164112834383172\n",
      "\n",
      "The cutoff percentage being used for predictions is: 11%\n",
      "Number of predicted readmissions: 3871\n",
      "Accuracy is: 0.6367886987664146\n",
      "Precision is: 0.5522630601332381\n",
      "Recall is: 0.6170472142598267\n",
      "F1 score is: 0.519081349945405\n",
      "ROC AUC score (i.e. the metric of primary interest) is: 0.6170472142598267\n",
      "\n",
      "The cutoff percentage being used for predictions is: 10.9%\n",
      "Number of predicted readmissions: 3935\n",
      "Accuracy is: 0.6322124950258655\n",
      "Precision is: 0.5522242364531201\n",
      "Recall is: 0.6176629270864222\n",
      "F1 score is: 0.517024853120284\n",
      "ROC AUC score (i.e. the metric of primary interest) is: 0.6176629270864221\n",
      "\n",
      "The cutoff percentage being used for predictions is: 10.5%\n",
      "Number of predicted readmissions: 4224\n",
      "Accuracy is: 0.610624751293275\n",
      "Precision is: 0.5513228165751545\n",
      "Recall is: 0.6182601067510132\n",
      "F1 score is: 0.506344225342612\n",
      "ROC AUC score (i.e. the metric of primary interest) is: 0.6182601067510131\n",
      "\n",
      "The cutoff percentage being used for predictions is: 5%\n",
      "Number of predicted readmissions: 9297\n",
      "Accuracy is: 0.18792280143255075\n",
      "Precision is: 0.538473993248552\n",
      "Recall is: 0.5252779225486055\n",
      "F1 score is: 0.1862701865015588\n",
      "ROC AUC score (i.e. the metric of primary interest) is: 0.5252779225486055\n"
     ]
    }
   ],
   "source": [
    "XGB_Statistical_Evaluation(list_of_prediction_lists, names_of_levels)"
   ]
  },
  {
   "cell_type": "markdown",
   "id": "90e426a4",
   "metadata": {},
   "source": [
    "#### By looking at the above, it would appear that the highest AUC value is somewhere below and 10.9%. Let us explore this more granularly..."
   ]
  },
  {
   "cell_type": "code",
   "execution_count": 28,
   "id": "3b80bd50",
   "metadata": {},
   "outputs": [],
   "source": [
    "pred_104 = [1 if i>=0.104 else 0 for i in test_dataset[\"predictions\"]]\n",
    "pred_10425 = [1 if i>=0.10425 else 0 for i in test_dataset[\"predictions\"]]\n",
    "pred_1045 = [1 if i>=0.1045 else 0 for i in test_dataset[\"predictions\"]]\n",
    "pred_10475 = [1 if i>=0.10475 else 0 for i in test_dataset[\"predictions\"]]\n",
    "pred_105 = [1 if i>=0.105 else 0 for i in test_dataset[\"predictions\"]]\n",
    "pred_10525 = [1 if i>=0.10525 else 0 for i in test_dataset[\"predictions\"]]\n",
    "pred_1055 = [1 if i>=0.1055 else 0 for i in test_dataset[\"predictions\"]]\n",
    "pred_10575 = [1 if i>=0.10575 else 0 for i in test_dataset[\"predictions\"]]\n",
    "pred_106 = [1 if i>=0.106 else 0 for i in test_dataset[\"predictions\"]]"
   ]
  },
  {
   "cell_type": "markdown",
   "id": "0fbc58f5",
   "metadata": {},
   "source": [
    "#### Here we provde an accompanying name for each list, based off of the respective likelihood cutoff value applied to the list "
   ]
  },
  {
   "cell_type": "code",
   "execution_count": 24,
   "id": "41ebbb50",
   "metadata": {},
   "outputs": [],
   "source": [
    "more_precise_names_of_levels = ['10.4%', '10.425%','10.45%', '10.475%', '10.5%', '10.525%', '10.55%', '10.575%', '10.6%']"
   ]
  },
  {
   "cell_type": "markdown",
   "id": "56c640b6",
   "metadata": {},
   "source": [
    "#### Here we list our different prediction lists together"
   ]
  },
  {
   "cell_type": "code",
   "execution_count": 29,
   "id": "3981f390",
   "metadata": {},
   "outputs": [],
   "source": [
    "more_precise_rounding_threshold_predictions = [pred_104, pred_10425, pred_1045, pred_10475, pred_105, pred_10525, pred_1055, pred_10575, pred_1106]"
   ]
  },
  {
   "cell_type": "markdown",
   "id": "76141c05",
   "metadata": {},
   "source": [
    "#### Here we assess the statistical output for the predictions from each likelihood cutoff level"
   ]
  },
  {
   "cell_type": "code",
   "execution_count": 30,
   "id": "0e5b54ca",
   "metadata": {
    "scrolled": true
   },
   "outputs": [
    {
     "name": "stdout",
     "output_type": "stream",
     "text": [
      "\n",
      "The cutoff percentage being used for predictions is: 10.4%\n",
      "Number of predicted readmissions: 4293\n",
      "Accuracy is: 0.6055511341026661\n",
      "Precision is: 0.5512468619287478\n",
      "Recall is: 0.6185931420561251\n",
      "F1 score is: 0.5038512044332318\n",
      "ROC AUC score (i.e. the metric of primary interest) is: 0.6185931420561253\n",
      "\n",
      "The cutoff percentage being used for predictions is: 10.425%\n",
      "Number of predicted readmissions: 4281\n",
      "Accuracy is: 0.6067449263828094\n",
      "Precision is: 0.5515770258391491\n",
      "Recall is: 0.6192715681076855\n",
      "F1 score is: 0.5046784266134359\n",
      "ROC AUC score (i.e. the metric of primary interest) is: 0.6192715681076855\n",
      "\n",
      "The cutoff percentage being used for predictions is: 10.45%\n",
      "Number of predicted readmissions: 4264\n",
      "Accuracy is: 0.6076402705929168\n",
      "Precision is: 0.5512320243344904\n",
      "Recall is: 0.6183509005244698\n",
      "F1 score is: 0.5048467829862611\n",
      "ROC AUC score (i.e. the metric of primary interest) is: 0.6183509005244697\n",
      "\n",
      "The cutoff percentage being used for predictions is: 10.475%\n",
      "Number of predicted readmissions: 4250\n",
      "Accuracy is: 0.6086350974930362\n",
      "Precision is: 0.5512120364174625\n",
      "Recall is: 0.6182015120064936\n",
      "F1 score is: 0.505308698000302\n",
      "ROC AUC score (i.e. the metric of primary interest) is: 0.6182015120064936\n",
      "\n",
      "The cutoff percentage being used for predictions is: 10.5%\n",
      "Number of predicted readmissions: 4224\n",
      "Accuracy is: 0.610624751293275\n",
      "Precision is: 0.5513228165751545\n",
      "Recall is: 0.6182601067510132\n",
      "F1 score is: 0.506344225342612\n",
      "ROC AUC score (i.e. the metric of primary interest) is: 0.6182601067510131\n",
      "\n",
      "The cutoff percentage being used for predictions is: 10.525%\n",
      "Number of predicted readmissions: 4210\n",
      "Accuracy is: 0.6112216474333466\n",
      "Precision is: 0.5508964895860186\n",
      "Recall is: 0.6171698326549073\n",
      "F1 score is: 0.5062984276188436\n",
      "ROC AUC score (i.e. the metric of primary interest) is: 0.6171698326549072\n",
      "\n",
      "The cutoff percentage being used for predictions is: 10.55%\n",
      "Number of predicted readmissions: 4192\n",
      "Accuracy is: 0.6130123358535615\n",
      "Precision is: 0.5514006037829248\n",
      "Recall is: 0.6181874717322479\n",
      "F1 score is: 0.5075378833675895\n",
      "ROC AUC score (i.e. the metric of primary interest) is: 0.6181874717322479\n",
      "\n",
      "The cutoff percentage being used for predictions is: 10.575%\n",
      "Number of predicted readmissions: 4172\n",
      "Accuracy is: 0.6146040588937525\n",
      "Precision is: 0.5515540108660915\n",
      "Recall is: 0.618377296240052\n",
      "F1 score is: 0.5084088997151048\n",
      "ROC AUC score (i.e. the metric of primary interest) is: 0.618377296240052\n",
      "\n",
      "The cutoff percentage being used for predictions is: 10.6%\n",
      "Number of predicted readmissions: 4151\n",
      "Accuracy is: 0.6164942300039793\n",
      "Precision is: 0.5519430639274848\n",
      "Recall is: 0.6190940990412177\n",
      "F1 score is: 0.5096024087031314\n",
      "ROC AUC score (i.e. the metric of primary interest) is: 0.6190940990412178\n"
     ]
    }
   ],
   "source": [
    "XGB_Statistical_Evaluation(more_precise_rounding_threshold_predictions, more_precise_names_of_levels)"
   ]
  },
  {
   "cell_type": "markdown",
   "id": "3ac25891",
   "metadata": {},
   "source": [
    "It can be seen that the highest AUC value occurs at a probability threshold of 10.425%."
   ]
  },
  {
   "cell_type": "markdown",
   "id": "c7e7dd1f",
   "metadata": {},
   "source": [
    "From the above results, we can see that a cutoff value of 10.425% (i.e. those predicted as being at/above 11.035% risk of readmission, are designated as such) gives us the greatest Area-Under-The-Curve value of 0.6193.\n",
    "\n",
    "This can be roughly interpreted as: \"Given a random readmitted/positive record, and random not-readmitted/negative record, the algorithm will correctly identify the positive record as being more likely to be readmitted than the negative record, 62% of the time.\n",
    "\n",
    "This value of 0.62 is fairly close to the AUC value of 0.67 that we recieved from our best hyperparameter tuning session off of the validation data subset. This indicates that while there is likely some degree of overfitting present, overall our model does a good job at providing generalizable, unbiased predictions across the entire patient population.\n",
    "\n",
    "Although the accuracy and precission have decreased due to our lower prediction cutoff point, we are able to predict these costly readmissions demonstratably better with the algorithm than without."
   ]
  },
  {
   "cell_type": "markdown",
   "id": "d9f133b5",
   "metadata": {},
   "source": [
    "#### Defining our optimal prediction values"
   ]
  },
  {
   "cell_type": "code",
   "execution_count": 31,
   "id": "c4bc52cb",
   "metadata": {},
   "outputs": [],
   "source": [
    "optimal_cutoff = pred_10425"
   ]
  },
  {
   "cell_type": "markdown",
   "id": "7511354d",
   "metadata": {},
   "source": [
    "### 2.7. Evaluate Model"
   ]
  },
  {
   "cell_type": "markdown",
   "id": "a0c17ba9",
   "metadata": {},
   "source": [
    "#### This cell creates the function that will be used to produce a confusion matrix for the predictions derived from the Test dataset."
   ]
  },
  {
   "cell_type": "code",
   "execution_count": 32,
   "id": "8f22afde",
   "metadata": {},
   "outputs": [],
   "source": [
    "from sklearn.metrics import confusion_matrix\n",
    "from sklearn.utils.multiclass import unique_labels\n",
    "\n",
    "def Plot_Confusion_Matrix(y_true, y_pred, classes,\n",
    "                          normalize=False,\n",
    "                          title=None, \n",
    "                          cmap=None):\n",
    "    \n",
    "    '''The Plot_Confusion_Matrix() function produces a confusion matrix with which to view our final results.\n",
    "    \n",
    "    Arguments \n",
    "    --------- \n",
    "    y_true: the actual readmission values for the test dataset\n",
    "    y_pred: the predicted readmission values for the test dataset\n",
    "    classes: The names for the outcome possibilities (i.e. readmitted/not readmitted) \n",
    "    title: chart title\n",
    "    cmap: sets the color gradient\n",
    "    \n",
    "    Return\n",
    "    ---------\n",
    "    Returns the specified confusion matrix '''\n",
    "    \n",
    "    if not title:\n",
    "        if normalize:\n",
    "            title = 'Normalized confusion matrix'\n",
    "            plt.cm.Greens\n",
    "        else:\n",
    "            title = 'Confusion matrix, without normalization'\n",
    "\n",
    "    # Compute confusion matrix\n",
    "    cm = confusion_matrix(y_true, y_pred)\n",
    "    # Only use the labels that appear in the data\n",
    "    classes = classes[unique_labels(y_true, y_pred)]\n",
    "    if normalize:\n",
    "        cm = cm.astype('float') / cm.sum(axis=1)[:, np.newaxis]\n",
    "\n",
    "    fig, ax = plt.subplots()\n",
    "    im = ax.imshow(cm, interpolation='nearest', cmap=cmap)\n",
    "    ax.figure.colorbar(im, ax=ax)\n",
    "    # We want to show all ticks...\n",
    "    ax.set(xticks=np.arange(cm.shape[1]),\n",
    "           yticks=np.arange(cm.shape[0]),\n",
    "           # ... and label them with the respective list entries\n",
    "           xticklabels=classes, yticklabels=classes,\n",
    "           title=title,\n",
    "           ylabel='Actual',\n",
    "           xlabel='Predicted')\n",
    "\n",
    "    # Rotate the tick labels and set their alignment.\n",
    "    plt.setp(ax.get_xticklabels(), rotation=45, ha=\"right\",\n",
    "             rotation_mode=\"anchor\")\n",
    "\n",
    "    # Loop over data dimensions and create text annotations.\n",
    "    fmt = '.2f' if normalize else 'd'\n",
    "    thresh = cm.max() / 2.\n",
    "    for i in range(cm.shape[0]):\n",
    "        for j in range(cm.shape[1]):\n",
    "            ax.text(j, i, format(cm[i, j], fmt),\n",
    "                    ha=\"center\", va=\"center\",\n",
    "                    color=\"white\" if cm[i, j] > thresh else \"black\")\n",
    "    fig.tight_layout()\n",
    "    return ax\n",
    "\n",
    "\n",
    "np.set_printoptions(precision=2)"
   ]
  },
  {
   "cell_type": "markdown",
   "id": "2ac91432",
   "metadata": {},
   "source": [
    "#### The below cell produces the confusion matrix detainkling our predictions"
   ]
  },
  {
   "cell_type": "code",
   "execution_count": 33,
   "id": "519b06db",
   "metadata": {
    "scrolled": false
   },
   "outputs": [
    {
     "data": {
      "image/png": "[encoded data removed]",
      "text/plain": [
       "<Figure size 640x480 with 2 Axes>"
      ]
     },
     "metadata": {},
     "output_type": "display_data"
    }
   ],
   "source": [
    "%matplotlib inline\n",
    "sns.set_context(\"paper\", font_scale=1.4)\n",
    "\n",
    "y_test = test_dataset['readmitted']\n",
    "y_pred = optimal_cutoff\n",
    "\n",
    "class_names = np.array(['Not Readmitted', 'Readmitted'])\n",
    "\n",
    "# Plot non-normalized confusion matrix\n",
    "Plot_Confusion_Matrix(y_test, y_pred, classes=class_names,\n",
    "                      title='Confusion matrix',\n",
    "                      cmap=plt.cm.Blues)\n",
    "plt.grid(False)\n",
    "\n",
    "\n",
    "# Save the table as a PNG image in memory\n",
    "buffer = BytesIO()\n",
    "plt.savefig(buffer, format='png')\n",
    "buffer.seek(0)\n",
    "\n",
    "# Upload the image to S3\n",
    "file_path = 'image_outputs/'\n",
    "file_name = 'xgb_confusion_matrix.png'  # Specify the desired file name in S3\n",
    "file_key = file_path + file_name\n",
    "\n",
    "#s3_client = boto3.client('s3')\n",
    "s3_client.upload_fileobj(buffer, bucket, file_key)\n",
    "\n",
    "\n",
    "plt.show()"
   ]
  },
  {
   "cell_type": "code",
   "execution_count": 34,
   "id": "4255f2f1",
   "metadata": {},
   "outputs": [
    {
     "name": "stdout",
     "output_type": "stream",
     "text": [
      "\n",
      "The cutoff percentage being used for predictions is: 10.425%\n",
      "Number of predicted readmissions: 4281\n",
      "Accuracy is: 0.6067449263828094\n",
      "Precision is: 0.5515770258391491\n",
      "Recall is: 0.6192715681076855\n",
      "F1 score is: 0.5046784266134359\n",
      "ROC AUC score (i.e. the metric of primary interest) is: 0.6192715681076855\n"
     ]
    }
   ],
   "source": [
    "XGB_Statistical_Evaluation([optimal_cutoff],[\"10.425%\"])"
   ]
  },
  {
   "cell_type": "markdown",
   "id": "b11b762f",
   "metadata": {},
   "source": [
    "As can be seen in the above confusion matrix, although we are <u>identifying a little more than one third (42%) of patients as being at risk</u> for a readmission, we were <u>correctly identifying close to two thirds (64%) of all correct cases</u> among this prediction subset."
   ]
  },
  {
   "cell_type": "markdown",
   "id": "663412b9",
   "metadata": {},
   "source": [
    "### 2.8 Feature Importance"
   ]
  },
  {
   "cell_type": "markdown",
   "id": "55422bcf",
   "metadata": {},
   "source": [
    "#### It is also of interest for us to determine what degree of impact different variables had on the outcome. By training a Random Forest model on the whole dataset, we can identify this relationship."
   ]
  },
  {
   "cell_type": "markdown",
   "id": "1505b845",
   "metadata": {},
   "source": [
    "Here we define our Random Forest Model"
   ]
  },
  {
   "cell_type": "code",
   "execution_count": 35,
   "id": "d08f21b9",
   "metadata": {},
   "outputs": [],
   "source": [
    "test = CSV_Reader(bucket, processed_data_subfolder, test_file)"
   ]
  },
  {
   "cell_type": "code",
   "execution_count": 36,
   "id": "005fc9ea",
   "metadata": {},
   "outputs": [],
   "source": [
    "test_X = test.drop(columns='readmitted').values\n",
    "test_y = test['readmitted'].values"
   ]
  },
  {
   "cell_type": "code",
   "execution_count": 37,
   "id": "be5a6e13",
   "metadata": {},
   "outputs": [
    {
     "data": {
      "text/html": [
       "<style>#sk-container-id-1 {color: black;}#sk-container-id-1 pre{padding: 0;}#sk-container-id-1 div.sk-toggleable {background-color: white;}#sk-container-id-1 label.sk-toggleable__label {cursor: pointer;display: block;width: 100%;margin-bottom: 0;padding: 0.3em;box-sizing: border-box;text-align: center;}#sk-container-id-1 label.sk-toggleable__label-arrow:before {content: \"▸\";float: left;margin-right: 0.25em;color: #696969;}#sk-container-id-1 label.sk-toggleable__label-arrow:hover:before {color: black;}#sk-container-id-1 div.sk-estimator:hover label.sk-toggleable__label-arrow:before {color: black;}#sk-container-id-1 div.sk-toggleable__content {max-height: 0;max-width: 0;overflow: hidden;text-align: left;background-color: #f0f8ff;}#sk-container-id-1 div.sk-toggleable__content pre {margin: 0.2em;color: black;border-radius: 0.25em;background-color: #f0f8ff;}#sk-container-id-1 input.sk-toggleable__control:checked~div.sk-toggleable__content {max-height: 200px;max-width: 100%;overflow: auto;}#sk-container-id-1 input.sk-toggleable__control:checked~label.sk-toggleable__label-arrow:before {content: \"▾\";}#sk-container-id-1 div.sk-estimator input.sk-toggleable__control:checked~label.sk-toggleable__label {background-color: #d4ebff;}#sk-container-id-1 div.sk-label input.sk-toggleable__control:checked~label.sk-toggleable__label {background-color: #d4ebff;}#sk-container-id-1 input.sk-hidden--visually {border: 0;clip: rect(1px 1px 1px 1px);clip: rect(1px, 1px, 1px, 1px);height: 1px;margin: -1px;overflow: hidden;padding: 0;position: absolute;width: 1px;}#sk-container-id-1 div.sk-estimator {font-family: monospace;background-color: #f0f8ff;border: 1px dotted black;border-radius: 0.25em;box-sizing: border-box;margin-bottom: 0.5em;}#sk-container-id-1 div.sk-estimator:hover {background-color: #d4ebff;}#sk-container-id-1 div.sk-parallel-item::after {content: \"\";width: 100%;border-bottom: 1px solid gray;flex-grow: 1;}#sk-container-id-1 div.sk-label:hover label.sk-toggleable__label {background-color: #d4ebff;}#sk-container-id-1 div.sk-serial::before {content: \"\";position: absolute;border-left: 1px solid gray;box-sizing: border-box;top: 0;bottom: 0;left: 50%;z-index: 0;}#sk-container-id-1 div.sk-serial {display: flex;flex-direction: column;align-items: center;background-color: white;padding-right: 0.2em;padding-left: 0.2em;position: relative;}#sk-container-id-1 div.sk-item {position: relative;z-index: 1;}#sk-container-id-1 div.sk-parallel {display: flex;align-items: stretch;justify-content: center;background-color: white;position: relative;}#sk-container-id-1 div.sk-item::before, #sk-container-id-1 div.sk-parallel-item::before {content: \"\";position: absolute;border-left: 1px solid gray;box-sizing: border-box;top: 0;bottom: 0;left: 50%;z-index: -1;}#sk-container-id-1 div.sk-parallel-item {display: flex;flex-direction: column;z-index: 1;position: relative;background-color: white;}#sk-container-id-1 div.sk-parallel-item:first-child::after {align-self: flex-end;width: 50%;}#sk-container-id-1 div.sk-parallel-item:last-child::after {align-self: flex-start;width: 50%;}#sk-container-id-1 div.sk-parallel-item:only-child::after {width: 0;}#sk-container-id-1 div.sk-dashed-wrapped {border: 1px dashed gray;margin: 0 0.4em 0.5em 0.4em;box-sizing: border-box;padding-bottom: 0.4em;background-color: white;}#sk-container-id-1 div.sk-label label {font-family: monospace;font-weight: bold;display: inline-block;line-height: 1.2em;}#sk-container-id-1 div.sk-label-container {text-align: center;}#sk-container-id-1 div.sk-container {/* jupyter's `normalize.less` sets `[hidden] { display: none; }` but bootstrap.min.css set `[hidden] { display: none !important; }` so we also need the `!important` here to be able to override the default hidden behavior on the sphinx rendered scikit-learn.org. See: https://github.com/scikit-learn/scikit-learn/issues/21755 */display: inline-block !important;position: relative;}#sk-container-id-1 div.sk-text-repr-fallback {display: none;}</style><div id=\"sk-container-id-1\" class=\"sk-top-container\"><div class=\"sk-text-repr-fallback\"><pre>RandomForestClassifier(max_depth=60, min_samples_split=5, n_estimators=200)</pre><b>In a Jupyter environment, please rerun this cell to show the HTML representation or trust the notebook. <br />On GitHub, the HTML representation is unable to render, please try loading this page with nbviewer.org.</b></div><div class=\"sk-container\" hidden><div class=\"sk-item\"><div class=\"sk-estimator sk-toggleable\"><input class=\"sk-toggleable__control sk-hidden--visually\" id=\"sk-estimator-id-1\" type=\"checkbox\" checked><label for=\"sk-estimator-id-1\" class=\"sk-toggleable__label sk-toggleable__label-arrow\">RandomForestClassifier</label><div class=\"sk-toggleable__content\"><pre>RandomForestClassifier(max_depth=60, min_samples_split=5, n_estimators=200)</pre></div></div></div></div></div>"
      ],
      "text/plain": [
       "RandomForestClassifier(max_depth=60, min_samples_split=5, n_estimators=200)"
      ]
     },
     "execution_count": 37,
     "metadata": {},
     "output_type": "execute_result"
    }
   ],
   "source": [
    "rfc = rfc()\n",
    "rfc.set_params(n_estimators=200, min_samples_split=5, min_samples_leaf=1, max_features='sqrt', max_depth=60)\n",
    "\n",
    "#Run ths fit with the initial DF with all conditions:\n",
    "rfc.fit(test_X, test_y)"
   ]
  },
  {
   "cell_type": "code",
   "execution_count": 38,
   "id": "0b523c53",
   "metadata": {},
   "outputs": [
    {
     "data": {
      "text/html": [
       "<div>\n",
       "<style scoped>\n",
       "    .dataframe tbody tr th:only-of-type {\n",
       "        vertical-align: middle;\n",
       "    }\n",
       "\n",
       "    .dataframe tbody tr th {\n",
       "        vertical-align: top;\n",
       "    }\n",
       "\n",
       "    .dataframe thead th {\n",
       "        text-align: right;\n",
       "    }\n",
       "</style>\n",
       "<table border=\"1\" class=\"dataframe\">\n",
       "  <thead>\n",
       "    <tr style=\"text-align: right;\">\n",
       "      <th></th>\n",
       "      <th>Feature</th>\n",
       "      <th>Importance</th>\n",
       "    </tr>\n",
       "  </thead>\n",
       "  <tbody>\n",
       "    <tr>\n",
       "      <th>1</th>\n",
       "      <td>num_lab_procedures</td>\n",
       "      <td>0.088363</td>\n",
       "    </tr>\n",
       "    <tr>\n",
       "      <th>3</th>\n",
       "      <td>num_medications</td>\n",
       "      <td>0.080784</td>\n",
       "    </tr>\n",
       "    <tr>\n",
       "      <th>6</th>\n",
       "      <td>number_inpatient</td>\n",
       "      <td>0.062688</td>\n",
       "    </tr>\n",
       "    <tr>\n",
       "      <th>0</th>\n",
       "      <td>time_in_hospital</td>\n",
       "      <td>0.058564</td>\n",
       "    </tr>\n",
       "    <tr>\n",
       "      <th>2</th>\n",
       "      <td>num_procedures</td>\n",
       "      <td>0.038590</td>\n",
       "    </tr>\n",
       "    <tr>\n",
       "      <th>7</th>\n",
       "      <td>number_diagnoses</td>\n",
       "      <td>0.037007</td>\n",
       "    </tr>\n",
       "    <tr>\n",
       "      <th>4</th>\n",
       "      <td>number_outpatient</td>\n",
       "      <td>0.026369</td>\n",
       "    </tr>\n",
       "    <tr>\n",
       "      <th>5</th>\n",
       "      <td>number_emergency</td>\n",
       "      <td>0.019327</td>\n",
       "    </tr>\n",
       "    <tr>\n",
       "      <th>27</th>\n",
       "      <td>gender_Male</td>\n",
       "      <td>0.016440</td>\n",
       "    </tr>\n",
       "    <tr>\n",
       "      <th>12</th>\n",
       "      <td>change</td>\n",
       "      <td>0.014101</td>\n",
       "    </tr>\n",
       "    <tr>\n",
       "      <th>90</th>\n",
       "      <td>admission_source_id_1</td>\n",
       "      <td>0.013670</td>\n",
       "    </tr>\n",
       "    <tr>\n",
       "      <th>14</th>\n",
       "      <td>race_AfricanAmerican</td>\n",
       "      <td>0.013639</td>\n",
       "    </tr>\n",
       "    <tr>\n",
       "      <th>66</th>\n",
       "      <td>diag_3_Nothing</td>\n",
       "      <td>0.013588</td>\n",
       "    </tr>\n",
       "    <tr>\n",
       "      <th>85</th>\n",
       "      <td>admission_type_id_2</td>\n",
       "      <td>0.013254</td>\n",
       "    </tr>\n",
       "    <tr>\n",
       "      <th>8</th>\n",
       "      <td>medication_metformin</td>\n",
       "      <td>0.012750</td>\n",
       "    </tr>\n",
       "    <tr>\n",
       "      <th>11</th>\n",
       "      <td>medication_insulin</td>\n",
       "      <td>0.012738</td>\n",
       "    </tr>\n",
       "    <tr>\n",
       "      <th>24</th>\n",
       "      <td>age_7</td>\n",
       "      <td>0.012674</td>\n",
       "    </tr>\n",
       "    <tr>\n",
       "      <th>25</th>\n",
       "      <td>age_9</td>\n",
       "      <td>0.012459</td>\n",
       "    </tr>\n",
       "    <tr>\n",
       "      <th>9</th>\n",
       "      <td>medication_glipizide</td>\n",
       "      <td>0.011815</td>\n",
       "    </tr>\n",
       "    <tr>\n",
       "      <th>32</th>\n",
       "      <td>discharge_disposition_nursing</td>\n",
       "      <td>0.010998</td>\n",
       "    </tr>\n",
       "    <tr>\n",
       "      <th>23</th>\n",
       "      <td>age_6</td>\n",
       "      <td>0.010923</td>\n",
       "    </tr>\n",
       "    <tr>\n",
       "      <th>28</th>\n",
       "      <td>discharge_disposition_hhealth</td>\n",
       "      <td>0.010606</td>\n",
       "    </tr>\n",
       "    <tr>\n",
       "      <th>51</th>\n",
       "      <td>diag_2_Nothing</td>\n",
       "      <td>0.010561</td>\n",
       "    </tr>\n",
       "    <tr>\n",
       "      <th>63</th>\n",
       "      <td>diag_2_respiratory</td>\n",
       "      <td>0.010348</td>\n",
       "    </tr>\n",
       "    <tr>\n",
       "      <th>48</th>\n",
       "      <td>diag_1_respiratory</td>\n",
       "      <td>0.010298</td>\n",
       "    </tr>\n",
       "    <tr>\n",
       "      <th>86</th>\n",
       "      <td>admission_type_id_3</td>\n",
       "      <td>0.010206</td>\n",
       "    </tr>\n",
       "    <tr>\n",
       "      <th>80</th>\n",
       "      <td>diag_3_urogenital</td>\n",
       "      <td>0.010029</td>\n",
       "    </tr>\n",
       "    <tr>\n",
       "      <th>57</th>\n",
       "      <td>diag_2_metabolic</td>\n",
       "      <td>0.009734</td>\n",
       "    </tr>\n",
       "    <tr>\n",
       "      <th>33</th>\n",
       "      <td>discharge_disposition_outpatient</td>\n",
       "      <td>0.009723</td>\n",
       "    </tr>\n",
       "    <tr>\n",
       "      <th>13</th>\n",
       "      <td>any_medication</td>\n",
       "      <td>0.009607</td>\n",
       "    </tr>\n",
       "    <tr>\n",
       "      <th>70</th>\n",
       "      <td>diag_3_injury</td>\n",
       "      <td>0.009257</td>\n",
       "    </tr>\n",
       "    <tr>\n",
       "      <th>10</th>\n",
       "      <td>medication_glyburide</td>\n",
       "      <td>0.009179</td>\n",
       "    </tr>\n",
       "    <tr>\n",
       "      <th>40</th>\n",
       "      <td>diag_1_injury</td>\n",
       "      <td>0.009131</td>\n",
       "    </tr>\n",
       "    <tr>\n",
       "      <th>36</th>\n",
       "      <td>diag_1_Nothing</td>\n",
       "      <td>0.009086</td>\n",
       "    </tr>\n",
       "    <tr>\n",
       "      <th>65</th>\n",
       "      <td>diag_2_urogenital</td>\n",
       "      <td>0.008922</td>\n",
       "    </tr>\n",
       "    <tr>\n",
       "      <th>72</th>\n",
       "      <td>diag_3_metabolic</td>\n",
       "      <td>0.008625</td>\n",
       "    </tr>\n",
       "    <tr>\n",
       "      <th>38</th>\n",
       "      <td>diag_1_digestive</td>\n",
       "      <td>0.008532</td>\n",
       "    </tr>\n",
       "    <tr>\n",
       "      <th>50</th>\n",
       "      <td>diag_1_urogenital</td>\n",
       "      <td>0.008447</td>\n",
       "    </tr>\n",
       "    <tr>\n",
       "      <th>78</th>\n",
       "      <td>diag_3_respiratory</td>\n",
       "      <td>0.008414</td>\n",
       "    </tr>\n",
       "    <tr>\n",
       "      <th>88</th>\n",
       "      <td>admission_type_id_5</td>\n",
       "      <td>0.008200</td>\n",
       "    </tr>\n",
       "    <tr>\n",
       "      <th>30</th>\n",
       "      <td>discharge_disposition_hospital</td>\n",
       "      <td>0.007932</td>\n",
       "    </tr>\n",
       "    <tr>\n",
       "      <th>55</th>\n",
       "      <td>diag_2_injury</td>\n",
       "      <td>0.007404</td>\n",
       "    </tr>\n",
       "    <tr>\n",
       "      <th>22</th>\n",
       "      <td>age_5</td>\n",
       "      <td>0.007242</td>\n",
       "    </tr>\n",
       "    <tr>\n",
       "      <th>53</th>\n",
       "      <td>diag_2_digestive</td>\n",
       "      <td>0.007145</td>\n",
       "    </tr>\n",
       "    <tr>\n",
       "      <th>64</th>\n",
       "      <td>diag_2_skin</td>\n",
       "      <td>0.006970</td>\n",
       "    </tr>\n",
       "    <tr>\n",
       "      <th>68</th>\n",
       "      <td>diag_3_digestive</td>\n",
       "      <td>0.006708</td>\n",
       "    </tr>\n",
       "    <tr>\n",
       "      <th>21</th>\n",
       "      <td>age_4</td>\n",
       "      <td>0.006467</td>\n",
       "    </tr>\n",
       "    <tr>\n",
       "      <th>67</th>\n",
       "      <td>diag_3_blooddis</td>\n",
       "      <td>0.006438</td>\n",
       "    </tr>\n",
       "    <tr>\n",
       "      <th>84</th>\n",
       "      <td>A1Cresult_Norm</td>\n",
       "      <td>0.006412</td>\n",
       "    </tr>\n",
       "    <tr>\n",
       "      <th>35</th>\n",
       "      <td>discharge_disposition_unknown</td>\n",
       "      <td>0.006335</td>\n",
       "    </tr>\n",
       "    <tr>\n",
       "      <th>42</th>\n",
       "      <td>diag_1_metabolic</td>\n",
       "      <td>0.006235</td>\n",
       "    </tr>\n",
       "    <tr>\n",
       "      <th>71</th>\n",
       "      <td>diag_3_mentaldis</td>\n",
       "      <td>0.006141</td>\n",
       "    </tr>\n",
       "    <tr>\n",
       "      <th>61</th>\n",
       "      <td>diag_2_other</td>\n",
       "      <td>0.006131</td>\n",
       "    </tr>\n",
       "    <tr>\n",
       "      <th>83</th>\n",
       "      <td>A1Cresult_&gt;7</td>\n",
       "      <td>0.005915</td>\n",
       "    </tr>\n",
       "    <tr>\n",
       "      <th>46</th>\n",
       "      <td>diag_1_other</td>\n",
       "      <td>0.005892</td>\n",
       "    </tr>\n",
       "    <tr>\n",
       "      <th>39</th>\n",
       "      <td>diag_1_infection</td>\n",
       "      <td>0.005812</td>\n",
       "    </tr>\n",
       "    <tr>\n",
       "      <th>96</th>\n",
       "      <td>admission_source_id_8</td>\n",
       "      <td>0.005777</td>\n",
       "    </tr>\n",
       "    <tr>\n",
       "      <th>74</th>\n",
       "      <td>diag_3_neoplasm</td>\n",
       "      <td>0.005682</td>\n",
       "    </tr>\n",
       "    <tr>\n",
       "      <th>29</th>\n",
       "      <td>discharge_disposition_hospice</td>\n",
       "      <td>0.005579</td>\n",
       "    </tr>\n",
       "    <tr>\n",
       "      <th>76</th>\n",
       "      <td>diag_3_other</td>\n",
       "      <td>0.005556</td>\n",
       "    </tr>\n",
       "    <tr>\n",
       "      <th>79</th>\n",
       "      <td>diag_3_skin</td>\n",
       "      <td>0.005451</td>\n",
       "    </tr>\n",
       "    <tr>\n",
       "      <th>41</th>\n",
       "      <td>diag_1_mentaldis</td>\n",
       "      <td>0.005401</td>\n",
       "    </tr>\n",
       "    <tr>\n",
       "      <th>43</th>\n",
       "      <td>diag_1_musculoskeletal</td>\n",
       "      <td>0.005202</td>\n",
       "    </tr>\n",
       "    <tr>\n",
       "      <th>17</th>\n",
       "      <td>race_Other</td>\n",
       "      <td>0.005194</td>\n",
       "    </tr>\n",
       "    <tr>\n",
       "      <th>49</th>\n",
       "      <td>diag_1_skin</td>\n",
       "      <td>0.005068</td>\n",
       "    </tr>\n",
       "    <tr>\n",
       "      <th>59</th>\n",
       "      <td>diag_2_neoplasm</td>\n",
       "      <td>0.004862</td>\n",
       "    </tr>\n",
       "    <tr>\n",
       "      <th>95</th>\n",
       "      <td>admission_source_id_6</td>\n",
       "      <td>0.004809</td>\n",
       "    </tr>\n",
       "    <tr>\n",
       "      <th>54</th>\n",
       "      <td>diag_2_infection</td>\n",
       "      <td>0.004804</td>\n",
       "    </tr>\n",
       "    <tr>\n",
       "      <th>26</th>\n",
       "      <td>age_10</td>\n",
       "      <td>0.004661</td>\n",
       "    </tr>\n",
       "    <tr>\n",
       "      <th>44</th>\n",
       "      <td>diag_1_neoplasm</td>\n",
       "      <td>0.004408</td>\n",
       "    </tr>\n",
       "    <tr>\n",
       "      <th>56</th>\n",
       "      <td>diag_2_mentaldis</td>\n",
       "      <td>0.004367</td>\n",
       "    </tr>\n",
       "    <tr>\n",
       "      <th>20</th>\n",
       "      <td>age_3</td>\n",
       "      <td>0.004333</td>\n",
       "    </tr>\n",
       "    <tr>\n",
       "      <th>93</th>\n",
       "      <td>admission_source_id_4</td>\n",
       "      <td>0.004166</td>\n",
       "    </tr>\n",
       "    <tr>\n",
       "      <th>34</th>\n",
       "      <td>discharge_disposition_psych</td>\n",
       "      <td>0.003971</td>\n",
       "    </tr>\n",
       "    <tr>\n",
       "      <th>58</th>\n",
       "      <td>diag_2_musculoskeletal</td>\n",
       "      <td>0.003872</td>\n",
       "    </tr>\n",
       "    <tr>\n",
       "      <th>31</th>\n",
       "      <td>discharge_disposition_leftAMA</td>\n",
       "      <td>0.003857</td>\n",
       "    </tr>\n",
       "    <tr>\n",
       "      <th>69</th>\n",
       "      <td>diag_3_infection</td>\n",
       "      <td>0.003803</td>\n",
       "    </tr>\n",
       "    <tr>\n",
       "      <th>37</th>\n",
       "      <td>diag_1_blooddis</td>\n",
       "      <td>0.003725</td>\n",
       "    </tr>\n",
       "    <tr>\n",
       "      <th>82</th>\n",
       "      <td>max_glu_serum_&gt;300</td>\n",
       "      <td>0.003365</td>\n",
       "    </tr>\n",
       "    <tr>\n",
       "      <th>52</th>\n",
       "      <td>diag_2_blooddis</td>\n",
       "      <td>0.003306</td>\n",
       "    </tr>\n",
       "    <tr>\n",
       "      <th>73</th>\n",
       "      <td>diag_3_musculoskeletal</td>\n",
       "      <td>0.003234</td>\n",
       "    </tr>\n",
       "    <tr>\n",
       "      <th>16</th>\n",
       "      <td>race_Hispanic</td>\n",
       "      <td>0.003233</td>\n",
       "    </tr>\n",
       "    <tr>\n",
       "      <th>94</th>\n",
       "      <td>admission_source_id_5</td>\n",
       "      <td>0.002575</td>\n",
       "    </tr>\n",
       "    <tr>\n",
       "      <th>91</th>\n",
       "      <td>admission_source_id_2</td>\n",
       "      <td>0.002442</td>\n",
       "    </tr>\n",
       "    <tr>\n",
       "      <th>81</th>\n",
       "      <td>max_glu_serum_&gt;200</td>\n",
       "      <td>0.002321</td>\n",
       "    </tr>\n",
       "    <tr>\n",
       "      <th>45</th>\n",
       "      <td>diag_1_nervous</td>\n",
       "      <td>0.002277</td>\n",
       "    </tr>\n",
       "    <tr>\n",
       "      <th>75</th>\n",
       "      <td>diag_3_nervous</td>\n",
       "      <td>0.002040</td>\n",
       "    </tr>\n",
       "    <tr>\n",
       "      <th>92</th>\n",
       "      <td>admission_source_id_3</td>\n",
       "      <td>0.001460</td>\n",
       "    </tr>\n",
       "    <tr>\n",
       "      <th>15</th>\n",
       "      <td>race_Asian</td>\n",
       "      <td>0.001430</td>\n",
       "    </tr>\n",
       "    <tr>\n",
       "      <th>60</th>\n",
       "      <td>diag_2_nervous</td>\n",
       "      <td>0.001104</td>\n",
       "    </tr>\n",
       "    <tr>\n",
       "      <th>19</th>\n",
       "      <td>age_2</td>\n",
       "      <td>0.000862</td>\n",
       "    </tr>\n",
       "    <tr>\n",
       "      <th>47</th>\n",
       "      <td>diag_1_pregnancy</td>\n",
       "      <td>0.000388</td>\n",
       "    </tr>\n",
       "    <tr>\n",
       "      <th>62</th>\n",
       "      <td>diag_2_pregnancy</td>\n",
       "      <td>0.000301</td>\n",
       "    </tr>\n",
       "    <tr>\n",
       "      <th>77</th>\n",
       "      <td>diag_3_pregnancy</td>\n",
       "      <td>0.000275</td>\n",
       "    </tr>\n",
       "    <tr>\n",
       "      <th>18</th>\n",
       "      <td>age_1</td>\n",
       "      <td>0.000011</td>\n",
       "    </tr>\n",
       "    <tr>\n",
       "      <th>89</th>\n",
       "      <td>admission_type_id_7</td>\n",
       "      <td>0.000002</td>\n",
       "    </tr>\n",
       "    <tr>\n",
       "      <th>87</th>\n",
       "      <td>admission_type_id_4</td>\n",
       "      <td>0.000000</td>\n",
       "    </tr>\n",
       "  </tbody>\n",
       "</table>\n",
       "</div>"
      ],
      "text/plain": [
       "                             Feature  Importance\n",
       "1                 num_lab_procedures    0.088363\n",
       "3                    num_medications    0.080784\n",
       "6                   number_inpatient    0.062688\n",
       "0                   time_in_hospital    0.058564\n",
       "2                     num_procedures    0.038590\n",
       "7                   number_diagnoses    0.037007\n",
       "4                  number_outpatient    0.026369\n",
       "5                   number_emergency    0.019327\n",
       "27                       gender_Male    0.016440\n",
       "12                            change    0.014101\n",
       "90             admission_source_id_1    0.013670\n",
       "14              race_AfricanAmerican    0.013639\n",
       "66                    diag_3_Nothing    0.013588\n",
       "85               admission_type_id_2    0.013254\n",
       "8               medication_metformin    0.012750\n",
       "11                medication_insulin    0.012738\n",
       "24                             age_7    0.012674\n",
       "25                             age_9    0.012459\n",
       "9               medication_glipizide    0.011815\n",
       "32     discharge_disposition_nursing    0.010998\n",
       "23                             age_6    0.010923\n",
       "28     discharge_disposition_hhealth    0.010606\n",
       "51                    diag_2_Nothing    0.010561\n",
       "63                diag_2_respiratory    0.010348\n",
       "48                diag_1_respiratory    0.010298\n",
       "86               admission_type_id_3    0.010206\n",
       "80                 diag_3_urogenital    0.010029\n",
       "57                  diag_2_metabolic    0.009734\n",
       "33  discharge_disposition_outpatient    0.009723\n",
       "13                    any_medication    0.009607\n",
       "70                     diag_3_injury    0.009257\n",
       "10              medication_glyburide    0.009179\n",
       "40                     diag_1_injury    0.009131\n",
       "36                    diag_1_Nothing    0.009086\n",
       "65                 diag_2_urogenital    0.008922\n",
       "72                  diag_3_metabolic    0.008625\n",
       "38                  diag_1_digestive    0.008532\n",
       "50                 diag_1_urogenital    0.008447\n",
       "78                diag_3_respiratory    0.008414\n",
       "88               admission_type_id_5    0.008200\n",
       "30    discharge_disposition_hospital    0.007932\n",
       "55                     diag_2_injury    0.007404\n",
       "22                             age_5    0.007242\n",
       "53                  diag_2_digestive    0.007145\n",
       "64                       diag_2_skin    0.006970\n",
       "68                  diag_3_digestive    0.006708\n",
       "21                             age_4    0.006467\n",
       "67                   diag_3_blooddis    0.006438\n",
       "84                    A1Cresult_Norm    0.006412\n",
       "35     discharge_disposition_unknown    0.006335\n",
       "42                  diag_1_metabolic    0.006235\n",
       "71                  diag_3_mentaldis    0.006141\n",
       "61                      diag_2_other    0.006131\n",
       "83                      A1Cresult_>7    0.005915\n",
       "46                      diag_1_other    0.005892\n",
       "39                  diag_1_infection    0.005812\n",
       "96             admission_source_id_8    0.005777\n",
       "74                   diag_3_neoplasm    0.005682\n",
       "29     discharge_disposition_hospice    0.005579\n",
       "76                      diag_3_other    0.005556\n",
       "79                       diag_3_skin    0.005451\n",
       "41                  diag_1_mentaldis    0.005401\n",
       "43            diag_1_musculoskeletal    0.005202\n",
       "17                        race_Other    0.005194\n",
       "49                       diag_1_skin    0.005068\n",
       "59                   diag_2_neoplasm    0.004862\n",
       "95             admission_source_id_6    0.004809\n",
       "54                  diag_2_infection    0.004804\n",
       "26                            age_10    0.004661\n",
       "44                   diag_1_neoplasm    0.004408\n",
       "56                  diag_2_mentaldis    0.004367\n",
       "20                             age_3    0.004333\n",
       "93             admission_source_id_4    0.004166\n",
       "34       discharge_disposition_psych    0.003971\n",
       "58            diag_2_musculoskeletal    0.003872\n",
       "31     discharge_disposition_leftAMA    0.003857\n",
       "69                  diag_3_infection    0.003803\n",
       "37                   diag_1_blooddis    0.003725\n",
       "82                max_glu_serum_>300    0.003365\n",
       "52                   diag_2_blooddis    0.003306\n",
       "73            diag_3_musculoskeletal    0.003234\n",
       "16                     race_Hispanic    0.003233\n",
       "94             admission_source_id_5    0.002575\n",
       "91             admission_source_id_2    0.002442\n",
       "81                max_glu_serum_>200    0.002321\n",
       "45                    diag_1_nervous    0.002277\n",
       "75                    diag_3_nervous    0.002040\n",
       "92             admission_source_id_3    0.001460\n",
       "15                        race_Asian    0.001430\n",
       "60                    diag_2_nervous    0.001104\n",
       "19                             age_2    0.000862\n",
       "47                  diag_1_pregnancy    0.000388\n",
       "62                  diag_2_pregnancy    0.000301\n",
       "77                  diag_3_pregnancy    0.000275\n",
       "18                             age_1    0.000011\n",
       "89               admission_type_id_7    0.000002\n",
       "87               admission_type_id_4    0.000000"
      ]
     },
     "execution_count": 38,
     "metadata": {},
     "output_type": "execute_result"
    }
   ],
   "source": [
    "#Finally, we list out the importance of each feature:\n",
    "FIAllDummyAllFeatures = pd.DataFrame({'Feature':pd.Series(test.drop(columns='readmitted').columns), 'Importance':rfc.feature_importances_})\n",
    "\n",
    "FIAllDummyAllFeatures = FIAllDummyAllFeatures.sort_values('Importance', ascending=False)\n",
    "FIAllDummyAllFeatures"
   ]
  },
  {
   "cell_type": "code",
   "execution_count": 39,
   "id": "9386aa21",
   "metadata": {},
   "outputs": [],
   "source": [
    "top_ten_features = FIAllDummyAllFeatures.iloc[0:10,:]"
   ]
  },
  {
   "cell_type": "code",
   "execution_count": 40,
   "id": "4ce4bffc",
   "metadata": {},
   "outputs": [
    {
     "data": {
      "image/png": "[encoded data removed]",
      "text/plain": [
       "<Figure size 500x400 with 1 Axes>"
      ]
     },
     "metadata": {},
     "output_type": "display_data"
    }
   ],
   "source": [
    "# Render the DataFrame as a table\n",
    "fig, ax = plt.subplots(figsize=(5, 4))\n",
    "ax.axis('off')\n",
    "ax.table(cellText=top_ten_features.values, colLabels=top_ten_features.columns, cellLoc='center', loc='center', colColours=['#f3f3f3']*top_ten_features.shape[1])\n",
    "plt.tight_layout()\n",
    "\n",
    "# Save the table as a PNG image in memory\n",
    "buffer = BytesIO()\n",
    "plt.savefig(buffer, format='png')\n",
    "buffer.seek(0)\n",
    "\n",
    "# Upload the image to S3\n",
    "file_path = 'image_outputs/'\n",
    "file_name = 'Feature_Importances.png'  # Specify the desired file name in S3\n",
    "file_key = file_path + file_name\n",
    "\n",
    "#s3_client = boto3.client('s3')\n",
    "s3_client.upload_fileobj(buffer, bucket, file_key)"
   ]
  },
  {
   "cell_type": "markdown",
   "id": "7a6413e6",
   "metadata": {},
   "source": [
    "It can be seen above that while no single feature is a standaway contributor, those with the highest Importance scores relate to the extent that the individual had interacted with the medical system during their stay, and within the past year."
   ]
  },
  {
   "cell_type": "markdown",
   "id": "bb5ee409",
   "metadata": {},
   "source": [
    "### 2.9. Assess Financial/Operational Impact of Model\n",
    "\n",
    "#### To complete our assessment, let us determine the impact our algorithm would have had if implemented on our entire dataset in terms of:<br>\n",
    "   1. Readmissions Prevented<br>\n",
    "   2. Dollars Saved"
   ]
  },
  {
   "cell_type": "markdown",
   "id": "69c02b66",
   "metadata": {},
   "source": [
    "#### Let us identify the relevant numbers from our confusion matrix necessary to populate our financial assessment (i.e. our: \n",
    "   True Positives<br>\n",
    "   False Positives<br>\n",
    "   False Negatives<br><br>\n",
    "These correspond to the bottom right, top right, and bottom left cells of the prior confusion matrix."
   ]
  },
  {
   "cell_type": "code",
   "execution_count": 41,
   "id": "cce875cb",
   "metadata": {},
   "outputs": [
    {
     "name": "stdout",
     "output_type": "stream",
     "text": [
      "The number of True Positives (those correctly flagged) is: 768\n",
      "The number of False Positives (those incorrectly flagged) is: 3513\n",
      "The number of False Negatives (those missed) is: 440\n"
     ]
    }
   ],
   "source": [
    "cm2 = confusion_matrix(test['readmitted'], optimal_cutoff)\n",
    "\n",
    "True_Positives_those_correctly_flagged = cm2[1][1]\n",
    "False_Positives_those_incorrectly_flagged = cm2[0][1]\n",
    "False_Negatives_those_missed = cm2[1][0]\n",
    "\n",
    "print('The number of True Positives (those correctly flagged) is: {}'.format(True_Positives_those_correctly_flagged))\n",
    "print('The number of False Positives (those incorrectly flagged) is: {}'.format(False_Positives_those_incorrectly_flagged))\n",
    "print('The number of False Negatives (those missed) is: {}'.format(False_Negatives_those_missed))"
   ]
  },
  {
   "cell_type": "markdown",
   "id": "72a2c689",
   "metadata": {},
   "source": [
    "#### Next, let us define a few variables: <br>\n",
    "&nbsp;&nbsp;&nbsp;&nbsp;&nbsp;&nbsp;&nbsp;&nbsp;The <u>cost of each readmission</u> is estimated at <u>$15,000</u> <br><br>\n",
    "   A diabetes-management-program is a patient-follow-up regimen, with the goal of preventing a readmission, and ultimately enabling the patient to manage their diabetes.<br><br>\n",
    "   \n",
    "The following variables pertaining to readmissions are defined/estimated below:<br><br>\n",
    "&nbsp;&nbsp;&nbsp;&nbsp;&nbsp;&nbsp;&nbsp;&nbsp;The <u>cost of implimenting the diabetes-management-program</u> for 1 month is estimated at <u>$500</u><br>\n",
    "&nbsp;&nbsp;&nbsp;&nbsp;&nbsp;&nbsp;&nbsp;&nbsp;The <u>likelihood</u> of the diabetes-management-program <u>preventing a readmission is</u> estimated at <u>50%</u><br><br>\n",
    "\n",
    "Obviously, each of these variables are likely to vary across health systems, and these are just estimation values. However an update of these variables would enable a simple update of this assessment."
   ]
  },
  {
   "cell_type": "code",
   "execution_count": 42,
   "id": "ed6181f2",
   "metadata": {},
   "outputs": [],
   "source": [
    "cost_of_readmission = 15000\n",
    "cost_of_management_program = 500\n",
    "sucess_rate_of_intervention = 0.5"
   ]
  },
  {
   "cell_type": "markdown",
   "id": "341c0d04",
   "metadata": {},
   "source": [
    "#### Below we calculate the total cost of the program, and the total number of readmissions that the program would prevent."
   ]
  },
  {
   "cell_type": "code",
   "execution_count": 43,
   "id": "c7461c6e",
   "metadata": {},
   "outputs": [
    {
     "name": "stdout",
     "output_type": "stream",
     "text": [
      "The total cost of implementing the program across 4281 patients would be: $2140500\n",
      "The total number of prevented readmissions would be : 384.0\n"
     ]
    }
   ],
   "source": [
    "total_cost_of_implimenting_program = cost_of_management_program*(True_Positives_those_correctly_flagged+False_Positives_those_incorrectly_flagged)\n",
    "\n",
    "readmissions_prevented = sucess_rate_of_intervention*True_Positives_those_correctly_flagged\n",
    "\n",
    "print('The total cost of implementing the program across {} patients would be: ${}'.format((True_Positives_those_correctly_flagged + False_Positives_those_incorrectly_flagged), total_cost_of_implimenting_program))\n",
    "print('The total number of prevented readmissions would be : {}'.format(readmissions_prevented))"
   ]
  },
  {
   "cell_type": "markdown",
   "id": "dac83238",
   "metadata": {},
   "source": [
    "#### Now, we calculate the difference between the expense of implimenting the program (about $2 Million) with the savings from prevented readmissions."
   ]
  },
  {
   "cell_type": "code",
   "execution_count": 44,
   "id": "642e455c",
   "metadata": {},
   "outputs": [
    {
     "name": "stdout",
     "output_type": "stream",
     "text": [
      "The savings stemming from prevented readmissions would be: $5760000.0\n",
      "The net savings from implementing the program would be : $3619500.0\n",
      "The per-patient savings would be: $360.0775964982093\n"
     ]
    }
   ],
   "source": [
    "savings_from_readmissions_prevention = (readmissions_prevented) * (cost_of_readmission)\n",
    "\n",
    "net_savings_to_hosptial_system = (savings_from_readmissions_prevention) - (total_cost_of_implimenting_program)\n",
    "\n",
    "per_patient_savings = net_savings_to_hosptial_system/len(optimal_cutoff)\n",
    "\n",
    "print('The savings stemming from prevented readmissions would be: ${}'.format(savings_from_readmissions_prevention))\n",
    "print('The net savings from implementing the program would be : ${}'.format(net_savings_to_hosptial_system))\n",
    "print('The per-patient savings would be: ${}'.format(per_patient_savings))"
   ]
  },
  {
   "cell_type": "markdown",
   "id": "50230ea3",
   "metadata": {},
   "source": [
    "#### As we can see, using machine learning to identify diabetic patients at risk for a readmission can provide dramatic per-patient financial savings.\n",
    "\n",
    "Even with the high number of false positives, (i.e. 3513, indicative of a diabetes-management-program being implimented on a patient who would not have otherwise been readmitted -- over 4 false positives for each true positive) The savings derived from the patients that would have be readmitted (384 -- or up to 768 with a diabetes-management-program that is more than 50% effective) makes up for this at a rate of saving nearly 3 dollars saved on prevented readmissions for every 1 dollar spent on the diabetes-management-program. \n",
    "\n",
    "Furthermore, it is likely that the diabetes management program may have significant residual health benefits on both the true and false positive populations applied to. As both of these populations are presumably at risk for complications stemming from their diabetes, these programs may promote a healthly lifestyle and prevent costly complications down the road."
   ]
  },
  {
   "cell_type": "markdown",
   "id": "a221da53",
   "metadata": {},
   "source": [
    "#### In summation, 5.8 Million dollars would be saved from readmissions, with 2.1 Million would be spent on the program up front. \n",
    "#### This would prevent 32% of readmissions, and lead to an average savings of 360 dollars per-patient (i.e. regardless of readmission status."
   ]
  },
  {
   "cell_type": "code",
   "execution_count": null,
   "id": "40137208",
   "metadata": {},
   "outputs": [],
   "source": []
  }
 ],
 "metadata": {
  "kernelspec": {
   "display_name": "conda_python3",
   "language": "python",
   "name": "conda_python3"
  },
  "language_info": {
   "codemirror_mode": {
    "name": "ipython",
    "version": 3
   },
   "file_extension": ".py",
   "mimetype": "text/x-python",
   "name": "python",
   "nbconvert_exporter": "python",
   "pygments_lexer": "ipython3",
   "version": "3.10.12"
  }
 },
 "nbformat": 4,
 "nbformat_minor": 5
}
