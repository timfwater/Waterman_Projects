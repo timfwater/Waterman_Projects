{
 "cells": [
  {
   "cell_type": "markdown",
   "id": "6f9e8ab2",
   "metadata": {},
   "source": [
    "## This script:\n",
    "### -Imports optimized hyperparameters from Sagemaker UI initiated tuning job\n",
    "### -Trains an optimized model using these hyperparameters\n",
    "### -Deploys this optimized model \n",
    "### -Facilitates real-time inference calls to the model\n",
    "### -Assesses this model in terms of statistical prowess\n",
    "<br><br>\n",
    "### Outline of Notebook:\n",
    "\n",
    "#### 3.1 Establish environment and define appropriate variables\n",
    "#### 3.2 Import Hyperparameters\n",
    "#### 3.3 Train Optimized Model\n",
    "#### 3.4 Deploy Optimized Model for Real Time Inference Calls via Gateway API and Lambda\n",
    "#### 3.5 Identify Optimal Likelihood Cutoff for our Predictions\n",
    "#### 3.6 Evaluate Model<br>\n",
    "&nbsp;&nbsp;&nbsp;&nbsp;Function: <u>CSV_Reader()</u><br>\n",
    "&nbsp;&nbsp;&nbsp;&nbsp;Function: <u>Linear_Learner_Statistical_Evaluation()</u><br>\n",
    "&nbsp;&nbsp;&nbsp;&nbsp;Function: <u>Plot_Confusion_Matrix()</u>"
   ]
  },
  {
   "cell_type": "markdown",
   "id": "05761e4c",
   "metadata": {},
   "source": [
    "### 3.1 Establish environment and define appropriate variables"
   ]
  },
  {
   "cell_type": "code",
   "execution_count": 1,
   "id": "a3ba5beb",
   "metadata": {},
   "outputs": [
    {
     "name": "stdout",
     "output_type": "stream",
     "text": [
      "sagemaker.config INFO - Not applying SDK defaults from location: /etc/xdg/sagemaker/config.yaml\n",
      "sagemaker.config INFO - Not applying SDK defaults from location: /home/ec2-user/.config/sagemaker/config.yaml\n",
      "sagemaker.config INFO - Not applying SDK defaults from location: /etc/xdg/sagemaker/config.yaml\n",
      "sagemaker.config INFO - Not applying SDK defaults from location: /home/ec2-user/.config/sagemaker/config.yaml\n",
      "sagemaker.config INFO - Not applying SDK defaults from location: /etc/xdg/sagemaker/config.yaml\n",
      "sagemaker.config INFO - Not applying SDK defaults from location: /home/ec2-user/.config/sagemaker/config.yaml\n"
     ]
    }
   ],
   "source": [
    "'''The first step is to import the necessary libraries'''\n",
    "\n",
    "#Data manipulation libraries\n",
    "import pandas as pd\n",
    "import numpy as np\n",
    "import matplotlib.pyplot as plt\n",
    "import random as random\n",
    "from datetime import datetime\n",
    "from sklearn.utils import shuffle\n",
    "from time import gmtime, strftime\n",
    "%matplotlib inline\n",
    "\n",
    "#Data visualization libraries\n",
    "import seaborn as sns\n",
    "import matplotlib.pyplot as plt\n",
    "\n",
    "#AWS Sagemaker libraries\n",
    "import sagemaker\n",
    "import boto3\n",
    "import io\n",
    "from io import StringIO\n",
    "from sagemaker import get_execution_role\n",
    "import sagemaker.amazon.common as smac\n",
    "import os\n",
    "from sagemaker.tuner import IntegerParameter, ContinuousParameter, HyperparameterTuner\n",
    "from sagemaker.amazon.amazon_estimator import get_image_uri\n",
    "from sagemaker.session import s3_input\n",
    "\n",
    "#Libraries needed to evaluate the machine learning models\n",
    "from sklearn.metrics import precision_recall_fscore_support\n",
    "from sklearn.metrics import accuracy_score\n",
    "from sklearn.metrics import roc_auc_score\n",
    "\n",
    "#Defining some global variables for Sagemaker\n",
    "region = boto3.Session().region_name\n",
    "smclient = boto3.Session().client('sagemaker')\n",
    "role = get_execution_role()\n",
    "sess = sagemaker.Session()"
   ]
  },
  {
   "cell_type": "code",
   "execution_count": 2,
   "id": "d8ca5828",
   "metadata": {},
   "outputs": [],
   "source": [
    "'''Here we format dimensions for easier display'''\n",
    "\n",
    "#500 rows and columns will be present\n",
    "pd.set_option('display.max_columns', 500)\n",
    "pd.set_option('display.max_rows', 500)"
   ]
  },
  {
   "cell_type": "markdown",
   "id": "64a95206",
   "metadata": {},
   "source": [
    "#### Defining variables"
   ]
  },
  {
   "cell_type": "code",
   "execution_count": 3,
   "id": "80f80264",
   "metadata": {},
   "outputs": [
    {
     "name": "stdout",
     "output_type": "stream",
     "text": [
      "sagemaker.config INFO - Not applying SDK defaults from location: /etc/xdg/sagemaker/config.yaml\n",
      "sagemaker.config INFO - Not applying SDK defaults from location: /home/ec2-user/.config/sagemaker/config.yaml\n"
     ]
    }
   ],
   "source": [
    "role = get_execution_role()\n",
    "bucket = 'diabetes-directory'\n",
    "folder = 'processed_data_location'\n",
    "train_file = 'train.data'\n",
    "validation_file = 'validation.data'\n",
    "linear_learner_subfolder = 'linear_learner'\n",
    "hyperparameter_tuning_subfolder = 'tuning'\n",
    "tuned_model_subfolder = 'optimized_model'\n",
    "\n",
    "training_data_location = 's3://{}/{}/{}'.format(bucket, folder, train_file)\n",
    "validation_data_location = 's3://{}/{}/{}'.format(bucket, folder, validation_file)\n",
    "output_location = 's3://{}/{}/'.format(bucket, linear_learner_subfolder)\n",
    "\n",
    "#Tuning and training \n",
    "UI_tuning_job_name = 'linear-learner-tuner'\n",
    "job_name = 'diabetes-LL-job-optimized-{}'.format(datetime.now().strftime(\"%Y%m%d%H%M%S\"))"
   ]
  },
  {
   "cell_type": "markdown",
   "id": "6b0f28fd",
   "metadata": {},
   "source": [
    "### 3.2 Import Hyperparameters"
   ]
  },
  {
   "cell_type": "markdown",
   "id": "84d193a2",
   "metadata": {},
   "source": [
    "As we tuned our XGBoost model within the notebook, we will use the SageMaker Hyperparameter tuning user interface to initiate this job.\n",
    "\n",
    "This provides the same statistical optimization of the eventual hyperparameters/model, but can be more user friendly and self explainatory than coding. Therefore it is good to have both options for hyperparameter tuning.\n",
    "\n",
    "Once the job is complete, we will use the same procedure used in our XGBoost model to read these optimized hyperparameters into our notebook, and then apply them to our optimized model for deployment."
   ]
  },
  {
   "cell_type": "markdown",
   "id": "83968dc2",
   "metadata": {},
   "source": [
    "#### Once complete, we now get the training job, we can extract the hyperparameters from the model iteration that demonstrated the highest outcome metric, AUC."
   ]
  },
  {
   "cell_type": "code",
   "execution_count": 4,
   "id": "f2fc3d44",
   "metadata": {},
   "outputs": [
    {
     "name": "stdout",
     "output_type": "stream",
     "text": [
      "sagemaker.config INFO - Not applying SDK defaults from location: /etc/xdg/sagemaker/config.yaml\n",
      "sagemaker.config INFO - Not applying SDK defaults from location: /home/ec2-user/.config/sagemaker/config.yaml\n"
     ]
    }
   ],
   "source": [
    "tuner = sagemaker.HyperparameterTuningJobAnalytics(UI_tuning_job_name)\n",
    "best_training_job = tuner.dataframe().sort_values('FinalObjectiveValue', ascending=False).iloc[0]\n",
    "best_training_job_name = best_training_job['TrainingJobName']\n",
    "\n",
    "# Get the best hyperparameters from the best training job\n",
    "client = boto3.client('sagemaker')\n",
    "response = client.describe_training_job(TrainingJobName=best_training_job_name)\n",
    "best_hyperparameters = response['HyperParameters']"
   ]
  },
  {
   "cell_type": "code",
   "execution_count": 5,
   "id": "c17ea658",
   "metadata": {},
   "outputs": [
    {
     "name": "stdout",
     "output_type": "stream",
     "text": [
      "{'_tuning_objective_metric': 'validation:roc_auc_score', 'early_stopping_patience': '3', 'early_stopping_tolerance': '0.001', 'epochs': '15', 'feature_dim': '97', 'l1': '0.706314574745013', 'learning_rate': '0.006531347284412078', 'loss': 'auto', 'mini_batch_size': '544', 'normalize_data': 'true', 'normalize_label': 'auto', 'num_classes': '2', 'num_models': 'auto', 'optimizer': 'auto', 'predictor_type': 'binary_classifier', 'unbias_data': 'auto', 'unbias_label': 'auto', 'use_bias': 'true', 'wd': '0.003497411332520406'}\n"
     ]
    }
   ],
   "source": [
    "print(best_hyperparameters)"
   ]
  },
  {
   "cell_type": "markdown",
   "id": "370a161d",
   "metadata": {},
   "source": [
    "### 3.3 Train Optimized Model"
   ]
  },
  {
   "cell_type": "code",
   "execution_count": 6,
   "id": "1e62e259",
   "metadata": {},
   "outputs": [],
   "source": [
    "from sagemaker import image_uris\n",
    "container = image_uris.retrieve('linear-learner', boto3.Session().region_name, '1')"
   ]
  },
  {
   "cell_type": "code",
   "execution_count": 7,
   "id": "3bced933",
   "metadata": {},
   "outputs": [
    {
     "name": "stdout",
     "output_type": "stream",
     "text": [
      "sagemaker.config INFO - Not applying SDK defaults from location: /etc/xdg/sagemaker/config.yaml\n",
      "sagemaker.config INFO - Not applying SDK defaults from location: /home/ec2-user/.config/sagemaker/config.yaml\n"
     ]
    },
    {
     "name": "stderr",
     "output_type": "stream",
     "text": [
      "INFO:sagemaker:Creating training-job with name: diabetes-LL-job-optimized-20231022142100\n"
     ]
    },
    {
     "name": "stdout",
     "output_type": "stream",
     "text": [
      "2023-10-22 14:21:02 Starting - Starting the training job...\n",
      "2023-10-22 14:21:17 Starting - Preparing the instances for training......\n",
      "2023-10-22 14:22:28 Downloading - Downloading input data...\n",
      "2023-10-22 14:22:53 Training - Downloading the training image.........\n",
      "2023-10-22 14:24:14 Training - Training image download completed. Training in progress.\u001b[34mDocker entrypoint called with argument(s): train\u001b[0m\n",
      "\u001b[34mRunning default environment configuration script\u001b[0m\n",
      "\u001b[34m[10/22/2023 14:24:23 INFO 140185492723520] Reading default configuration from /opt/amazon/lib/python3.7/site-packages/algorithm/resources/default-input.json: {'mini_batch_size': '1000', 'epochs': '15', 'feature_dim': 'auto', 'use_bias': 'true', 'binary_classifier_model_selection_criteria': 'accuracy', 'f_beta': '1.0', 'target_recall': '0.8', 'target_precision': '0.8', 'num_models': 'auto', 'num_calibration_samples': '10000000', 'init_method': 'uniform', 'init_scale': '0.07', 'init_sigma': '0.01', 'init_bias': '0.0', 'optimizer': 'auto', 'loss': 'auto', 'margin': '1.0', 'quantile': '0.5', 'loss_insensitivity': '0.01', 'huber_delta': '1.0', 'num_classes': '1', 'accuracy_top_k': '3', 'wd': 'auto', 'l1': 'auto', 'momentum': 'auto', 'learning_rate': 'auto', 'beta_1': 'auto', 'beta_2': 'auto', 'bias_lr_mult': 'auto', 'bias_wd_mult': 'auto', 'use_lr_scheduler': 'true', 'lr_scheduler_step': 'auto', 'lr_scheduler_factor': 'auto', 'lr_scheduler_minimum_lr': 'auto', 'positive_example_weight_mult': '1.0', 'balance_multiclass_weights': 'false', 'normalize_data': 'true', 'normalize_label': 'auto', 'unbias_data': 'auto', 'unbias_label': 'auto', 'num_point_for_scaler': '10000', '_kvstore': 'auto', '_num_gpus': 'auto', '_num_kv_servers': 'auto', '_log_level': 'info', '_tuning_objective_metric': '', 'early_stopping_patience': '3', 'early_stopping_tolerance': '0.001', '_enable_profiler': 'false'}\u001b[0m\n",
      "\u001b[34m[10/22/2023 14:24:23 INFO 140185492723520] Merging with provided configuration from /opt/ml/input/config/hyperparameters.json: {'_tuning_objective_metric': 'validation:roc_auc_score', 'early_stopping_patience': '3', 'early_stopping_tolerance': '0.001', 'epochs': '15', 'feature_dim': '97', 'l1': '0.706314574745013', 'learning_rate': '0.006531347284412078', 'loss': 'auto', 'mini_batch_size': '544', 'normalize_data': 'true', 'normalize_label': 'auto', 'num_classes': '2', 'num_models': 'auto', 'optimizer': 'auto', 'predictor_type': 'binary_classifier', 'unbias_data': 'auto', 'unbias_label': 'auto', 'use_bias': 'true', 'wd': '0.003497411332520406'}\u001b[0m\n",
      "\u001b[34m[10/22/2023 14:24:23 INFO 140185492723520] Final configuration: {'mini_batch_size': '544', 'epochs': '15', 'feature_dim': '97', 'use_bias': 'true', 'binary_classifier_model_selection_criteria': 'accuracy', 'f_beta': '1.0', 'target_recall': '0.8', 'target_precision': '0.8', 'num_models': 'auto', 'num_calibration_samples': '10000000', 'init_method': 'uniform', 'init_scale': '0.07', 'init_sigma': '0.01', 'init_bias': '0.0', 'optimizer': 'auto', 'loss': 'auto', 'margin': '1.0', 'quantile': '0.5', 'loss_insensitivity': '0.01', 'huber_delta': '1.0', 'num_classes': '2', 'accuracy_top_k': '3', 'wd': '0.003497411332520406', 'l1': '0.706314574745013', 'momentum': 'auto', 'learning_rate': '0.006531347284412078', 'beta_1': 'auto', 'beta_2': 'auto', 'bias_lr_mult': 'auto', 'bias_wd_mult': 'auto', 'use_lr_scheduler': 'true', 'lr_scheduler_step': 'auto', 'lr_scheduler_factor': 'auto', 'lr_scheduler_minimum_lr': 'auto', 'positive_example_weight_mult': '1.0', 'balance_multiclass_weights': 'false', 'normalize_data': 'true', 'normalize_label': 'auto', 'unbias_data': 'auto', 'unbias_label': 'auto', 'num_point_for_scaler': '10000', '_kvstore': 'auto', '_num_gpus': 'auto', '_num_kv_servers': 'auto', '_log_level': 'info', '_tuning_objective_metric': 'validation:roc_auc_score', 'early_stopping_patience': '3', 'early_stopping_tolerance': '0.001', '_enable_profiler': 'false', 'predictor_type': 'binary_classifier'}\u001b[0m\n",
      "\u001b[34m[10/22/2023 14:24:26 WARNING 140185492723520] Loggers have already been setup.\u001b[0m\n",
      "\u001b[34m[10/22/2023 14:24:26 INFO 140185492723520] Final configuration: {'mini_batch_size': '544', 'epochs': '15', 'feature_dim': '97', 'use_bias': 'true', 'binary_classifier_model_selection_criteria': 'accuracy', 'f_beta': '1.0', 'target_recall': '0.8', 'target_precision': '0.8', 'num_models': 'auto', 'num_calibration_samples': '10000000', 'init_method': 'uniform', 'init_scale': '0.07', 'init_sigma': '0.01', 'init_bias': '0.0', 'optimizer': 'auto', 'loss': 'auto', 'margin': '1.0', 'quantile': '0.5', 'loss_insensitivity': '0.01', 'huber_delta': '1.0', 'num_classes': '2', 'accuracy_top_k': '3', 'wd': '0.003497411332520406', 'l1': '0.706314574745013', 'momentum': 'auto', 'learning_rate': '0.006531347284412078', 'beta_1': 'auto', 'beta_2': 'auto', 'bias_lr_mult': 'auto', 'bias_wd_mult': 'auto', 'use_lr_scheduler': 'true', 'lr_scheduler_step': 'auto', 'lr_scheduler_factor': 'auto', 'lr_scheduler_minimum_lr': 'auto', 'positive_example_weight_mult': '1.0', 'balance_multiclass_weights': 'false', 'normalize_data': 'true', 'normalize_label': 'auto', 'unbias_data': 'auto', 'unbias_label': 'auto', 'num_point_for_scaler': '10000', '_kvstore': 'auto', '_num_gpus': 'auto', '_num_kv_servers': 'auto', '_log_level': 'info', '_tuning_objective_metric': 'validation:roc_auc_score', 'early_stopping_patience': '3', 'early_stopping_tolerance': '0.001', '_enable_profiler': 'false', 'predictor_type': 'binary_classifier'}\u001b[0m\n",
      "\u001b[34m[10/22/2023 14:24:26 WARNING 140185492723520] Loggers have already been setup.\u001b[0m\n",
      "\u001b[34mProcess 7 is a worker.\u001b[0m\n",
      "\u001b[34m[10/22/2023 14:24:26 INFO 140185492723520] Using default worker.\u001b[0m\n",
      "\u001b[34m[10/22/2023 14:24:26 INFO 140185492723520] Checkpoint loading and saving are disabled.\u001b[0m\n",
      "\u001b[34m[10/22/2023 14:24:26 INFO 140185492723520] The channel 'train' is in pipe input mode under /opt/ml/input/data/train.\u001b[0m\n",
      "\u001b[34m[10/22/2023 14:24:26 INFO 140185492723520] The channel 'validation' is in pipe input mode under /opt/ml/input/data/validation.\u001b[0m\n",
      "\u001b[34m[2023-10-22 14:24:26.280] [tensorio] [warning] TensorIO is already initialized; ignoring the initialization routine.\u001b[0m\n",
      "\u001b[34m[2023-10-22 14:24:27.323] [tensorio] [info] epoch_stats={\"data_pipeline\": \"/opt/ml/input/data/train\", \"epoch\": 0, \"duration\": 1045, \"num_examples\": 1, \"num_bytes\": 237184}\u001b[0m\n",
      "\u001b[34m[10/22/2023 14:24:27 WARNING 140185492723520] predictor_type is 'binary_classifier', and num_classes is 2.  num_classes is only needed when predictor_type='multiclass_classifier'.  Ignoring num_classes and proceeding with binary classification.\u001b[0m\n",
      "\u001b[34m[10/22/2023 14:24:27 INFO 140185492723520] Create Store: local\u001b[0m\n",
      "\u001b[34m[2023-10-22 14:24:28.451] [tensorio] [info] epoch_stats={\"data_pipeline\": \"/opt/ml/input/data/train\", \"epoch\": 1, \"duration\": 1126, \"num_examples\": 19, \"num_bytes\": 4506496}\u001b[0m\n",
      "\u001b[34m[10/22/2023 14:24:28 INFO 140185492723520] Scaler algorithm parameters\n",
      " <algorithm.scaler.ScalerAlgorithmStable object at 0x7f7ee99f8690>\u001b[0m\n",
      "\u001b[34m[10/22/2023 14:24:28 INFO 140185492723520] Scaling model computed with parameters:\n",
      " {'stdev_label': None, 'stdev_weight': \u001b[0m\n",
      "\u001b[34m[3.0279601e+00 1.8927948e+01 1.6504467e+00 8.0549593e+00 1.1295856e+00\n",
      " 7.1767128e-01 1.2230523e+00 2.0015497e+00 3.9131606e-01 3.3257458e-01\n",
      " 3.1695104e-01 4.9982163e-01 4.9722219e-01 4.2556307e-01 4.0802553e-01\n",
      " 8.2015730e-02 1.4206658e-01 1.7554861e-01 4.7119852e-02 9.1877334e-02\n",
      " 1.2115028e-01 1.9789197e-01 2.9875758e-01 3.8039687e-01 4.1227487e-01\n",
      " 3.6226583e-01 1.5718067e-01 4.9852249e-01 3.2961860e-01 1.3570945e-01\n",
      " 1.6092902e-01 7.7833481e-02 3.5124820e-01 1.2645033e-01 3.8067479e-02\n",
      " 2.4223620e-01 2.8642556e-01 9.9803202e-02 2.8862786e-01 1.5363033e-01\n",
      " 2.7487224e-01 1.4967899e-01 1.6651256e-01 2.1858303e-01 1.7554863e-01\n",
      " 5.6413930e-02 1.7320867e-01 7.6595522e-02 3.4738407e-01 1.5688823e-01\n",
      " 2.0875889e-01 3.5560483e-01 1.5452640e-01 1.9449008e-01 1.3081126e-01\n",
      " 2.1022660e-01 1.6541274e-01 2.7265438e-01 1.3605209e-01 1.5363032e-01\n",
      " 5.1043171e-02 1.6318813e-01 6.1310545e-02 3.0501643e-01 1.7937133e-01\n",
      " 2.4569777e-01 3.9793915e-01 1.4875072e-01 1.9078238e-01 1.3223068e-01\n",
      " 2.4328147e-01 1.7708901e-01 2.8849095e-01 1.3673452e-01 1.2645032e-01\n",
      " 6.9383450e-02 1.6318813e-01 5.1043171e-02 2.6068708e-01 1.5302974e-01\n",
      " 2.3691955e-01 1.3502142e-01 1.2973574e-01 1.8334839e-01 2.1209548e-01\n",
      " 3.9269495e-01 3.7981802e-01 1.3909029e-02 3.3398122e-01 9.8356446e-03\n",
      " 4.5516273e-01 1.2192246e-01 4.6086352e-02 1.8674825e-01 9.9327073e-02\n",
      " 1.6814710e-01 2.8461745e-01]\u001b[0m\n",
      "\u001b[34m<NDArray 97 @cpu(0)>, 'mean_label': None, 'mean_weight': \u001b[0m\n",
      "\u001b[34m[4.46072006e+00 4.31857605e+01 1.30901718e+00 1.57867661e+01\n",
      " 3.13467503e-01 1.57507747e-01 6.17550373e-01 7.16099167e+00\n",
      " 1.88757747e-01 1.26644731e-01 1.13293357e-01 5.13351440e-01\n",
      " 4.47368383e-01 7.62480557e-01 2.11010084e-01 6.77244598e-03\n",
      " 2.06075870e-02 3.18304971e-02 2.22523254e-03 8.51393398e-03\n",
      " 1.48993796e-02 4.08281684e-02 9.90712121e-02 1.75503090e-01\n",
      " 2.17105269e-01 1.55379266e-01 2.53482983e-02 4.61590558e-01\n",
      " 1.24032527e-01 1.87693499e-02 2.66060401e-02 6.09520217e-03\n",
      " 1.44156352e-01 1.62538718e-02 1.45123841e-03 6.25967458e-02\n",
      " 9.01702940e-02 1.00619197e-02 9.17182863e-02 2.41873041e-02\n",
      " 8.23335871e-02 2.29295678e-02 2.85410229e-02 5.03095984e-02\n",
      " 3.18304934e-02 3.19272466e-03 3.09597515e-02 5.90170268e-03\n",
      " 1.40383139e-01 2.52515506e-02 4.56656367e-02 1.48510084e-01\n",
      " 2.44775545e-02 3.93769331e-02 1.74148623e-02 4.63428870e-02\n",
      " 2.81540267e-02 8.08823481e-02 1.88661013e-02 2.41873059e-02\n",
      " 2.61222944e-03 2.73800343e-02 3.77322012e-03 1.03811935e-01\n",
      " 3.32817398e-02 6.45317361e-02 1.97271660e-01 2.26393193e-02\n",
      " 3.78289558e-02 1.78018603e-02 6.31772503e-02 3.24109942e-02\n",
      " 9.16215256e-02 1.90595984e-02 1.62538700e-02 4.83746175e-03\n",
      " 2.73800287e-02 2.61222944e-03 7.33359084e-02 2.39938106e-02\n",
      " 5.96942715e-02 1.85758527e-02 1.71246156e-02 3.48297209e-02\n",
      " 4.72136289e-02 1.90499246e-01 1.74825862e-01 1.93498476e-04\n",
      " 1.27902463e-01 9.67492379e-05 2.93053448e-01 1.50928814e-02\n",
      " 2.12848303e-03 3.61842178e-02 9.96517111e-03 2.91215219e-02\n",
      " 8.89125392e-02]\u001b[0m\n",
      "\u001b[34m<NDArray 97 @cpu(0)>}\u001b[0m\n",
      "\u001b[34m[10/22/2023 14:24:28 INFO 140185492723520] nvidia-smi: took 0.035 seconds to run.\u001b[0m\n",
      "\u001b[34m[10/22/2023 14:24:28 INFO 140185492723520] nvidia-smi identified 0 GPUs.\u001b[0m\n",
      "\u001b[34m[10/22/2023 14:24:28 INFO 140185492723520] Number of GPUs being used: 0\u001b[0m\n",
      "\u001b[34m#metrics {\"StartTime\": 1697984668.4979107, \"EndTime\": 1697984668.4979439, \"Dimensions\": {\"Algorithm\": \"Linear Learner\", \"Host\": \"algo-1\", \"Operation\": \"training\", \"Meta\": \"init_train_data_iter\"}, \"Metrics\": {\"Total Records Seen\": {\"sum\": 10880.0, \"count\": 1, \"min\": 10880, \"max\": 10880}, \"Total Batches Seen\": {\"sum\": 20.0, \"count\": 1, \"min\": 20, \"max\": 20}, \"Max Records Seen Between Resets\": {\"sum\": 10336.0, \"count\": 1, \"min\": 10336, \"max\": 10336}, \"Max Batches Seen Between Resets\": {\"sum\": 19.0, \"count\": 1, \"min\": 19, \"max\": 19}, \"Reset Count\": {\"sum\": 2.0, \"count\": 1, \"min\": 2, \"max\": 2}, \"Number of Records Since Last Reset\": {\"sum\": 0.0, \"count\": 1, \"min\": 0, \"max\": 0}, \"Number of Batches Since Last Reset\": {\"sum\": 0.0, \"count\": 1, \"min\": 0, \"max\": 0}}}\u001b[0m\n"
     ]
    },
    {
     "name": "stdout",
     "output_type": "stream",
     "text": [
      "\u001b[34m[2023-10-22 14:24:30.922] [tensorio] [info] epoch_stats={\"data_pipeline\": \"/opt/ml/input/data/train\", \"epoch\": 3, \"duration\": 2423, \"num_examples\": 129, \"num_bytes\": 30569268}\u001b[0m\n",
      "\u001b[34m#metrics {\"StartTime\": 1697984670.9223275, \"EndTime\": 1697984670.9224012, \"Dimensions\": {\"Algorithm\": \"Linear Learner\", \"Host\": \"algo-1\", \"Operation\": \"training\", \"epoch\": 0, \"model\": 0}, \"Metrics\": {\"train_binary_classification_cross_entropy_objective\": {\"sum\": 0.37302982982467203, \"count\": 1, \"min\": 0.37302982982467203, \"max\": 0.37302982982467203}}}\u001b[0m\n",
      "\u001b[34m[10/22/2023 14:24:30 INFO 140185492723520] #quality_metric: host=algo-1, epoch=0, train binary_classification_cross_entropy_objective <loss>=0.37302982982467203\u001b[0m\n",
      "\u001b[34m[2023-10-22 14:24:30.925] [tensorio] [info] epoch_stats={\"data_pipeline\": \"/opt/ml/input/data/validation\", \"epoch\": 0, \"duration\": 4644, \"num_examples\": 1, \"num_bytes\": 237184}\u001b[0m\n",
      "\u001b[34m[2023-10-22 14:24:31.947] [tensorio] [info] epoch_stats={\"data_pipeline\": \"/opt/ml/input/data/validation\", \"epoch\": 2, \"duration\": 1022, \"num_examples\": 37, \"num_bytes\": 8697764}\u001b[0m\n",
      "\u001b[34m#metrics {\"StartTime\": 1697984671.9721506, \"EndTime\": 1697984671.9721868, \"Dimensions\": {\"Algorithm\": \"Linear Learner\", \"Host\": \"algo-1\", \"Operation\": \"training\", \"epoch\": 0, \"model\": 0}, \"Metrics\": {\"validation_binary_classification_cross_entropy_objective\": {\"sum\": 0.33571859309354085, \"count\": 1, \"min\": 0.33571859309354085, \"max\": 0.33571859309354085}}}\u001b[0m\n",
      "\u001b[34m[10/22/2023 14:24:31 INFO 140185492723520] #quality_metric: host=algo-1, epoch=0, validation binary_classification_cross_entropy_objective <loss>=0.33571859309354085\u001b[0m\n",
      "\u001b[34m[10/22/2023 14:24:31 INFO 140185492723520] #early_stopping_criteria_metric: host=algo-1, epoch=0, criteria=sampled_accuracy, value=0.8885157150734379\u001b[0m\n",
      "\u001b[34m[10/22/2023 14:24:31 INFO 140185492723520] Epoch 0: Loss improved. Updating best model\u001b[0m\n",
      "\u001b[34m[10/22/2023 14:24:31 INFO 140185492723520] Saving model for epoch: 0\u001b[0m\n",
      "\u001b[34m[10/22/2023 14:24:31 INFO 140185492723520] Saved checkpoint to \"/tmp/tmpa9sacs3b/mx-mod-0000.params\"\u001b[0m\n",
      "\u001b[34m[10/22/2023 14:24:31 INFO 140185492723520] #progress_metric: host=algo-1, completed 6.666666666666667 % of epochs\u001b[0m\n",
      "\u001b[34m#metrics {\"StartTime\": 1697984668.4982038, \"EndTime\": 1697984671.9819386, \"Dimensions\": {\"Algorithm\": \"Linear Learner\", \"Host\": \"algo-1\", \"Operation\": \"training\", \"epoch\": 0, \"Meta\": \"training_data_iter\"}, \"Metrics\": {\"Total Records Seen\": {\"sum\": 80993.0, \"count\": 1, \"min\": 80993, \"max\": 80993}, \"Total Batches Seen\": {\"sum\": 149.0, \"count\": 1, \"min\": 149, \"max\": 149}, \"Max Records Seen Between Resets\": {\"sum\": 70113.0, \"count\": 1, \"min\": 70113, \"max\": 70113}, \"Max Batches Seen Between Resets\": {\"sum\": 129.0, \"count\": 1, \"min\": 129, \"max\": 129}, \"Reset Count\": {\"sum\": 3.0, \"count\": 1, \"min\": 3, \"max\": 3}, \"Number of Records Since Last Reset\": {\"sum\": 70113.0, \"count\": 1, \"min\": 70113, \"max\": 70113}, \"Number of Batches Since Last Reset\": {\"sum\": 129.0, \"count\": 1, \"min\": 129, \"max\": 129}}}\u001b[0m\n",
      "\u001b[34m[10/22/2023 14:24:31 INFO 140185492723520] #throughput_metric: host=algo-1, train throughput=20124.994634844643 records/second\u001b[0m\n",
      "\u001b[34m[2023-10-22 14:24:33.031] [tensorio] [info] epoch_stats={\"data_pipeline\": \"/opt/ml/input/data/train\", \"epoch\": 5, \"duration\": 1047, \"num_examples\": 129, \"num_bytes\": 30569268}\u001b[0m\n",
      "\u001b[34m#metrics {\"StartTime\": 1697984673.0322762, \"EndTime\": 1697984673.0323427, \"Dimensions\": {\"Algorithm\": \"Linear Learner\", \"Host\": \"algo-1\", \"Operation\": \"training\", \"epoch\": 1, \"model\": 0}, \"Metrics\": {\"train_binary_classification_cross_entropy_objective\": {\"sum\": 0.33743450527682023, \"count\": 1, \"min\": 0.33743450527682023, \"max\": 0.33743450527682023}}}\u001b[0m\n",
      "\u001b[34m[10/22/2023 14:24:33 INFO 140185492723520] #quality_metric: host=algo-1, epoch=1, train binary_classification_cross_entropy_objective <loss>=0.33743450527682023\u001b[0m\n",
      "\u001b[34m[2023-10-22 14:24:34.057] [tensorio] [info] epoch_stats={\"data_pipeline\": \"/opt/ml/input/data/validation\", \"epoch\": 5, \"duration\": 1022, \"num_examples\": 37, \"num_bytes\": 8697764}\u001b[0m\n",
      "\u001b[34m#metrics {\"StartTime\": 1697984674.082118, \"EndTime\": 1697984674.0821507, \"Dimensions\": {\"Algorithm\": \"Linear Learner\", \"Host\": \"algo-1\", \"Operation\": \"training\", \"epoch\": 1, \"model\": 0}, \"Metrics\": {\"validation_binary_classification_cross_entropy_objective\": {\"sum\": 0.335372940102486, \"count\": 1, \"min\": 0.335372940102486, \"max\": 0.335372940102486}}}\u001b[0m\n",
      "\u001b[34m[10/22/2023 14:24:34 INFO 140185492723520] #quality_metric: host=algo-1, epoch=1, validation binary_classification_cross_entropy_objective <loss>=0.335372940102486\u001b[0m\n",
      "\u001b[34m[10/22/2023 14:24:34 INFO 140185492723520] #early_stopping_criteria_metric: host=algo-1, epoch=1, criteria=sampled_accuracy, value=0.8884655872474816\u001b[0m\n",
      "\u001b[34m[10/22/2023 14:24:34 INFO 140185492723520] Epoch 1: Loss improved. Updating best model\u001b[0m\n",
      "\u001b[34m[10/22/2023 14:24:34 INFO 140185492723520] Saving model for epoch: 1\u001b[0m\n",
      "\u001b[34m[10/22/2023 14:24:34 INFO 140185492723520] Saved checkpoint to \"/tmp/tmp8wpi4c3p/mx-mod-0000.params\"\u001b[0m\n",
      "\u001b[34m[10/22/2023 14:24:34 INFO 140185492723520] #progress_metric: host=algo-1, completed 13.333333333333334 % of epochs\u001b[0m\n",
      "\u001b[34m#metrics {\"StartTime\": 1697984671.9841962, \"EndTime\": 1697984674.0905998, \"Dimensions\": {\"Algorithm\": \"Linear Learner\", \"Host\": \"algo-1\", \"Operation\": \"training\", \"epoch\": 1, \"Meta\": \"training_data_iter\"}, \"Metrics\": {\"Total Records Seen\": {\"sum\": 151106.0, \"count\": 1, \"min\": 151106, \"max\": 151106}, \"Total Batches Seen\": {\"sum\": 278.0, \"count\": 1, \"min\": 278, \"max\": 278}, \"Max Records Seen Between Resets\": {\"sum\": 70113.0, \"count\": 1, \"min\": 70113, \"max\": 70113}, \"Max Batches Seen Between Resets\": {\"sum\": 129.0, \"count\": 1, \"min\": 129, \"max\": 129}, \"Reset Count\": {\"sum\": 4.0, \"count\": 1, \"min\": 4, \"max\": 4}, \"Number of Records Since Last Reset\": {\"sum\": 70113.0, \"count\": 1, \"min\": 70113, \"max\": 70113}, \"Number of Batches Since Last Reset\": {\"sum\": 129.0, \"count\": 1, \"min\": 129, \"max\": 129}}}\u001b[0m\n",
      "\u001b[34m[10/22/2023 14:24:34 INFO 140185492723520] #throughput_metric: host=algo-1, train throughput=33283.47782121883 records/second\u001b[0m\n",
      "\u001b[34m[2023-10-22 14:24:35.143] [tensorio] [info] epoch_stats={\"data_pipeline\": \"/opt/ml/input/data/train\", \"epoch\": 7, \"duration\": 1052, \"num_examples\": 129, \"num_bytes\": 30569268}\u001b[0m\n",
      "\u001b[34m#metrics {\"StartTime\": 1697984675.1441686, \"EndTime\": 1697984675.144217, \"Dimensions\": {\"Algorithm\": \"Linear Learner\", \"Host\": \"algo-1\", \"Operation\": \"training\", \"epoch\": 2, \"model\": 0}, \"Metrics\": {\"train_binary_classification_cross_entropy_objective\": {\"sum\": 0.337308780016268, \"count\": 1, \"min\": 0.337308780016268, \"max\": 0.337308780016268}}}\u001b[0m\n",
      "\u001b[34m[10/22/2023 14:24:35 INFO 140185492723520] #quality_metric: host=algo-1, epoch=2, train binary_classification_cross_entropy_objective <loss>=0.337308780016268\u001b[0m\n",
      "\u001b[34m[2023-10-22 14:24:36.164] [tensorio] [info] epoch_stats={\"data_pipeline\": \"/opt/ml/input/data/validation\", \"epoch\": 8, \"duration\": 1018, \"num_examples\": 37, \"num_bytes\": 8697764}\u001b[0m\n",
      "\u001b[34m#metrics {\"StartTime\": 1697984676.1842134, \"EndTime\": 1697984676.184244, \"Dimensions\": {\"Algorithm\": \"Linear Learner\", \"Host\": \"algo-1\", \"Operation\": \"training\", \"epoch\": 2, \"model\": 0}, \"Metrics\": {\"validation_binary_classification_cross_entropy_objective\": {\"sum\": 0.33518618610880596, \"count\": 1, \"min\": 0.33518618610880596, \"max\": 0.33518618610880596}}}\u001b[0m\n",
      "\u001b[34m[10/22/2023 14:24:36 INFO 140185492723520] #quality_metric: host=algo-1, epoch=2, validation binary_classification_cross_entropy_objective <loss>=0.33518618610880596\u001b[0m\n",
      "\u001b[34m[10/22/2023 14:24:36 INFO 140185492723520] #early_stopping_criteria_metric: host=algo-1, epoch=2, criteria=sampled_accuracy, value=0.8884655872474816\u001b[0m\n",
      "\u001b[34m[10/22/2023 14:24:36 INFO 140185492723520] Epoch 2: Loss improved. Updating best model\u001b[0m\n",
      "\u001b[34m[10/22/2023 14:24:36 INFO 140185492723520] Saving model for epoch: 2\u001b[0m\n",
      "\u001b[34m[10/22/2023 14:24:36 INFO 140185492723520] Saved checkpoint to \"/tmp/tmpoqnmnrii/mx-mod-0000.params\"\u001b[0m\n",
      "\u001b[34m[10/22/2023 14:24:36 INFO 140185492723520] #progress_metric: host=algo-1, completed 20.0 % of epochs\u001b[0m\n",
      "\u001b[34m#metrics {\"StartTime\": 1697984674.0908957, \"EndTime\": 1697984676.192357, \"Dimensions\": {\"Algorithm\": \"Linear Learner\", \"Host\": \"algo-1\", \"Operation\": \"training\", \"epoch\": 2, \"Meta\": \"training_data_iter\"}, \"Metrics\": {\"Total Records Seen\": {\"sum\": 221219.0, \"count\": 1, \"min\": 221219, \"max\": 221219}, \"Total Batches Seen\": {\"sum\": 407.0, \"count\": 1, \"min\": 407, \"max\": 407}, \"Max Records Seen Between Resets\": {\"sum\": 70113.0, \"count\": 1, \"min\": 70113, \"max\": 70113}, \"Max Batches Seen Between Resets\": {\"sum\": 129.0, \"count\": 1, \"min\": 129, \"max\": 129}, \"Reset Count\": {\"sum\": 5.0, \"count\": 1, \"min\": 5, \"max\": 5}, \"Number of Records Since Last Reset\": {\"sum\": 70113.0, \"count\": 1, \"min\": 70113, \"max\": 70113}, \"Number of Batches Since Last Reset\": {\"sum\": 129.0, \"count\": 1, \"min\": 129, \"max\": 129}}}\u001b[0m\n",
      "\u001b[34m[10/22/2023 14:24:36 INFO 140185492723520] #throughput_metric: host=algo-1, train throughput=33361.81253416158 records/second\u001b[0m\n",
      "\u001b[34m[2023-10-22 14:24:37.247] [tensorio] [info] epoch_stats={\"data_pipeline\": \"/opt/ml/input/data/train\", \"epoch\": 9, \"duration\": 1053, \"num_examples\": 129, \"num_bytes\": 30569268}\u001b[0m\n",
      "\u001b[34m#metrics {\"StartTime\": 1697984677.2472095, \"EndTime\": 1697984677.2472987, \"Dimensions\": {\"Algorithm\": \"Linear Learner\", \"Host\": \"algo-1\", \"Operation\": \"training\", \"epoch\": 3, \"model\": 0}, \"Metrics\": {\"train_binary_classification_cross_entropy_objective\": {\"sum\": 0.3372194823973319, \"count\": 1, \"min\": 0.3372194823973319, \"max\": 0.3372194823973319}}}\u001b[0m\n",
      "\u001b[34m[10/22/2023 14:24:37 INFO 140185492723520] #quality_metric: host=algo-1, epoch=3, train binary_classification_cross_entropy_objective <loss>=0.3372194823973319\u001b[0m\n",
      "\u001b[34m[2023-10-22 14:24:38.301] [tensorio] [info] epoch_stats={\"data_pipeline\": \"/opt/ml/input/data/validation\", \"epoch\": 11, \"duration\": 1051, \"num_examples\": 37, \"num_bytes\": 8697764}\u001b[0m\n",
      "\u001b[34m#metrics {\"StartTime\": 1697984678.3269134, \"EndTime\": 1697984678.3269563, \"Dimensions\": {\"Algorithm\": \"Linear Learner\", \"Host\": \"algo-1\", \"Operation\": \"training\", \"epoch\": 3, \"model\": 0}, \"Metrics\": {\"validation_binary_classification_cross_entropy_objective\": {\"sum\": 0.3350395544160069, \"count\": 1, \"min\": 0.3350395544160069, \"max\": 0.3350395544160069}}}\u001b[0m\n",
      "\u001b[34m[10/22/2023 14:24:38 INFO 140185492723520] #quality_metric: host=algo-1, epoch=3, validation binary_classification_cross_entropy_objective <loss>=0.3350395544160069\u001b[0m\n",
      "\u001b[34m[10/22/2023 14:24:38 INFO 140185492723520] #early_stopping_criteria_metric: host=algo-1, epoch=3, criteria=sampled_accuracy, value=0.8884655872474816\u001b[0m\n",
      "\u001b[34m[10/22/2023 14:24:38 INFO 140185492723520] Epoch 3: Loss improved. Updating best model\u001b[0m\n",
      "\u001b[34m[10/22/2023 14:24:38 INFO 140185492723520] Saving model for epoch: 3\u001b[0m\n",
      "\u001b[34m[10/22/2023 14:24:38 INFO 140185492723520] Saved checkpoint to \"/tmp/tmpeh3tw1zw/mx-mod-0000.params\"\u001b[0m\n",
      "\u001b[34m[10/22/2023 14:24:38 INFO 140185492723520] #progress_metric: host=algo-1, completed 26.666666666666668 % of epochs\u001b[0m\n",
      "\u001b[34m#metrics {\"StartTime\": 1697984676.193662, \"EndTime\": 1697984678.3357534, \"Dimensions\": {\"Algorithm\": \"Linear Learner\", \"Host\": \"algo-1\", \"Operation\": \"training\", \"epoch\": 3, \"Meta\": \"training_data_iter\"}, \"Metrics\": {\"Total Records Seen\": {\"sum\": 291332.0, \"count\": 1, \"min\": 291332, \"max\": 291332}, \"Total Batches Seen\": {\"sum\": 536.0, \"count\": 1, \"min\": 536, \"max\": 536}, \"Max Records Seen Between Resets\": {\"sum\": 70113.0, \"count\": 1, \"min\": 70113, \"max\": 70113}, \"Max Batches Seen Between Resets\": {\"sum\": 129.0, \"count\": 1, \"min\": 129, \"max\": 129}, \"Reset Count\": {\"sum\": 6.0, \"count\": 1, \"min\": 6, \"max\": 6}, \"Number of Records Since Last Reset\": {\"sum\": 70113.0, \"count\": 1, \"min\": 70113, \"max\": 70113}, \"Number of Batches Since Last Reset\": {\"sum\": 129.0, \"count\": 1, \"min\": 129, \"max\": 129}}}\u001b[0m\n",
      "\u001b[34m[10/22/2023 14:24:38 INFO 140185492723520] #throughput_metric: host=algo-1, train throughput=32729.083798073152 records/second\u001b[0m\n",
      "\u001b[34m[2023-10-22 14:24:39.478] [tensorio] [info] epoch_stats={\"data_pipeline\": \"/opt/ml/input/data/train\", \"epoch\": 11, \"duration\": 1140, \"num_examples\": 129, \"num_bytes\": 30569268}\u001b[0m\n",
      "\u001b[34m#metrics {\"StartTime\": 1697984679.47827, \"EndTime\": 1697984679.4784555, \"Dimensions\": {\"Algorithm\": \"Linear Learner\", \"Host\": \"algo-1\", \"Operation\": \"training\", \"epoch\": 4, \"model\": 0}, \"Metrics\": {\"train_binary_classification_cross_entropy_objective\": {\"sum\": 0.3371332533219281, \"count\": 1, \"min\": 0.3371332533219281, \"max\": 0.3371332533219281}}}\u001b[0m\n",
      "\u001b[34m[10/22/2023 14:24:39 INFO 140185492723520] #quality_metric: host=algo-1, epoch=4, train binary_classification_cross_entropy_objective <loss>=0.3371332533219281\u001b[0m\n",
      "\u001b[34m[2023-10-22 14:24:40.530] [tensorio] [info] epoch_stats={\"data_pipeline\": \"/opt/ml/input/data/validation\", \"epoch\": 14, \"duration\": 1050, \"num_examples\": 37, \"num_bytes\": 8697764}\u001b[0m\n",
      "\u001b[34m#metrics {\"StartTime\": 1697984680.5480356, \"EndTime\": 1697984680.5480652, \"Dimensions\": {\"Algorithm\": \"Linear Learner\", \"Host\": \"algo-1\", \"Operation\": \"training\", \"epoch\": 4, \"model\": 0}, \"Metrics\": {\"validation_binary_classification_cross_entropy_objective\": {\"sum\": 0.3349328721589663, \"count\": 1, \"min\": 0.3349328721589663, \"max\": 0.3349328721589663}}}\u001b[0m\n",
      "\u001b[34m[10/22/2023 14:24:40 INFO 140185492723520] #quality_metric: host=algo-1, epoch=4, validation binary_classification_cross_entropy_objective <loss>=0.3349328721589663\u001b[0m\n",
      "\u001b[34m[10/22/2023 14:24:40 INFO 140185492723520] #early_stopping_criteria_metric: host=algo-1, epoch=4, criteria=sampled_accuracy, value=0.8884655872474816\u001b[0m\n",
      "\u001b[34m[10/22/2023 14:24:40 INFO 140185492723520] Epoch 4: Loss improved. Updating best model\u001b[0m\n",
      "\u001b[34m[10/22/2023 14:24:40 INFO 140185492723520] Saving model for epoch: 4\u001b[0m\n",
      "\u001b[34m[10/22/2023 14:24:40 INFO 140185492723520] Saved checkpoint to \"/tmp/tmplkyzf518/mx-mod-0000.params\"\u001b[0m\n",
      "\u001b[34m[10/22/2023 14:24:40 INFO 140185492723520] #progress_metric: host=algo-1, completed 33.333333333333336 % of epochs\u001b[0m\n",
      "\u001b[34m#metrics {\"StartTime\": 1697984678.337612, \"EndTime\": 1697984680.55492, \"Dimensions\": {\"Algorithm\": \"Linear Learner\", \"Host\": \"algo-1\", \"Operation\": \"training\", \"epoch\": 4, \"Meta\": \"training_data_iter\"}, \"Metrics\": {\"Total Records Seen\": {\"sum\": 361445.0, \"count\": 1, \"min\": 361445, \"max\": 361445}, \"Total Batches Seen\": {\"sum\": 665.0, \"count\": 1, \"min\": 665, \"max\": 665}, \"Max Records Seen Between Resets\": {\"sum\": 70113.0, \"count\": 1, \"min\": 70113, \"max\": 70113}, \"Max Batches Seen Between Resets\": {\"sum\": 129.0, \"count\": 1, \"min\": 129, \"max\": 129}, \"Reset Count\": {\"sum\": 7.0, \"count\": 1, \"min\": 7, \"max\": 7}, \"Number of Records Since Last Reset\": {\"sum\": 70113.0, \"count\": 1, \"min\": 70113, \"max\": 70113}, \"Number of Batches Since Last Reset\": {\"sum\": 129.0, \"count\": 1, \"min\": 129, \"max\": 129}}}\u001b[0m\n",
      "\u001b[34m[10/22/2023 14:24:40 INFO 140185492723520] #throughput_metric: host=algo-1, train throughput=31618.858033242486 records/second\u001b[0m\n"
     ]
    },
    {
     "name": "stdout",
     "output_type": "stream",
     "text": [
      "\u001b[34m[2023-10-22 14:24:41.640] [tensorio] [info] epoch_stats={\"data_pipeline\": \"/opt/ml/input/data/train\", \"epoch\": 13, \"duration\": 1084, \"num_examples\": 129, \"num_bytes\": 30569268}\u001b[0m\n",
      "\u001b[34m#metrics {\"StartTime\": 1697984681.6409187, \"EndTime\": 1697984681.6409798, \"Dimensions\": {\"Algorithm\": \"Linear Learner\", \"Host\": \"algo-1\", \"Operation\": \"training\", \"epoch\": 5, \"model\": 0}, \"Metrics\": {\"train_binary_classification_cross_entropy_objective\": {\"sum\": 0.3370528199216899, \"count\": 1, \"min\": 0.3370528199216899, \"max\": 0.3370528199216899}}}\u001b[0m\n",
      "\u001b[34m[10/22/2023 14:24:41 INFO 140185492723520] #quality_metric: host=algo-1, epoch=5, train binary_classification_cross_entropy_objective <loss>=0.3370528199216899\u001b[0m\n",
      "\u001b[34m[2023-10-22 14:24:42.685] [tensorio] [info] epoch_stats={\"data_pipeline\": \"/opt/ml/input/data/validation\", \"epoch\": 17, \"duration\": 1042, \"num_examples\": 37, \"num_bytes\": 8697764}\u001b[0m\n",
      "\u001b[34m#metrics {\"StartTime\": 1697984682.7032347, \"EndTime\": 1697984682.7032666, \"Dimensions\": {\"Algorithm\": \"Linear Learner\", \"Host\": \"algo-1\", \"Operation\": \"training\", \"epoch\": 5, \"model\": 0}, \"Metrics\": {\"validation_binary_classification_cross_entropy_objective\": {\"sum\": 0.33485068703147125, \"count\": 1, \"min\": 0.33485068703147125, \"max\": 0.33485068703147125}}}\u001b[0m\n",
      "\u001b[34m[10/22/2023 14:24:42 INFO 140185492723520] #quality_metric: host=algo-1, epoch=5, validation binary_classification_cross_entropy_objective <loss>=0.33485068703147125\u001b[0m\n",
      "\u001b[34m[10/22/2023 14:24:42 INFO 140185492723520] #early_stopping_criteria_metric: host=algo-1, epoch=5, criteria=sampled_accuracy, value=0.8884655872474816\u001b[0m\n",
      "\u001b[34m[10/22/2023 14:24:42 INFO 140185492723520] Epoch 5: Loss improved. Updating best model\u001b[0m\n",
      "\u001b[34m[10/22/2023 14:24:42 INFO 140185492723520] Saving model for epoch: 5\u001b[0m\n",
      "\u001b[34m[10/22/2023 14:24:42 INFO 140185492723520] Saved checkpoint to \"/tmp/tmpzswho8_7/mx-mod-0000.params\"\u001b[0m\n",
      "\u001b[34m[10/22/2023 14:24:42 INFO 140185492723520] #progress_metric: host=algo-1, completed 40.0 % of epochs\u001b[0m\n",
      "\u001b[34m#metrics {\"StartTime\": 1697984680.555978, \"EndTime\": 1697984682.7098873, \"Dimensions\": {\"Algorithm\": \"Linear Learner\", \"Host\": \"algo-1\", \"Operation\": \"training\", \"epoch\": 5, \"Meta\": \"training_data_iter\"}, \"Metrics\": {\"Total Records Seen\": {\"sum\": 431558.0, \"count\": 1, \"min\": 431558, \"max\": 431558}, \"Total Batches Seen\": {\"sum\": 794.0, \"count\": 1, \"min\": 794, \"max\": 794}, \"Max Records Seen Between Resets\": {\"sum\": 70113.0, \"count\": 1, \"min\": 70113, \"max\": 70113}, \"Max Batches Seen Between Resets\": {\"sum\": 129.0, \"count\": 1, \"min\": 129, \"max\": 129}, \"Reset Count\": {\"sum\": 8.0, \"count\": 1, \"min\": 8, \"max\": 8}, \"Number of Records Since Last Reset\": {\"sum\": 70113.0, \"count\": 1, \"min\": 70113, \"max\": 70113}, \"Number of Batches Since Last Reset\": {\"sum\": 129.0, \"count\": 1, \"min\": 129, \"max\": 129}}}\u001b[0m\n",
      "\u001b[34m[10/22/2023 14:24:42 INFO 140185492723520] #throughput_metric: host=algo-1, train throughput=32549.418057051174 records/second\u001b[0m\n",
      "\u001b[34m[2023-10-22 14:24:43.820] [tensorio] [info] epoch_stats={\"data_pipeline\": \"/opt/ml/input/data/train\", \"epoch\": 15, \"duration\": 1109, \"num_examples\": 129, \"num_bytes\": 30569268}\u001b[0m\n",
      "\u001b[34m#metrics {\"StartTime\": 1697984683.8209805, \"EndTime\": 1697984683.821047, \"Dimensions\": {\"Algorithm\": \"Linear Learner\", \"Host\": \"algo-1\", \"Operation\": \"training\", \"epoch\": 6, \"model\": 0}, \"Metrics\": {\"train_binary_classification_cross_entropy_objective\": {\"sum\": 0.3369842515710522, \"count\": 1, \"min\": 0.3369842515710522, \"max\": 0.3369842515710522}}}\u001b[0m\n",
      "\u001b[34m[10/22/2023 14:24:43 INFO 140185492723520] #quality_metric: host=algo-1, epoch=6, train binary_classification_cross_entropy_objective <loss>=0.3369842515710522\u001b[0m\n",
      "\u001b[34m[2023-10-22 14:24:44.869] [tensorio] [info] epoch_stats={\"data_pipeline\": \"/opt/ml/input/data/validation\", \"epoch\": 20, \"duration\": 1045, \"num_examples\": 37, \"num_bytes\": 8697764}\u001b[0m\n",
      "\u001b[34m#metrics {\"StartTime\": 1697984684.8876967, \"EndTime\": 1697984684.8877304, \"Dimensions\": {\"Algorithm\": \"Linear Learner\", \"Host\": \"algo-1\", \"Operation\": \"training\", \"epoch\": 6, \"model\": 0}, \"Metrics\": {\"validation_binary_classification_cross_entropy_objective\": {\"sum\": 0.33478759279155007, \"count\": 1, \"min\": 0.33478759279155007, \"max\": 0.33478759279155007}}}\u001b[0m\n",
      "\u001b[34m[10/22/2023 14:24:44 INFO 140185492723520] #quality_metric: host=algo-1, epoch=6, validation binary_classification_cross_entropy_objective <loss>=0.33478759279155007\u001b[0m\n",
      "\u001b[34m[10/22/2023 14:24:44 INFO 140185492723520] #early_stopping_criteria_metric: host=algo-1, epoch=6, criteria=sampled_accuracy, value=0.8884655872474816\u001b[0m\n",
      "\u001b[34m[10/22/2023 14:24:44 INFO 140185492723520] Epoch 6: Loss improved. Updating best model\u001b[0m\n",
      "\u001b[34m[10/22/2023 14:24:44 INFO 140185492723520] Saving model for epoch: 6\u001b[0m\n",
      "\u001b[34m[10/22/2023 14:24:44 INFO 140185492723520] Saved checkpoint to \"/tmp/tmps126yswf/mx-mod-0000.params\"\u001b[0m\n",
      "\u001b[34m[10/22/2023 14:24:44 INFO 140185492723520] #progress_metric: host=algo-1, completed 46.666666666666664 % of epochs\u001b[0m\n",
      "\u001b[34m#metrics {\"StartTime\": 1697984682.7110503, \"EndTime\": 1697984684.895632, \"Dimensions\": {\"Algorithm\": \"Linear Learner\", \"Host\": \"algo-1\", \"Operation\": \"training\", \"epoch\": 6, \"Meta\": \"training_data_iter\"}, \"Metrics\": {\"Total Records Seen\": {\"sum\": 501671.0, \"count\": 1, \"min\": 501671, \"max\": 501671}, \"Total Batches Seen\": {\"sum\": 923.0, \"count\": 1, \"min\": 923, \"max\": 923}, \"Max Records Seen Between Resets\": {\"sum\": 70113.0, \"count\": 1, \"min\": 70113, \"max\": 70113}, \"Max Batches Seen Between Resets\": {\"sum\": 129.0, \"count\": 1, \"min\": 129, \"max\": 129}, \"Reset Count\": {\"sum\": 9.0, \"count\": 1, \"min\": 9, \"max\": 9}, \"Number of Records Since Last Reset\": {\"sum\": 70113.0, \"count\": 1, \"min\": 70113, \"max\": 70113}, \"Number of Batches Since Last Reset\": {\"sum\": 129.0, \"count\": 1, \"min\": 129, \"max\": 129}}}\u001b[0m\n",
      "\u001b[34m[10/22/2023 14:24:44 INFO 140185492723520] #throughput_metric: host=algo-1, train throughput=32092.12627443534 records/second\u001b[0m\n",
      "\u001b[34m[2023-10-22 14:24:46.056] [tensorio] [info] epoch_stats={\"data_pipeline\": \"/opt/ml/input/data/train\", \"epoch\": 17, \"duration\": 1160, \"num_examples\": 129, \"num_bytes\": 30569268}\u001b[0m\n",
      "\u001b[34m#metrics {\"StartTime\": 1697984686.0564651, \"EndTime\": 1697984686.0565543, \"Dimensions\": {\"Algorithm\": \"Linear Learner\", \"Host\": \"algo-1\", \"Operation\": \"training\", \"epoch\": 7, \"model\": 0}, \"Metrics\": {\"train_binary_classification_cross_entropy_objective\": {\"sum\": 0.3369220317724873, \"count\": 1, \"min\": 0.3369220317724873, \"max\": 0.3369220317724873}}}\u001b[0m\n",
      "\u001b[34m[10/22/2023 14:24:46 INFO 140185492723520] #quality_metric: host=algo-1, epoch=7, train binary_classification_cross_entropy_objective <loss>=0.3369220317724873\u001b[0m\n",
      "\u001b[34m[2023-10-22 14:24:47.109] [tensorio] [info] epoch_stats={\"data_pipeline\": \"/opt/ml/input/data/validation\", \"epoch\": 23, \"duration\": 1050, \"num_examples\": 37, \"num_bytes\": 8697764}\u001b[0m\n",
      "\u001b[34m#metrics {\"StartTime\": 1697984687.1261003, \"EndTime\": 1697984687.1261303, \"Dimensions\": {\"Algorithm\": \"Linear Learner\", \"Host\": \"algo-1\", \"Operation\": \"training\", \"epoch\": 7, \"model\": 0}, \"Metrics\": {\"validation_binary_classification_cross_entropy_objective\": {\"sum\": 0.33473611569977074, \"count\": 1, \"min\": 0.33473611569977074, \"max\": 0.33473611569977074}}}\u001b[0m\n",
      "\u001b[34m[10/22/2023 14:24:47 INFO 140185492723520] #quality_metric: host=algo-1, epoch=7, validation binary_classification_cross_entropy_objective <loss>=0.33473611569977074\u001b[0m\n",
      "\u001b[34m[10/22/2023 14:24:47 INFO 140185492723520] #early_stopping_criteria_metric: host=algo-1, epoch=7, criteria=sampled_accuracy, value=0.8884655872474816\u001b[0m\n",
      "\u001b[34m[10/22/2023 14:24:47 INFO 140185492723520] Epoch 7: Loss improved. Updating best model\u001b[0m\n",
      "\u001b[34m[10/22/2023 14:24:47 INFO 140185492723520] Saving model for epoch: 7\u001b[0m\n",
      "\u001b[34m[10/22/2023 14:24:47 INFO 140185492723520] Saved checkpoint to \"/tmp/tmpv4rh3wpm/mx-mod-0000.params\"\u001b[0m\n",
      "\u001b[34m[10/22/2023 14:24:47 INFO 140185492723520] #progress_metric: host=algo-1, completed 53.333333333333336 % of epochs\u001b[0m\n",
      "\u001b[34m#metrics {\"StartTime\": 1697984684.8959763, \"EndTime\": 1697984687.133161, \"Dimensions\": {\"Algorithm\": \"Linear Learner\", \"Host\": \"algo-1\", \"Operation\": \"training\", \"epoch\": 7, \"Meta\": \"training_data_iter\"}, \"Metrics\": {\"Total Records Seen\": {\"sum\": 571784.0, \"count\": 1, \"min\": 571784, \"max\": 571784}, \"Total Batches Seen\": {\"sum\": 1052.0, \"count\": 1, \"min\": 1052, \"max\": 1052}, \"Max Records Seen Between Resets\": {\"sum\": 70113.0, \"count\": 1, \"min\": 70113, \"max\": 70113}, \"Max Batches Seen Between Resets\": {\"sum\": 129.0, \"count\": 1, \"min\": 129, \"max\": 129}, \"Reset Count\": {\"sum\": 10.0, \"count\": 1, \"min\": 10, \"max\": 10}, \"Number of Records Since Last Reset\": {\"sum\": 70113.0, \"count\": 1, \"min\": 70113, \"max\": 70113}, \"Number of Batches Since Last Reset\": {\"sum\": 129.0, \"count\": 1, \"min\": 129, \"max\": 129}}}\u001b[0m\n",
      "\u001b[34m[10/22/2023 14:24:47 INFO 140185492723520] #throughput_metric: host=algo-1, train throughput=31337.656932135633 records/second\u001b[0m\n",
      "\u001b[34m[2023-10-22 14:24:48.311] [tensorio] [info] epoch_stats={\"data_pipeline\": \"/opt/ml/input/data/train\", \"epoch\": 19, \"duration\": 1177, \"num_examples\": 129, \"num_bytes\": 30569268}\u001b[0m\n",
      "\u001b[34m#metrics {\"StartTime\": 1697984688.3119407, \"EndTime\": 1697984688.3120046, \"Dimensions\": {\"Algorithm\": \"Linear Learner\", \"Host\": \"algo-1\", \"Operation\": \"training\", \"epoch\": 8, \"model\": 0}, \"Metrics\": {\"train_binary_classification_cross_entropy_objective\": {\"sum\": 0.3368619632195024, \"count\": 1, \"min\": 0.3368619632195024, \"max\": 0.3368619632195024}}}\u001b[0m\n",
      "\u001b[34m[10/22/2023 14:24:48 INFO 140185492723520] #quality_metric: host=algo-1, epoch=8, train binary_classification_cross_entropy_objective <loss>=0.3368619632195024\u001b[0m\n",
      "\u001b[34m[2023-10-22 14:24:49.337] [tensorio] [info] epoch_stats={\"data_pipeline\": \"/opt/ml/input/data/validation\", \"epoch\": 26, \"duration\": 1023, \"num_examples\": 37, \"num_bytes\": 8697764}\u001b[0m\n",
      "\u001b[34m#metrics {\"StartTime\": 1697984689.3572829, \"EndTime\": 1697984689.357313, \"Dimensions\": {\"Algorithm\": \"Linear Learner\", \"Host\": \"algo-1\", \"Operation\": \"training\", \"epoch\": 8, \"model\": 0}, \"Metrics\": {\"validation_binary_classification_cross_entropy_objective\": {\"sum\": 0.3346794580085468, \"count\": 1, \"min\": 0.3346794580085468, \"max\": 0.3346794580085468}}}\u001b[0m\n",
      "\u001b[34m[10/22/2023 14:24:49 INFO 140185492723520] #quality_metric: host=algo-1, epoch=8, validation binary_classification_cross_entropy_objective <loss>=0.3346794580085468\u001b[0m\n",
      "\u001b[34m[10/22/2023 14:24:49 INFO 140185492723520] #early_stopping_criteria_metric: host=algo-1, epoch=8, criteria=sampled_accuracy, value=0.8884655872474816\u001b[0m\n",
      "\u001b[34m[10/22/2023 14:24:49 INFO 140185492723520] Epoch 8: Loss improved. Updating best model\u001b[0m\n",
      "\u001b[34m[10/22/2023 14:24:49 INFO 140185492723520] Saving model for epoch: 8\u001b[0m\n",
      "\u001b[34m[10/22/2023 14:24:49 INFO 140185492723520] Saved checkpoint to \"/tmp/tmp6d_l1i72/mx-mod-0000.params\"\u001b[0m\n",
      "\u001b[34m[10/22/2023 14:24:49 INFO 140185492723520] #progress_metric: host=algo-1, completed 60.0 % of epochs\u001b[0m\n",
      "\u001b[34m#metrics {\"StartTime\": 1697984687.1341133, \"EndTime\": 1697984689.3638654, \"Dimensions\": {\"Algorithm\": \"Linear Learner\", \"Host\": \"algo-1\", \"Operation\": \"training\", \"epoch\": 8, \"Meta\": \"training_data_iter\"}, \"Metrics\": {\"Total Records Seen\": {\"sum\": 641897.0, \"count\": 1, \"min\": 641897, \"max\": 641897}, \"Total Batches Seen\": {\"sum\": 1181.0, \"count\": 1, \"min\": 1181, \"max\": 1181}, \"Max Records Seen Between Resets\": {\"sum\": 70113.0, \"count\": 1, \"min\": 70113, \"max\": 70113}, \"Max Batches Seen Between Resets\": {\"sum\": 129.0, \"count\": 1, \"min\": 129, \"max\": 129}, \"Reset Count\": {\"sum\": 11.0, \"count\": 1, \"min\": 11, \"max\": 11}, \"Number of Records Since Last Reset\": {\"sum\": 70113.0, \"count\": 1, \"min\": 70113, \"max\": 70113}, \"Number of Batches Since Last Reset\": {\"sum\": 129.0, \"count\": 1, \"min\": 129, \"max\": 129}}}\u001b[0m\n",
      "\u001b[34m[10/22/2023 14:24:49 INFO 140185492723520] #throughput_metric: host=algo-1, train throughput=31442.74323047344 records/second\u001b[0m\n",
      "\u001b[34m[2023-10-22 14:24:50.469] [tensorio] [info] epoch_stats={\"data_pipeline\": \"/opt/ml/input/data/train\", \"epoch\": 21, \"duration\": 1104, \"num_examples\": 129, \"num_bytes\": 30569268}\u001b[0m\n",
      "\u001b[34m#metrics {\"StartTime\": 1697984690.4694266, \"EndTime\": 1697984690.4695241, \"Dimensions\": {\"Algorithm\": \"Linear Learner\", \"Host\": \"algo-1\", \"Operation\": \"training\", \"epoch\": 9, \"model\": 0}, \"Metrics\": {\"train_binary_classification_cross_entropy_objective\": {\"sum\": 0.33680962705436873, \"count\": 1, \"min\": 0.33680962705436873, \"max\": 0.33680962705436873}}}\u001b[0m\n",
      "\u001b[34m[10/22/2023 14:24:50 INFO 140185492723520] #quality_metric: host=algo-1, epoch=9, train binary_classification_cross_entropy_objective <loss>=0.33680962705436873\u001b[0m\n"
     ]
    },
    {
     "name": "stdout",
     "output_type": "stream",
     "text": [
      "\u001b[34m[2023-10-22 14:24:51.512] [tensorio] [info] epoch_stats={\"data_pipeline\": \"/opt/ml/input/data/validation\", \"epoch\": 29, \"duration\": 1040, \"num_examples\": 37, \"num_bytes\": 8697764}\u001b[0m\n",
      "\u001b[34m#metrics {\"StartTime\": 1697984691.5311415, \"EndTime\": 1697984691.5311844, \"Dimensions\": {\"Algorithm\": \"Linear Learner\", \"Host\": \"algo-1\", \"Operation\": \"training\", \"epoch\": 9, \"model\": 0}, \"Metrics\": {\"validation_binary_classification_cross_entropy_objective\": {\"sum\": 0.33462922921712085, \"count\": 1, \"min\": 0.33462922921712085, \"max\": 0.33462922921712085}}}\u001b[0m\n",
      "\u001b[34m[10/22/2023 14:24:51 INFO 140185492723520] #quality_metric: host=algo-1, epoch=9, validation binary_classification_cross_entropy_objective <loss>=0.33462922921712085\u001b[0m\n",
      "\u001b[34m[10/22/2023 14:24:51 INFO 140185492723520] #early_stopping_criteria_metric: host=algo-1, epoch=9, criteria=sampled_accuracy, value=0.8884655872474816\u001b[0m\n",
      "\u001b[34m[10/22/2023 14:24:51 INFO 140185492723520] Epoch 9: Loss improved. Updating best model\u001b[0m\n",
      "\u001b[34m[10/22/2023 14:24:51 INFO 140185492723520] Saving model for epoch: 9\u001b[0m\n",
      "\u001b[34m[10/22/2023 14:24:51 INFO 140185492723520] Saved checkpoint to \"/tmp/tmpufam64ic/mx-mod-0000.params\"\u001b[0m\n",
      "\u001b[34m[10/22/2023 14:24:51 INFO 140185492723520] #progress_metric: host=algo-1, completed 66.66666666666667 % of epochs\u001b[0m\n",
      "\u001b[34m#metrics {\"StartTime\": 1697984689.3641734, \"EndTime\": 1697984691.5390089, \"Dimensions\": {\"Algorithm\": \"Linear Learner\", \"Host\": \"algo-1\", \"Operation\": \"training\", \"epoch\": 9, \"Meta\": \"training_data_iter\"}, \"Metrics\": {\"Total Records Seen\": {\"sum\": 712010.0, \"count\": 1, \"min\": 712010, \"max\": 712010}, \"Total Batches Seen\": {\"sum\": 1310.0, \"count\": 1, \"min\": 1310, \"max\": 1310}, \"Max Records Seen Between Resets\": {\"sum\": 70113.0, \"count\": 1, \"min\": 70113, \"max\": 70113}, \"Max Batches Seen Between Resets\": {\"sum\": 129.0, \"count\": 1, \"min\": 129, \"max\": 129}, \"Reset Count\": {\"sum\": 12.0, \"count\": 1, \"min\": 12, \"max\": 12}, \"Number of Records Since Last Reset\": {\"sum\": 70113.0, \"count\": 1, \"min\": 70113, \"max\": 70113}, \"Number of Batches Since Last Reset\": {\"sum\": 129.0, \"count\": 1, \"min\": 129, \"max\": 129}}}\u001b[0m\n",
      "\u001b[34m[10/22/2023 14:24:51 INFO 140185492723520] #throughput_metric: host=algo-1, train throughput=32236.219675505974 records/second\u001b[0m\n",
      "\u001b[34m[2023-10-22 14:24:52.595] [tensorio] [info] epoch_stats={\"data_pipeline\": \"/opt/ml/input/data/train\", \"epoch\": 23, \"duration\": 1054, \"num_examples\": 129, \"num_bytes\": 30569268}\u001b[0m\n",
      "\u001b[34m#metrics {\"StartTime\": 1697984692.5951564, \"EndTime\": 1697984692.5952237, \"Dimensions\": {\"Algorithm\": \"Linear Learner\", \"Host\": \"algo-1\", \"Operation\": \"training\", \"epoch\": 10, \"model\": 0}, \"Metrics\": {\"train_binary_classification_cross_entropy_objective\": {\"sum\": 0.33675355705268245, \"count\": 1, \"min\": 0.33675355705268245, \"max\": 0.33675355705268245}}}\u001b[0m\n",
      "\u001b[34m[10/22/2023 14:24:52 INFO 140185492723520] #quality_metric: host=algo-1, epoch=10, train binary_classification_cross_entropy_objective <loss>=0.33675355705268245\u001b[0m\n",
      "\u001b[34m[2023-10-22 14:24:53.641] [tensorio] [info] epoch_stats={\"data_pipeline\": \"/opt/ml/input/data/validation\", \"epoch\": 32, \"duration\": 1044, \"num_examples\": 37, \"num_bytes\": 8697764}\u001b[0m\n",
      "\u001b[34m#metrics {\"StartTime\": 1697984693.6679037, \"EndTime\": 1697984693.6679504, \"Dimensions\": {\"Algorithm\": \"Linear Learner\", \"Host\": \"algo-1\", \"Operation\": \"training\", \"epoch\": 10, \"model\": 0}, \"Metrics\": {\"validation_binary_classification_cross_entropy_objective\": {\"sum\": 0.3345873973872633, \"count\": 1, \"min\": 0.3345873973872633, \"max\": 0.3345873973872633}}}\u001b[0m\n",
      "\u001b[34m[10/22/2023 14:24:53 INFO 140185492723520] #quality_metric: host=algo-1, epoch=10, validation binary_classification_cross_entropy_objective <loss>=0.3345873973872633\u001b[0m\n",
      "\u001b[34m[10/22/2023 14:24:53 INFO 140185492723520] #early_stopping_criteria_metric: host=algo-1, epoch=10, criteria=sampled_accuracy, value=0.8884655872474816\u001b[0m\n",
      "\u001b[34m[10/22/2023 14:24:53 INFO 140185492723520] Epoch 10: Loss improved. Updating best model\u001b[0m\n",
      "\u001b[34m[10/22/2023 14:24:53 INFO 140185492723520] Saving model for epoch: 10\u001b[0m\n",
      "\u001b[34m[10/22/2023 14:24:53 INFO 140185492723520] Saved checkpoint to \"/tmp/tmprwzt30f2/mx-mod-0000.params\"\u001b[0m\n",
      "\u001b[34m[10/22/2023 14:24:53 INFO 140185492723520] #progress_metric: host=algo-1, completed 73.33333333333333 % of epochs\u001b[0m\n",
      "\u001b[34m#metrics {\"StartTime\": 1697984691.5403357, \"EndTime\": 1697984693.6768, \"Dimensions\": {\"Algorithm\": \"Linear Learner\", \"Host\": \"algo-1\", \"Operation\": \"training\", \"epoch\": 10, \"Meta\": \"training_data_iter\"}, \"Metrics\": {\"Total Records Seen\": {\"sum\": 782123.0, \"count\": 1, \"min\": 782123, \"max\": 782123}, \"Total Batches Seen\": {\"sum\": 1439.0, \"count\": 1, \"min\": 1439, \"max\": 1439}, \"Max Records Seen Between Resets\": {\"sum\": 70113.0, \"count\": 1, \"min\": 70113, \"max\": 70113}, \"Max Batches Seen Between Resets\": {\"sum\": 129.0, \"count\": 1, \"min\": 129, \"max\": 129}, \"Reset Count\": {\"sum\": 13.0, \"count\": 1, \"min\": 13, \"max\": 13}, \"Number of Records Since Last Reset\": {\"sum\": 70113.0, \"count\": 1, \"min\": 70113, \"max\": 70113}, \"Number of Batches Since Last Reset\": {\"sum\": 129.0, \"count\": 1, \"min\": 129, \"max\": 129}}}\u001b[0m\n",
      "\u001b[34m[10/22/2023 14:24:53 INFO 140185492723520] #throughput_metric: host=algo-1, train throughput=32814.88329393207 records/second\u001b[0m\n",
      "\u001b[34m[2023-10-22 14:24:54.858] [tensorio] [info] epoch_stats={\"data_pipeline\": \"/opt/ml/input/data/train\", \"epoch\": 25, \"duration\": 1178, \"num_examples\": 129, \"num_bytes\": 30569268}\u001b[0m\n",
      "\u001b[34m#metrics {\"StartTime\": 1697984694.8580747, \"EndTime\": 1697984694.8581412, \"Dimensions\": {\"Algorithm\": \"Linear Learner\", \"Host\": \"algo-1\", \"Operation\": \"training\", \"epoch\": 11, \"model\": 0}, \"Metrics\": {\"train_binary_classification_cross_entropy_objective\": {\"sum\": 0.33670124608804197, \"count\": 1, \"min\": 0.33670124608804197, \"max\": 0.33670124608804197}}}\u001b[0m\n",
      "\u001b[34m[10/22/2023 14:24:54 INFO 140185492723520] #quality_metric: host=algo-1, epoch=11, train binary_classification_cross_entropy_objective <loss>=0.33670124608804197\u001b[0m\n",
      "\u001b[34m[2023-10-22 14:24:55.882] [tensorio] [info] epoch_stats={\"data_pipeline\": \"/opt/ml/input/data/validation\", \"epoch\": 35, \"duration\": 1022, \"num_examples\": 37, \"num_bytes\": 8697764}\u001b[0m\n",
      "\u001b[34m#metrics {\"StartTime\": 1697984695.9083745, \"EndTime\": 1697984695.9084096, \"Dimensions\": {\"Algorithm\": \"Linear Learner\", \"Host\": \"algo-1\", \"Operation\": \"training\", \"epoch\": 11, \"model\": 0}, \"Metrics\": {\"validation_binary_classification_cross_entropy_objective\": {\"sum\": 0.33453526784438015, \"count\": 1, \"min\": 0.33453526784438015, \"max\": 0.33453526784438015}}}\u001b[0m\n",
      "\u001b[34m[10/22/2023 14:24:55 INFO 140185492723520] #quality_metric: host=algo-1, epoch=11, validation binary_classification_cross_entropy_objective <loss>=0.33453526784438015\u001b[0m\n",
      "\u001b[34m[10/22/2023 14:24:55 INFO 140185492723520] #early_stopping_criteria_metric: host=algo-1, epoch=11, criteria=sampled_accuracy, value=0.8884655872474816\u001b[0m\n",
      "\u001b[34m[10/22/2023 14:24:55 INFO 140185492723520] Epoch 11: Loss improved. Updating best model\u001b[0m\n",
      "\u001b[34m[10/22/2023 14:24:55 INFO 140185492723520] Saving model for epoch: 11\u001b[0m\n",
      "\u001b[34m[10/22/2023 14:24:55 INFO 140185492723520] Saved checkpoint to \"/tmp/tmp14zuou5n/mx-mod-0000.params\"\u001b[0m\n",
      "\u001b[34m[10/22/2023 14:24:55 INFO 140185492723520] #progress_metric: host=algo-1, completed 80.0 % of epochs\u001b[0m\n",
      "\u001b[34m#metrics {\"StartTime\": 1697984693.6788685, \"EndTime\": 1697984695.915422, \"Dimensions\": {\"Algorithm\": \"Linear Learner\", \"Host\": \"algo-1\", \"Operation\": \"training\", \"epoch\": 11, \"Meta\": \"training_data_iter\"}, \"Metrics\": {\"Total Records Seen\": {\"sum\": 852236.0, \"count\": 1, \"min\": 852236, \"max\": 852236}, \"Total Batches Seen\": {\"sum\": 1568.0, \"count\": 1, \"min\": 1568, \"max\": 1568}, \"Max Records Seen Between Resets\": {\"sum\": 70113.0, \"count\": 1, \"min\": 70113, \"max\": 70113}, \"Max Batches Seen Between Resets\": {\"sum\": 129.0, \"count\": 1, \"min\": 129, \"max\": 129}, \"Reset Count\": {\"sum\": 14.0, \"count\": 1, \"min\": 14, \"max\": 14}, \"Number of Records Since Last Reset\": {\"sum\": 70113.0, \"count\": 1, \"min\": 70113, \"max\": 70113}, \"Number of Batches Since Last Reset\": {\"sum\": 129.0, \"count\": 1, \"min\": 129, \"max\": 129}}}\u001b[0m\n",
      "\u001b[34m[10/22/2023 14:24:55 INFO 140185492723520] #throughput_metric: host=algo-1, train throughput=31346.746203643735 records/second\u001b[0m\n",
      "\u001b[34m[2023-10-22 14:24:57.003] [tensorio] [info] epoch_stats={\"data_pipeline\": \"/opt/ml/input/data/train\", \"epoch\": 27, \"duration\": 1087, \"num_examples\": 129, \"num_bytes\": 30569268}\u001b[0m\n",
      "\u001b[34m#metrics {\"StartTime\": 1697984697.0039651, \"EndTime\": 1697984697.0040867, \"Dimensions\": {\"Algorithm\": \"Linear Learner\", \"Host\": \"algo-1\", \"Operation\": \"training\", \"epoch\": 12, \"model\": 0}, \"Metrics\": {\"train_binary_classification_cross_entropy_objective\": {\"sum\": 0.33665653997484374, \"count\": 1, \"min\": 0.33665653997484374, \"max\": 0.33665653997484374}}}\u001b[0m\n",
      "\u001b[34m[10/22/2023 14:24:57 INFO 140185492723520] #quality_metric: host=algo-1, epoch=12, train binary_classification_cross_entropy_objective <loss>=0.33665653997484374\u001b[0m\n",
      "\u001b[34m[2023-10-22 14:24:58.051] [tensorio] [info] epoch_stats={\"data_pipeline\": \"/opt/ml/input/data/validation\", \"epoch\": 38, \"duration\": 1045, \"num_examples\": 37, \"num_bytes\": 8697764}\u001b[0m\n",
      "\u001b[34m#metrics {\"StartTime\": 1697984698.0724993, \"EndTime\": 1697984698.072531, \"Dimensions\": {\"Algorithm\": \"Linear Learner\", \"Host\": \"algo-1\", \"Operation\": \"training\", \"epoch\": 12, \"model\": 0}, \"Metrics\": {\"validation_binary_classification_cross_entropy_objective\": {\"sum\": 0.3344691882390917, \"count\": 1, \"min\": 0.3344691882390917, \"max\": 0.3344691882390917}}}\u001b[0m\n",
      "\u001b[34m[10/22/2023 14:24:58 INFO 140185492723520] #quality_metric: host=algo-1, epoch=12, validation binary_classification_cross_entropy_objective <loss>=0.3344691882390917\u001b[0m\n",
      "\u001b[34m[10/22/2023 14:24:58 INFO 140185492723520] #early_stopping_criteria_metric: host=algo-1, epoch=12, criteria=sampled_accuracy, value=0.8884655872474816\u001b[0m\n",
      "\u001b[34m[10/22/2023 14:24:58 INFO 140185492723520] Epoch 12: Loss improved. Updating best model\u001b[0m\n",
      "\u001b[34m[10/22/2023 14:24:58 INFO 140185492723520] Saving model for epoch: 12\u001b[0m\n",
      "\u001b[34m[10/22/2023 14:24:58 INFO 140185492723520] Saved checkpoint to \"/tmp/tmpw1gsbrh_/mx-mod-0000.params\"\u001b[0m\n",
      "\u001b[34m[10/22/2023 14:24:58 INFO 140185492723520] #progress_metric: host=algo-1, completed 86.66666666666667 % of epochs\u001b[0m\n",
      "\u001b[34m#metrics {\"StartTime\": 1697984695.9160461, \"EndTime\": 1697984698.0803819, \"Dimensions\": {\"Algorithm\": \"Linear Learner\", \"Host\": \"algo-1\", \"Operation\": \"training\", \"epoch\": 12, \"Meta\": \"training_data_iter\"}, \"Metrics\": {\"Total Records Seen\": {\"sum\": 922349.0, \"count\": 1, \"min\": 922349, \"max\": 922349}, \"Total Batches Seen\": {\"sum\": 1697.0, \"count\": 1, \"min\": 1697, \"max\": 1697}, \"Max Records Seen Between Resets\": {\"sum\": 70113.0, \"count\": 1, \"min\": 70113, \"max\": 70113}, \"Max Batches Seen Between Resets\": {\"sum\": 129.0, \"count\": 1, \"min\": 129, \"max\": 129}, \"Reset Count\": {\"sum\": 15.0, \"count\": 1, \"min\": 15, \"max\": 15}, \"Number of Records Since Last Reset\": {\"sum\": 70113.0, \"count\": 1, \"min\": 70113, \"max\": 70113}, \"Number of Batches Since Last Reset\": {\"sum\": 129.0, \"count\": 1, \"min\": 129, \"max\": 129}}}\u001b[0m\n",
      "\u001b[34m[10/22/2023 14:24:58 INFO 140185492723520] #throughput_metric: host=algo-1, train throughput=32392.220580848803 records/second\u001b[0m\n",
      "\u001b[34m[2023-10-22 14:24:59.161] [tensorio] [info] epoch_stats={\"data_pipeline\": \"/opt/ml/input/data/train\", \"epoch\": 29, \"duration\": 1079, \"num_examples\": 129, \"num_bytes\": 30569268}\u001b[0m\n",
      "\u001b[34m#metrics {\"StartTime\": 1697984699.1620007, \"EndTime\": 1697984699.1620634, \"Dimensions\": {\"Algorithm\": \"Linear Learner\", \"Host\": \"algo-1\", \"Operation\": \"training\", \"epoch\": 13, \"model\": 0}, \"Metrics\": {\"train_binary_classification_cross_entropy_objective\": {\"sum\": 0.3366158931132625, \"count\": 1, \"min\": 0.3366158931132625, \"max\": 0.3366158931132625}}}\u001b[0m\n",
      "\u001b[34m[10/22/2023 14:24:59 INFO 140185492723520] #quality_metric: host=algo-1, epoch=13, train binary_classification_cross_entropy_objective <loss>=0.3366158931132625\u001b[0m\n",
      "\u001b[34m[2023-10-22 14:25:00.191] [tensorio] [info] epoch_stats={\"data_pipeline\": \"/opt/ml/input/data/validation\", \"epoch\": 41, \"duration\": 1026, \"num_examples\": 37, \"num_bytes\": 8697764}\u001b[0m\n",
      "\u001b[34m#metrics {\"StartTime\": 1697984700.2075088, \"EndTime\": 1697984700.2075388, \"Dimensions\": {\"Algorithm\": \"Linear Learner\", \"Host\": \"algo-1\", \"Operation\": \"training\", \"epoch\": 13, \"model\": 0}, \"Metrics\": {\"validation_binary_classification_cross_entropy_objective\": {\"sum\": 0.3344002708921911, \"count\": 1, \"min\": 0.3344002708921911, \"max\": 0.3344002708921911}}}\u001b[0m\n",
      "\u001b[34m[10/22/2023 14:25:00 INFO 140185492723520] #quality_metric: host=algo-1, epoch=13, validation binary_classification_cross_entropy_objective <loss>=0.3344002708921911\u001b[0m\n",
      "\u001b[34m[10/22/2023 14:25:00 INFO 140185492723520] #early_stopping_criteria_metric: host=algo-1, epoch=13, criteria=sampled_accuracy, value=0.8884655872474816\u001b[0m\n",
      "\u001b[34m[10/22/2023 14:25:00 INFO 140185492723520] Epoch 13: Loss improved. Updating best model\u001b[0m\n",
      "\u001b[34m[10/22/2023 14:25:00 INFO 140185492723520] Saving model for epoch: 13\u001b[0m\n",
      "\u001b[34m[10/22/2023 14:25:00 INFO 140185492723520] Saved checkpoint to \"/tmp/tmp85wwbtvl/mx-mod-0000.params\"\u001b[0m\n",
      "\u001b[34m[10/22/2023 14:25:00 INFO 140185492723520] #progress_metric: host=algo-1, completed 93.33333333333333 % of epochs\u001b[0m\n",
      "\u001b[34m#metrics {\"StartTime\": 1697984698.0816376, \"EndTime\": 1697984700.2162635, \"Dimensions\": {\"Algorithm\": \"Linear Learner\", \"Host\": \"algo-1\", \"Operation\": \"training\", \"epoch\": 13, \"Meta\": \"training_data_iter\"}, \"Metrics\": {\"Total Records Seen\": {\"sum\": 992462.0, \"count\": 1, \"min\": 992462, \"max\": 992462}, \"Total Batches Seen\": {\"sum\": 1826.0, \"count\": 1, \"min\": 1826, \"max\": 1826}, \"Max Records Seen Between Resets\": {\"sum\": 70113.0, \"count\": 1, \"min\": 70113, \"max\": 70113}, \"Max Batches Seen Between Resets\": {\"sum\": 129.0, \"count\": 1, \"min\": 129, \"max\": 129}, \"Reset Count\": {\"sum\": 16.0, \"count\": 1, \"min\": 16, \"max\": 16}, \"Number of Records Since Last Reset\": {\"sum\": 70113.0, \"count\": 1, \"min\": 70113, \"max\": 70113}, \"Number of Batches Since Last Reset\": {\"sum\": 129.0, \"count\": 1, \"min\": 129, \"max\": 129}}}\u001b[0m\n",
      "\u001b[34m[10/22/2023 14:25:00 INFO 140185492723520] #throughput_metric: host=algo-1, train throughput=32843.47313650086 records/second\u001b[0m\n",
      "\u001b[34m[2023-10-22 14:25:01.295] [tensorio] [info] epoch_stats={\"data_pipeline\": \"/opt/ml/input/data/train\", \"epoch\": 31, \"duration\": 1077, \"num_examples\": 129, \"num_bytes\": 30569268}\u001b[0m\n",
      "\u001b[34m#metrics {\"StartTime\": 1697984701.2951682, \"EndTime\": 1697984701.2952352, \"Dimensions\": {\"Algorithm\": \"Linear Learner\", \"Host\": \"algo-1\", \"Operation\": \"training\", \"epoch\": 14, \"model\": 0}, \"Metrics\": {\"train_binary_classification_cross_entropy_objective\": {\"sum\": 0.33657873137032285, \"count\": 1, \"min\": 0.33657873137032285, \"max\": 0.33657873137032285}}}\u001b[0m\n",
      "\u001b[34m[10/22/2023 14:25:01 INFO 140185492723520] #quality_metric: host=algo-1, epoch=14, train binary_classification_cross_entropy_objective <loss>=0.33657873137032285\u001b[0m\n"
     ]
    },
    {
     "name": "stdout",
     "output_type": "stream",
     "text": [
      "\u001b[34m[2023-10-22 14:25:02.328] [tensorio] [info] epoch_stats={\"data_pipeline\": \"/opt/ml/input/data/validation\", \"epoch\": 44, \"duration\": 1031, \"num_examples\": 37, \"num_bytes\": 8697764}\u001b[0m\n",
      "\u001b[34m#metrics {\"StartTime\": 1697984702.347937, \"EndTime\": 1697984702.3479683, \"Dimensions\": {\"Algorithm\": \"Linear Learner\", \"Host\": \"algo-1\", \"Operation\": \"training\", \"epoch\": 14, \"model\": 0}, \"Metrics\": {\"validation_binary_classification_cross_entropy_objective\": {\"sum\": 0.3343341844028934, \"count\": 1, \"min\": 0.3343341844028934, \"max\": 0.3343341844028934}}}\u001b[0m\n",
      "\u001b[34m[10/22/2023 14:25:02 INFO 140185492723520] #quality_metric: host=algo-1, epoch=14, validation binary_classification_cross_entropy_objective <loss>=0.3343341844028934\u001b[0m\n",
      "\u001b[34m[10/22/2023 14:25:02 INFO 140185492723520] #early_stopping_criteria_metric: host=algo-1, epoch=14, criteria=sampled_accuracy, value=0.8884655872474816\u001b[0m\n",
      "\u001b[34m[10/22/2023 14:25:02 INFO 140185492723520] Epoch 14: Loss improved. Updating best model\u001b[0m\n",
      "\u001b[34m[10/22/2023 14:25:02 INFO 140185492723520] Saving model for epoch: 14\u001b[0m\n",
      "\u001b[34m[10/22/2023 14:25:02 INFO 140185492723520] Saved checkpoint to \"/tmp/tmpj2fkv4r6/mx-mod-0000.params\"\u001b[0m\n",
      "\u001b[34m[10/22/2023 14:25:02 INFO 140185492723520] #progress_metric: host=algo-1, completed 100.0 % of epochs\u001b[0m\n",
      "\u001b[34m#metrics {\"StartTime\": 1697984700.2178814, \"EndTime\": 1697984702.354698, \"Dimensions\": {\"Algorithm\": \"Linear Learner\", \"Host\": \"algo-1\", \"Operation\": \"training\", \"epoch\": 14, \"Meta\": \"training_data_iter\"}, \"Metrics\": {\"Total Records Seen\": {\"sum\": 1062575.0, \"count\": 1, \"min\": 1062575, \"max\": 1062575}, \"Total Batches Seen\": {\"sum\": 1955.0, \"count\": 1, \"min\": 1955, \"max\": 1955}, \"Max Records Seen Between Resets\": {\"sum\": 70113.0, \"count\": 1, \"min\": 70113, \"max\": 70113}, \"Max Batches Seen Between Resets\": {\"sum\": 129.0, \"count\": 1, \"min\": 129, \"max\": 129}, \"Reset Count\": {\"sum\": 17.0, \"count\": 1, \"min\": 17, \"max\": 17}, \"Number of Records Since Last Reset\": {\"sum\": 70113.0, \"count\": 1, \"min\": 70113, \"max\": 70113}, \"Number of Batches Since Last Reset\": {\"sum\": 129.0, \"count\": 1, \"min\": 129, \"max\": 129}}}\u001b[0m\n",
      "\u001b[34m[10/22/2023 14:25:02 INFO 140185492723520] #throughput_metric: host=algo-1, train throughput=32810.12010809396 records/second\u001b[0m\n",
      "\u001b[34m[10/22/2023 14:25:02 WARNING 140185492723520] wait_for_all_workers will not sync workers since the kv store is not running distributed\u001b[0m\n",
      "\u001b[34m[10/22/2023 14:25:02 WARNING 140185492723520] wait_for_all_workers will not sync workers since the kv store is not running distributed\u001b[0m\n",
      "\u001b[34m[2023-10-22 14:25:03.490] [tensorio] [info] epoch_stats={\"data_pipeline\": \"/opt/ml/input/data/validation\", \"epoch\": 47, \"duration\": 1134, \"num_examples\": 37, \"num_bytes\": 8697764}\u001b[0m\n",
      "\u001b[34m[10/22/2023 14:25:03 INFO 140185492723520] #early_stopping_criteria_metric: host=algo-1, epoch=14, criteria=sampled_accuracy, value=0.8884655872474816\u001b[0m\n",
      "\u001b[34m[10/22/2023 14:25:03 INFO 140185492723520] Epoch 14: Loss improved. Updating best model\u001b[0m\n",
      "\u001b[34m[2023-10-22 14:25:04.613] [tensorio] [info] epoch_stats={\"data_pipeline\": \"/opt/ml/input/data/validation\", \"epoch\": 49, \"duration\": 1103, \"num_examples\": 37, \"num_bytes\": 8697764}\u001b[0m\n",
      "\u001b[34m[10/22/2023 14:25:04 INFO 140185492723520] #validation_score (algo-1) : ('binary_classification_cross_entropy_objective', 0.3343341844028934)\u001b[0m\n",
      "\u001b[34m[10/22/2023 14:25:04 INFO 140185492723520] #validation_score (algo-1) : ('binary_classification_accuracy', 0.8884154594215249)\u001b[0m\n",
      "\u001b[34m[10/22/2023 14:25:04 INFO 140185492723520] #validation_score (algo-1) : ('binary_f_1.000', 0.0141718334809566)\u001b[0m\n",
      "\u001b[34m[10/22/2023 14:25:04 INFO 140185492723520] #validation_score (algo-1) : ('precision', 0.6153846153846154)\u001b[0m\n",
      "\u001b[34m[10/22/2023 14:25:04 INFO 140185492723520] #validation_score (algo-1) : ('recall', 0.007168458781362007)\u001b[0m\n",
      "\u001b[34m[10/22/2023 14:25:04 INFO 140185492723520] #validation_score (algo-1) : ('roc_auc_score', 0.6590770604261383)\u001b[0m\n",
      "\u001b[34m[10/22/2023 14:25:04 INFO 140185492723520] #validation_score (algo-1) : ('binary_balanced_accuracy', 0.5)\u001b[0m\n",
      "\u001b[34m[10/22/2023 14:25:04 INFO 140185492723520] #validation_score (algo-1) : ('binary_log_loss', 0.732258963532462)\u001b[0m\n",
      "\u001b[34m[10/22/2023 14:25:04 INFO 140185492723520] #quality_metric: host=algo-1, validation binary_classification_cross_entropy_objective <loss>=0.3343341844028934\u001b[0m\n",
      "\u001b[34m[10/22/2023 14:25:04 INFO 140185492723520] #quality_metric: host=algo-1, validation binary_classification_accuracy <score>=0.8884154594215249\u001b[0m\n",
      "\u001b[34m[10/22/2023 14:25:04 INFO 140185492723520] #quality_metric: host=algo-1, validation binary_f_1.000 <score>=0.0141718334809566\u001b[0m\n",
      "\u001b[34m[10/22/2023 14:25:04 INFO 140185492723520] #quality_metric: host=algo-1, validation precision <score>=0.6153846153846154\u001b[0m\n",
      "\u001b[34m[10/22/2023 14:25:04 INFO 140185492723520] #quality_metric: host=algo-1, validation recall <score>=0.007168458781362007\u001b[0m\n",
      "\u001b[34m[10/22/2023 14:25:04 INFO 140185492723520] #quality_metric: host=algo-1, validation roc_auc_score <score>=0.6590770604261383\u001b[0m\n",
      "\u001b[34m[10/22/2023 14:25:04 INFO 140185492723520] #quality_metric: host=algo-1, validation binary_balanced_accuracy <score>=0.5\u001b[0m\n",
      "\u001b[34m[10/22/2023 14:25:04 INFO 140185492723520] #quality_metric: host=algo-1, validation binary_log_loss <score>=0.732258963532462\u001b[0m\n",
      "\u001b[34m[10/22/2023 14:25:04 INFO 140185492723520] Best model found for hyperparameters: {\"optimizer\": \"adam\", \"learning_rate\": 0.006531347284412078, \"l1\": 0.706314574745013, \"wd\": 0.003497411332520406, \"lr_scheduler_step\": 10, \"lr_scheduler_factor\": 0.99, \"lr_scheduler_minimum_lr\": 1e-05}\u001b[0m\n",
      "\u001b[34m[10/22/2023 14:25:04 INFO 140185492723520] Saved checkpoint to \"/tmp/tmpv3wvpyqc/mx-mod-0000.params\"\u001b[0m\n",
      "\u001b[34m[10/22/2023 14:25:04 INFO 140185492723520] Test data is not provided.\u001b[0m\n",
      "\u001b[34m#metrics {\"StartTime\": 1697984666.2770572, \"EndTime\": 1697984704.6520147, \"Dimensions\": {\"Algorithm\": \"Linear Learner\", \"Host\": \"algo-1\", \"Operation\": \"training\"}, \"Metrics\": {\"initialize.time\": {\"sum\": 2205.641508102417, \"count\": 1, \"min\": 2205.641508102417, \"max\": 2205.641508102417}, \"epochs\": {\"sum\": 15.0, \"count\": 1, \"min\": 15, \"max\": 15}, \"check_early_stopping.time\": {\"sum\": 16.095876693725586, \"count\": 16, \"min\": 0.8623600006103516, \"max\": 1.1548995971679688}, \"update.time\": {\"sum\": 33787.05406188965, \"count\": 15, \"min\": 2097.668170928955, \"max\": 3479.2871475219727}, \"finalize.time\": {\"sum\": 2293.086290359497, \"count\": 1, \"min\": 2293.086290359497, \"max\": 2293.086290359497}, \"setuptime\": {\"sum\": 2.370119094848633, \"count\": 1, \"min\": 2.370119094848633, \"max\": 2.370119094848633}, \"totaltime\": {\"sum\": 38481.4887046814, \"count\": 1, \"min\": 38481.4887046814, \"max\": 38481.4887046814}}}\u001b[0m\n",
      "\n",
      "2023-10-22 14:25:24 Uploading - Uploading generated training model\n",
      "2023-10-22 14:25:24 Completed - Training job completed\n",
      "Training seconds: 173\n",
      "Billable seconds: 173\n",
      "CPU times: user 1.01 s, sys: 37.4 ms, total: 1.05 s\n",
      "Wall time: 4min 44s\n"
     ]
    }
   ],
   "source": [
    "%%time\n",
    "sess = sagemaker.Session()\n",
    "\n",
    "# Setup the LinearLeaner algorithm from the ECR container\n",
    "linear = sagemaker.estimator.Estimator(container,\n",
    "                                       role,\n",
    "                                       hyperparameters=best_hyperparameters,\n",
    "                                       instance_count=1, \n",
    "                                       instance_type='ml.c4.xlarge',\n",
    "                                       output_path=output_location,\n",
    "                                       sagemaker_session=sess,\n",
    "                                       input_mode='Pipe')\n",
    "\n",
    "\n",
    "# Launch a training job. This method calls the CreateTrainingJob API call\n",
    "data_channels = {\n",
    "    'train': training_data_location,\n",
    "    'validation': validation_data_location\n",
    "}\n",
    "linear.fit(data_channels, job_name=job_name)"
   ]
  },
  {
   "cell_type": "code",
   "execution_count": 8,
   "id": "104b15e6",
   "metadata": {},
   "outputs": [
    {
     "name": "stdout",
     "output_type": "stream",
     "text": [
      "Here is the location of the trained Linear Learner model: s3://diabetes-directory/linear_learner//diabetes-LL-job-optimized-20231022142100/output/model.tar.gz\n"
     ]
    }
   ],
   "source": [
    "print('Here is the location of the trained Linear Learner model: {}/{}/output/model.tar.gz'.format(output_location, job_name))"
   ]
  },
  {
   "cell_type": "markdown",
   "id": "8bf7cbb8",
   "metadata": {},
   "source": [
    "### 3.4 Deploy Optimized Model for Real Time Inference Calls via Gateway API and Lambda"
   ]
  },
  {
   "cell_type": "markdown",
   "id": "6a53205c",
   "metadata": {},
   "source": [
    "We will deploy our Linear Learner model in a similar manner with which we deployed our XGBoost model. \n",
    "\n",
    "With employing the Lambda.py file code within a Lambda function, and accessing this within an API Gateway, we are able to submit a patient record (that is formatted in JSON) to the Gateway, and have a \"Readmitted\"/\"Not Readmitted\" response returned."
   ]
  },
  {
   "cell_type": "code",
   "execution_count": 9,
   "id": "ff9c83a3",
   "metadata": {
    "scrolled": true
   },
   "outputs": [
    {
     "name": "stderr",
     "output_type": "stream",
     "text": [
      "INFO:sagemaker:Creating model with name: linear-learner-2023-10-22-14-25-46-215\n",
      "INFO:sagemaker:Creating endpoint-config with name linear-learner-2023-10-22-14-25-46-215\n",
      "INFO:sagemaker:Creating endpoint with name linear-learner-2023-10-22-14-25-46-215\n"
     ]
    },
    {
     "name": "stdout",
     "output_type": "stream",
     "text": [
      "-------!"
     ]
    }
   ],
   "source": [
    "deployed_predictor = linear.deploy(initial_instance_count=1, instance_type='ml.m4.xlarge')"
   ]
  },
  {
   "cell_type": "markdown",
   "id": "193cb80f",
   "metadata": {},
   "source": [
    "### 3.5 Identify Optimal Likelihood Cutoff for our Predictions"
   ]
  },
  {
   "cell_type": "markdown",
   "id": "a609eec0",
   "metadata": {},
   "source": [
    "#### Here we read in our holdout test dataset for assessment on the deployed model."
   ]
  },
  {
   "cell_type": "code",
   "execution_count": 10,
   "id": "bf8e49f9",
   "metadata": {},
   "outputs": [],
   "source": [
    "def CSV_Reader(bucket, subfolder, source_file_name):\n",
    "    \n",
    "    '''The CSV_Reader() function takes in the names of the bucket, subfolder, and source file name, and desired dataframe name. \n",
    "    It first constructs the filepath, and then imports the file residing at this filepath, based on the title fed to the function.\n",
    "    \n",
    "    Arguments \n",
    "    --------- \n",
    "    bucket: Head S3 repository bucket\n",
    "    subfolder: Subfolder containing the source data\n",
    "    source_file_name: Name of source CSV data file \n",
    "    \n",
    "    Return\n",
    "    ---------\n",
    "    Returns the source data in a pandas dataframe '''\n",
    "    \n",
    "    data_location = 's3://{}/{}/{}'.format(bucket, subfolder, source_file_name)  \n",
    "    dataset = pd.read_csv(data_location, low_memory=False)\n",
    "    return dataset"
   ]
  },
  {
   "cell_type": "code",
   "execution_count": 11,
   "id": "a8dedc2d",
   "metadata": {
    "scrolled": true
   },
   "outputs": [
    {
     "name": "stderr",
     "output_type": "stream",
     "text": [
      "INFO:botocore.credentials:Found credentials from IAM Role: BaseNotebookInstanceEc2InstanceRole\n"
     ]
    }
   ],
   "source": [
    "test_dataset = CSV_Reader(bucket, folder, 'test.csv')"
   ]
  },
  {
   "cell_type": "markdown",
   "id": "404da171",
   "metadata": {},
   "source": [
    "#### We seperate our dependent and independent variables from the test dataset, so that they can be fed to the deployed model for a patch prediction job."
   ]
  },
  {
   "cell_type": "code",
   "execution_count": 12,
   "id": "6890e84b",
   "metadata": {},
   "outputs": [],
   "source": [
    "test_X = test_dataset.drop(columns='readmitted').values\n",
    "test_y = test_dataset['readmitted'].values"
   ]
  },
  {
   "cell_type": "markdown",
   "id": "18ab1672",
   "metadata": {},
   "source": [
    "#### Here we make the necessary specifications to format our data, and then feed it to the deployed model.\n",
    "<br>\n",
    "Our responses are returned to us in a list of values (between 0 and 1) demonstrating how likely each individual record is to be readmitted."
   ]
  },
  {
   "cell_type": "code",
   "execution_count": 13,
   "id": "1702c877",
   "metadata": {},
   "outputs": [
    {
     "name": "stdout",
     "output_type": "stream",
     "text": [
      "10052\n"
     ]
    }
   ],
   "source": [
    "deployed_predictor.serializer = sagemaker.serializers.CSVSerializer()\n",
    "deployed_predictor.deserializer = sagemaker.deserializers.JSONDeserializer()\n",
    "\n",
    "predictions = []\n",
    "results = deployed_predictor.predict(test_X)\n",
    "predictions += [r['score'] for r in results['predictions']]\n",
    "\n",
    "print(len(predictions))"
   ]
  },
  {
   "cell_type": "code",
   "execution_count": 14,
   "id": "ca49c2df",
   "metadata": {},
   "outputs": [],
   "source": [
    "test_dataset['predictions'] = predictions"
   ]
  },
  {
   "cell_type": "markdown",
   "id": "fb7b9861",
   "metadata": {},
   "source": [
    "Here we will look at the distribution of our prediction values."
   ]
  },
  {
   "cell_type": "code",
   "execution_count": 15,
   "id": "d34f1718",
   "metadata": {},
   "outputs": [
    {
     "data": {
      "image/png": "[encoded data removed]",
      "text/plain": [
       "<Figure size 640x480 with 1 Axes>"
      ]
     },
     "metadata": {},
     "output_type": "display_data"
    },
    {
     "name": "stdout",
     "output_type": "stream",
     "text": [
      "The mean predictive value for the test dataset is: 0.10507017406540482\n"
     ]
    }
   ],
   "source": [
    "plt.hist(test_dataset.predictions, bins=1000, density=True, alpha=0.7, color='blue')\n",
    "plt.xlabel('Predicted Values for Holdout Test Dataset')\n",
    "plt.ylabel('Frequency')\n",
    "plt.title('Distribution of Prediction Values from Model')\n",
    "\n",
    "mean_value = np.mean(test_dataset.predictions)\n",
    "max_value = np.max(test_dataset.predictions)\n",
    "min_value = np.min(test_dataset.predictions)\n",
    "\n",
    "\n",
    "# Add mean line to the histogram\n",
    "plt.axvline(mean_value, color='red', linestyle='dashed', linewidth=2, label=f'Mean Prediction Value: {mean_value:.2f}')\n",
    "\n",
    "plt.axvline(max_value, color='orange', linestyle='dashed', linewidth=1, label=f'Maximum Prediction Value: {max_value:.2f}')\n",
    "\n",
    "plt.axvline(min_value, color='green', linestyle='dashed', linewidth=1, label=f'Minimum Prediction Value: {min_value:.2f}')\n",
    "\n",
    "\n",
    "# Display legend\n",
    "plt.legend()\n",
    "\n",
    "# Show the histogram\n",
    "plt.show()\n",
    "\n",
    "print('The mean predictive value for the test dataset is: {}'.format(mean_value))"
   ]
  },
  {
   "cell_type": "markdown",
   "id": "6a10d358",
   "metadata": {},
   "source": [
    "As we can see here, our algorithm is hesitant to place much predictive weight behind any particular patient record, and so the majority of our predictions are centered near 0.1 and skew right. As the dataset is weighted heavily towards those who were not readmitted (i.e about 1 in 10 patients being readmitted), this makes sense.\n",
    "\n",
    "We will therefore institute a prediction/rounding cutoff value lower than 0.5 to determine which records are predicted as being readmitted. As the mean prediction is around 10.5, using this value instead of 0.5 would likely predict around half of records as being classified as readmissions.\n",
    "\n",
    "We will therefore use a average of these predictions is likely a good place to start. Let us try this value, as well with a few other values to see which cutoff value gives us the best statistical outcome.\n",
    "\n",
    "As mentioned earlier, optimizing the Area Under the Curve (AUC) metric will be our highest priority, as this metric takes into account both false positives and false negatives."
   ]
  },
  {
   "cell_type": "markdown",
   "id": "4bff5820",
   "metadata": {},
   "source": [
    "#### Here we create new lists that will cut probabilities (ranging from 50% to 5%), while focusing on cutoff values close to the mean prediction of 10.5%. "
   ]
  },
  {
   "cell_type": "code",
   "execution_count": 16,
   "id": "eb3ed8f3",
   "metadata": {},
   "outputs": [],
   "source": [
    "pred_50 = [1 if i>=0.5 else 0 for i in test_dataset[\"predictions\"]]\n",
    "pred_20 = [1 if i>=0.2 else 0 for i in test_dataset[\"predictions\"]]\n",
    "pred_12 = [1 if i>=0.12 else 0 for i in test_dataset[\"predictions\"]]\n",
    "pred_11 = [1 if i>=0.11 else 0 for i in test_dataset[\"predictions\"]]\n",
    "pred_105 = [1 if i>=0.10507 else 0 for i in test_dataset[\"predictions\"]]\n",
    "pred_1025 = [1 if i>=0.1025 else 0 for i in test_dataset[\"predictions\"]]\n",
    "pred_10 = [1 if i>=0.1 else 0 for i in test_dataset[\"predictions\"]]\n",
    "pred_05 = [1 if i>=0.05 else 0 for i in test_dataset[\"predictions\"]]"
   ]
  },
  {
   "cell_type": "markdown",
   "id": "b88f1739",
   "metadata": {},
   "source": [
    "#### Each list is now a series of 1/0 values"
   ]
  },
  {
   "cell_type": "code",
   "execution_count": 17,
   "id": "144d1940",
   "metadata": {},
   "outputs": [
    {
     "data": {
      "text/plain": [
       "[0, 1, 0, 0, 0, 0, 0, 0, 0, 0, 0, 0, 0, 0, 0, 0, 0, 0, 0, 0]"
      ]
     },
     "execution_count": 17,
     "metadata": {},
     "output_type": "execute_result"
    }
   ],
   "source": [
    "pred_105[0:20]"
   ]
  },
  {
   "cell_type": "markdown",
   "id": "4d3c3e77",
   "metadata": {},
   "source": [
    "#### Here we list our different prediction lists together"
   ]
  },
  {
   "cell_type": "code",
   "execution_count": 18,
   "id": "5f112dcf",
   "metadata": {},
   "outputs": [],
   "source": [
    "list_of_prediction_lists = [pred_50, pred_20, pred_12, pred_11, pred_105, pred_1025, pred_10, pred_05]"
   ]
  },
  {
   "cell_type": "markdown",
   "id": "47ed56da",
   "metadata": {},
   "source": [
    "#### Here we provde an accompanying name for each list, based off of the respective likelihood cutoff value applied to the list "
   ]
  },
  {
   "cell_type": "code",
   "execution_count": 19,
   "id": "1c65317c",
   "metadata": {},
   "outputs": [],
   "source": [
    "names_of_levels = ['50%', '20%', '12%', '11%', '10.571% (mean)', '10.25%', '10%', '5%']"
   ]
  },
  {
   "cell_type": "markdown",
   "id": "61975bd0",
   "metadata": {},
   "source": [
    "#### Here we define the function to conduct our statistical analysis"
   ]
  },
  {
   "cell_type": "code",
   "execution_count": 20,
   "id": "be6e52f5",
   "metadata": {},
   "outputs": [],
   "source": [
    "def Linear_Learner_Statistical_Evaluation(probability_rounding_threshold_values, names_of_levels):\n",
    "    \n",
    "    '''The CSV_Reader() function takes different readmission predictions, based off of different likelihood roundoff \n",
    "    values, and computes different \n",
    "    \n",
    "    Arguments \n",
    "    --------- \n",
    "    probability_rounding_threshold_values: A list of probabilities for each likelihood cutoff value\n",
    "    subfolder: A list of names for each item of the probability_rounding_threshold_values list, representing \n",
    "        the implimented likelihood cutoff value\n",
    "    \n",
    "    Return\n",
    "    ---------\n",
    "    For each prediction list, the following is computed:\n",
    "    -The likelihood cutoff value being used\n",
    "    -The number of predicted positived\n",
    "    -The accuracy of the predictions\n",
    "    -The precision of the predictions\n",
    "    -The recall of the predictions\n",
    "    -The F1 score of the predictions\n",
    "    -The ROC AUC score of the predictions\n",
    "    '''\n",
    "    \n",
    "    for i, j in zip(probability_rounding_threshold_values, names_of_levels):\n",
    "        y_test = test_dataset['readmitted']\n",
    "        scores = precision_recall_fscore_support(y_test, i, average='macro', labels=np.unique(i))\n",
    "        acc = accuracy_score(y_test, i)\n",
    "        roc = roc_auc_score(y_test, i)\n",
    "        positives = sum(i)\n",
    "        \n",
    "        print()\n",
    "        print('The cutoff percentage being used for predictions is: {}'.format(j))\n",
    "        print('Number of predicted readmissions: {}'.format(positives))\n",
    "        print('Accuracy is: {}'.format(acc))\n",
    "        print('Precision is: {}'.format(scores[0]))\n",
    "        print('Recall is: {}'.format(scores[1]))\n",
    "        print('F1 score is: {}'.format(scores[2]))     \n",
    "        print('ROC AUC score (i.e. the metric of primary interest) is: {}'.format(roc))"
   ]
  },
  {
   "cell_type": "markdown",
   "id": "c9271819",
   "metadata": {},
   "source": [
    "#### Here we assess the statistical output for the predictions from each likelihood cutoff level"
   ]
  },
  {
   "cell_type": "code",
   "execution_count": 21,
   "id": "bbae5e6c",
   "metadata": {
    "scrolled": true
   },
   "outputs": [
    {
     "name": "stdout",
     "output_type": "stream",
     "text": [
      "\n",
      "The cutoff percentage being used for predictions is: 50%\n",
      "Number of predicted readmissions: 31\n",
      "Accuracy is: 0.8803223239156387\n",
      "Precision is: 0.730947268800036\n",
      "Recall is: 0.5067153695699708\n",
      "F1 score is: 0.4826434029477959\n",
      "ROC AUC score (i.e. the metric of primary interest) is: 0.5067153695699708\n",
      "\n",
      "The cutoff percentage being used for predictions is: 20%\n",
      "Number of predicted readmissions: 559\n",
      "Accuracy is: 0.8586350974930362\n",
      "Precision is: 0.6002267559167502\n",
      "Recall is: 0.5497832556063751\n",
      "F1 score is: 0.5591592593659074\n",
      "ROC AUC score (i.e. the metric of primary interest) is: 0.5497832556063751\n",
      "\n",
      "The cutoff percentage being used for predictions is: 12%\n",
      "Number of predicted readmissions: 2138\n",
      "Accuracy is: 0.7576601671309192\n",
      "Precision is: 0.5588339381749504\n",
      "Recall is: 0.5931785608381931\n",
      "F1 score is: 0.5633015593376747\n",
      "ROC AUC score (i.e. the metric of primary interest) is: 0.5931785608381931\n",
      "\n",
      "The cutoff percentage being used for predictions is: 11%\n",
      "Number of predicted readmissions: 2771\n",
      "Accuracy is: 0.7145841623557501\n",
      "Precision is: 0.5553016108377371\n",
      "Recall is: 0.6044358655248742\n",
      "F1 score is: 0.5505210416703197\n",
      "ROC AUC score (i.e. the metric of primary interest) is: 0.6044358655248742\n",
      "\n",
      "The cutoff percentage being used for predictions is: 10.571% (mean)\n",
      "Number of predicted readmissions: 3179\n",
      "Accuracy is: 0.6845403899721448\n",
      "Precision is: 0.5519784942899915\n",
      "Recall is: 0.6063028475922614\n",
      "F1 score is: 0.5377132622965534\n",
      "ROC AUC score (i.e. the metric of primary interest) is: 0.6063028475922614\n",
      "\n",
      "The cutoff percentage being used for predictions is: 10.25%\n",
      "Number of predicted readmissions: 3420\n",
      "Accuracy is: 0.668324711500199\n",
      "Precision is: 0.5522957096198478\n",
      "Recall is: 0.6110250598302887\n",
      "F1 score is: 0.5320860381468906\n",
      "ROC AUC score (i.e. the metric of primary interest) is: 0.6110250598302885\n",
      "\n",
      "The cutoff percentage being used for predictions is: 10%\n",
      "Number of predicted readmissions: 3653\n",
      "Accuracy is: 0.6505173099880621\n",
      "Precision is: 0.5505276732133797\n",
      "Recall is: 0.6105542426339106\n",
      "F1 score is: 0.5234213760126478\n",
      "ROC AUC score (i.e. the metric of primary interest) is: 0.6105542426339106\n",
      "\n",
      "The cutoff percentage being used for predictions is: 5%\n",
      "Number of predicted readmissions: 10036\n",
      "Accuracy is: 0.12176681257461201\n",
      "Precision is: 0.560183339976086\n",
      "Recall is: 0.5009045680687472\n",
      "F1 score is: 0.10924094555972867\n",
      "ROC AUC score (i.e. the metric of primary interest) is: 0.5009045680687472\n"
     ]
    }
   ],
   "source": [
    "Linear_Learner_Statistical_Evaluation(list_of_prediction_lists, names_of_levels)"
   ]
  },
  {
   "cell_type": "markdown",
   "id": "27da47ae",
   "metadata": {},
   "source": [
    "#### By looking at the above, it would appear that the highest AUC value is somewhere between 10.5% and 10%. Let us explore this more granularly..."
   ]
  },
  {
   "cell_type": "code",
   "execution_count": 22,
   "id": "32e7a7ae",
   "metadata": {},
   "outputs": [],
   "source": [
    "pred_1024 = [1 if i>=0.1024 else 0 for i in test_dataset[\"predictions\"]]\n",
    "pred_102425 = [1 if i>=0.102425 else 0 for i in test_dataset[\"predictions\"]]\n",
    "pred_10245 = [1 if i>=0.10245 else 0 for i in test_dataset[\"predictions\"]]\n",
    "pred_102475 = [1 if i>=0.102475 else 0 for i in test_dataset[\"predictions\"]]\n",
    "pred_1025 = [1 if i>=0.1025 else 0 for i in test_dataset[\"predictions\"]]\n",
    "pred_102524 = [1 if i>=0.102524 else 0 for i in test_dataset[\"predictions\"]]\n",
    "pred_102525 = [1 if i>=0.102525 else 0 for i in test_dataset[\"predictions\"]]\n",
    "pred_102526 = [1 if i>=0.102526 else 0 for i in test_dataset[\"predictions\"]]\n",
    "pred_102575 = [1 if i>=0.102575 else 0 for i in test_dataset[\"predictions\"]]\n",
    "pred_1026 = [1 if i>=0.1026 else 0 for i in test_dataset[\"predictions\"]]"
   ]
  },
  {
   "cell_type": "markdown",
   "id": "9fda1ac3",
   "metadata": {},
   "source": [
    "#### Here we list our different prediction lists together"
   ]
  },
  {
   "cell_type": "code",
   "execution_count": 23,
   "id": "377edaa4",
   "metadata": {},
   "outputs": [],
   "source": [
    "more_precise_rounding_threshold_predictions = [pred_1024, pred_102425, pred_10245, pred_102475, pred_102524, pred_1025, pred_102525, pred_102526, pred_102575, pred_1026]"
   ]
  },
  {
   "cell_type": "markdown",
   "id": "9a814670",
   "metadata": {},
   "source": [
    "#### Here we provde an accompanying name for each list, based off of the respective likelihood cutoff value applied to the list "
   ]
  },
  {
   "cell_type": "code",
   "execution_count": 24,
   "id": "df8923b5",
   "metadata": {},
   "outputs": [],
   "source": [
    "more_precise_names_of_levels = ['10.24%', '10.2425%','10.245%', '10.2475%','10.25%', '10.2524%', '10.2525%', '10.2526%', '10.2575', '10.26%']"
   ]
  },
  {
   "cell_type": "code",
   "execution_count": 25,
   "id": "1588aec9",
   "metadata": {
    "scrolled": true
   },
   "outputs": [
    {
     "name": "stdout",
     "output_type": "stream",
     "text": [
      "\n",
      "The cutoff percentage being used for predictions is: 10.24%\n",
      "Number of predicted readmissions: 3431\n",
      "Accuracy is: 0.6674293672900915\n",
      "Precision is: 0.552143425542788\n",
      "Recall is: 0.6108736120720899\n",
      "F1 score is: 0.5316025094597477\n",
      "ROC AUC score (i.e. the metric of primary interest) is: 0.6108736120720898\n",
      "\n",
      "The cutoff percentage being used for predictions is: 10.2425%\n",
      "Number of predicted readmissions: 3427\n",
      "Accuracy is: 0.6676283326701155\n",
      "Precision is: 0.5520578095148956\n",
      "Recall is: 0.6106293113002117\n",
      "F1 score is: 0.5315999016162261\n",
      "ROC AUC score (i.e. the metric of primary interest) is: 0.6106293113002117\n",
      "\n",
      "The cutoff percentage being used for predictions is: 10.245%\n",
      "Number of predicted readmissions: 3426\n",
      "Accuracy is: 0.6677278153601274\n",
      "Precision is: 0.5520917526861314\n",
      "Recall is: 0.6106858468045084\n",
      "F1 score is: 0.5316693258758303\n",
      "ROC AUC score (i.e. the metric of primary interest) is: 0.6106858468045085\n",
      "\n",
      "The cutoff percentage being used for predictions is: 10.2475%\n",
      "Number of predicted readmissions: 3424\n",
      "Accuracy is: 0.6679267807401512\n",
      "Precision is: 0.5521596815266866\n",
      "Recall is: 0.6107989178131019\n",
      "F1 score is: 0.5318081981735796\n",
      "ROC AUC score (i.e. the metric of primary interest) is: 0.6107989178131018\n",
      "\n",
      "The cutoff percentage being used for predictions is: 10.25%\n",
      "Number of predicted readmissions: 3419\n",
      "Accuracy is: 0.6684241941902109\n",
      "Precision is: 0.5523297522332764\n",
      "Recall is: 0.6110815953345854\n",
      "F1 score is: 0.5321555180656046\n",
      "ROC AUC score (i.e. the metric of primary interest) is: 0.6110815953345853\n",
      "\n",
      "The cutoff percentage being used for predictions is: 10.2524%\n",
      "Number of predicted readmissions: 3420\n",
      "Accuracy is: 0.668324711500199\n",
      "Precision is: 0.5522957096198478\n",
      "Recall is: 0.6110250598302887\n",
      "F1 score is: 0.5320860381468906\n",
      "ROC AUC score (i.e. the metric of primary interest) is: 0.6110250598302885\n",
      "\n",
      "The cutoff percentage being used for predictions is: 10.2525%\n",
      "Number of predicted readmissions: 3419\n",
      "Accuracy is: 0.6684241941902109\n",
      "Precision is: 0.5523297522332764\n",
      "Recall is: 0.6110815953345854\n",
      "F1 score is: 0.5321555180656046\n",
      "ROC AUC score (i.e. the metric of primary interest) is: 0.6110815953345853\n",
      "\n",
      "The cutoff percentage being used for predictions is: 10.2526%\n",
      "Number of predicted readmissions: 3419\n",
      "Accuracy is: 0.6684241941902109\n",
      "Precision is: 0.5523297522332764\n",
      "Recall is: 0.6110815953345854\n",
      "F1 score is: 0.5321555180656046\n",
      "ROC AUC score (i.e. the metric of primary interest) is: 0.6110815953345853\n",
      "\n",
      "The cutoff percentage being used for predictions is: 10.2575\n",
      "Number of predicted readmissions: 3410\n",
      "Accuracy is: 0.6689216076402706\n",
      "Precision is: 0.552192967351635\n",
      "Recall is: 0.6106495292951258\n",
      "F1 score is: 0.5322189611516839\n",
      "ROC AUC score (i.e. the metric of primary interest) is: 0.6106495292951258\n",
      "\n",
      "The cutoff percentage being used for predictions is: 10.26%\n",
      "Number of predicted readmissions: 3404\n",
      "Accuracy is: 0.6695185037803422\n",
      "Precision is: 0.55239791863752\n",
      "Recall is: 0.6109887423209059\n",
      "F1 score is: 0.5326359306059317\n",
      "ROC AUC score (i.e. the metric of primary interest) is: 0.6109887423209059\n"
     ]
    }
   ],
   "source": [
    "Linear_Learner_Statistical_Evaluation(more_precise_rounding_threshold_predictions, more_precise_names_of_levels)"
   ]
  },
  {
   "cell_type": "markdown",
   "id": "8391d68d",
   "metadata": {},
   "source": [
    "From the above results, we can see that a cutoff value of 10.2525% (i.e. those predicted as being at 10.25% risk of readmission) gives us the greatest Area-Under-The-Curve value of 0.61108.\n",
    "\n",
    "This can be roughly interpreted as: \"Given a random readmitted/positive record, and random not-readmitted/negative record, the algorithm will correctly identify the positive record as being more likely to be readmitted than the negative record, 61% of the time.\n",
    "\n",
    "This value of 0.61 is fairly close to the AUC value of 0.65 that we recieved from our best hyperparameter tuning session off of the validation data subset. This indicates that while there is likely some degree of overfitting present, generally, generally our model does a good job at providing generalizable, unbiased predictions across the entirity of the patient population.\n",
    "\n",
    "Although the accuracy and precission have decreased due to our lower prediction cutoff point, we are able to predict these costly readmissions demonstratably better with the algorithm than without."
   ]
  },
  {
   "cell_type": "markdown",
   "id": "ca31b3ae",
   "metadata": {},
   "source": [
    "### 3.6 Evaluate Model"
   ]
  },
  {
   "cell_type": "code",
   "execution_count": 26,
   "id": "81e69cb9",
   "metadata": {},
   "outputs": [],
   "source": [
    "optimal_cutoff = pred_102525"
   ]
  },
  {
   "cell_type": "code",
   "execution_count": 27,
   "id": "75d2b8fe",
   "metadata": {},
   "outputs": [],
   "source": [
    "from sklearn.metrics import confusion_matrix\n",
    "from sklearn.utils.multiclass import unique_labels\n",
    "\n",
    "def Plot_Confusion_Matrix(y_true, y_pred, classes,\n",
    "                          normalize=False,\n",
    "                          title=None, \n",
    "                          cmap=None):\n",
    "    \n",
    "    '''The Plot_Confusion_Matrix() function produces a confusion matrix with which to view our final results.\n",
    "    \n",
    "    Arguments \n",
    "    --------- \n",
    "    y_true: the actual readmission values for the test dataset\n",
    "    y_pred: the predicted readmission values for the test dataset\n",
    "    classes: The names for the outcome possibilities (i.e. readmitted/not readmitted) \n",
    "    title: chart title\n",
    "    cmap: sets the color gradient\n",
    "    \n",
    "    Return\n",
    "    ---------\n",
    "    Returns the specified confusion matrix '''\n",
    "    \n",
    "    if not title:\n",
    "        if normalize:\n",
    "            title = 'Normalized confusion matrix'\n",
    "            plt.cm.Greens\n",
    "        else:\n",
    "            title = 'Confusion matrix, without normalization'\n",
    "\n",
    "    # Compute confusion matrix\n",
    "    cm = confusion_matrix(y_true, y_pred)\n",
    "    # Only use the labels that appear in the data\n",
    "    classes = classes[unique_labels(y_true, y_pred)]\n",
    "    if normalize:\n",
    "        cm = cm.astype('float') / cm.sum(axis=1)[:, np.newaxis]\n",
    "\n",
    "    fig, ax = plt.subplots()\n",
    "    im = ax.imshow(cm, interpolation='nearest', cmap=cmap)\n",
    "    ax.figure.colorbar(im, ax=ax)\n",
    "    # We want to show all ticks...\n",
    "    ax.set(xticks=np.arange(cm.shape[1]),\n",
    "           yticks=np.arange(cm.shape[0]),\n",
    "           # ... and label them with the respective list entries\n",
    "           xticklabels=classes, yticklabels=classes,\n",
    "           title=title,\n",
    "           ylabel='Actual',\n",
    "           xlabel='Predicted')\n",
    "\n",
    "    # Rotate the tick labels and set their alignment.\n",
    "    plt.setp(ax.get_xticklabels(), rotation=45, ha=\"right\",\n",
    "             rotation_mode=\"anchor\")\n",
    "\n",
    "    # Loop over data dimensions and create text annotations.\n",
    "    fmt = '.2f' if normalize else 'd'\n",
    "    thresh = cm.max() / 2.\n",
    "    for i in range(cm.shape[0]):\n",
    "        for j in range(cm.shape[1]):\n",
    "            ax.text(j, i, format(cm[i, j], fmt),\n",
    "                    ha=\"center\", va=\"center\",\n",
    "                    color=\"white\" if cm[i, j] > thresh else \"black\")\n",
    "    fig.tight_layout()\n",
    "    return ax\n",
    "\n",
    "\n",
    "np.set_printoptions(precision=2)"
   ]
  },
  {
   "cell_type": "code",
   "execution_count": 28,
   "id": "53802df0",
   "metadata": {},
   "outputs": [
    {
     "data": {
      "image/png": "[encoded data removed]",
      "text/plain": [
       "<Figure size 640x480 with 2 Axes>"
      ]
     },
     "metadata": {},
     "output_type": "display_data"
    }
   ],
   "source": [
    "%matplotlib inline\n",
    "sns.set_context(\"paper\", font_scale=1.4)\n",
    "\n",
    "y_test = test_dataset['readmitted']\n",
    "y_pred = optimal_cutoff\n",
    "\n",
    "class_names = np.array(['Not Readmitted', 'Readmitted'])\n",
    "\n",
    "# Plot non-normalized confusion matrix\n",
    "Plot_Confusion_Matrix(y_test, y_pred, classes=class_names,\n",
    "                      title='Confusion matrix',\n",
    "                      cmap=plt.cm.Blues)\n",
    "plt.grid(False)\n",
    "plt.show()"
   ]
  },
  {
   "cell_type": "markdown",
   "id": "ae6b35fa",
   "metadata": {},
   "source": [
    "#### Our final predictive statistics:"
   ]
  },
  {
   "cell_type": "code",
   "execution_count": 29,
   "id": "2a853d14",
   "metadata": {},
   "outputs": [
    {
     "name": "stdout",
     "output_type": "stream",
     "text": [
      "\n",
      "The cutoff percentage being used for predictions is: 10.2525% Cutoff\n",
      "Number of predicted readmissions: 3419\n",
      "Accuracy is: 0.6684241941902109\n",
      "Precision is: 0.5523297522332764\n",
      "Recall is: 0.6110815953345854\n",
      "F1 score is: 0.5321555180656046\n",
      "ROC AUC score (i.e. the metric of primary interest) is: 0.6110815953345853\n"
     ]
    }
   ],
   "source": [
    "Linear_Learner_Statistical_Evaluation([optimal_cutoff], ['10.2525% Cutoff'])"
   ]
  },
  {
   "cell_type": "markdown",
   "id": "a57b1634",
   "metadata": {},
   "source": [
    "For further discussion of these results, please see the accompanying assessment located here:<br>\n",
    "https://wbst-bkt.s3.amazonaws.com/index.html"
   ]
  }
 ],
 "metadata": {
  "kernelspec": {
   "display_name": "conda_python3",
   "language": "python",
   "name": "conda_python3"
  },
  "language_info": {
   "codemirror_mode": {
    "name": "ipython",
    "version": 3
   },
   "file_extension": ".py",
   "mimetype": "text/x-python",
   "name": "python",
   "nbconvert_exporter": "python",
   "pygments_lexer": "ipython3",
   "version": "3.10.12"
  }
 },
 "nbformat": 4,
 "nbformat_minor": 5
}
