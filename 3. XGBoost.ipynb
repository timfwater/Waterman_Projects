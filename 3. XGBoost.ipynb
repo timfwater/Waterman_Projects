{
 "cells": [
  {
   "cell_type": "markdown",
   "id": "de4810e5",
   "metadata": {},
   "source": [
    "## This script:\n",
    "### -Identifies the optimal hyperparameters for an XGBoost model trained on our data\n",
    "### -Trains this optimized model \n",
    "### -Deploys this optimized model \n",
    "### -Assesses this model in terms of statistical prowess and operational impact\n",
    "<br><br>\n",
    "### Outline of Notebook:\n",
    "\n",
    "#### 3.1 Establish environment and define variables\n",
    "#### 3.2 Tune Hyperparameters\n",
    "#### 3.3 Train Optimized Model\n",
    "#### 3.4 Deploy Optimized Model\n",
    "#### 3.5 Make Batch Predictions on Test Data\n",
    "&nbsp;&nbsp;&nbsp;&nbsp;Function: <u>CSV_Reader()</u>\n",
    "#### 3.6 Identify Optimal Likelihood Cutoff for Predictions\n",
    "#### 3.7 Evaluate Model<br>\n",
    "&nbsp;&nbsp;&nbsp;&nbsp;Function: <u>Plot_Confusion_Matrix()</u>\n",
    "#### 3.8 Feature Importance\n",
    "#### 3.9 Assess Financial/Operational Impact of Model"
   ]
  },
  {
   "cell_type": "markdown",
   "id": "b03e3d89",
   "metadata": {},
   "source": [
    "### 2.1 Establish Environment and Define Variables"
   ]
  },
  {
   "cell_type": "code",
   "execution_count": 1,
   "id": "0ebc1041",
   "metadata": {},
   "outputs": [
    {
     "name": "stdout",
     "output_type": "stream",
     "text": [
      "sagemaker.config INFO - Not applying SDK defaults from location: /etc/xdg/sagemaker/config.yaml\n",
      "sagemaker.config INFO - Not applying SDK defaults from location: /home/ec2-user/.config/sagemaker/config.yaml\n"
     ]
    }
   ],
   "source": [
    "import sagemaker\n",
    "from sagemaker.xgboost import XGBoost\n",
    "from sagemaker.tuner import IntegerParameter, ContinuousParameter, HyperparameterTuner\n",
    "from sagemaker.inputs import TrainingInput\n",
    "from sagemaker import get_execution_role\n",
    "from sklearn.model_selection import KFold\n",
    "from sklearn.metrics import precision_recall_fscore_support, accuracy_score, roc_auc_score\n",
    "import pandas as pd\n",
    "import numpy as np\n",
    "from datetime import datetime\n",
    "\n",
    "import sagemaker\n",
    "import boto3\n",
    "import io\n",
    "from io import StringIO\n",
    "from io import BytesIO\n",
    "from sagemaker import get_execution_role\n",
    "import sagemaker.amazon.common as smac\n",
    "import os\n",
    "from sagemaker.xgboost.estimator import XGBoost\n",
    "from sagemaker.session import Session\n",
    "from sagemaker.inputs import TrainingInput\n",
    "from sagemaker.amazon.amazon_estimator import get_image_uri\n",
    "smclient = boto3.Session().client('sagemaker')\n",
    "s3 = boto3.client('s3')"
   ]
  },
  {
   "cell_type": "markdown",
   "id": "5190ca51",
   "metadata": {},
   "source": [
    "Defining environment variables"
   ]
  },
  {
   "cell_type": "code",
   "execution_count": 2,
   "id": "23a7599b",
   "metadata": {},
   "outputs": [
    {
     "name": "stdout",
     "output_type": "stream",
     "text": [
      "sagemaker.config INFO - Not applying SDK defaults from location: /etc/xdg/sagemaker/config.yaml\n",
      "sagemaker.config INFO - Not applying SDK defaults from location: /home/ec2-user/.config/sagemaker/config.yaml\n",
      "sagemaker.config INFO - Not applying SDK defaults from location: /etc/xdg/sagemaker/config.yaml\n",
      "sagemaker.config INFO - Not applying SDK defaults from location: /home/ec2-user/.config/sagemaker/config.yaml\n"
     ]
    }
   ],
   "source": [
    "role = get_execution_role()\n",
    "sagemaker_session = sagemaker.Session()\n",
    "bucket = 'diabetes-directory'  # Replace with your S3 bucket name\n",
    "input_prefix = 'cleaned_diabetes'  # Replace with the S3 prefix where your protobuf data is stored\n",
    "k_folder = 'k' #folders to facilitate k-fold cross validation\n",
    "\n",
    "#input_file = 'reduced_dimensions_diabetes_train.csv'\n",
    "#k_fold_output = 'k_hyp_models' #folders to facilitate k-fold cross validation\n",
    "test_dataset = 'reduced_dimensions_diabetes_test.csv'\n",
    "train_dataset = \"reduced_dimensions_diabetes_train.csv\""
   ]
  },
  {
   "cell_type": "code",
   "execution_count": 3,
   "id": "e93ba90e",
   "metadata": {},
   "outputs": [],
   "source": [
    "def CSV_Reader(bucket, subfolder, source_file_name):\n",
    "    \n",
    "    '''The CSV_Reader() function takes in the names of the bucket, subfolder, and source file name, and desired dataframe name. \n",
    "    It first constructs the filepath, and then imports the file residing at this filepath, based on the title fed to the function.\n",
    "    \n",
    "    Arguments \n",
    "    --------- \n",
    "    bucket: Head S3 repository bucket\n",
    "    subfolder: Subfolder containing the source data\n",
    "    source_file_name: Name of source CSV data file \n",
    "    \n",
    "    Return\n",
    "    ---------\n",
    "    Returns the source data in a pandas dataframe '''\n",
    "    \n",
    "    data_location = 's3://{}/{}/{}'.format(bucket, subfolder, source_file_name)  \n",
    "    dataset = pd.read_csv(data_location, low_memory=False, header='infer')\n",
    "    return dataset"
   ]
  },
  {
   "cell_type": "code",
   "execution_count": 4,
   "id": "ab5f3335",
   "metadata": {},
   "outputs": [],
   "source": [
    "s3_train_filepath = 's3://{}/{}/{}'.format(bucket, input_prefix, train_dataset)\n",
    "s3_test_filepath = 's3://{}/{}/{}'.format(bucket, input_prefix, test_dataset)\n",
    "hyperparam_output_filepath = \"s3://{}/{}/hyperparam_output\".format(bucket, input_prefix)\n",
    "optimized_model_output_filepath = \"s3://{}/{}/optimized_output\".format(bucket, input_prefix)"
   ]
  },
  {
   "cell_type": "markdown",
   "id": "5055298a",
   "metadata": {},
   "source": [
    "Reading dataset"
   ]
  },
  {
   "cell_type": "code",
   "execution_count": 5,
   "id": "50bbc225",
   "metadata": {},
   "outputs": [],
   "source": [
    "diabetes = CSV_Reader(bucket, input_prefix, train_dataset)"
   ]
  },
  {
   "cell_type": "code",
   "execution_count": 6,
   "id": "55f00431",
   "metadata": {
    "scrolled": true
   },
   "outputs": [
    {
     "data": {
      "text/html": [
       "<div>\n",
       "<style scoped>\n",
       "    .dataframe tbody tr th:only-of-type {\n",
       "        vertical-align: middle;\n",
       "    }\n",
       "\n",
       "    .dataframe tbody tr th {\n",
       "        vertical-align: top;\n",
       "    }\n",
       "\n",
       "    .dataframe thead th {\n",
       "        text-align: right;\n",
       "    }\n",
       "</style>\n",
       "<table border=\"1\" class=\"dataframe\">\n",
       "  <thead>\n",
       "    <tr style=\"text-align: right;\">\n",
       "      <th></th>\n",
       "      <th>0</th>\n",
       "      <th>11</th>\n",
       "      <th>13</th>\n",
       "      <th>2</th>\n",
       "      <th>1</th>\n",
       "      <th>5</th>\n",
       "      <th>6</th>\n",
       "      <th>2.1</th>\n",
       "      <th>0.1</th>\n",
       "      <th>0.2</th>\n",
       "      <th>...</th>\n",
       "      <th>0.42</th>\n",
       "      <th>0.43</th>\n",
       "      <th>0.44</th>\n",
       "      <th>0.45</th>\n",
       "      <th>0.46</th>\n",
       "      <th>0.47</th>\n",
       "      <th>0.48</th>\n",
       "      <th>1.4</th>\n",
       "      <th>0.49</th>\n",
       "      <th>0.50</th>\n",
       "    </tr>\n",
       "  </thead>\n",
       "  <tbody>\n",
       "    <tr>\n",
       "      <th>60667</th>\n",
       "      <td>0</td>\n",
       "      <td>58</td>\n",
       "      <td>14</td>\n",
       "      <td>3</td>\n",
       "      <td>0</td>\n",
       "      <td>1</td>\n",
       "      <td>9</td>\n",
       "      <td>0</td>\n",
       "      <td>0</td>\n",
       "      <td>1</td>\n",
       "      <td>...</td>\n",
       "      <td>0</td>\n",
       "      <td>0</td>\n",
       "      <td>0</td>\n",
       "      <td>0</td>\n",
       "      <td>0</td>\n",
       "      <td>0</td>\n",
       "      <td>0</td>\n",
       "      <td>0</td>\n",
       "      <td>0</td>\n",
       "      <td>0</td>\n",
       "    </tr>\n",
       "  </tbody>\n",
       "</table>\n",
       "<p>1 rows × 62 columns</p>\n",
       "</div>"
      ],
      "text/plain": [
       "       0  11  13  2  1  5  6  2.1  0.1  0.2  ...  0.42  0.43  0.44  0.45  \\\n",
       "60667  0  58  14  3  0  1  9    0    0    1  ...     0     0     0     0   \n",
       "\n",
       "       0.46  0.47  0.48  1.4  0.49  0.50  \n",
       "60667     0     0     0    0     0     0  \n",
       "\n",
       "[1 rows x 62 columns]"
      ]
     },
     "execution_count": 6,
     "metadata": {},
     "output_type": "execute_result"
    }
   ],
   "source": [
    "diabetes.sample()"
   ]
  },
  {
   "cell_type": "code",
   "execution_count": 7,
   "id": "0acfac72",
   "metadata": {},
   "outputs": [
    {
     "data": {
      "text/plain": [
       "(85095, 62)"
      ]
     },
     "execution_count": 7,
     "metadata": {},
     "output_type": "execute_result"
    }
   ],
   "source": [
    "diabetes.shape"
   ]
  },
  {
   "cell_type": "markdown",
   "id": "ebf5a7bd",
   "metadata": {},
   "source": [
    "Preparing a function which will enable us to send out the 10 distinct train or validation datasets of our 5 K-fold"
   ]
  },
  {
   "cell_type": "code",
   "execution_count": 8,
   "id": "3496c494",
   "metadata": {},
   "outputs": [],
   "source": [
    "def Export_Processed_CSV_kfold(bucket, processed_data_folder, k_folder, local_file_name, S3_file_name):\n",
    "        \n",
    "    '''Exports a dataframe into CSV format, and sends to a specified S3 bucket location\n",
    "    \n",
    "    Arguments \n",
    "    --------- \n",
    "    bucket: A list of the columns (i.e. the 3 diagnosis columns) to be updated\n",
    "    processed_data_folder: the relevant subfolder within the main bucket\n",
    "    local_file_name: The name of the dataframe within the notebook\n",
    "    S3_file_name: The name of the file uppn export (with .csv extension included)\n",
    "    header_presence: whether or not a header will be present within the exported csv\n",
    "    \n",
    "    Return\n",
    "    ---------\n",
    "    Exports a csv file to a specified S3 location'''\n",
    "    \n",
    "    local_file_name.to_csv(S3_file_name, index=False, header=False)\n",
    "    boto3.Session().resource('s3').Bucket(bucket).Object('{}/{}/{}'.format(processed_data_folder, k_folder, S3_file_name)).upload_file(S3_file_name)"
   ]
  },
  {
   "cell_type": "code",
   "execution_count": 9,
   "id": "9f032af5",
   "metadata": {},
   "outputs": [],
   "source": [
    "# Specifies the number of folds for k-fold cross-validation\n",
    "num_folds = 5\n",
    "kf = KFold(n_splits=num_folds, shuffle=True, random_state=42)\n",
    "\n",
    "# Use globals() to create variables dynamically\n",
    "for fold, (train_index, valid_index) in enumerate(kf.split(diabetes), 1):\n",
    "    # Creates variables for train and valid datasets dynamically\n",
    "    globals()[f'train_data_{fold}'] = diabetes.iloc[train_index].copy()\n",
    "    globals()[f'validation_data_{fold}'] = diabetes.iloc[valid_index].copy()"
   ]
  },
  {
   "cell_type": "markdown",
   "id": "5286527b",
   "metadata": {},
   "source": [
    "Data looks as expected"
   ]
  },
  {
   "cell_type": "code",
   "execution_count": 10,
   "id": "0da5e072",
   "metadata": {
    "scrolled": true
   },
   "outputs": [
    {
     "data": {
      "text/html": [
       "<div>\n",
       "<style scoped>\n",
       "    .dataframe tbody tr th:only-of-type {\n",
       "        vertical-align: middle;\n",
       "    }\n",
       "\n",
       "    .dataframe tbody tr th {\n",
       "        vertical-align: top;\n",
       "    }\n",
       "\n",
       "    .dataframe thead th {\n",
       "        text-align: right;\n",
       "    }\n",
       "</style>\n",
       "<table border=\"1\" class=\"dataframe\">\n",
       "  <thead>\n",
       "    <tr style=\"text-align: right;\">\n",
       "      <th></th>\n",
       "      <th>0</th>\n",
       "      <th>11</th>\n",
       "      <th>13</th>\n",
       "      <th>2</th>\n",
       "      <th>1</th>\n",
       "      <th>5</th>\n",
       "      <th>6</th>\n",
       "      <th>2.1</th>\n",
       "      <th>0.1</th>\n",
       "      <th>0.2</th>\n",
       "      <th>...</th>\n",
       "      <th>0.42</th>\n",
       "      <th>0.43</th>\n",
       "      <th>0.44</th>\n",
       "      <th>0.45</th>\n",
       "      <th>0.46</th>\n",
       "      <th>0.47</th>\n",
       "      <th>0.48</th>\n",
       "      <th>1.4</th>\n",
       "      <th>0.49</th>\n",
       "      <th>0.50</th>\n",
       "    </tr>\n",
       "  </thead>\n",
       "  <tbody>\n",
       "    <tr>\n",
       "      <th>18948</th>\n",
       "      <td>0</td>\n",
       "      <td>47</td>\n",
       "      <td>9</td>\n",
       "      <td>3</td>\n",
       "      <td>0</td>\n",
       "      <td>0</td>\n",
       "      <td>1</td>\n",
       "      <td>0</td>\n",
       "      <td>0</td>\n",
       "      <td>1</td>\n",
       "      <td>...</td>\n",
       "      <td>0</td>\n",
       "      <td>0</td>\n",
       "      <td>0</td>\n",
       "      <td>0</td>\n",
       "      <td>0</td>\n",
       "      <td>0</td>\n",
       "      <td>0</td>\n",
       "      <td>0</td>\n",
       "      <td>0</td>\n",
       "      <td>0</td>\n",
       "    </tr>\n",
       "  </tbody>\n",
       "</table>\n",
       "<p>1 rows × 62 columns</p>\n",
       "</div>"
      ],
      "text/plain": [
       "       0  11  13  2  1  5  6  2.1  0.1  0.2  ...  0.42  0.43  0.44  0.45  \\\n",
       "18948  0  47   9  3  0  0  1    0    0    1  ...     0     0     0     0   \n",
       "\n",
       "       0.46  0.47  0.48  1.4  0.49  0.50  \n",
       "18948     0     0     0    0     0     0  \n",
       "\n",
       "[1 rows x 62 columns]"
      ]
     },
     "execution_count": 10,
     "metadata": {},
     "output_type": "execute_result"
    }
   ],
   "source": [
    "train_data_1.sample()"
   ]
  },
  {
   "cell_type": "markdown",
   "id": "74c125d6",
   "metadata": {},
   "source": [
    "Sending each fold compartment to s3"
   ]
  },
  {
   "cell_type": "code",
   "execution_count": 11,
   "id": "046b982c",
   "metadata": {},
   "outputs": [],
   "source": [
    "for i in range(1, 6):\n",
    "    train_dataset_name = f'train_data_{i}'\n",
    "    train_dataset = globals()[train_dataset_name]\n",
    "    train_csv_filename = f'{train_dataset_name}.csv'\n",
    "    Export_Processed_CSV_kfold(bucket, input_prefix, k_folder, train_dataset, train_csv_filename)\n",
    "    \n",
    "    validation_dataset_name = f'validation_data_{i}'\n",
    "    validation_dataset = globals()[validation_dataset_name]\n",
    "    validation_csv_filename = f'{validation_dataset_name}.csv'\n",
    "    Export_Processed_CSV_kfold(bucket, input_prefix, k_folder, validation_dataset, validation_csv_filename)"
   ]
  },
  {
   "cell_type": "markdown",
   "id": "c57a8b83",
   "metadata": {},
   "source": [
    "Defining filepaths for each of our 10 respective (5 train 5 validation) dataset folds"
   ]
  },
  {
   "cell_type": "code",
   "execution_count": 12,
   "id": "3025bfc4",
   "metadata": {},
   "outputs": [
    {
     "name": "stdout",
     "output_type": "stream",
     "text": [
      "[('s3://diabetes-directory/cleaned_diabetes/k/train_data_1.csv', 's3://diabetes-directory/cleaned_diabetes/k/validation_data_1.csv'), ('s3://diabetes-directory/cleaned_diabetes/k/train_data_2.csv', 's3://diabetes-directory/cleaned_diabetes/k/validation_data_2.csv'), ('s3://diabetes-directory/cleaned_diabetes/k/train_data_3.csv', 's3://diabetes-directory/cleaned_diabetes/k/validation_data_3.csv'), ('s3://diabetes-directory/cleaned_diabetes/k/train_data_4.csv', 's3://diabetes-directory/cleaned_diabetes/k/validation_data_4.csv'), ('s3://diabetes-directory/cleaned_diabetes/k/train_data_5.csv', 's3://diabetes-directory/cleaned_diabetes/k/validation_data_5.csv')]\n"
     ]
    }
   ],
   "source": [
    "train_filepath = []\n",
    "validation_filepath = []\n",
    "\n",
    "for i in range(1, 6):\n",
    "    train_filepath.append(f's3://{bucket}/{input_prefix}/{k_folder}/train_data_{i}.csv')\n",
    "    validation_filepath.append(f's3://{bucket}/{input_prefix}/{k_folder}/validation_data_{i}.csv')\n",
    "\n",
    "filepaths_list = list(zip(train_filepath, validation_filepath))\n",
    "print(filepaths_list)"
   ]
  },
  {
   "cell_type": "markdown",
   "id": "002a4c3a",
   "metadata": {},
   "source": [
    "## 2.2 Tuning Hyperparameters"
   ]
  },
  {
   "cell_type": "markdown",
   "id": "d8baed7c",
   "metadata": {},
   "source": [
    "Specifying Tuning Job parameters"
   ]
  },
  {
   "cell_type": "code",
   "execution_count": 13,
   "id": "aed7d5ae",
   "metadata": {},
   "outputs": [],
   "source": [
    "tuning_job_config = {\n",
    "    \"ParameterRanges\": {\n",
    "      \"CategoricalParameterRanges\": [],\n",
    "      \"ContinuousParameterRanges\": [\n",
    "        {\n",
    "          \"MaxValue\": \"1\",\n",
    "          \"MinValue\": \"0\",\n",
    "          \"Name\": \"eta\"\n",
    "        },\n",
    "        {\n",
    "          \"MaxValue\": \"2\",\n",
    "          \"MinValue\": \"0\",\n",
    "          \"Name\": \"alpha\"\n",
    "        },\n",
    "        {\n",
    "          \"MaxValue\": \"10\",\n",
    "          \"MinValue\": \"1\",\n",
    "          \"Name\": \"min_child_weight\"\n",
    "        },\n",
    "\n",
    "      ],\n",
    "      \"IntegerParameterRanges\": [\n",
    "        {\n",
    "          \"MaxValue\": \"10\",\n",
    "          \"MinValue\": \"1\",\n",
    "          \"Name\": \"max_depth\"\n",
    "        }\n",
    "      ]\n",
    "    },\n",
    "    \"ResourceLimits\": {\n",
    "      \"MaxNumberOfTrainingJobs\": 20,\n",
    "      \"MaxParallelTrainingJobs\": 2\n",
    "    },\n",
    "    \"Strategy\": \"Bayesian\",\n",
    "    \"HyperParameterTuningJobObjective\": {\n",
    "      \"MetricName\": \"validation:auc\",\n",
    "      \"Type\": \"Maximize\"\n",
    "    },\n",
    "    \"RandomSeed\" : 123\n",
    "  }"
   ]
  },
  {
   "cell_type": "code",
   "execution_count": 17,
   "id": "55cfd713",
   "metadata": {
    "scrolled": true
   },
   "outputs": [],
   "source": [
    "tuning_job_names = []\n",
    "\n",
    "for i in range(0,5):\n",
    "    #sagemaker.image_uris.retrieve\n",
    "    training_image = sagemaker.image_uris.retrieve(framework = 'xgboost', region = 'us-east-1', version = '1.0-1')\n",
    "\n",
    "    #Identifying the optimal hyperparameters, and specifying input/output file paths\n",
    "    training_job_definition = {\n",
    "        \"AlgorithmSpecification\": {\n",
    "          \"TrainingImage\": training_image,\n",
    "          \"TrainingInputMode\": \"File\"\n",
    "        },\n",
    "        \"InputDataConfig\": [\n",
    "          {\n",
    "            \"ChannelName\": \"train\",\n",
    "            \"CompressionType\": \"None\",\n",
    "            \"ContentType\": \"csv\",\n",
    "            \"DataSource\": {\n",
    "              \"S3DataSource\": {\n",
    "                \"S3DataDistributionType\": \"FullyReplicated\",\n",
    "                \"S3DataType\": \"S3Prefix\",\n",
    "                \"S3Uri\": filepaths_list[i][0]\n",
    "              }\n",
    "            }\n",
    "          },\n",
    "          {\n",
    "            \"ChannelName\": \"validation\",\n",
    "            \"CompressionType\": \"None\",\n",
    "            \"ContentType\": \"csv\",\n",
    "            \"DataSource\": {\n",
    "              \"S3DataSource\": {\n",
    "                \"S3DataDistributionType\": \"FullyReplicated\",\n",
    "                \"S3DataType\": \"S3Prefix\",\n",
    "                \"S3Uri\": filepaths_list[i][1]\n",
    "              }\n",
    "            }\n",
    "          }\n",
    "        ],\n",
    "        \"OutputDataConfig\": {\n",
    "          \"S3OutputPath\": hyperparam_output_filepath\n",
    "        },\n",
    "        \"ResourceConfig\": {\n",
    "          \"InstanceCount\": 1,\n",
    "          \"InstanceType\": \"ml.c4.2xlarge\",\n",
    "          \"VolumeSizeInGB\": 10\n",
    "        },\n",
    "        \"RoleArn\": role,\n",
    "        \"StaticHyperParameters\": {\n",
    "          \"eval_metric\": \"auc\",\n",
    "          \"num_round\": \"100\",\n",
    "          \"objective\": \"binary:logistic\",\n",
    "          \"rate_drop\": \"0.3\",\n",
    "          \"tweedie_variance_power\": \"1.4\"\n",
    "        },\n",
    "        \"StoppingCondition\": {\n",
    "            \"MaxRuntimeInSeconds\": 43200\n",
    "        }\n",
    "    }\n",
    "    \n",
    "    #Tuning and training \n",
    "    tuning_job_name = f'd-xgb-{i+1}'\n",
    "    tuning_job_names.append(tuning_job_name)\n",
    "\n",
    "    smclient.create_hyper_parameter_tuning_job(HyperParameterTuningJobName=tuning_job_name,\n",
    "                                               HyperParameterTuningJobConfig=tuning_job_config,\n",
    "                                               TrainingJobDefinition=training_job_definition)"
   ]
  },
  {
   "cell_type": "markdown",
   "id": "2adb20ef",
   "metadata": {},
   "source": [
    "<b>Important</b> It should be noted that the above cell takes a few minutes to run, as it launches multiple hyperparameter tuning jobs. If running this script in your own environment, please wait for these to finish before continuing to run the remainder of the script."
   ]
  },
  {
   "cell_type": "markdown",
   "id": "78ba9871",
   "metadata": {},
   "source": [
    "Compiling all k-fold training jobs and ordering them by AUC to identify best performer across 50 individual jobs"
   ]
  },
  {
   "cell_type": "code",
   "execution_count": 18,
   "id": "2d33efb1",
   "metadata": {},
   "outputs": [
    {
     "name": "stdout",
     "output_type": "stream",
     "text": [
      "sagemaker.config INFO - Not applying SDK defaults from location: /etc/xdg/sagemaker/config.yaml\n",
      "sagemaker.config INFO - Not applying SDK defaults from location: /home/ec2-user/.config/sagemaker/config.yaml\n",
      "sagemaker.config INFO - Not applying SDK defaults from location: /etc/xdg/sagemaker/config.yaml\n",
      "sagemaker.config INFO - Not applying SDK defaults from location: /home/ec2-user/.config/sagemaker/config.yaml\n",
      "sagemaker.config INFO - Not applying SDK defaults from location: /etc/xdg/sagemaker/config.yaml\n",
      "sagemaker.config INFO - Not applying SDK defaults from location: /home/ec2-user/.config/sagemaker/config.yaml\n",
      "sagemaker.config INFO - Not applying SDK defaults from location: /etc/xdg/sagemaker/config.yaml\n",
      "sagemaker.config INFO - Not applying SDK defaults from location: /home/ec2-user/.config/sagemaker/config.yaml\n",
      "sagemaker.config INFO - Not applying SDK defaults from location: /etc/xdg/sagemaker/config.yaml\n",
      "sagemaker.config INFO - Not applying SDK defaults from location: /home/ec2-user/.config/sagemaker/config.yaml\n"
     ]
    }
   ],
   "source": [
    "best_job_names = []\n",
    "best_job_hyperparameters = []\n",
    "auc_scores = []\n",
    "\n",
    "for i in range(0, 5):\n",
    "    tuner = sagemaker.HyperparameterTuningJobAnalytics(tuning_job_names[i])\n",
    "    best_training_job = tuner.dataframe().sort_values('FinalObjectiveValue', ascending=False).iloc[0]\n",
    "    best_training_job_name = best_training_job['TrainingJobName']\n",
    "\n",
    "    response = smclient.describe_training_job(TrainingJobName=best_training_job_name)\n",
    "    best_hyperparameters = response['HyperParameters']\n",
    "    \n",
    "    # Append values to the lists\n",
    "    best_job_names.append(best_training_job_name)\n",
    "    best_job_hyperparameters.append(best_hyperparameters)\n",
    "\n",
    "    # Extract AUC from training job metrics\n",
    "    training_job_metrics = smclient.describe_training_job(TrainingJobName=best_training_job_name)['FinalMetricDataList']\n",
    "    for metric in training_job_metrics:\n",
    "        if metric['MetricName'] == 'validation:auc':\n",
    "            auc_value = metric['Value']\n",
    "            break\n",
    "    \n",
    "    auc_scores.append(auc_value)"
   ]
  },
  {
   "cell_type": "code",
   "execution_count": 19,
   "id": "8e71ed68",
   "metadata": {},
   "outputs": [
    {
     "data": {
      "text/plain": [
       "['d-xgb-1-015-169cb6a4',\n",
       " 'd-xgb-2-019-adb21fcb',\n",
       " 'd-xgb-3-007-46e535df',\n",
       " 'd-xgb-4-011-c77b0ad5',\n",
       " 'd-xgb-5-002-2166d83c']"
      ]
     },
     "execution_count": 19,
     "metadata": {},
     "output_type": "execute_result"
    }
   ],
   "source": [
    "best_job_names"
   ]
  },
  {
   "cell_type": "code",
   "execution_count": 20,
   "id": "4efe3005",
   "metadata": {},
   "outputs": [
    {
     "data": {
      "text/plain": [
       "[0.6656699776649475,\n",
       " 0.6603500247001648,\n",
       " 0.6664999723434448,\n",
       " 0.6665800213813782,\n",
       " 0.6716300249099731]"
      ]
     },
     "execution_count": 20,
     "metadata": {},
     "output_type": "execute_result"
    }
   ],
   "source": [
    "auc_scores"
   ]
  },
  {
   "cell_type": "code",
   "execution_count": 21,
   "id": "3fc49dfd",
   "metadata": {},
   "outputs": [],
   "source": [
    "top_jobs = pd.DataFrame(list(zip(best_job_names, auc_scores)), columns = ['job_name', 'auc_scores']).sort_values(by='auc_scores', ascending = False)"
   ]
  },
  {
   "cell_type": "markdown",
   "id": "ebcb153e",
   "metadata": {},
   "source": [
    "Assessing best individual jobs"
   ]
  },
  {
   "cell_type": "code",
   "execution_count": 22,
   "id": "d3114c92",
   "metadata": {},
   "outputs": [
    {
     "data": {
      "text/html": [
       "<div>\n",
       "<style scoped>\n",
       "    .dataframe tbody tr th:only-of-type {\n",
       "        vertical-align: middle;\n",
       "    }\n",
       "\n",
       "    .dataframe tbody tr th {\n",
       "        vertical-align: top;\n",
       "    }\n",
       "\n",
       "    .dataframe thead th {\n",
       "        text-align: right;\n",
       "    }\n",
       "</style>\n",
       "<table border=\"1\" class=\"dataframe\">\n",
       "  <thead>\n",
       "    <tr style=\"text-align: right;\">\n",
       "      <th></th>\n",
       "      <th>job_name</th>\n",
       "      <th>auc_scores</th>\n",
       "    </tr>\n",
       "  </thead>\n",
       "  <tbody>\n",
       "    <tr>\n",
       "      <th>4</th>\n",
       "      <td>d-xgb-5-002-2166d83c</td>\n",
       "      <td>0.67163</td>\n",
       "    </tr>\n",
       "    <tr>\n",
       "      <th>3</th>\n",
       "      <td>d-xgb-4-011-c77b0ad5</td>\n",
       "      <td>0.66658</td>\n",
       "    </tr>\n",
       "    <tr>\n",
       "      <th>2</th>\n",
       "      <td>d-xgb-3-007-46e535df</td>\n",
       "      <td>0.66650</td>\n",
       "    </tr>\n",
       "    <tr>\n",
       "      <th>0</th>\n",
       "      <td>d-xgb-1-015-169cb6a4</td>\n",
       "      <td>0.66567</td>\n",
       "    </tr>\n",
       "    <tr>\n",
       "      <th>1</th>\n",
       "      <td>d-xgb-2-019-adb21fcb</td>\n",
       "      <td>0.66035</td>\n",
       "    </tr>\n",
       "  </tbody>\n",
       "</table>\n",
       "</div>"
      ],
      "text/plain": [
       "               job_name  auc_scores\n",
       "4  d-xgb-5-002-2166d83c     0.67163\n",
       "3  d-xgb-4-011-c77b0ad5     0.66658\n",
       "2  d-xgb-3-007-46e535df     0.66650\n",
       "0  d-xgb-1-015-169cb6a4     0.66567\n",
       "1  d-xgb-2-019-adb21fcb     0.66035"
      ]
     },
     "execution_count": 22,
     "metadata": {},
     "output_type": "execute_result"
    }
   ],
   "source": [
    "top_jobs"
   ]
  },
  {
   "cell_type": "code",
   "execution_count": 23,
   "id": "27f6dcfb",
   "metadata": {},
   "outputs": [
    {
     "data": {
      "text/plain": [
       "'d-xgb-5-002-2166d83c'"
      ]
     },
     "execution_count": 23,
     "metadata": {},
     "output_type": "execute_result"
    }
   ],
   "source": [
    "top_jobs.iloc[0,0]"
   ]
  },
  {
   "cell_type": "markdown",
   "id": "a4257ba0",
   "metadata": {},
   "source": [
    "d-xgb-5-002-2166d83c"
   ]
  },
  {
   "cell_type": "code",
   "execution_count": 24,
   "id": "871c5b87",
   "metadata": {},
   "outputs": [],
   "source": [
    "response = smclient.describe_training_job(TrainingJobName=top_jobs.iloc[0,0])\n",
    "best_hyperparameters = response['HyperParameters']"
   ]
  },
  {
   "cell_type": "markdown",
   "id": "3f82f896",
   "metadata": {},
   "source": [
    "Identifying the best set of hyperparameters- which we will feed into our optimized model"
   ]
  },
  {
   "cell_type": "code",
   "execution_count": 25,
   "id": "a580bb20",
   "metadata": {},
   "outputs": [
    {
     "data": {
      "text/plain": [
       "{'_tuning_objective_metric': 'validation:auc',\n",
       " 'alpha': '0.5885401105511121',\n",
       " 'eta': '0.20456493857745606',\n",
       " 'eval_metric': 'auc',\n",
       " 'max_depth': '2',\n",
       " 'min_child_weight': '4.905212052590947',\n",
       " 'num_round': '100',\n",
       " 'objective': 'binary:logistic',\n",
       " 'rate_drop': '0.3',\n",
       " 'tweedie_variance_power': '1.4'}"
      ]
     },
     "execution_count": 25,
     "metadata": {},
     "output_type": "execute_result"
    }
   ],
   "source": [
    "best_hyperparameters"
   ]
  },
  {
   "cell_type": "markdown",
   "id": "f45a0644",
   "metadata": {},
   "source": [
    "### 2.3 Train Optimized Model"
   ]
  },
  {
   "cell_type": "markdown",
   "id": "526513ec",
   "metadata": {},
   "source": [
    "#### In the below cell, we now train a model with the hyperparameters specified in the above training job(s)."
   ]
  },
  {
   "cell_type": "code",
   "execution_count": 26,
   "id": "8f178c83",
   "metadata": {},
   "outputs": [
    {
     "name": "stdout",
     "output_type": "stream",
     "text": [
      "sagemaker.config INFO - Not applying SDK defaults from location: /etc/xdg/sagemaker/config.yaml\n",
      "sagemaker.config INFO - Not applying SDK defaults from location: /home/ec2-user/.config/sagemaker/config.yaml\n",
      "sagemaker.config INFO - Not applying SDK defaults from location: /etc/xdg/sagemaker/config.yaml\n",
      "sagemaker.config INFO - Not applying SDK defaults from location: /home/ec2-user/.config/sagemaker/config.yaml\n"
     ]
    },
    {
     "name": "stderr",
     "output_type": "stream",
     "text": [
      "INFO:sagemaker:Creating training-job with name: sagemaker-xgboost-2023-12-03-19-53-08-427\n"
     ]
    },
    {
     "name": "stdout",
     "output_type": "stream",
     "text": [
      "2023-12-03 19:53:08 Starting - Starting the training job...\n",
      "2023-12-03 19:53:23 Starting - Preparing the instances for training......\n",
      "2023-12-03 19:54:28 Downloading - Downloading input data...\n",
      "2023-12-03 19:54:48 Training - Downloading the training image......\n",
      "2023-12-03 19:55:44 Training - Training image download completed. Training in progress.\u001b[34m[2023-12-03 19:56:00.982 ip-10-0-184-166.ec2.internal:7 INFO utils.py:28] RULE_JOB_STOP_SIGNAL_FILENAME: None\u001b[0m\n",
      "\u001b[34m[2023-12-03 19:56:01.003 ip-10-0-184-166.ec2.internal:7 INFO profiler_config_parser.py:111] User has disabled profiler.\u001b[0m\n",
      "\u001b[34m[2023-12-03:19:56:01:INFO] Imported framework sagemaker_xgboost_container.training\u001b[0m\n",
      "\u001b[34m[2023-12-03:19:56:01:INFO] Failed to parse hyperparameter _tuning_objective_metric value validation:auc to Json.\u001b[0m\n",
      "\u001b[34mReturning the value itself\u001b[0m\n",
      "\u001b[34m[2023-12-03:19:56:01:INFO] Failed to parse hyperparameter eval_metric value auc to Json.\u001b[0m\n",
      "\u001b[34mReturning the value itself\u001b[0m\n",
      "\u001b[34m[2023-12-03:19:56:01:INFO] Failed to parse hyperparameter objective value binary:logistic to Json.\u001b[0m\n",
      "\u001b[34mReturning the value itself\u001b[0m\n",
      "\u001b[34m[2023-12-03:19:56:01:INFO] No GPUs detected (normal if no gpus installed)\u001b[0m\n",
      "\u001b[34m[2023-12-03:19:56:01:INFO] Running XGBoost Sagemaker in algorithm mode\u001b[0m\n",
      "\u001b[34m[2023-12-03:19:56:01:INFO] Determined 0 GPU(s) available on the instance.\u001b[0m\n",
      "\u001b[34m[2023-12-03:19:56:01:INFO] Determined delimiter of CSV input is ','\u001b[0m\n",
      "\u001b[34m[2023-12-03:19:56:01:INFO] File path /opt/ml/input/data/train of input files\u001b[0m\n",
      "\u001b[34m[2023-12-03:19:56:01:INFO] Making smlinks from folder /opt/ml/input/data/train to folder /tmp/sagemaker_xgboost_input_data\u001b[0m\n",
      "\u001b[34m[2023-12-03:19:56:01:INFO] creating symlink between Path /opt/ml/input/data/train/reduced_dimensions_diabetes_train.csv and destination /tmp/sagemaker_xgboost_input_data/reduced_dimensions_diabetes_train.csv-629469555806834779\u001b[0m\n",
      "\u001b[34m[2023-12-03:19:56:01:INFO] files path: /tmp/sagemaker_xgboost_input_data\u001b[0m\n",
      "\u001b[34m[2023-12-03:19:56:01:INFO] Determined delimiter of CSV input is ','\u001b[0m\n",
      "\u001b[34m[2023-12-03:19:56:01:INFO] Single node training.\u001b[0m\n",
      "\u001b[34m[2023-12-03:19:56:01:INFO] Setting up HPO optimized metric to be : auc\u001b[0m\n",
      "\u001b[34m[2023-12-03:19:56:01:INFO] Train matrix has 85096 rows and 61 columns\u001b[0m\n",
      "\u001b[34m[2023-12-03 19:56:01.602 ip-10-0-184-166.ec2.internal:7 INFO json_config.py:92] Creating hook from json_config at /opt/ml/input/config/debughookconfig.json.\u001b[0m\n",
      "\u001b[34m[2023-12-03 19:56:01.602 ip-10-0-184-166.ec2.internal:7 INFO hook.py:206] tensorboard_dir has not been set for the hook. SMDebug will not be exporting tensorboard summaries.\u001b[0m\n",
      "\u001b[34m[2023-12-03 19:56:01.603 ip-10-0-184-166.ec2.internal:7 INFO hook.py:259] Saving to /opt/ml/output/tensors\u001b[0m\n",
      "\u001b[34m[2023-12-03 19:56:01.603 ip-10-0-184-166.ec2.internal:7 INFO state_store.py:77] The checkpoint config file /opt/ml/input/config/checkpointconfig.json does not exist.\u001b[0m\n",
      "\u001b[34m[2023-12-03:19:56:01:INFO] Debug hook created from config\u001b[0m\n",
      "\u001b[34m[19:56:01] WARNING: ../src/learner.cc:767: \u001b[0m\n",
      "\u001b[34mParameters: { \"rate_drop\", \"tweedie_variance_power\" } are not used.\u001b[0m\n",
      "\u001b[34m[0]#011train-auc:0.59007\u001b[0m\n",
      "\u001b[34m[2023-12-03 19:56:01.928 ip-10-0-184-166.ec2.internal:7 INFO hook.py:427] Monitoring the collections: metrics\u001b[0m\n",
      "\u001b[34m[2023-12-03 19:56:01.930 ip-10-0-184-166.ec2.internal:7 INFO hook.py:491] Hook is writing from the hook with pid: 7\u001b[0m\n",
      "\u001b[34m[1]#011train-auc:0.59007\u001b[0m\n",
      "\u001b[34m[2]#011train-auc:0.61934\u001b[0m\n",
      "\u001b[34m[3]#011train-auc:0.61977\u001b[0m\n",
      "\u001b[34m[4]#011train-auc:0.63236\u001b[0m\n",
      "\u001b[34m[5]#011train-auc:0.63241\u001b[0m\n",
      "\u001b[34m[6]#011train-auc:0.63237\u001b[0m\n",
      "\u001b[34m[7]#011train-auc:0.63237\u001b[0m\n",
      "\u001b[34m[8]#011train-auc:0.63238\u001b[0m\n",
      "\u001b[34m[9]#011train-auc:0.63255\u001b[0m\n",
      "\u001b[34m[10]#011train-auc:0.64013\u001b[0m\n",
      "\u001b[34m[11]#011train-auc:0.64054\u001b[0m\n",
      "\u001b[34m[12]#011train-auc:0.64554\u001b[0m\n",
      "\u001b[34m[13]#011train-auc:0.64696\u001b[0m\n",
      "\u001b[34m[14]#011train-auc:0.64716\u001b[0m\n",
      "\u001b[34m[15]#011train-auc:0.64848\u001b[0m\n",
      "\u001b[34m[16]#011train-auc:0.64883\u001b[0m\n",
      "\u001b[34m[17]#011train-auc:0.65012\u001b[0m\n",
      "\u001b[34m[18]#011train-auc:0.65007\u001b[0m\n",
      "\u001b[34m[19]#011train-auc:0.65206\u001b[0m\n",
      "\u001b[34m[20]#011train-auc:0.65359\u001b[0m\n",
      "\u001b[34m[21]#011train-auc:0.65549\u001b[0m\n",
      "\u001b[34m[22]#011train-auc:0.65635\u001b[0m\n",
      "\u001b[34m[23]#011train-auc:0.65663\u001b[0m\n",
      "\u001b[34m[24]#011train-auc:0.65694\u001b[0m\n",
      "\u001b[34m[25]#011train-auc:0.65793\u001b[0m\n",
      "\u001b[34m[26]#011train-auc:0.65881\u001b[0m\n",
      "\u001b[34m[27]#011train-auc:0.65913\u001b[0m\n",
      "\u001b[34m[28]#011train-auc:0.65938\u001b[0m\n",
      "\u001b[34m[29]#011train-auc:0.65962\u001b[0m\n",
      "\u001b[34m[30]#011train-auc:0.65976\u001b[0m\n",
      "\u001b[34m[31]#011train-auc:0.65993\u001b[0m\n",
      "\u001b[34m[32]#011train-auc:0.66038\u001b[0m\n",
      "\u001b[34m[33]#011train-auc:0.66082\u001b[0m\n",
      "\u001b[34m[34]#011train-auc:0.66102\u001b[0m\n",
      "\u001b[34m[35]#011train-auc:0.66142\u001b[0m\n",
      "\u001b[34m[36]#011train-auc:0.66165\u001b[0m\n",
      "\u001b[34m[37]#011train-auc:0.66178\u001b[0m\n",
      "\u001b[34m[38]#011train-auc:0.66213\u001b[0m\n",
      "\u001b[34m[39]#011train-auc:0.66212\u001b[0m\n",
      "\u001b[34m[40]#011train-auc:0.66287\u001b[0m\n",
      "\u001b[34m[41]#011train-auc:0.66332\u001b[0m\n",
      "\u001b[34m[42]#011train-auc:0.66371\u001b[0m\n",
      "\u001b[34m[43]#011train-auc:0.66398\u001b[0m\n",
      "\u001b[34m[44]#011train-auc:0.66454\u001b[0m\n",
      "\u001b[34m[45]#011train-auc:0.66464\u001b[0m\n",
      "\u001b[34m[46]#011train-auc:0.66494\u001b[0m\n",
      "\u001b[34m[47]#011train-auc:0.66510\u001b[0m\n",
      "\u001b[34m[48]#011train-auc:0.66522\u001b[0m\n",
      "\u001b[34m[49]#011train-auc:0.66542\u001b[0m\n",
      "\u001b[34m[50]#011train-auc:0.66547\u001b[0m\n",
      "\u001b[34m[51]#011train-auc:0.66566\u001b[0m\n",
      "\u001b[34m[52]#011train-auc:0.66592\u001b[0m\n",
      "\u001b[34m[53]#011train-auc:0.66611\u001b[0m\n",
      "\u001b[34m[54]#011train-auc:0.66642\u001b[0m\n",
      "\u001b[34m[55]#011train-auc:0.66658\u001b[0m\n",
      "\u001b[34m[56]#011train-auc:0.66689\u001b[0m\n",
      "\u001b[34m[57]#011train-auc:0.66709\u001b[0m\n",
      "\u001b[34m[58]#011train-auc:0.66716\u001b[0m\n",
      "\u001b[34m[59]#011train-auc:0.66748\u001b[0m\n",
      "\u001b[34m[60]#011train-auc:0.66766\u001b[0m\n",
      "\u001b[34m[61]#011train-auc:0.66807\u001b[0m\n",
      "\u001b[34m[62]#011train-auc:0.66818\u001b[0m\n",
      "\u001b[34m[63]#011train-auc:0.66836\u001b[0m\n",
      "\u001b[34m[64]#011train-auc:0.66856\u001b[0m\n",
      "\u001b[34m[65]#011train-auc:0.66874\u001b[0m\n",
      "\u001b[34m[66]#011train-auc:0.66879\u001b[0m\n",
      "\u001b[34m[67]#011train-auc:0.66879\u001b[0m\n",
      "\u001b[34m[68]#011train-auc:0.66894\u001b[0m\n",
      "\u001b[34m[69]#011train-auc:0.66909\u001b[0m\n",
      "\u001b[34m[70]#011train-auc:0.66925\u001b[0m\n",
      "\u001b[34m[71]#011train-auc:0.66934\u001b[0m\n",
      "\u001b[34m[72]#011train-auc:0.66945\u001b[0m\n",
      "\u001b[34m[73]#011train-auc:0.66964\u001b[0m\n",
      "\u001b[34m[74]#011train-auc:0.66977\u001b[0m\n",
      "\u001b[34m[75]#011train-auc:0.66994\u001b[0m\n",
      "\u001b[34m[76]#011train-auc:0.67030\u001b[0m\n",
      "\u001b[34m[77]#011train-auc:0.67045\u001b[0m\n",
      "\u001b[34m[78]#011train-auc:0.67060\u001b[0m\n",
      "\u001b[34m[79]#011train-auc:0.67069\u001b[0m\n",
      "\u001b[34m[80]#011train-auc:0.67080\u001b[0m\n",
      "\u001b[34m[81]#011train-auc:0.67095\u001b[0m\n",
      "\u001b[34m[82]#011train-auc:0.67100\u001b[0m\n",
      "\u001b[34m[83]#011train-auc:0.67111\u001b[0m\n",
      "\u001b[34m[84]#011train-auc:0.67118\u001b[0m\n",
      "\u001b[34m[85]#011train-auc:0.67133\u001b[0m\n",
      "\u001b[34m[86]#011train-auc:0.67151\u001b[0m\n",
      "\u001b[34m[87]#011train-auc:0.67161\u001b[0m\n",
      "\u001b[34m[88]#011train-auc:0.67178\u001b[0m\n",
      "\u001b[34m[89]#011train-auc:0.67196\u001b[0m\n",
      "\u001b[34m[90]#011train-auc:0.67215\u001b[0m\n",
      "\u001b[34m[91]#011train-auc:0.67232\u001b[0m\n",
      "\u001b[34m[92]#011train-auc:0.67246\u001b[0m\n",
      "\u001b[34m[93]#011train-auc:0.67253\u001b[0m\n",
      "\u001b[34m[94]#011train-auc:0.67261\u001b[0m\n",
      "\u001b[34m[95]#011train-auc:0.67276\u001b[0m\n",
      "\u001b[34m[96]#011train-auc:0.67285\u001b[0m\n",
      "\u001b[34m[97]#011train-auc:0.67293\u001b[0m\n",
      "\u001b[34m[98]#011train-auc:0.67307\u001b[0m\n",
      "\u001b[34m[99]#011train-auc:0.67316\u001b[0m\n",
      "\n",
      "2023-12-03 19:56:25 Uploading - Uploading generated training model\n",
      "2023-12-03 19:56:25 Completed - Training job completed\n",
      "Training seconds: 117\n",
      "Billable seconds: 117\n"
     ]
    }
   ],
   "source": [
    "# this line automatically looks for the XGBoost image URI and builds an XGBoost container.\n",
    "xgboost_container = sagemaker.image_uris.retrieve(\"xgboost\", 'us-east-1', \"1.7-1\")\n",
    "\n",
    "# construct a SageMaker estimator that calls the xgboost-container\n",
    "estimator = sagemaker.estimator.Estimator(image_uri=xgboost_container, \n",
    "                                          #The optimal hyperparameters from tuning are brought into our new model\n",
    "                                          hyperparameters=best_hyperparameters,\n",
    "                                          role=sagemaker.get_execution_role(),\n",
    "                                          instance_count=1, \n",
    "                                          instance_type='ml.m5.2xlarge', \n",
    "                                          volume_size=5, # 5 GB \n",
    "                                          output_path=optimized_model_output_filepath)\n",
    "\n",
    "# define the data type and paths to the training and validation datasets\n",
    "content_type = \"csv\"\n",
    "train_input = TrainingInput(s3_train_filepath, content_type=content_type)\n",
    "#validation_input = TrainingInput(s3_test_filepath, content_type=content_type)\n",
    "\n",
    "# execute the XGBoost training job\n",
    "estimator.fit({'train': train_input})"
   ]
  },
  {
   "cell_type": "markdown",
   "id": "4e787d6b",
   "metadata": {},
   "source": [
    ".673 AUC"
   ]
  },
  {
   "cell_type": "markdown",
   "id": "17f3d746",
   "metadata": {},
   "source": [
    "### 2.4 Deploy Optimized Model"
   ]
  },
  {
   "cell_type": "markdown",
   "id": "a1c8efc1",
   "metadata": {},
   "source": [
    "#### Below we deploy our model for inference. The type and instance count of underlying cumpute resources are specified."
   ]
  },
  {
   "cell_type": "code",
   "execution_count": 27,
   "id": "3cd27e89",
   "metadata": {
    "scrolled": true
   },
   "outputs": [
    {
     "name": "stderr",
     "output_type": "stream",
     "text": [
      "INFO:sagemaker:Creating model with name: sagemaker-xgboost-2023-12-03-19-56-51-054\n",
      "INFO:sagemaker:Creating endpoint-config with name sagemaker-xgboost-2023-12-03-19-56-51-054\n",
      "INFO:sagemaker:Creating endpoint with name sagemaker-xgboost-2023-12-03-19-56-51-054\n"
     ]
    },
    {
     "name": "stdout",
     "output_type": "stream",
     "text": [
      "------!"
     ]
    }
   ],
   "source": [
    "deployed_predictor = estimator.deploy(initial_instance_count=1, instance_type='ml.m4.xlarge')"
   ]
  },
  {
   "cell_type": "markdown",
   "id": "426d0351",
   "metadata": {},
   "source": [
    "### 2.5 Make Batch Predictions on Test Data"
   ]
  },
  {
   "cell_type": "markdown",
   "id": "b78b1363",
   "metadata": {},
   "source": [
    "#### Here we read in our holdout test dataset for assessment on the deployed model."
   ]
  },
  {
   "cell_type": "code",
   "execution_count": 28,
   "id": "492dc07b",
   "metadata": {},
   "outputs": [],
   "source": [
    "diabetes_test = CSV_Reader(bucket, input_prefix, test_dataset)"
   ]
  },
  {
   "cell_type": "code",
   "execution_count": 29,
   "id": "819f0c12",
   "metadata": {},
   "outputs": [
    {
     "data": {
      "text/plain": [
       "Index(['readmitted', 'num_lab_procedures', 'num_medications',\n",
       "       'time_in_hospital', 'number_inpatient', 'num_procedures',\n",
       "       'number_diagnoses', 'number_outpatient', 'number_emergency',\n",
       "       'gender_Male', 'admission_source_id_1', 'change', 'diag_3_Nothing',\n",
       "       'age_9', 'diag_2_Nothing', 'medication_insulin', 'admission_type_id_3',\n",
       "       'diag_2_respiratory', 'age_6', 'diag_2_urogenital',\n",
       "       'medication_glyburide', 'diag_3_metabolic', 'diag_3_respiratory',\n",
       "       'medication_metformin', 'discharge_disposition_hhealth',\n",
       "       'diag_1_respiratory', 'diag_1_digestive', 'age_5', 'diag_1_injury',\n",
       "       'discharge_disposition_outpatient', 'diag_3_urogenital',\n",
       "       'diag_3_injury', 'diag_1_Nothing', 'discharge_disposition_nursing',\n",
       "       'any_medication', 'diag_1_urogenital', 'A1Cresult_Norm',\n",
       "       'diag_3_digestive', 'diag_2_skin', 'discharge_disposition_unknown',\n",
       "       'A1Cresult_>7', 'admission_source_id_8', 'diag_3_other',\n",
       "       'discharge_disposition_hospital', 'race_Other', 'diag_1_other',\n",
       "       'diag_3_skin', 'diag_1_infection', 'diag_1_musculoskeletal',\n",
       "       'diag_1_neoplasm', 'diag_2_neoplasm', 'diag_1_mentaldis',\n",
       "       'discharge_disposition_hospice', 'admission_source_id_4',\n",
       "       'diag_2_blooddis', 'diag_1_skin', 'diag_2_infection', 'race_Hispanic',\n",
       "       'diag_3_neoplasm', 'age_3', 'max_glu_serum_>300', 'max_glu_serum_>200'],\n",
       "      dtype='object')"
      ]
     },
     "execution_count": 29,
     "metadata": {},
     "output_type": "execute_result"
    }
   ],
   "source": [
    "diabetes_test.columns"
   ]
  },
  {
   "cell_type": "markdown",
   "id": "f4eab6d8",
   "metadata": {},
   "source": [
    "#### We seperate our dependent and independent variables from the test dataset, so that they can be fed to the deployed model for a patch prediction job."
   ]
  },
  {
   "cell_type": "code",
   "execution_count": 31,
   "id": "446bb6ac",
   "metadata": {},
   "outputs": [],
   "source": [
    "test_X = diabetes_test.drop(columns='readmitted').values\n",
    "test_y = diabetes_test['readmitted'].values"
   ]
  },
  {
   "cell_type": "markdown",
   "id": "863506ae",
   "metadata": {},
   "source": [
    "#### Here we make the necessary specifications to format our data, and then feed it to the deployed model.\n",
    "<br>\n",
    "Our responses are returned to us in a list of values (between 0 and 1) demonstrating how likely each individual record is to be readmitted."
   ]
  },
  {
   "cell_type": "code",
   "execution_count": 32,
   "id": "6b27c73c",
   "metadata": {},
   "outputs": [],
   "source": [
    "deployed_predictor.serializer = sagemaker.serializers.CSVSerializer()\n",
    "deployed_predictor.deserializer = sagemaker.deserializers.JSONDeserializer()"
   ]
  },
  {
   "cell_type": "code",
   "execution_count": 33,
   "id": "062b3bda",
   "metadata": {},
   "outputs": [
    {
     "name": "stdout",
     "output_type": "stream",
     "text": [
      "15018\n"
     ]
    }
   ],
   "source": [
    "predictions = []\n",
    "results = deployed_predictor.predict(test_X)\n",
    "predictions += [r['score'] for r in results['predictions']]\n",
    "\n",
    "print(len(predictions))"
   ]
  },
  {
   "cell_type": "code",
   "execution_count": 34,
   "id": "feb52a31",
   "metadata": {},
   "outputs": [],
   "source": [
    "diabetes_test['predictions'] = predictions"
   ]
  },
  {
   "cell_type": "code",
   "execution_count": 35,
   "id": "01e36340",
   "metadata": {},
   "outputs": [
    {
     "data": {
      "text/plain": [
       "(15018, 63)"
      ]
     },
     "execution_count": 35,
     "metadata": {},
     "output_type": "execute_result"
    }
   ],
   "source": [
    "diabetes_test.shape"
   ]
  },
  {
   "cell_type": "code",
   "execution_count": 36,
   "id": "a1fe013b",
   "metadata": {},
   "outputs": [],
   "source": [
    "%matplotlib inline\n",
    "\n",
    "#Data visualization libraries\n",
    "import seaborn as sns\n",
    "import matplotlib.pyplot as plt"
   ]
  },
  {
   "cell_type": "markdown",
   "id": "1974a48d",
   "metadata": {},
   "source": [
    "#### Here we will look at the distribution of our prediction values."
   ]
  },
  {
   "cell_type": "code",
   "execution_count": 37,
   "id": "43d07b12",
   "metadata": {
    "scrolled": false
   },
   "outputs": [
    {
     "data": {
      "image/png": "[encoded data removed]",
      "text/plain": [
       "<Figure size 640x480 with 1 Axes>"
      ]
     },
     "metadata": {},
     "output_type": "display_data"
    },
    {
     "name": "stdout",
     "output_type": "stream",
     "text": [
      "The mean predictive value for the test dataset is: 0.11326750564909971\n"
     ]
    }
   ],
   "source": [
    "plt.hist(diabetes_test.predictions, bins=1000, density=True, alpha=0.7, color='blue')\n",
    "plt.xlabel('Predicted Values for Holdout Test Dataset')\n",
    "plt.ylabel('Frequency')\n",
    "plt.title('Distribution of Prediction Values from Model')\n",
    "\n",
    "mean_value = np.mean(diabetes_test.predictions)\n",
    "max_value = np.max(diabetes_test.predictions)\n",
    "min_value = np.min(diabetes_test.predictions)\n",
    "\n",
    "\n",
    "# Add mean line to the histogram\n",
    "plt.axvline(mean_value, color='red', linestyle='dashed', linewidth=2, label=f'Mean Prediction Value: {mean_value:.2f}')\n",
    "\n",
    "plt.axvline(max_value, color='orange', linestyle='dashed', linewidth=1, label=f'Maximum Prediction Value: {max_value:.2f}')\n",
    "\n",
    "plt.axvline(min_value, color='green', linestyle='dashed', linewidth=1, label=f'Minimum Prediction Value: {min_value:.2f}')\n",
    "\n",
    "\n",
    "# Display legend\n",
    "plt.legend()\n",
    "\n",
    "# Show the histogram\n",
    "plt.show()\n",
    "\n",
    "print('The mean predictive value for the test dataset is: {}'.format(mean_value))"
   ]
  },
  {
   "cell_type": "markdown",
   "id": "08fec072",
   "metadata": {},
   "source": [
    "### 2.6. Identify Optimal Likelihood Cutoff for our Predictions"
   ]
  },
  {
   "cell_type": "markdown",
   "id": "1d46a7eb",
   "metadata": {},
   "source": [
    "As we can see here, our algorithm is hesitant to place much predictive weight behind any particular patient record, and so the majority of our predictions are centered near 0.1 and skew right. As the dataset is weighted heavily towards those who were not readmitted (i.e about 1 in 10 patients being readmitted), this makes sense.\n",
    "\n",
    "We will therefore institute a prediction/rounding cutoff value lower than 0.5 to determine which records are predicted as being readmitted. As the mean prediction is around 0.11, using this value instead of 0.5 would likely predict around half of records as being classified as readmissions.\n",
    "\n",
    "We will therefore use a average of these predictions is likely a good place to start. Let us try this value, as well with a few other values to see which cutoff value gives us the best statistical outcome.\n",
    "\n",
    "As mentioned earlier, optimizing the Area Under the Curve (AUC) metric will be our highest priority, as this metric takes into account both false positives and false negatives."
   ]
  },
  {
   "cell_type": "markdown",
   "id": "e6f9bb96",
   "metadata": {},
   "source": [
    "#### Here we create new lists that will cut probabilities, starting near the mean (11%) and the refining to more precise values."
   ]
  },
  {
   "cell_type": "code",
   "execution_count": 38,
   "id": "b3548799",
   "metadata": {},
   "outputs": [],
   "source": [
    "def XGB_Statistical_Evaluation(probability_rounding_threshold_values, names_of_levels):\n",
    "    \n",
    "    '''The CSV_Reader() function takes different readmission predictions, based off of different likelihood roundoff \n",
    "    values, and computes different \n",
    "    \n",
    "    Arguments \n",
    "    --------- \n",
    "    probability_rounding_threshold_values: A list of probabilities for each likelihood cutoff value\n",
    "    subfolder: A list of names for each item of the probability_rounding_threshold_values list, representing \n",
    "        the implimented likelihood cutoff value\n",
    "    \n",
    "    Return\n",
    "    ---------\n",
    "    For each prediction list, the following is computed:\n",
    "    -The likelihood cutoff value being used\n",
    "    -The number of predicted positived\n",
    "    -The accuracy of the predictions\n",
    "    -The precision of the predictions\n",
    "    -The recall of the predictions\n",
    "    -The F1 score of the predictions\n",
    "    -The ROC AUC score of the predictions\n",
    "    '''\n",
    "    \n",
    "    for i, j in zip(probability_rounding_threshold_values, names_of_levels):\n",
    "        y_test = diabetes_test['readmitted']\n",
    "        scores = precision_recall_fscore_support(y_test, i, average='macro', labels=np.unique(i))\n",
    "        acc = accuracy_score(y_test, i)\n",
    "        roc = roc_auc_score(y_test, i)\n",
    "        positives = sum(i)\n",
    "\n",
    "        \n",
    "        print()\n",
    "        print('The cutoff percentage being used for predictions is: {}'.format(j))\n",
    "        print('Number of predicted readmissions: {}'.format(positives))\n",
    "        print('Accuracy is: {}'.format(acc))\n",
    "        print('Precision is: {}'.format(scores[0]))\n",
    "        print('Recall is: {}'.format(scores[1]))\n",
    "        print('F1 score is: {}'.format(scores[2]))     \n",
    "        print('ROC AUC score (i.e. the metric of primary interest) is: {}'.format(roc))"
   ]
  },
  {
   "cell_type": "markdown",
   "id": "b6099fe5",
   "metadata": {},
   "source": [
    "First we will start looking around .01 differences within the prediction cutoff threshold, starting at 0.11 or 11%"
   ]
  },
  {
   "cell_type": "code",
   "execution_count": 39,
   "id": "7211aae1",
   "metadata": {},
   "outputs": [],
   "source": [
    "thresholds = [0.15, 0.14, 0.13, 0.12, 0.11, 0.1, 0.09, 0.08, 0.07]\n",
    "\n",
    "for threshold in thresholds:\n",
    "    threshold_str = str(threshold).replace(\".\", \"_\")  # Convert threshold to a string and replace \".\" with \"_\"\n",
    "    variable_name = f\"pred_{threshold_str}\"\n",
    "    output_variable_name = f\"pred_{threshold_str[2:]}\"  # Remove the \"0_\" part\n",
    "    globals()[output_variable_name] = [1 if i >= threshold else 0 for i in diabetes_test[\"predictions\"]]\n",
    "\n",
    "threshold_list = [pred_15, pred_14, pred_13, pred_12, pred_11, pred_1, pred_09, pred_08, pred_07]\n",
    "threshold_list_names = [\"pred_15\", \"pred_14\", \"pred_13\", \"pred_12\", \"pred_11\", \"pred_1\", \"pred_09\", \"pred_08\", \"pred_07\"]"
   ]
  },
  {
   "cell_type": "code",
   "execution_count": 41,
   "id": "bd9aa83f",
   "metadata": {},
   "outputs": [],
   "source": [
    "threshold_list = [pred_15, pred_14, pred_13, pred_12, pred_11, pred_1, pred_09, pred_08, pred_07]\n",
    "threshold_list_names = [\"pred_15\", \"pred_14\", \"pred_13\", \"pred_12\", \"pred_11\", \"pred_1\", \"pred_09\", \"pred_08\", \"pred_07\"]"
   ]
  },
  {
   "cell_type": "code",
   "execution_count": 42,
   "id": "b2391acc",
   "metadata": {},
   "outputs": [
    {
     "name": "stdout",
     "output_type": "stream",
     "text": [
      "\n",
      "The cutoff percentage being used for predictions is: pred_15\n",
      "Number of predicted readmissions: 2672\n",
      "Accuracy is: 0.7891863097616194\n",
      "Precision is: 0.5666499598405651\n",
      "Recall is: 0.5983258405902512\n",
      "F1 score is: 0.5743004583771802\n",
      "ROC AUC score (i.e. the metric of primary interest) is: 0.5983258405902512\n",
      "\n",
      "The cutoff percentage being used for predictions is: pred_14\n",
      "Number of predicted readmissions: 3205\n",
      "Accuracy is: 0.7659475296311093\n",
      "Precision is: 0.5645222951049592\n",
      "Recall is: 0.6092453836986865\n",
      "F1 score is: 0.5700635164622243\n",
      "ROC AUC score (i.e. the metric of primary interest) is: 0.6092453836986865\n",
      "\n",
      "The cutoff percentage being used for predictions is: pred_13\n",
      "Number of predicted readmissions: 3926\n",
      "Accuracy is: 0.7324543880676522\n",
      "Precision is: 0.5610174819079035\n",
      "Recall is: 0.6188281912699466\n",
      "F1 score is: 0.5591565846187897\n",
      "ROC AUC score (i.e. the metric of primary interest) is: 0.6188281912699466\n",
      "\n",
      "The cutoff percentage being used for predictions is: pred_12\n",
      "Number of predicted readmissions: 4834\n",
      "Accuracy is: 0.687841257158077\n",
      "Precision is: 0.5566694663455147\n",
      "Recall is: 0.6247611039697705\n",
      "F1 score is: 0.540304109072774\n",
      "ROC AUC score (i.e. the metric of primary interest) is: 0.6247611039697705\n",
      "\n",
      "The cutoff percentage being used for predictions is: pred_11\n",
      "Number of predicted readmissions: 5741\n",
      "Accuracy is: 0.6406312425089892\n",
      "Precision is: 0.552068544628777\n",
      "Recall is: 0.6240153923815868\n",
      "F1 score is: 0.5168712986906104\n",
      "ROC AUC score (i.e. the metric of primary interest) is: 0.6240153923815868\n",
      "\n",
      "The cutoff percentage being used for predictions is: pred_1\n",
      "Number of predicted readmissions: 6738\n",
      "Accuracy is: 0.588094286855773\n",
      "Precision is: 0.5487282813031003\n",
      "Recall is: 0.6215758981006021\n",
      "F1 score is: 0.48934963699937006\n",
      "ROC AUC score (i.e. the metric of primary interest) is: 0.6215758981006021\n",
      "\n",
      "The cutoff percentage being used for predictions is: pred_09\n",
      "Number of predicted readmissions: 8139\n",
      "Accuracy is: 0.5141163936609402\n",
      "Precision is: 0.5470340159827661\n",
      "Recall is: 0.6177642497770244\n",
      "F1 score is: 0.44784181659700556\n",
      "ROC AUC score (i.e. the metric of primary interest) is: 0.6177642497770244\n",
      "\n",
      "The cutoff percentage being used for predictions is: pred_08\n",
      "Number of predicted readmissions: 9911\n",
      "Accuracy is: 0.4145025968837395\n",
      "Precision is: 0.5431617981195752\n",
      "Recall is: 0.5976985037291394\n",
      "F1 score is: 0.3822605525022872\n",
      "ROC AUC score (i.e. the metric of primary interest) is: 0.5976985037291394\n",
      "\n",
      "The cutoff percentage being used for predictions is: pred_07\n",
      "Number of predicted readmissions: 12034\n",
      "Accuracy is: 0.28991876414968704\n",
      "Precision is: 0.537642313489795\n",
      "Recall is: 0.5604491477914058\n",
      "F1 score is: 0.2844911836002285\n",
      "ROC AUC score (i.e. the metric of primary interest) is: 0.5604491477914058\n"
     ]
    }
   ],
   "source": [
    "XGB_Statistical_Evaluation(threshold_list, threshold_list_names)"
   ]
  },
  {
   "cell_type": "markdown",
   "id": "6ade7e4e",
   "metadata": {},
   "source": [
    "It looks as though .12 gives us the best value. Let us dig deeper by observing AUC changes at the .001 place to see if we can improve our AUC."
   ]
  },
  {
   "cell_type": "code",
   "execution_count": 43,
   "id": "b0d57bdf",
   "metadata": {},
   "outputs": [],
   "source": [
    "mp_thresholds = [0.124, 0.123, 0.122, 0.121, 0.12, 0.119, 0.118, 0.117, 0.116]\n",
    "\n",
    "for threshold in mp_thresholds:\n",
    "    threshold_str = str(threshold).replace(\".\", \"_\")  # Convert threshold to a string and replace \".\" with \"_\"\n",
    "    variable_name = f\"pred_{threshold_str}\"\n",
    "    output_variable_name = f\"pred_{threshold_str[2:]}\"  # Remove the \"0_\" part\n",
    "    globals()[output_variable_name] = [1 if i >= threshold else 0 for i in diabetes_test[\"predictions\"]]"
   ]
  },
  {
   "cell_type": "code",
   "execution_count": 44,
   "id": "6e76416b",
   "metadata": {},
   "outputs": [],
   "source": [
    "more_precise_rounding_threshold_predictions = [pred_124, pred_123, pred_122, pred_121, pred_11, pred_119, pred_118, pred_117, pred_116]\n",
    "more_precise_names_of_levels = ['12.4%', '12.3%','12.2%', '12.1%', '11%', '11.9%', '11.8%', '11.7%', '11.6%']"
   ]
  },
  {
   "cell_type": "code",
   "execution_count": 45,
   "id": "9616368a",
   "metadata": {},
   "outputs": [
    {
     "name": "stdout",
     "output_type": "stream",
     "text": [
      "\n",
      "The cutoff percentage being used for predictions is: 12.4%\n",
      "Number of predicted readmissions: 4461\n",
      "Accuracy is: 0.7062857903848715\n",
      "Precision is: 0.5582219340373986\n",
      "Recall is: 0.622620878171432\n",
      "F1 score is: 0.5483382579762726\n",
      "ROC AUC score (i.e. the metric of primary interest) is: 0.622620878171432\n",
      "\n",
      "The cutoff percentage being used for predictions is: 12.3%\n",
      "Number of predicted readmissions: 4553\n",
      "Accuracy is: 0.7018910640564656\n",
      "Precision is: 0.5579776605712683\n",
      "Recall is: 0.6235385841685005\n",
      "F1 score is: 0.5466055584264705\n",
      "ROC AUC score (i.e. the metric of primary interest) is: 0.6235385841685004\n",
      "\n",
      "The cutoff percentage being used for predictions is: 12.2%\n",
      "Number of predicted readmissions: 4634\n",
      "Accuracy is: 0.6972965774404049\n",
      "Precision is: 0.5569342679185734\n",
      "Recall is: 0.6225178872396426\n",
      "F1 score is: 0.5439760562780065\n",
      "ROC AUC score (i.e. the metric of primary interest) is: 0.6225178872396427\n",
      "\n",
      "The cutoff percentage being used for predictions is: 12.1%\n",
      "Number of predicted readmissions: 4734\n",
      "Accuracy is: 0.6917032893860701\n",
      "Precision is: 0.5557861425010069\n",
      "Recall is: 0.6214567631278333\n",
      "F1 score is: 0.5408602833574107\n",
      "ROC AUC score (i.e. the metric of primary interest) is: 0.6214567631278333\n",
      "\n",
      "The cutoff percentage being used for predictions is: 11%\n",
      "Number of predicted readmissions: 5741\n",
      "Accuracy is: 0.6406312425089892\n",
      "Precision is: 0.552068544628777\n",
      "Recall is: 0.6240153923815868\n",
      "F1 score is: 0.5168712986906104\n",
      "ROC AUC score (i.e. the metric of primary interest) is: 0.6240153923815868\n",
      "\n",
      "The cutoff percentage being used for predictions is: 11.9%\n",
      "Number of predicted readmissions: 4930\n",
      "Accuracy is: 0.6830470102543614\n",
      "Precision is: 0.5562889774849479\n",
      "Recall is: 0.6251931024070632\n",
      "F1 score is: 0.5381422933328371\n",
      "ROC AUC score (i.e. the metric of primary interest) is: 0.6251931024070632\n",
      "\n",
      "The cutoff percentage being used for predictions is: 11.8%\n",
      "Number of predicted readmissions: 5027\n",
      "Accuracy is: 0.6777866560127846\n",
      "Precision is: 0.5554659129560349\n",
      "Recall is: 0.6245802102141961\n",
      "F1 score is: 0.5353478814109868\n",
      "ROC AUC score (i.e. the metric of primary interest) is: 0.6245802102141961\n",
      "\n",
      "The cutoff percentage being used for predictions is: 11.7%\n",
      "Number of predicted readmissions: 5119\n",
      "Accuracy is: 0.6724597150086563\n",
      "Precision is: 0.5543429643501732\n",
      "Recall is: 0.6231472812361702\n",
      "F1 score is: 0.5322167673346554\n",
      "ROC AUC score (i.e. the metric of primary interest) is: 0.6231472812361702\n",
      "\n",
      "The cutoff percentage being used for predictions is: 11.6%\n",
      "Number of predicted readmissions: 5209\n",
      "Accuracy is: 0.6679318151551471\n",
      "Precision is: 0.5540345361229587\n",
      "Recall is: 0.6234683285220215\n",
      "F1 score is: 0.5301299444614306\n",
      "ROC AUC score (i.e. the metric of primary interest) is: 0.6234683285220215\n"
     ]
    }
   ],
   "source": [
    "XGB_Statistical_Evaluation(more_precise_rounding_threshold_predictions, more_precise_names_of_levels)"
   ]
  },
  {
   "cell_type": "markdown",
   "id": "b5df5b5e",
   "metadata": {},
   "source": [
    "11.9 seems to be optimal. Let us now explore the 0.0001 place."
   ]
  },
  {
   "cell_type": "code",
   "execution_count": 49,
   "id": "964b7261",
   "metadata": {},
   "outputs": [],
   "source": [
    "emp_thresholds = [0.1194, 0.1193, 0.1192, 0.1191, 0.119, 0.1189, 0.1188, 0.1187, 0.1186]\n",
    "\n",
    "for threshold in emp_thresholds:\n",
    "    threshold_str = str(threshold).replace(\".\", \"_\")  # Convert threshold to a string and replace \".\" with \"_\"\n",
    "    variable_name = f\"pred_{threshold_str}\"\n",
    "    output_variable_name = f\"pred_{threshold_str[2:]}\"  # Remove the \"0_\" part\n",
    "    globals()[output_variable_name] = [1 if i >= threshold else 0 for i in diabetes_test[\"predictions\"]]"
   ]
  },
  {
   "cell_type": "code",
   "execution_count": 50,
   "id": "b69c2978",
   "metadata": {},
   "outputs": [],
   "source": [
    "emp_threshold_list = [pred_1194, pred_1193, pred_1192, pred_1191, pred_119, pred_1189, pred_1188, pred_1187, pred_1186]\n",
    "emp_threshold_variable_names = [\"pred_1194\", \"pred_1193\", \"pred_1192\", \"pred_1191\", \"pred_119\", \"pred_1189\", \"pred_1188\", \"pred_1187\", \"pred_1186\"]"
   ]
  },
  {
   "cell_type": "code",
   "execution_count": 51,
   "id": "7452ff49",
   "metadata": {},
   "outputs": [
    {
     "name": "stdout",
     "output_type": "stream",
     "text": [
      "\n",
      "The cutoff percentage being used for predictions is: pred_1194\n",
      "Number of predicted readmissions: 4890\n",
      "Accuracy is: 0.6849114396058064\n",
      "Precision is: 0.5562924020391746\n",
      "Recall is: 0.6246772980617492\n",
      "F1 score is: 0.538849304515223\n",
      "ROC AUC score (i.e. the metric of primary interest) is: 0.6246772980617491\n",
      "\n",
      "The cutoff percentage being used for predictions is: pred_1193\n",
      "Number of predicted readmissions: 4898\n",
      "Accuracy is: 0.6845119190304967\n",
      "Precision is: 0.5562611261836322\n",
      "Recall is: 0.6247132979315235\n",
      "F1 score is: 0.5386692258779266\n",
      "ROC AUC score (i.e. the metric of primary interest) is: 0.6247132979315235\n",
      "\n",
      "The cutoff percentage being used for predictions is: pred_1192\n",
      "Number of predicted readmissions: 4907\n",
      "Accuracy is: 0.6843121587428419\n",
      "Precision is: 0.5565099516822412\n",
      "Recall is: 0.6253834321533485\n",
      "F1 score is: 0.5388313286117615\n",
      "ROC AUC score (i.e. the metric of primary interest) is: 0.6253834321533485\n",
      "\n",
      "The cutoff percentage being used for predictions is: pred_1191\n",
      "Number of predicted readmissions: 4917\n",
      "Accuracy is: 0.6836462911173259\n",
      "Precision is: 0.5562821301076335\n",
      "Recall is: 0.625008675745014\n",
      "F1 score is: 0.5383627267545339\n",
      "ROC AUC score (i.e. the metric of primary interest) is: 0.6250086757450138\n",
      "\n",
      "The cutoff percentage being used for predictions is: pred_119\n",
      "Number of predicted readmissions: 4930\n",
      "Accuracy is: 0.6830470102543614\n",
      "Precision is: 0.5562889774849479\n",
      "Recall is: 0.6251931024070632\n",
      "F1 score is: 0.5381422933328371\n",
      "ROC AUC score (i.e. the metric of primary interest) is: 0.6251931024070632\n",
      "\n",
      "The cutoff percentage being used for predictions is: pred_1189\n",
      "Number of predicted readmissions: 4935\n",
      "Accuracy is: 0.6827140764416034\n",
      "Precision is: 0.5561756267960728\n",
      "Recall is: 0.6250057242028958\n",
      "F1 score is: 0.5379082144874483\n",
      "ROC AUC score (i.e. the metric of primary interest) is: 0.6250057242028958\n",
      "\n",
      "The cutoff percentage being used for predictions is: pred_1188\n",
      "Number of predicted readmissions: 4947\n",
      "Accuracy is: 0.6819150352909842\n",
      "Precision is: 0.5559042923803759\n",
      "Recall is: 0.6245560165128943\n",
      "F1 score is: 0.5373468524821436\n",
      "ROC AUC score (i.e. the metric of primary interest) is: 0.6245560165128943\n",
      "\n",
      "The cutoff percentage being used for predictions is: pred_1187\n",
      "Number of predicted readmissions: 4954\n",
      "Accuracy is: 0.6815821014782262\n",
      "Precision is: 0.555897083052798\n",
      "Recall is: 0.6246294920235022\n",
      "F1 score is: 0.5372132218099316\n",
      "ROC AUC score (i.e. the metric of primary interest) is: 0.6246294920235022\n",
      "\n",
      "The cutoff percentage being used for predictions is: pred_1186\n",
      "Number of predicted readmissions: 4965\n",
      "Accuracy is: 0.6809828206152617\n",
      "Precision is: 0.5558000302325169\n",
      "Recall is: 0.6245530649707762\n",
      "F1 score is: 0.536892578208535\n",
      "ROC AUC score (i.e. the metric of primary interest) is: 0.6245530649707761\n"
     ]
    }
   ],
   "source": [
    "XGB_Statistical_Evaluation(emp_threshold_list, emp_threshold_variable_names)"
   ]
  },
  {
   "cell_type": "markdown",
   "id": "68c8a037",
   "metadata": {},
   "source": [
    "11.92% Let us see if we can get any better performance at the 0.00001 place."
   ]
  },
  {
   "cell_type": "code",
   "execution_count": 52,
   "id": "07f2c7c8",
   "metadata": {},
   "outputs": [],
   "source": [
    "vp_thresholds = [0.11924, 0.11923, 0.11922, 0.11921, 0.1192, 0.11919, 0.11918, 0.11917, 0.11916]\n",
    "\n",
    "for threshold in vp_thresholds:\n",
    "    threshold_str = str(threshold).replace(\".\", \"_\")  # Convert threshold to a string and replace \".\" with \"_\"\n",
    "    variable_name = f\"pred_{threshold_str}\"\n",
    "    output_variable_name = f\"pred_{threshold_str[2:]}\"  # Remove the \"0_\" part\n",
    "    globals()[output_variable_name] = [1 if i >= threshold else 0 for i in diabetes_test[\"predictions\"]]"
   ]
  },
  {
   "cell_type": "code",
   "execution_count": 53,
   "id": "9abdbbe7",
   "metadata": {},
   "outputs": [],
   "source": [
    "vp_threshold_list = [pred_11924, pred_11923, pred_11922, pred_11921, pred_1192, pred_11919, pred_11918, pred_11917, pred_11916]\n",
    "vp_threshold_name_list = [\"pred_11924\", \"pred_11923\", \"pred_11922\", \"pred_11921\", \"pred_1192\", \"pred_11919\", \"pred_11918\", \"pred_11917\", \"pred_11916\"]"
   ]
  },
  {
   "cell_type": "code",
   "execution_count": 54,
   "id": "2d75baf4",
   "metadata": {},
   "outputs": [
    {
     "name": "stdout",
     "output_type": "stream",
     "text": [
      "\n",
      "The cutoff percentage being used for predictions is: pred_11924\n",
      "Number of predicted readmissions: 4904\n",
      "Accuracy is: 0.6841123984551871\n",
      "Precision is: 0.5561242536551502\n",
      "Recall is: 0.6244884440865228\n",
      "F1 score is: 0.53838816621537\n",
      "ROC AUC score (i.e. the metric of primary interest) is: 0.6244884440865228\n",
      "\n",
      "The cutoff percentage being used for predictions is: pred_11923\n",
      "Number of predicted readmissions: 4904\n",
      "Accuracy is: 0.6841123984551871\n",
      "Precision is: 0.5561242536551502\n",
      "Recall is: 0.6244884440865228\n",
      "F1 score is: 0.53838816621537\n",
      "ROC AUC score (i.e. the metric of primary interest) is: 0.6244884440865228\n",
      "\n",
      "The cutoff percentage being used for predictions is: pred_11922\n",
      "Number of predicted readmissions: 4905\n",
      "Accuracy is: 0.6841789852177387\n",
      "Precision is: 0.5562528443874736\n",
      "Recall is: 0.6247867734421313\n",
      "F1 score is: 0.5385359252884321\n",
      "ROC AUC score (i.e. the metric of primary interest) is: 0.6247867734421313\n",
      "\n",
      "The cutoff percentage being used for predictions is: pred_11921\n",
      "Number of predicted readmissions: 4906\n",
      "Accuracy is: 0.6842455719802903\n",
      "Precision is: 0.5563814103887258\n",
      "Recall is: 0.62508510279774\n",
      "F1 score is: 0.5386836460811321\n",
      "ROC AUC score (i.e. the metric of primary interest) is: 0.62508510279774\n",
      "\n",
      "The cutoff percentage being used for predictions is: pred_1192\n",
      "Number of predicted readmissions: 4907\n",
      "Accuracy is: 0.6843121587428419\n",
      "Precision is: 0.5565099516822412\n",
      "Recall is: 0.6253834321533485\n",
      "F1 score is: 0.5388313286117615\n",
      "ROC AUC score (i.e. the metric of primary interest) is: 0.6253834321533485\n",
      "\n",
      "The cutoff percentage being used for predictions is: pred_11919\n",
      "Number of predicted readmissions: 4907\n",
      "Accuracy is: 0.6843121587428419\n",
      "Precision is: 0.5565099516822412\n",
      "Recall is: 0.6253834321533485\n",
      "F1 score is: 0.5388313286117615\n",
      "ROC AUC score (i.e. the metric of primary interest) is: 0.6253834321533485\n",
      "\n",
      "The cutoff percentage being used for predictions is: pred_11918\n",
      "Number of predicted readmissions: 4908\n",
      "Accuracy is: 0.6842455719802903\n",
      "Precision is: 0.5564871378165365\n",
      "Recall is: 0.625345956512515\n",
      "F1 score is: 0.5387844492584735\n",
      "ROC AUC score (i.e. the metric of primary interest) is: 0.625345956512515\n",
      "\n",
      "The cutoff percentage being used for predictions is: pred_11917\n",
      "Number of predicted readmissions: 4909\n",
      "Accuracy is: 0.6841789852177387\n",
      "Precision is: 0.5564643310103614\n",
      "Recall is: 0.6253084808716816\n",
      "F1 score is: 0.5387375741732215\n",
      "ROC AUC score (i.e. the metric of primary interest) is: 0.6253084808716816\n",
      "\n",
      "The cutoff percentage being used for predictions is: pred_11916\n",
      "Number of predicted readmissions: 4910\n",
      "Accuracy is: 0.6841123984551871\n",
      "Precision is: 0.5564415312587396\n",
      "Recall is: 0.6252710052308481\n",
      "F1 score is: 0.5386907033527861\n",
      "ROC AUC score (i.e. the metric of primary interest) is: 0.6252710052308481\n"
     ]
    }
   ],
   "source": [
    "XGB_Statistical_Evaluation(vp_threshold_list, vp_threshold_name_list)"
   ]
  },
  {
   "cell_type": "markdown",
   "id": "e1df22cc",
   "metadata": {},
   "source": [
    "It looks as though we have gone through precision-cutoff values, to the point where our AUC will be optimized (cutoff: 11.92%, AUC: 0.6254)"
   ]
  },
  {
   "cell_type": "markdown",
   "id": "c7e7dd1f",
   "metadata": {},
   "source": [
    "From the above results, we can see that a cutoff value of 11.19% (i.e. those predicted as being at/above 11.19% risk of readmission, are designated as such) gives us the greatest Area-Under-The-Curve value of 0.6254.\n",
    "\n",
    "This can be roughly interpreted as: \"Given a random readmitted/positive record, and random not-readmitted/negative record, the algorithm will correctly identify the positive record as being more likely to be readmitted than the negative record, 63% of the time.\n",
    "\n",
    "This value of 0.63 is fairly close to the AUC value of 0.67 that we recieved from our best hyperparameter tuning session off of the validation data subset. This indicates that while there is likely some degree of overfitting present, overall our model does a good job at providing generalizable, unbiased predictions across the entire patient population.\n",
    "\n",
    "Although the accuracy and precission have decreased due to our lower prediction cutoff point, we are able to predict these costly readmissions demonstratably better with the algorithm than without."
   ]
  },
  {
   "cell_type": "markdown",
   "id": "d9f133b5",
   "metadata": {},
   "source": [
    "#### Defining our optimal prediction values"
   ]
  },
  {
   "cell_type": "code",
   "execution_count": 55,
   "id": "c4bc52cb",
   "metadata": {},
   "outputs": [],
   "source": [
    "optimal_cutoff = pred_1192"
   ]
  },
  {
   "cell_type": "markdown",
   "id": "7511354d",
   "metadata": {},
   "source": [
    "### 2.7. Evaluate Model"
   ]
  },
  {
   "cell_type": "markdown",
   "id": "a0c17ba9",
   "metadata": {},
   "source": [
    "#### This cell creates the function that will be used to produce a confusion matrix for the predictions derived from the Test dataset."
   ]
  },
  {
   "cell_type": "code",
   "execution_count": 56,
   "id": "8f22afde",
   "metadata": {},
   "outputs": [],
   "source": [
    "from sklearn.metrics import confusion_matrix\n",
    "from sklearn.utils.multiclass import unique_labels\n",
    "\n",
    "def Plot_Confusion_Matrix(y_true, y_pred, classes,\n",
    "                          normalize=False,\n",
    "                          title=None, \n",
    "                          cmap=None):\n",
    "    \n",
    "    '''The Plot_Confusion_Matrix() function produces a confusion matrix with which to view our final results.\n",
    "    \n",
    "    Arguments \n",
    "    --------- \n",
    "    y_true: the actual readmission values for the test dataset\n",
    "    y_pred: the predicted readmission values for the test dataset\n",
    "    classes: The names for the outcome possibilities (i.e. readmitted/not readmitted) \n",
    "    title: chart title\n",
    "    cmap: sets the color gradient\n",
    "    \n",
    "    Return\n",
    "    ---------\n",
    "    Returns the specified confusion matrix '''\n",
    "    \n",
    "    if not title:\n",
    "        if normalize:\n",
    "            title = 'Normalized confusion matrix'\n",
    "            plt.cm.Greens\n",
    "        else:\n",
    "            title = 'Confusion matrix, without normalization'\n",
    "\n",
    "    # Compute confusion matrix\n",
    "    cm = confusion_matrix(y_true, y_pred)\n",
    "    # Only use the labels that appear in the data\n",
    "    classes = classes[unique_labels(y_true, y_pred)]\n",
    "    if normalize:\n",
    "        cm = cm.astype('float') / cm.sum(axis=1)[:, np.newaxis]\n",
    "\n",
    "    fig, ax = plt.subplots()\n",
    "    im = ax.imshow(cm, interpolation='nearest', cmap=cmap)\n",
    "    ax.figure.colorbar(im, ax=ax)\n",
    "    # We want to show all ticks...\n",
    "    ax.set(xticks=np.arange(cm.shape[1]),\n",
    "           yticks=np.arange(cm.shape[0]),\n",
    "           # ... and label them with the respective list entries\n",
    "           xticklabels=classes, yticklabels=classes,\n",
    "           title=title,\n",
    "           ylabel='Actual',\n",
    "           xlabel='Predicted')\n",
    "\n",
    "    # Rotate the tick labels and set their alignment.\n",
    "    plt.setp(ax.get_xticklabels(), rotation=45, ha=\"right\",\n",
    "             rotation_mode=\"anchor\")\n",
    "\n",
    "    # Loop over data dimensions and create text annotations.\n",
    "    fmt = '.2f' if normalize else 'd'\n",
    "    thresh = cm.max() / 2.\n",
    "    for i in range(cm.shape[0]):\n",
    "        for j in range(cm.shape[1]):\n",
    "            ax.text(j, i, format(cm[i, j], fmt),\n",
    "                    ha=\"center\", va=\"center\",\n",
    "                    color=\"white\" if cm[i, j] > thresh else \"black\")\n",
    "    fig.tight_layout()\n",
    "    return ax\n",
    "\n",
    "\n",
    "np.set_printoptions(precision=2)"
   ]
  },
  {
   "cell_type": "markdown",
   "id": "2ac91432",
   "metadata": {},
   "source": [
    "#### The below cell produces the confusion matrix detainkling our predictions"
   ]
  },
  {
   "cell_type": "code",
   "execution_count": 57,
   "id": "134a66ac",
   "metadata": {},
   "outputs": [],
   "source": [
    "#from io import BytesIO"
   ]
  },
  {
   "cell_type": "code",
   "execution_count": 58,
   "id": "519b06db",
   "metadata": {
    "scrolled": false
   },
   "outputs": [
    {
     "data": {
      "image/png": "[encoded data removed]",
      "text/plain": [
       "<Figure size 640x480 with 2 Axes>"
      ]
     },
     "metadata": {},
     "output_type": "display_data"
    }
   ],
   "source": [
    "%matplotlib inline\n",
    "sns.set_context(\"paper\", font_scale=1.4)\n",
    "\n",
    "y_test = diabetes_test['readmitted']\n",
    "y_pred = optimal_cutoff\n",
    "\n",
    "class_names = np.array(['Not Readmitted', 'Readmitted'])\n",
    "\n",
    "# Plot non-normalized confusion matrix\n",
    "Plot_Confusion_Matrix(y_test, y_pred, classes=class_names,\n",
    "                      title='Confusion matrix',\n",
    "                      cmap=plt.cm.Blues)\n",
    "plt.grid(False)\n",
    "\n",
    "\n",
    "# Save the table as a PNG image in memory\n",
    "buffer = BytesIO()\n",
    "plt.savefig(buffer, format='png')\n",
    "buffer.seek(0)\n",
    "\n",
    "# Upload the image to S3\n",
    "file_path = 'image_outputs/'\n",
    "file_name = 'xgb_confusion_matrix.png'  # Specify the desired file name in S3\n",
    "file_key = file_path + file_name\n",
    "\n",
    "s3_client = boto3.client('s3')\n",
    "s3_client.upload_fileobj(buffer, bucket, file_key)\n",
    "\n",
    "\n",
    "plt.show()"
   ]
  },
  {
   "cell_type": "code",
   "execution_count": 59,
   "id": "d00c910b",
   "metadata": {},
   "outputs": [
    {
     "data": {
      "text/plain": [
       "15018"
      ]
     },
     "execution_count": 59,
     "metadata": {},
     "output_type": "execute_result"
    }
   ],
   "source": [
    "len(diabetes_test)"
   ]
  },
  {
   "cell_type": "code",
   "execution_count": 60,
   "id": "4255f2f1",
   "metadata": {},
   "outputs": [
    {
     "name": "stdout",
     "output_type": "stream",
     "text": [
      "\n",
      "The cutoff percentage being used for predictions is: 11.92%\n",
      "Number of predicted readmissions: 4907\n",
      "Accuracy is: 0.6843121587428419\n",
      "Precision is: 0.5565099516822412\n",
      "Recall is: 0.6253834321533485\n",
      "F1 score is: 0.5388313286117615\n",
      "ROC AUC score (i.e. the metric of primary interest) is: 0.6253834321533485\n"
     ]
    }
   ],
   "source": [
    "XGB_Statistical_Evaluation([optimal_cutoff],[\"11.92%\"])"
   ]
  },
  {
   "cell_type": "markdown",
   "id": "b11b762f",
   "metadata": {},
   "source": [
    "As can be seen in the above confusion matrix, although we are <u>identifying a little more than one third (39%) of patients as being at risk</u> for a readmission, we were <u>correctly identifying close to two thirds (61%) of all correct cases</u> among this prediction subset."
   ]
  },
  {
   "cell_type": "markdown",
   "id": "bb5ee409",
   "metadata": {},
   "source": [
    "### 2.9. Assess Financial/Operational Impact of Model\n",
    "\n",
    "#### To complete our assessment, let us determine the impact our algorithm would have had if implemented on our entire dataset in terms of:<br>\n",
    "   1. Readmissions Prevented<br>\n",
    "   2. Dollars Saved"
   ]
  },
  {
   "cell_type": "markdown",
   "id": "69c02b66",
   "metadata": {},
   "source": [
    "#### Let us identify the relevant numbers from our confusion matrix necessary to populate our financial assessment (i.e. our: \n",
    "   True Positives<br>\n",
    "   False Positives<br>\n",
    "   False Negatives<br><br>\n",
    "These correspond to the bottom right, top right, and bottom left cells of the prior confusion matrix."
   ]
  },
  {
   "cell_type": "code",
   "execution_count": 61,
   "id": "cce875cb",
   "metadata": {},
   "outputs": [
    {
     "name": "stdout",
     "output_type": "stream",
     "text": [
      "The number of True Positives (those correctly flagged) is: 921\n",
      "The number of False Positives (those incorrectly flagged) is: 3986\n",
      "The number of False Negatives (those missed) is: 755\n"
     ]
    }
   ],
   "source": [
    "cm2 = confusion_matrix(diabetes_test['readmitted'], optimal_cutoff)\n",
    "\n",
    "True_Positives_those_correctly_flagged = cm2[1][1]\n",
    "False_Positives_those_incorrectly_flagged = cm2[0][1]\n",
    "False_Negatives_those_missed = cm2[1][0]\n",
    "\n",
    "print('The number of True Positives (those correctly flagged) is: {}'.format(True_Positives_those_correctly_flagged))\n",
    "print('The number of False Positives (those incorrectly flagged) is: {}'.format(False_Positives_those_incorrectly_flagged))\n",
    "print('The number of False Negatives (those missed) is: {}'.format(False_Negatives_those_missed))"
   ]
  },
  {
   "cell_type": "markdown",
   "id": "72a2c689",
   "metadata": {},
   "source": [
    "#### Next, let us define a few variables: <br>\n",
    "&nbsp;&nbsp;&nbsp;&nbsp;&nbsp;&nbsp;&nbsp;&nbsp;The <u>cost of each readmission</u> is estimated at <u>$15,000</u> <br><br>\n",
    "   A diabetes-management-program is a patient-follow-up regimen, with the goal of preventing a readmission, and ultimately enabling the patient to manage their diabetes.<br><br>\n",
    "   \n",
    "The following variables pertaining to readmissions are defined/estimated below:<br><br>\n",
    "&nbsp;&nbsp;&nbsp;&nbsp;&nbsp;&nbsp;&nbsp;&nbsp;The <u>cost of implimenting the diabetes-management-program</u> for 1 month is estimated at <u>$500</u><br>\n",
    "&nbsp;&nbsp;&nbsp;&nbsp;&nbsp;&nbsp;&nbsp;&nbsp;The <u>likelihood</u> of the diabetes-management-program <u>preventing a readmission is</u> estimated at <u>50%</u><br><br>\n",
    "\n",
    "Obviously, each of these variables are likely to vary across health systems, and these are just estimation values. However an update of these variables would enable a simple update of this assessment."
   ]
  },
  {
   "cell_type": "code",
   "execution_count": 62,
   "id": "ed6181f2",
   "metadata": {},
   "outputs": [],
   "source": [
    "cost_of_readmission = 15000\n",
    "cost_of_management_program = 500\n",
    "sucess_rate_of_intervention = 0.5"
   ]
  },
  {
   "cell_type": "markdown",
   "id": "341c0d04",
   "metadata": {},
   "source": [
    "#### Below we calculate the total cost of the program, and the total number of readmissions that the program would prevent."
   ]
  },
  {
   "cell_type": "code",
   "execution_count": 63,
   "id": "c7461c6e",
   "metadata": {},
   "outputs": [
    {
     "name": "stdout",
     "output_type": "stream",
     "text": [
      "The total cost of implementing the program across the 4907 patients deemed to be \"at risk\" by the algorithm would be: $2453500\n",
      "The total number of prevented readmissions would be : 460.5\n"
     ]
    }
   ],
   "source": [
    "total_cost_of_implimenting_program = cost_of_management_program*(True_Positives_those_correctly_flagged+False_Positives_those_incorrectly_flagged)\n",
    "\n",
    "readmissions_prevented = sucess_rate_of_intervention*True_Positives_those_correctly_flagged\n",
    "\n",
    "print('The total cost of implementing the program across the {} patients deemed to be \"at risk\" by the algorithm would be: ${}'.format((True_Positives_those_correctly_flagged + False_Positives_those_incorrectly_flagged), total_cost_of_implimenting_program))\n",
    "print('The total number of prevented readmissions would be : {}'.format(readmissions_prevented))"
   ]
  },
  {
   "cell_type": "markdown",
   "id": "dac83238",
   "metadata": {},
   "source": [
    "#### Now, we calculate the difference between the expense of implimenting the program (about $2 Million) with the savings from prevented readmissions."
   ]
  },
  {
   "cell_type": "code",
   "execution_count": 64,
   "id": "642e455c",
   "metadata": {},
   "outputs": [
    {
     "name": "stdout",
     "output_type": "stream",
     "text": [
      "The savings stemming from prevented readmissions would be: $6907500.0\n",
      "The net savings from implementing the program would be : $4454000.0\n",
      "The per-patient savings would be: $296.5774404048475\n"
     ]
    }
   ],
   "source": [
    "savings_from_readmissions_prevention = (readmissions_prevented) * (cost_of_readmission)\n",
    "\n",
    "net_savings_to_hosptial_system = (savings_from_readmissions_prevention) - (total_cost_of_implimenting_program)\n",
    "\n",
    "per_patient_savings = net_savings_to_hosptial_system/len(optimal_cutoff)\n",
    "\n",
    "print('The savings stemming from prevented readmissions would be: ${}'.format(savings_from_readmissions_prevention))\n",
    "print('The net savings from implementing the program would be : ${}'.format(net_savings_to_hosptial_system))\n",
    "print('The per-patient savings would be: ${}'.format(per_patient_savings))"
   ]
  },
  {
   "cell_type": "markdown",
   "id": "50230ea3",
   "metadata": {},
   "source": [
    "#### As we can see, using machine learning to identify diabetic patients at risk for a readmission can provide dramatic per-patient financial savings.\n",
    "\n",
    "Even with the high number of false positives, (i.e. 3986, indicative of a diabetes-management-program being implimented on a patient who would not have otherwise been readmitted -- over 4 false positives for each true positive) The savings derived from the patients that would have be readmitted (461 -- or up to 921 with a diabetes-management-program that is more than 50% effective) makes up for this at a rate of saving nearly 3 dollars saved on prevented readmissions for every 1 dollar spent on the diabetes-management-program. \n",
    "\n",
    "Furthermore, it is likely that the diabetes management program may have significant residual health benefits on both the true and false positive populations applied to. As both of these populations are presumably at risk for complications stemming from their diabetes, these programs may promote a healthly lifestyle and prevent costly complications down the road."
   ]
  },
  {
   "cell_type": "markdown",
   "id": "a221da53",
   "metadata": {},
   "source": [
    "#### In summation, for ~15,000 patients, 6.9 Million dollars would be saved from readmissions, with 4.5 Million being spent on the program up front. \n",
    "#### This would prevent over 31% of readmissions, and lead to an average savings of nearly 300 dollars per-patient (i.e. per-patient savings regardless of the patient's eventual readmission designation)."
   ]
  }
 ],
 "metadata": {
  "kernelspec": {
   "display_name": "conda_python3",
   "language": "python",
   "name": "conda_python3"
  },
  "language_info": {
   "codemirror_mode": {
    "name": "ipython",
    "version": 3
   },
   "file_extension": ".py",
   "mimetype": "text/x-python",
   "name": "python",
   "nbconvert_exporter": "python",
   "pygments_lexer": "ipython3",
   "version": "3.10.13"
  }
 },
 "nbformat": 4,
 "nbformat_minor": 5
}
