{
 "cells": [
  {
   "cell_type": "markdown",
   "id": "6f9e8ab2",
   "metadata": {},
   "source": [
    "## This script:\n",
    "### -Imports optimized hyperparameters from Sagemaker UI initiated tuning job\n",
    "### -Trains an optimized model using these hyperparameters\n",
    "### -Deploys this optimized model \n",
    "### -Facilitates real-time inference calls to the model\n",
    "### -Assesses this model in terms of statistical prowess\n",
    "<br><br>\n",
    "### Outline of Notebook:\n",
    "\n",
    "#### 3.1 Establish environment and define appropriate variables\n",
    "#### 3.2 Import Hyperparameters\n",
    "#### 3.3 Train Optimized Model\n",
    "#### 3.4 Deploy Optimized Model for Real Time Inference Calls via Gateway API and Lambda\n",
    "#### 3.5 Identify Optimal Likelihood Cutoff for our Predictions\n",
    "#### 3.6 Evaluate Model<br>\n",
    "&nbsp;&nbsp;&nbsp;&nbsp;Function: <u>CSV_Reader()</u><br>\n",
    "&nbsp;&nbsp;&nbsp;&nbsp;Function: <u>Linear_Learner_Statistical_Evaluation()</u><br>\n",
    "&nbsp;&nbsp;&nbsp;&nbsp;Function: <u>Plot_Confusion_Matrix()</u>"
   ]
  },
  {
   "cell_type": "markdown",
   "id": "05761e4c",
   "metadata": {},
   "source": [
    "### 3.1 Establish environment and define appropriate variables"
   ]
  },
  {
   "cell_type": "code",
   "execution_count": 1,
   "id": "a3ba5beb",
   "metadata": {},
   "outputs": [
    {
     "name": "stdout",
     "output_type": "stream",
     "text": [
      "sagemaker.config INFO - Not applying SDK defaults from location: /etc/xdg/sagemaker/config.yaml\n",
      "sagemaker.config INFO - Not applying SDK defaults from location: /home/ec2-user/.config/sagemaker/config.yaml\n",
      "sagemaker.config INFO - Not applying SDK defaults from location: /etc/xdg/sagemaker/config.yaml\n",
      "sagemaker.config INFO - Not applying SDK defaults from location: /home/ec2-user/.config/sagemaker/config.yaml\n",
      "sagemaker.config INFO - Not applying SDK defaults from location: /etc/xdg/sagemaker/config.yaml\n",
      "sagemaker.config INFO - Not applying SDK defaults from location: /home/ec2-user/.config/sagemaker/config.yaml\n"
     ]
    }
   ],
   "source": [
    "'''The first step is to import the necessary libraries'''\n",
    "\n",
    "#Data manipulation libraries\n",
    "import pandas as pd\n",
    "import numpy as np\n",
    "import matplotlib.pyplot as plt\n",
    "import random as random\n",
    "from datetime import datetime\n",
    "from sklearn.utils import shuffle\n",
    "from time import gmtime, strftime\n",
    "%matplotlib inline\n",
    "\n",
    "#Data visualization libraries\n",
    "import seaborn as sns\n",
    "import matplotlib.pyplot as plt\n",
    "\n",
    "#AWS Sagemaker libraries\n",
    "import sagemaker\n",
    "import boto3\n",
    "import io\n",
    "from io import BytesIO\n",
    "from io import StringIO\n",
    "from sagemaker import get_execution_role\n",
    "import sagemaker.amazon.common as smac\n",
    "import os\n",
    "from sagemaker.tuner import IntegerParameter, ContinuousParameter, HyperparameterTuner\n",
    "from sagemaker.amazon.amazon_estimator import get_image_uri\n",
    "from sagemaker.session import s3_input\n",
    "\n",
    "#Libraries needed to evaluate the machine learning models\n",
    "from sklearn.metrics import precision_recall_fscore_support\n",
    "from sklearn.metrics import accuracy_score\n",
    "from sklearn.metrics import roc_auc_score\n",
    "\n",
    "#Defining some global variables for Sagemaker\n",
    "region = boto3.Session().region_name\n",
    "smclient = boto3.Session().client('sagemaker')\n",
    "s3_client = boto3.client('s3')\n",
    "role = get_execution_role()\n",
    "sess = sagemaker.Session()"
   ]
  },
  {
   "cell_type": "code",
   "execution_count": 2,
   "id": "d8ca5828",
   "metadata": {},
   "outputs": [],
   "source": [
    "'''Here we format dimensions for easier display'''\n",
    "\n",
    "#500 rows and columns will be present\n",
    "pd.set_option('display.max_columns', 500)\n",
    "pd.set_option('display.max_rows', 500)"
   ]
  },
  {
   "cell_type": "markdown",
   "id": "64a95206",
   "metadata": {},
   "source": [
    "#### Defining variables"
   ]
  },
  {
   "cell_type": "code",
   "execution_count": 3,
   "id": "80f80264",
   "metadata": {},
   "outputs": [
    {
     "name": "stdout",
     "output_type": "stream",
     "text": [
      "sagemaker.config INFO - Not applying SDK defaults from location: /etc/xdg/sagemaker/config.yaml\n",
      "sagemaker.config INFO - Not applying SDK defaults from location: /home/ec2-user/.config/sagemaker/config.yaml\n"
     ]
    }
   ],
   "source": [
    "role = get_execution_role()\n",
    "bucket = 'diabetes-directory'\n",
    "folder = 'processed_data'\n",
    "train_file = 'train.data'\n",
    "validation_file = 'validation.data'\n",
    "linear_learner_subfolder = 'linear_learner'\n",
    "hyperparameter_tuning_subfolder = 'tuning'\n",
    "tuned_model_subfolder = 'optimized_model'\n",
    "\n",
    "training_data_location = 's3://{}/{}/{}'.format(bucket, folder, train_file)\n",
    "validation_data_location = 's3://{}/{}/{}'.format(bucket, folder, validation_file)\n",
    "output_location = 's3://{}/{}/'.format(bucket, linear_learner_subfolder)\n",
    "\n",
    "#Tuning and training \n",
    "UI_tuning_job_name = 'diabetes-ll-h'\n",
    "job_name = 'diabetes-LL-job-optimized-{}'.format(datetime.now().strftime(\"%Y%m%d%H%M%S\"))"
   ]
  },
  {
   "cell_type": "markdown",
   "id": "6b0f28fd",
   "metadata": {},
   "source": [
    "### 3.2 Import Hyperparameters"
   ]
  },
  {
   "cell_type": "markdown",
   "id": "84d193a2",
   "metadata": {},
   "source": [
    "As we tuned our XGBoost model within the notebook, we will use the SageMaker Hyperparameter tuning user interface to initiate this job.\n",
    "\n",
    "This provides the same statistical optimization of the eventual hyperparameters/model, but can be more user friendly and self explainatory than coding. Therefore it is good to have both options for hyperparameter tuning.\n",
    "\n",
    "Once the job is complete, we will use the same procedure used in our XGBoost model to read these optimized hyperparameters into our notebook, and then apply them to our optimized model for deployment."
   ]
  },
  {
   "cell_type": "markdown",
   "id": "83968dc2",
   "metadata": {},
   "source": [
    "#### Once complete, we now get the training job, we can extract the hyperparameters from the model iteration that demonstrated the highest outcome metric, AUC."
   ]
  },
  {
   "cell_type": "code",
   "execution_count": 4,
   "id": "f2fc3d44",
   "metadata": {},
   "outputs": [
    {
     "name": "stdout",
     "output_type": "stream",
     "text": [
      "sagemaker.config INFO - Not applying SDK defaults from location: /etc/xdg/sagemaker/config.yaml\n",
      "sagemaker.config INFO - Not applying SDK defaults from location: /home/ec2-user/.config/sagemaker/config.yaml\n"
     ]
    }
   ],
   "source": [
    "tuner = sagemaker.HyperparameterTuningJobAnalytics(UI_tuning_job_name)\n",
    "best_training_job = tuner.dataframe().sort_values('FinalObjectiveValue', ascending=False).iloc[0]\n",
    "best_training_job_name = best_training_job['TrainingJobName']\n",
    "\n",
    "# Get the best hyperparameters from the best training job\n",
    "client = boto3.client('sagemaker')\n",
    "response = client.describe_training_job(TrainingJobName=best_training_job_name)\n",
    "best_hyperparameters = response['HyperParameters']"
   ]
  },
  {
   "cell_type": "code",
   "execution_count": 5,
   "id": "c17ea658",
   "metadata": {},
   "outputs": [
    {
     "name": "stdout",
     "output_type": "stream",
     "text": [
      "{'_tuning_objective_metric': 'validation:roc_auc_score', 'early_stopping_patience': '3', 'early_stopping_tolerance': '0.001', 'epochs': '15', 'feature_dim': '97', 'l1': '0.8846803538632066', 'learning_rate': '0.002478971972691457', 'loss': 'auto', 'mini_batch_size': '546', 'normalize_data': 'true', 'normalize_label': 'auto', 'num_classes': '2', 'num_models': 'auto', 'optimizer': 'auto', 'predictor_type': 'binary_classifier', 'unbias_data': 'auto', 'unbias_label': 'auto', 'use_bias': 'true', 'wd': '0.00011040373989387878'}\n"
     ]
    }
   ],
   "source": [
    "print(best_hyperparameters)"
   ]
  },
  {
   "cell_type": "markdown",
   "id": "370a161d",
   "metadata": {},
   "source": [
    "### 3.3 Train Optimized Model"
   ]
  },
  {
   "cell_type": "code",
   "execution_count": 6,
   "id": "1e62e259",
   "metadata": {},
   "outputs": [],
   "source": [
    "from sagemaker import image_uris\n",
    "container = image_uris.retrieve('linear-learner', boto3.Session().region_name, '1')"
   ]
  },
  {
   "cell_type": "code",
   "execution_count": 7,
   "id": "3bced933",
   "metadata": {},
   "outputs": [
    {
     "name": "stdout",
     "output_type": "stream",
     "text": [
      "sagemaker.config INFO - Not applying SDK defaults from location: /etc/xdg/sagemaker/config.yaml\n",
      "sagemaker.config INFO - Not applying SDK defaults from location: /home/ec2-user/.config/sagemaker/config.yaml\n"
     ]
    },
    {
     "name": "stderr",
     "output_type": "stream",
     "text": [
      "INFO:sagemaker:Creating training-job with name: diabetes-LL-job-optimized-20231102201422\n"
     ]
    },
    {
     "name": "stdout",
     "output_type": "stream",
     "text": [
      "2023-11-02 20:21:15 Starting - Starting the training job...\n",
      "2023-11-02 20:21:42 Starting - Preparing the instances for training.........\n",
      "2023-11-02 20:22:50 Downloading - Downloading input data...\n",
      "2023-11-02 20:23:20 Training - Downloading the training image......\n",
      "2023-11-02 20:24:40 Training - Training image download completed. Training in progress..\u001b[34mDocker entrypoint called with argument(s): train\u001b[0m\n",
      "\u001b[34mRunning default environment configuration script\u001b[0m\n",
      "\u001b[34m[11/02/2023 20:24:48 INFO 140043151161152] Reading default configuration from /opt/amazon/lib/python3.8/site-packages/algorithm/resources/default-input.json: {'mini_batch_size': '1000', 'epochs': '15', 'feature_dim': 'auto', 'use_bias': 'true', 'binary_classifier_model_selection_criteria': 'accuracy', 'f_beta': '1.0', 'target_recall': '0.8', 'target_precision': '0.8', 'num_models': 'auto', 'num_calibration_samples': '10000000', 'init_method': 'uniform', 'init_scale': '0.07', 'init_sigma': '0.01', 'init_bias': '0.0', 'optimizer': 'auto', 'loss': 'auto', 'margin': '1.0', 'quantile': '0.5', 'loss_insensitivity': '0.01', 'huber_delta': '1.0', 'num_classes': '1', 'accuracy_top_k': '3', 'wd': 'auto', 'l1': 'auto', 'momentum': 'auto', 'learning_rate': 'auto', 'beta_1': 'auto', 'beta_2': 'auto', 'bias_lr_mult': 'auto', 'bias_wd_mult': 'auto', 'use_lr_scheduler': 'true', 'lr_scheduler_step': 'auto', 'lr_scheduler_factor': 'auto', 'lr_scheduler_minimum_lr': 'auto', 'positive_example_weight_mult': '1.0', 'balance_multiclass_weights': 'false', 'normalize_data': 'true', 'normalize_label': 'auto', 'unbias_data': 'auto', 'unbias_label': 'auto', 'num_point_for_scaler': '10000', '_kvstore': 'auto', '_num_gpus': 'auto', '_num_kv_servers': 'auto', '_log_level': 'info', '_tuning_objective_metric': '', 'early_stopping_patience': '3', 'early_stopping_tolerance': '0.001', '_enable_profiler': 'false'}\u001b[0m\n",
      "\u001b[34m[11/02/2023 20:24:48 INFO 140043151161152] Merging with provided configuration from /opt/ml/input/config/hyperparameters.json: {'_tuning_objective_metric': 'validation:roc_auc_score', 'early_stopping_patience': '3', 'early_stopping_tolerance': '0.001', 'epochs': '15', 'feature_dim': '97', 'l1': '0.8846803538632066', 'learning_rate': '0.002478971972691457', 'loss': 'auto', 'mini_batch_size': '546', 'normalize_data': 'true', 'normalize_label': 'auto', 'num_classes': '2', 'num_models': 'auto', 'optimizer': 'auto', 'predictor_type': 'binary_classifier', 'unbias_data': 'auto', 'unbias_label': 'auto', 'use_bias': 'true', 'wd': '0.00011040373989387878'}\u001b[0m\n",
      "\u001b[34m[11/02/2023 20:24:48 INFO 140043151161152] Final configuration: {'mini_batch_size': '546', 'epochs': '15', 'feature_dim': '97', 'use_bias': 'true', 'binary_classifier_model_selection_criteria': 'accuracy', 'f_beta': '1.0', 'target_recall': '0.8', 'target_precision': '0.8', 'num_models': 'auto', 'num_calibration_samples': '10000000', 'init_method': 'uniform', 'init_scale': '0.07', 'init_sigma': '0.01', 'init_bias': '0.0', 'optimizer': 'auto', 'loss': 'auto', 'margin': '1.0', 'quantile': '0.5', 'loss_insensitivity': '0.01', 'huber_delta': '1.0', 'num_classes': '2', 'accuracy_top_k': '3', 'wd': '0.00011040373989387878', 'l1': '0.8846803538632066', 'momentum': 'auto', 'learning_rate': '0.002478971972691457', 'beta_1': 'auto', 'beta_2': 'auto', 'bias_lr_mult': 'auto', 'bias_wd_mult': 'auto', 'use_lr_scheduler': 'true', 'lr_scheduler_step': 'auto', 'lr_scheduler_factor': 'auto', 'lr_scheduler_minimum_lr': 'auto', 'positive_example_weight_mult': '1.0', 'balance_multiclass_weights': 'false', 'normalize_data': 'true', 'normalize_label': 'auto', 'unbias_data': 'auto', 'unbias_label': 'auto', 'num_point_for_scaler': '10000', '_kvstore': 'auto', '_num_gpus': 'auto', '_num_kv_servers': 'auto', '_log_level': 'info', '_tuning_objective_metric': 'validation:roc_auc_score', 'early_stopping_patience': '3', 'early_stopping_tolerance': '0.001', '_enable_profiler': 'false', 'predictor_type': 'binary_classifier'}\u001b[0m\n",
      "\u001b[34m/opt/amazon/lib/python3.8/site-packages/mxnet/model.py:97: SyntaxWarning: \"is\" with a literal. Did you mean \"==\"?\n",
      "  if num_device is 1 and 'dist' not in kvstore:\u001b[0m\n",
      "\u001b[34m/opt/amazon/lib/python3.8/site-packages/scipy/optimize/_shgo.py:495: SyntaxWarning: \"is\" with a literal. Did you mean \"==\"?\n",
      "  if cons['type'] is 'ineq':\u001b[0m\n",
      "\u001b[34m/opt/amazon/lib/python3.8/site-packages/scipy/optimize/_shgo.py:743: SyntaxWarning: \"is not\" with a literal. Did you mean \"!=\"?\n",
      "  if len(self.X_min) is not 0:\u001b[0m\n",
      "\u001b[34m[11/02/2023 20:24:51 WARNING 140043151161152] Loggers have already been setup.\u001b[0m\n",
      "\u001b[34m[11/02/2023 20:24:51 INFO 140043151161152] Final configuration: {'mini_batch_size': '546', 'epochs': '15', 'feature_dim': '97', 'use_bias': 'true', 'binary_classifier_model_selection_criteria': 'accuracy', 'f_beta': '1.0', 'target_recall': '0.8', 'target_precision': '0.8', 'num_models': 'auto', 'num_calibration_samples': '10000000', 'init_method': 'uniform', 'init_scale': '0.07', 'init_sigma': '0.01', 'init_bias': '0.0', 'optimizer': 'auto', 'loss': 'auto', 'margin': '1.0', 'quantile': '0.5', 'loss_insensitivity': '0.01', 'huber_delta': '1.0', 'num_classes': '2', 'accuracy_top_k': '3', 'wd': '0.00011040373989387878', 'l1': '0.8846803538632066', 'momentum': 'auto', 'learning_rate': '0.002478971972691457', 'beta_1': 'auto', 'beta_2': 'auto', 'bias_lr_mult': 'auto', 'bias_wd_mult': 'auto', 'use_lr_scheduler': 'true', 'lr_scheduler_step': 'auto', 'lr_scheduler_factor': 'auto', 'lr_scheduler_minimum_lr': 'auto', 'positive_example_weight_mult': '1.0', 'balance_multiclass_weights': 'false', 'normalize_data': 'true', 'normalize_label': 'auto', 'unbias_data': 'auto', 'unbias_label': 'auto', 'num_point_for_scaler': '10000', '_kvstore': 'auto', '_num_gpus': 'auto', '_num_kv_servers': 'auto', '_log_level': 'info', '_tuning_objective_metric': 'validation:roc_auc_score', 'early_stopping_patience': '3', 'early_stopping_tolerance': '0.001', '_enable_profiler': 'false', 'predictor_type': 'binary_classifier'}\u001b[0m\n",
      "\u001b[34m[11/02/2023 20:24:51 WARNING 140043151161152] Loggers have already been setup.\u001b[0m\n",
      "\u001b[34mProcess 7 is a worker.\u001b[0m\n",
      "\u001b[34m[11/02/2023 20:24:51 INFO 140043151161152] Using default worker.\u001b[0m\n",
      "\u001b[34m[11/02/2023 20:24:51 INFO 140043151161152] Checkpoint loading and saving are disabled.\u001b[0m\n",
      "\u001b[34m[11/02/2023 20:24:51 INFO 140043151161152] The channel 'train' is in pipe input mode under /opt/ml/input/data/train.\u001b[0m\n",
      "\u001b[34m[11/02/2023 20:24:51 INFO 140043151161152] The channel 'validation' is in pipe input mode under /opt/ml/input/data/validation.\u001b[0m\n",
      "\u001b[34m[2023-11-02 20:24:51.298] [tensorio] [warning] TensorIO is already initialized; ignoring the initialization routine.\u001b[0m\n",
      "\u001b[34m[2023-11-02 20:24:51.328] [tensorio] [info] epoch_stats={\"data_pipeline\": \"/opt/ml/input/data/train\", \"epoch\": 0, \"duration\": 33, \"num_examples\": 1, \"num_bytes\": 238056}\u001b[0m\n",
      "\u001b[34m[11/02/2023 20:24:51 WARNING 140043151161152] predictor_type is 'binary_classifier', and num_classes is 2.  num_classes is only needed when predictor_type='multiclass_classifier'.  Ignoring num_classes and proceeding with binary classification.\u001b[0m\n",
      "\u001b[34m[11/02/2023 20:24:51 INFO 140043151161152] Create Store: local\u001b[0m\n",
      "\u001b[34m[2023-11-02 20:24:53.114] [tensorio] [info] epoch_stats={\"data_pipeline\": \"/opt/ml/input/data/train\", \"epoch\": 1, \"duration\": 1784, \"num_examples\": 19, \"num_bytes\": 4523064}\u001b[0m\n",
      "\u001b[34m[11/02/2023 20:24:53 INFO 140043151161152] Scaler algorithm parameters\n",
      " <algorithm.scaler.ScalerAlgorithmStable object at 0x7f5dc563f610>\u001b[0m\n",
      "\u001b[34m[11/02/2023 20:24:53 INFO 140043151161152] Scaling model computed with parameters:\n",
      " {'stdev_label': None, 'stdev_weight': \u001b[0m\n",
      "\u001b[34m[3.0292838e+00 1.8930965e+01 1.6500430e+00 8.0486488e+00 1.1343430e+00\n",
      " 7.1692204e-01 1.2228992e+00 2.0001805e+00 3.9168572e-01 3.3248663e-01\n",
      " 3.1691509e-01 4.9981260e-01 4.9724257e-01 4.2532352e-01 4.0781930e-01\n",
      " 8.1866391e-02 1.4181159e-01 1.7523734e-01 4.7033656e-02 9.1710366e-02\n",
      " 1.2131760e-01 1.9776858e-01 2.9878804e-01 3.8025951e-01 4.1219211e-01\n",
      " 3.6254951e-01 1.5719137e-01 4.9855542e-01 3.2976004e-01 1.3546543e-01\n",
      " 1.6149193e-01 7.7691652e-02 3.5139674e-01 1.2659124e-01 3.7997790e-02\n",
      " 2.4182180e-01 2.8636676e-01 9.9622078e-02 2.8828868e-01 1.5365449e-01\n",
      " 2.7514619e-01 1.5002531e-01 1.6621624e-01 2.1860054e-01 1.7523734e-01\n",
      " 5.6310833e-02 1.7368393e-01 7.6455936e-02 3.4755018e-01 1.5689999e-01\n",
      " 2.0902403e-01 3.5516191e-01 1.5513903e-01 1.9414814e-01 1.3057572e-01\n",
      " 2.1048415e-01 1.6539353e-01 2.7293962e-01 1.3614854e-01 1.5395266e-01\n",
      " 5.0949845e-02 1.6289735e-01 6.1198570e-02 3.0489802e-01 1.7930490e-01\n",
      " 2.4613254e-01 3.9775598e-01 1.4910285e-01 1.9044635e-01 1.3199267e-01\n",
      " 2.4321210e-01 1.7728445e-01 2.8815201e-01 1.3716634e-01 1.2622233e-01\n",
      " 6.9256857e-02 1.6345575e-01 5.0949842e-02 2.6087835e-01 1.5365447e-01\n",
      " 2.3705056e-01 1.3477859e-01 1.2950206e-01 1.8351370e-01 2.1213785e-01\n",
      " 3.9282864e-01 3.7959978e-01 1.3883530e-02 3.3356613e-01 9.8176142e-03\n",
      " 4.5502511e-01 1.2170237e-01 4.6002049e-02 1.8641874e-01 9.9146806e-02\n",
      " 1.6784811e-01 2.8428599e-01]\u001b[0m\n",
      "\u001b[34m<NDArray 97 @cpu(0)>, 'mean_label': None, 'mean_weight': \u001b[0m\n",
      "\u001b[34m[4.46086454e+00 4.31913528e+01 1.30740297e+00 1.57865829e+01\n",
      " 3.16078663e-01 1.57701969e-01 6.18372858e-01 7.16560650e+00\n",
      " 1.89223081e-01 1.26566440e-01 1.13263942e-01 5.13688087e-01\n",
      " 4.47561234e-01 7.62868702e-01 2.10719094e-01 6.74763834e-03\n",
      " 2.05321033e-02 3.17138992e-02 2.21708091e-03 8.48274585e-03\n",
      " 1.49411997e-02 4.07750160e-02 9.90938991e-02 1.75342187e-01\n",
      " 2.16984764e-01 1.55677676e-01 2.53518410e-02 4.62020457e-01\n",
      " 1.24156550e-01 1.87006034e-02 2.67977640e-02 6.07287465e-03\n",
      " 1.44303069e-01 1.62907280e-02 1.44592253e-03 6.23674504e-02\n",
      " 9.01291817e-02 1.00250635e-02 9.14786831e-02 2.41951048e-02\n",
      " 8.25139806e-02 2.30383631e-02 2.84364764e-02 5.03181070e-02\n",
      " 3.17139067e-02 3.18102958e-03 3.11355293e-02 5.88008435e-03\n",
      " 1.40543640e-01 2.52554491e-02 4.57875431e-02 1.48062468e-01\n",
      " 2.46770829e-02 3.92326973e-02 1.73510704e-02 4.64623161e-02\n",
      " 2.81472914e-02 8.10680613e-02 1.88933909e-02 2.42914986e-02\n",
      " 2.60266033e-03 2.72797383e-02 3.75939882e-03 1.03720851e-01\n",
      " 3.32562178e-02 6.47773296e-02 1.97031051e-01 2.27491837e-02\n",
      " 3.76903787e-02 1.77366510e-02 6.31386191e-02 3.24850641e-02\n",
      " 9.13823098e-02 1.91825721e-02 1.61943305e-02 4.81974240e-03\n",
      " 2.74725296e-02 2.60266080e-03 7.34528676e-02 2.41951048e-02\n",
      " 5.97647950e-02 1.85078103e-02 1.70618817e-02 3.48949358e-02\n",
      " 4.72334698e-02 1.90668985e-01 1.74571052e-01 1.92789652e-04\n",
      " 1.27530366e-01 9.63948405e-05 2.92751104e-01 1.50375962e-02\n",
      " 2.12068669e-03 3.60516682e-02 9.92866885e-03 2.90148463e-02\n",
      " 8.86832476e-02]\u001b[0m\n",
      "\u001b[34m<NDArray 97 @cpu(0)>}\u001b[0m\n",
      "\u001b[34m/opt/amazon/python3.8/lib/python3.8/subprocess.py:848: RuntimeWarning: line buffering (buffering=1) isn't supported in binary mode, the default buffer size will be used\n",
      "  self.stdout = io.open(c2pread, 'rb', bufsize)\u001b[0m\n"
     ]
    },
    {
     "name": "stdout",
     "output_type": "stream",
     "text": [
      "\u001b[34m[11/02/2023 20:24:53 INFO 140043151161152] nvidia-smi: took 0.037 seconds to run.\u001b[0m\n",
      "\u001b[34m[11/02/2023 20:24:53 INFO 140043151161152] nvidia-smi identified 0 GPUs.\u001b[0m\n",
      "\u001b[34m[11/02/2023 20:24:53 INFO 140043151161152] Number of GPUs being used: 0\u001b[0m\n",
      "\u001b[34m#metrics {\"StartTime\": 1698956693.165523, \"EndTime\": 1698956693.1655571, \"Dimensions\": {\"Algorithm\": \"Linear Learner\", \"Host\": \"algo-1\", \"Operation\": \"training\", \"Meta\": \"init_train_data_iter\"}, \"Metrics\": {\"Total Records Seen\": {\"sum\": 10920.0, \"count\": 1, \"min\": 10920, \"max\": 10920}, \"Total Batches Seen\": {\"sum\": 20.0, \"count\": 1, \"min\": 20, \"max\": 20}, \"Max Records Seen Between Resets\": {\"sum\": 10374.0, \"count\": 1, \"min\": 10374, \"max\": 10374}, \"Max Batches Seen Between Resets\": {\"sum\": 19.0, \"count\": 1, \"min\": 19, \"max\": 19}, \"Reset Count\": {\"sum\": 2.0, \"count\": 1, \"min\": 2, \"max\": 2}, \"Number of Records Since Last Reset\": {\"sum\": 0.0, \"count\": 1, \"min\": 0, \"max\": 0}, \"Number of Batches Since Last Reset\": {\"sum\": 0.0, \"count\": 1, \"min\": 0, \"max\": 0}}}\u001b[0m\n",
      "\u001b[34m[2023-11-02 20:24:55.569] [tensorio] [info] epoch_stats={\"data_pipeline\": \"/opt/ml/input/data/train\", \"epoch\": 3, \"duration\": 2403, \"num_examples\": 129, \"num_bytes\": 30569268}\u001b[0m\n",
      "\u001b[34m#metrics {\"StartTime\": 1698956695.5699666, \"EndTime\": 1698956695.5700111, \"Dimensions\": {\"Algorithm\": \"Linear Learner\", \"Host\": \"algo-1\", \"Operation\": \"training\", \"epoch\": 0, \"model\": 0}, \"Metrics\": {\"train_binary_classification_cross_entropy_objective\": {\"sum\": 0.43101265993747084, \"count\": 1, \"min\": 0.43101265993747084, \"max\": 0.43101265993747084}}}\u001b[0m\n",
      "\u001b[34m[11/02/2023 20:24:55 INFO 140043151161152] #quality_metric: host=algo-1, epoch=0, train binary_classification_cross_entropy_objective <loss>=0.43101265993747084\u001b[0m\n",
      "\u001b[34m[2023-11-02 20:24:55.573] [tensorio] [info] epoch_stats={\"data_pipeline\": \"/opt/ml/input/data/validation\", \"epoch\": 0, \"duration\": 4274, \"num_examples\": 1, \"num_bytes\": 238056}\u001b[0m\n",
      "\u001b[34m[2023-11-02 20:24:56.618] [tensorio] [info] epoch_stats={\"data_pipeline\": \"/opt/ml/input/data/validation\", \"epoch\": 2, \"duration\": 1045, \"num_examples\": 37, \"num_bytes\": 8697764}\u001b[0m\n",
      "\u001b[34m#metrics {\"StartTime\": 1698956696.644638, \"EndTime\": 1698956696.6446946, \"Dimensions\": {\"Algorithm\": \"Linear Learner\", \"Host\": \"algo-1\", \"Operation\": \"training\", \"epoch\": 0, \"model\": 0}, \"Metrics\": {\"validation_binary_classification_cross_entropy_objective\": {\"sum\": 0.3421566826615144, \"count\": 1, \"min\": 0.3421566826615144, \"max\": 0.3421566826615144}}}\u001b[0m\n",
      "\u001b[34m[11/02/2023 20:24:56 INFO 140043151161152] #quality_metric: host=algo-1, epoch=0, validation binary_classification_cross_entropy_objective <loss>=0.3421566826615144\u001b[0m\n",
      "\u001b[34m[11/02/2023 20:24:56 INFO 140043151161152] #early_stopping_criteria_metric: host=algo-1, epoch=0, criteria=sampled_accuracy, value=0.8884655872474816\u001b[0m\n",
      "\u001b[34m[11/02/2023 20:24:56 INFO 140043151161152] Epoch 0: Loss improved. Updating best model\u001b[0m\n",
      "\u001b[34m[11/02/2023 20:24:56 INFO 140043151161152] Saving model for epoch: 0\u001b[0m\n",
      "\u001b[34m[11/02/2023 20:24:56 INFO 140043151161152] Saved checkpoint to \"/tmp/tmpd7tjny5f/mx-mod-0000.params\"\u001b[0m\n",
      "\u001b[34m[11/02/2023 20:24:56 INFO 140043151161152] #progress_metric: host=algo-1, completed 6.666666666666667 % of epochs\u001b[0m\n",
      "\u001b[34m#metrics {\"StartTime\": 1698956693.1658301, \"EndTime\": 1698956696.6526227, \"Dimensions\": {\"Algorithm\": \"Linear Learner\", \"Host\": \"algo-1\", \"Operation\": \"training\", \"epoch\": 0, \"Meta\": \"training_data_iter\"}, \"Metrics\": {\"Total Records Seen\": {\"sum\": 81033.0, \"count\": 1, \"min\": 81033, \"max\": 81033}, \"Total Batches Seen\": {\"sum\": 149.0, \"count\": 1, \"min\": 149, \"max\": 149}, \"Max Records Seen Between Resets\": {\"sum\": 70113.0, \"count\": 1, \"min\": 70113, \"max\": 70113}, \"Max Batches Seen Between Resets\": {\"sum\": 129.0, \"count\": 1, \"min\": 129, \"max\": 129}, \"Reset Count\": {\"sum\": 3.0, \"count\": 1, \"min\": 3, \"max\": 3}, \"Number of Records Since Last Reset\": {\"sum\": 70113.0, \"count\": 1, \"min\": 70113, \"max\": 70113}, \"Number of Batches Since Last Reset\": {\"sum\": 129.0, \"count\": 1, \"min\": 129, \"max\": 129}}}\u001b[0m\n",
      "\u001b[34m[11/02/2023 20:24:56 INFO 140043151161152] #throughput_metric: host=algo-1, train throughput=20107.449993258208 records/second\u001b[0m\n",
      "\u001b[34m[2023-11-02 20:24:57.859] [tensorio] [info] epoch_stats={\"data_pipeline\": \"/opt/ml/input/data/train\", \"epoch\": 5, \"duration\": 1206, \"num_examples\": 129, \"num_bytes\": 30569268}\u001b[0m\n",
      "\u001b[34m#metrics {\"StartTime\": 1698956697.8599527, \"EndTime\": 1698956697.8601708, \"Dimensions\": {\"Algorithm\": \"Linear Learner\", \"Host\": \"algo-1\", \"Operation\": \"training\", \"epoch\": 1, \"model\": 0}, \"Metrics\": {\"train_binary_classification_cross_entropy_objective\": {\"sum\": 0.3393986552626222, \"count\": 1, \"min\": 0.3393986552626222, \"max\": 0.3393986552626222}}}\u001b[0m\n",
      "\u001b[34m[11/02/2023 20:24:57 INFO 140043151161152] #quality_metric: host=algo-1, epoch=1, train binary_classification_cross_entropy_objective <loss>=0.3393986552626222\u001b[0m\n",
      "\u001b[34m[2023-11-02 20:24:58.901] [tensorio] [info] epoch_stats={\"data_pipeline\": \"/opt/ml/input/data/validation\", \"epoch\": 5, \"duration\": 1038, \"num_examples\": 37, \"num_bytes\": 8697764}\u001b[0m\n",
      "\u001b[34m#metrics {\"StartTime\": 1698956698.9292023, \"EndTime\": 1698956698.9292564, \"Dimensions\": {\"Algorithm\": \"Linear Learner\", \"Host\": \"algo-1\", \"Operation\": \"training\", \"epoch\": 1, \"model\": 0}, \"Metrics\": {\"validation_binary_classification_cross_entropy_objective\": {\"sum\": 0.33506057779796977, \"count\": 1, \"min\": 0.33506057779796977, \"max\": 0.33506057779796977}}}\u001b[0m\n",
      "\u001b[34m[11/02/2023 20:24:58 INFO 140043151161152] #quality_metric: host=algo-1, epoch=1, validation binary_classification_cross_entropy_objective <loss>=0.33506057779796977\u001b[0m\n",
      "\u001b[34m[11/02/2023 20:24:58 INFO 140043151161152] #early_stopping_criteria_metric: host=algo-1, epoch=1, criteria=sampled_accuracy, value=0.8884655872474816\u001b[0m\n",
      "\u001b[34m[11/02/2023 20:24:58 INFO 140043151161152] Epoch 1: Loss improved. Updating best model\u001b[0m\n",
      "\u001b[34m[11/02/2023 20:24:58 INFO 140043151161152] Saving model for epoch: 1\u001b[0m\n",
      "\u001b[34m[11/02/2023 20:24:58 INFO 140043151161152] Saved checkpoint to \"/tmp/tmpzf10aale/mx-mod-0000.params\"\u001b[0m\n",
      "\u001b[34m[11/02/2023 20:24:58 INFO 140043151161152] #progress_metric: host=algo-1, completed 13.333333333333334 % of epochs\u001b[0m\n",
      "\u001b[34m#metrics {\"StartTime\": 1698956696.6529772, \"EndTime\": 1698956698.9376469, \"Dimensions\": {\"Algorithm\": \"Linear Learner\", \"Host\": \"algo-1\", \"Operation\": \"training\", \"epoch\": 1, \"Meta\": \"training_data_iter\"}, \"Metrics\": {\"Total Records Seen\": {\"sum\": 151146.0, \"count\": 1, \"min\": 151146, \"max\": 151146}, \"Total Batches Seen\": {\"sum\": 278.0, \"count\": 1, \"min\": 278, \"max\": 278}, \"Max Records Seen Between Resets\": {\"sum\": 70113.0, \"count\": 1, \"min\": 70113, \"max\": 70113}, \"Max Batches Seen Between Resets\": {\"sum\": 129.0, \"count\": 1, \"min\": 129, \"max\": 129}, \"Reset Count\": {\"sum\": 4.0, \"count\": 1, \"min\": 4, \"max\": 4}, \"Number of Records Since Last Reset\": {\"sum\": 70113.0, \"count\": 1, \"min\": 70113, \"max\": 70113}, \"Number of Batches Since Last Reset\": {\"sum\": 129.0, \"count\": 1, \"min\": 129, \"max\": 129}}}\u001b[0m\n",
      "\u001b[34m[11/02/2023 20:24:58 INFO 140043151161152] #throughput_metric: host=algo-1, train throughput=30686.423286664336 records/second\u001b[0m\n",
      "\u001b[34m[2023-11-02 20:25:00.118] [tensorio] [info] epoch_stats={\"data_pipeline\": \"/opt/ml/input/data/train\", \"epoch\": 7, \"duration\": 1179, \"num_examples\": 129, \"num_bytes\": 30569268}\u001b[0m\n",
      "\u001b[34m#metrics {\"StartTime\": 1698956700.1188848, \"EndTime\": 1698956700.118936, \"Dimensions\": {\"Algorithm\": \"Linear Learner\", \"Host\": \"algo-1\", \"Operation\": \"training\", \"epoch\": 2, \"model\": 0}, \"Metrics\": {\"train_binary_classification_cross_entropy_objective\": {\"sum\": 0.33717517167220623, \"count\": 1, \"min\": 0.33717517167220623, \"max\": 0.33717517167220623}}}\u001b[0m\n",
      "\u001b[34m[11/02/2023 20:25:00 INFO 140043151161152] #quality_metric: host=algo-1, epoch=2, train binary_classification_cross_entropy_objective <loss>=0.33717517167220623\u001b[0m\n",
      "\u001b[34m[2023-11-02 20:25:01.158] [tensorio] [info] epoch_stats={\"data_pipeline\": \"/opt/ml/input/data/validation\", \"epoch\": 8, \"duration\": 1037, \"num_examples\": 37, \"num_bytes\": 8697764}\u001b[0m\n",
      "\u001b[34m#metrics {\"StartTime\": 1698956701.1766636, \"EndTime\": 1698956701.1766984, \"Dimensions\": {\"Algorithm\": \"Linear Learner\", \"Host\": \"algo-1\", \"Operation\": \"training\", \"epoch\": 2, \"model\": 0}, \"Metrics\": {\"validation_binary_classification_cross_entropy_objective\": {\"sum\": 0.33447043768678, \"count\": 1, \"min\": 0.33447043768678, \"max\": 0.33447043768678}}}\u001b[0m\n",
      "\u001b[34m[11/02/2023 20:25:01 INFO 140043151161152] #quality_metric: host=algo-1, epoch=2, validation binary_classification_cross_entropy_objective <loss>=0.33447043768678\u001b[0m\n",
      "\u001b[34m[11/02/2023 20:25:01 INFO 140043151161152] #early_stopping_criteria_metric: host=algo-1, epoch=2, criteria=sampled_accuracy, value=0.8884655872474816\u001b[0m\n",
      "\u001b[34m[11/02/2023 20:25:01 INFO 140043151161152] Epoch 2: Loss improved. Updating best model\u001b[0m\n",
      "\u001b[34m[11/02/2023 20:25:01 INFO 140043151161152] Saving model for epoch: 2\u001b[0m\n",
      "\u001b[34m[11/02/2023 20:25:01 INFO 140043151161152] Saved checkpoint to \"/tmp/tmpuna8jj1e/mx-mod-0000.params\"\u001b[0m\n",
      "\u001b[34m[11/02/2023 20:25:01 INFO 140043151161152] #progress_metric: host=algo-1, completed 20.0 % of epochs\u001b[0m\n",
      "\u001b[34m#metrics {\"StartTime\": 1698956698.9389534, \"EndTime\": 1698956701.1837566, \"Dimensions\": {\"Algorithm\": \"Linear Learner\", \"Host\": \"algo-1\", \"Operation\": \"training\", \"epoch\": 2, \"Meta\": \"training_data_iter\"}, \"Metrics\": {\"Total Records Seen\": {\"sum\": 221259.0, \"count\": 1, \"min\": 221259, \"max\": 221259}, \"Total Batches Seen\": {\"sum\": 407.0, \"count\": 1, \"min\": 407, \"max\": 407}, \"Max Records Seen Between Resets\": {\"sum\": 70113.0, \"count\": 1, \"min\": 70113, \"max\": 70113}, \"Max Batches Seen Between Resets\": {\"sum\": 129.0, \"count\": 1, \"min\": 129, \"max\": 129}, \"Reset Count\": {\"sum\": 5.0, \"count\": 1, \"min\": 5, \"max\": 5}, \"Number of Records Since Last Reset\": {\"sum\": 70113.0, \"count\": 1, \"min\": 70113, \"max\": 70113}, \"Number of Batches Since Last Reset\": {\"sum\": 129.0, \"count\": 1, \"min\": 129, \"max\": 129}}}\u001b[0m\n",
      "\u001b[34m[11/02/2023 20:25:01 INFO 140043151161152] #throughput_metric: host=algo-1, train throughput=31231.419813453816 records/second\u001b[0m\n",
      "\u001b[34m[2023-11-02 20:25:02.386] [tensorio] [info] epoch_stats={\"data_pipeline\": \"/opt/ml/input/data/train\", \"epoch\": 9, \"duration\": 1202, \"num_examples\": 129, \"num_bytes\": 30569268}\u001b[0m\n",
      "\u001b[34m#metrics {\"StartTime\": 1698956702.3870552, \"EndTime\": 1698956702.387171, \"Dimensions\": {\"Algorithm\": \"Linear Learner\", \"Host\": \"algo-1\", \"Operation\": \"training\", \"epoch\": 3, \"model\": 0}, \"Metrics\": {\"train_binary_classification_cross_entropy_objective\": {\"sum\": 0.3369686258581532, \"count\": 1, \"min\": 0.3369686258581532, \"max\": 0.3369686258581532}}}\u001b[0m\n",
      "\u001b[34m[11/02/2023 20:25:02 INFO 140043151161152] #quality_metric: host=algo-1, epoch=3, train binary_classification_cross_entropy_objective <loss>=0.3369686258581532\u001b[0m\n"
     ]
    },
    {
     "name": "stdout",
     "output_type": "stream",
     "text": [
      "\u001b[34m[2023-11-02 20:25:03.465] [tensorio] [info] epoch_stats={\"data_pipeline\": \"/opt/ml/input/data/validation\", \"epoch\": 11, \"duration\": 1072, \"num_examples\": 37, \"num_bytes\": 8697764}\u001b[0m\n",
      "\u001b[34m#metrics {\"StartTime\": 1698956703.4876213, \"EndTime\": 1698956703.4876623, \"Dimensions\": {\"Algorithm\": \"Linear Learner\", \"Host\": \"algo-1\", \"Operation\": \"training\", \"epoch\": 3, \"model\": 0}, \"Metrics\": {\"validation_binary_classification_cross_entropy_objective\": {\"sum\": 0.3343490657187792, \"count\": 1, \"min\": 0.3343490657187792, \"max\": 0.3343490657187792}}}\u001b[0m\n",
      "\u001b[34m[11/02/2023 20:25:03 INFO 140043151161152] #quality_metric: host=algo-1, epoch=3, validation binary_classification_cross_entropy_objective <loss>=0.3343490657187792\u001b[0m\n",
      "\u001b[34m[11/02/2023 20:25:03 INFO 140043151161152] #early_stopping_criteria_metric: host=algo-1, epoch=3, criteria=sampled_accuracy, value=0.8885157150734379\u001b[0m\n",
      "\u001b[34m[11/02/2023 20:25:03 INFO 140043151161152] Epoch 3: Loss improved. Updating best model\u001b[0m\n",
      "\u001b[34m[11/02/2023 20:25:03 INFO 140043151161152] Saving model for epoch: 3\u001b[0m\n",
      "\u001b[34m[11/02/2023 20:25:03 INFO 140043151161152] Saved checkpoint to \"/tmp/tmpj6f2seu3/mx-mod-0000.params\"\u001b[0m\n",
      "\u001b[34m[11/02/2023 20:25:03 INFO 140043151161152] #progress_metric: host=algo-1, completed 26.666666666666668 % of epochs\u001b[0m\n",
      "\u001b[34m#metrics {\"StartTime\": 1698956701.1840906, \"EndTime\": 1698956703.4941905, \"Dimensions\": {\"Algorithm\": \"Linear Learner\", \"Host\": \"algo-1\", \"Operation\": \"training\", \"epoch\": 3, \"Meta\": \"training_data_iter\"}, \"Metrics\": {\"Total Records Seen\": {\"sum\": 291372.0, \"count\": 1, \"min\": 291372, \"max\": 291372}, \"Total Batches Seen\": {\"sum\": 536.0, \"count\": 1, \"min\": 536, \"max\": 536}, \"Max Records Seen Between Resets\": {\"sum\": 70113.0, \"count\": 1, \"min\": 70113, \"max\": 70113}, \"Max Batches Seen Between Resets\": {\"sum\": 129.0, \"count\": 1, \"min\": 129, \"max\": 129}, \"Reset Count\": {\"sum\": 6.0, \"count\": 1, \"min\": 6, \"max\": 6}, \"Number of Records Since Last Reset\": {\"sum\": 70113.0, \"count\": 1, \"min\": 70113, \"max\": 70113}, \"Number of Batches Since Last Reset\": {\"sum\": 129.0, \"count\": 1, \"min\": 129, \"max\": 129}}}\u001b[0m\n",
      "\u001b[34m[11/02/2023 20:25:03 INFO 140043151161152] #throughput_metric: host=algo-1, train throughput=30348.88536133798 records/second\u001b[0m\n",
      "\u001b[34m[2023-11-02 20:25:04.714] [tensorio] [info] epoch_stats={\"data_pipeline\": \"/opt/ml/input/data/train\", \"epoch\": 11, \"duration\": 1219, \"num_examples\": 129, \"num_bytes\": 30569268}\u001b[0m\n",
      "\u001b[34m#metrics {\"StartTime\": 1698956704.7142432, \"EndTime\": 1698956704.7143219, \"Dimensions\": {\"Algorithm\": \"Linear Learner\", \"Host\": \"algo-1\", \"Operation\": \"training\", \"epoch\": 4, \"model\": 0}, \"Metrics\": {\"train_binary_classification_cross_entropy_objective\": {\"sum\": 0.33689768585093294, \"count\": 1, \"min\": 0.33689768585093294, \"max\": 0.33689768585093294}}}\u001b[0m\n",
      "\u001b[34m[11/02/2023 20:25:04 INFO 140043151161152] #quality_metric: host=algo-1, epoch=4, train binary_classification_cross_entropy_objective <loss>=0.33689768585093294\u001b[0m\n",
      "\u001b[34m[2023-11-02 20:25:05.754] [tensorio] [info] epoch_stats={\"data_pipeline\": \"/opt/ml/input/data/validation\", \"epoch\": 14, \"duration\": 1037, \"num_examples\": 37, \"num_bytes\": 8697764}\u001b[0m\n",
      "\u001b[34m#metrics {\"StartTime\": 1698956705.7740314, \"EndTime\": 1698956705.7740707, \"Dimensions\": {\"Algorithm\": \"Linear Learner\", \"Host\": \"algo-1\", \"Operation\": \"training\", \"epoch\": 4, \"model\": 0}, \"Metrics\": {\"validation_binary_classification_cross_entropy_objective\": {\"sum\": 0.33428678876374013, \"count\": 1, \"min\": 0.33428678876374013, \"max\": 0.33428678876374013}}}\u001b[0m\n",
      "\u001b[34m[11/02/2023 20:25:05 INFO 140043151161152] #quality_metric: host=algo-1, epoch=4, validation binary_classification_cross_entropy_objective <loss>=0.33428678876374013\u001b[0m\n",
      "\u001b[34m[11/02/2023 20:25:05 INFO 140043151161152] #early_stopping_criteria_metric: host=algo-1, epoch=4, criteria=sampled_accuracy, value=0.8885157150734379\u001b[0m\n",
      "\u001b[34m[11/02/2023 20:25:05 INFO 140043151161152] Epoch 4: Loss improved. Updating best model\u001b[0m\n",
      "\u001b[34m[11/02/2023 20:25:05 INFO 140043151161152] Saving model for epoch: 4\u001b[0m\n",
      "\u001b[34m[11/02/2023 20:25:05 INFO 140043151161152] Saved checkpoint to \"/tmp/tmpvuiyxwd0/mx-mod-0000.params\"\u001b[0m\n",
      "\u001b[34m[11/02/2023 20:25:05 INFO 140043151161152] #progress_metric: host=algo-1, completed 33.333333333333336 % of epochs\u001b[0m\n",
      "\u001b[34m#metrics {\"StartTime\": 1698956703.4945056, \"EndTime\": 1698956705.7806273, \"Dimensions\": {\"Algorithm\": \"Linear Learner\", \"Host\": \"algo-1\", \"Operation\": \"training\", \"epoch\": 4, \"Meta\": \"training_data_iter\"}, \"Metrics\": {\"Total Records Seen\": {\"sum\": 361485.0, \"count\": 1, \"min\": 361485, \"max\": 361485}, \"Total Batches Seen\": {\"sum\": 665.0, \"count\": 1, \"min\": 665, \"max\": 665}, \"Max Records Seen Between Resets\": {\"sum\": 70113.0, \"count\": 1, \"min\": 70113, \"max\": 70113}, \"Max Batches Seen Between Resets\": {\"sum\": 129.0, \"count\": 1, \"min\": 129, \"max\": 129}, \"Reset Count\": {\"sum\": 7.0, \"count\": 1, \"min\": 7, \"max\": 7}, \"Number of Records Since Last Reset\": {\"sum\": 70113.0, \"count\": 1, \"min\": 70113, \"max\": 70113}, \"Number of Batches Since Last Reset\": {\"sum\": 129.0, \"count\": 1, \"min\": 129, \"max\": 129}}}\u001b[0m\n",
      "\u001b[34m[11/02/2023 20:25:05 INFO 140043151161152] #throughput_metric: host=algo-1, train throughput=30666.98928483794 records/second\u001b[0m\n",
      "\u001b[34m[2023-11-02 20:25:06.881] [tensorio] [info] epoch_stats={\"data_pipeline\": \"/opt/ml/input/data/train\", \"epoch\": 13, \"duration\": 1100, \"num_examples\": 129, \"num_bytes\": 30569268}\u001b[0m\n",
      "\u001b[34m#metrics {\"StartTime\": 1698956706.8818588, \"EndTime\": 1698956706.8819077, \"Dimensions\": {\"Algorithm\": \"Linear Learner\", \"Host\": \"algo-1\", \"Operation\": \"training\", \"epoch\": 5, \"model\": 0}, \"Metrics\": {\"train_binary_classification_cross_entropy_objective\": {\"sum\": 0.3368462018477611, \"count\": 1, \"min\": 0.3368462018477611, \"max\": 0.3368462018477611}}}\u001b[0m\n",
      "\u001b[34m[11/02/2023 20:25:06 INFO 140043151161152] #quality_metric: host=algo-1, epoch=5, train binary_classification_cross_entropy_objective <loss>=0.3368462018477611\u001b[0m\n",
      "\u001b[34m[2023-11-02 20:25:07.924] [tensorio] [info] epoch_stats={\"data_pipeline\": \"/opt/ml/input/data/validation\", \"epoch\": 17, \"duration\": 1041, \"num_examples\": 37, \"num_bytes\": 8697764}\u001b[0m\n",
      "\u001b[34m#metrics {\"StartTime\": 1698956707.9447463, \"EndTime\": 1698956707.9447856, \"Dimensions\": {\"Algorithm\": \"Linear Learner\", \"Host\": \"algo-1\", \"Operation\": \"training\", \"epoch\": 5, \"model\": 0}, \"Metrics\": {\"validation_binary_classification_cross_entropy_objective\": {\"sum\": 0.3342509643793333, \"count\": 1, \"min\": 0.3342509643793333, \"max\": 0.3342509643793333}}}\u001b[0m\n",
      "\u001b[34m[11/02/2023 20:25:07 INFO 140043151161152] #quality_metric: host=algo-1, epoch=5, validation binary_classification_cross_entropy_objective <loss>=0.3342509643793333\u001b[0m\n",
      "\u001b[34m[11/02/2023 20:25:07 INFO 140043151161152] #early_stopping_criteria_metric: host=algo-1, epoch=5, criteria=sampled_accuracy, value=0.8885157150734379\u001b[0m\n",
      "\u001b[34m[11/02/2023 20:25:07 INFO 140043151161152] Epoch 5: Loss improved. Updating best model\u001b[0m\n",
      "\u001b[34m[11/02/2023 20:25:07 INFO 140043151161152] Saving model for epoch: 5\u001b[0m\n",
      "\u001b[34m[11/02/2023 20:25:07 INFO 140043151161152] Saved checkpoint to \"/tmp/tmppsu7_n_c/mx-mod-0000.params\"\u001b[0m\n",
      "\u001b[34m[11/02/2023 20:25:07 INFO 140043151161152] #progress_metric: host=algo-1, completed 40.0 % of epochs\u001b[0m\n",
      "\u001b[34m#metrics {\"StartTime\": 1698956705.7812474, \"EndTime\": 1698956707.9536228, \"Dimensions\": {\"Algorithm\": \"Linear Learner\", \"Host\": \"algo-1\", \"Operation\": \"training\", \"epoch\": 5, \"Meta\": \"training_data_iter\"}, \"Metrics\": {\"Total Records Seen\": {\"sum\": 431598.0, \"count\": 1, \"min\": 431598, \"max\": 431598}, \"Total Batches Seen\": {\"sum\": 794.0, \"count\": 1, \"min\": 794, \"max\": 794}, \"Max Records Seen Between Resets\": {\"sum\": 70113.0, \"count\": 1, \"min\": 70113, \"max\": 70113}, \"Max Batches Seen Between Resets\": {\"sum\": 129.0, \"count\": 1, \"min\": 129, \"max\": 129}, \"Reset Count\": {\"sum\": 8.0, \"count\": 1, \"min\": 8, \"max\": 8}, \"Number of Records Since Last Reset\": {\"sum\": 70113.0, \"count\": 1, \"min\": 70113, \"max\": 70113}, \"Number of Batches Since Last Reset\": {\"sum\": 129.0, \"count\": 1, \"min\": 129, \"max\": 129}}}\u001b[0m\n",
      "\u001b[34m[11/02/2023 20:25:07 INFO 140043151161152] #throughput_metric: host=algo-1, train throughput=32272.955438939276 records/second\u001b[0m\n",
      "\u001b[34m[2023-11-02 20:25:09.067] [tensorio] [info] epoch_stats={\"data_pipeline\": \"/opt/ml/input/data/train\", \"epoch\": 15, \"duration\": 1112, \"num_examples\": 129, \"num_bytes\": 30569268}\u001b[0m\n",
      "\u001b[34m#metrics {\"StartTime\": 1698956709.0676079, \"EndTime\": 1698956709.0676491, \"Dimensions\": {\"Algorithm\": \"Linear Learner\", \"Host\": \"algo-1\", \"Operation\": \"training\", \"epoch\": 6, \"model\": 0}, \"Metrics\": {\"train_binary_classification_cross_entropy_objective\": {\"sum\": 0.3368000999475137, \"count\": 1, \"min\": 0.3368000999475137, \"max\": 0.3368000999475137}}}\u001b[0m\n",
      "\u001b[34m[11/02/2023 20:25:09 INFO 140043151161152] #quality_metric: host=algo-1, epoch=6, train binary_classification_cross_entropy_objective <loss>=0.3368000999475137\u001b[0m\n",
      "\u001b[34m[2023-11-02 20:25:10.124] [tensorio] [info] epoch_stats={\"data_pipeline\": \"/opt/ml/input/data/validation\", \"epoch\": 20, \"duration\": 1054, \"num_examples\": 37, \"num_bytes\": 8697764}\u001b[0m\n",
      "\u001b[34m#metrics {\"StartTime\": 1698956710.1471324, \"EndTime\": 1698956710.1471741, \"Dimensions\": {\"Algorithm\": \"Linear Learner\", \"Host\": \"algo-1\", \"Operation\": \"training\", \"epoch\": 6, \"model\": 0}, \"Metrics\": {\"validation_binary_classification_cross_entropy_objective\": {\"sum\": 0.33422488239786846, \"count\": 1, \"min\": 0.33422488239786846, \"max\": 0.33422488239786846}}}\u001b[0m\n",
      "\u001b[34m[11/02/2023 20:25:10 INFO 140043151161152] #quality_metric: host=algo-1, epoch=6, validation binary_classification_cross_entropy_objective <loss>=0.33422488239786846\u001b[0m\n",
      "\u001b[34m[11/02/2023 20:25:10 INFO 140043151161152] #early_stopping_criteria_metric: host=algo-1, epoch=6, criteria=sampled_accuracy, value=0.888565842899394\u001b[0m\n",
      "\u001b[34m[11/02/2023 20:25:10 INFO 140043151161152] Epoch 6: Loss improved. Updating best model\u001b[0m\n",
      "\u001b[34m[11/02/2023 20:25:10 INFO 140043151161152] Saving model for epoch: 6\u001b[0m\n",
      "\u001b[34m[11/02/2023 20:25:10 INFO 140043151161152] Saved checkpoint to \"/tmp/tmp8k4f8d3u/mx-mod-0000.params\"\u001b[0m\n",
      "\u001b[34m[11/02/2023 20:25:10 INFO 140043151161152] #progress_metric: host=algo-1, completed 46.666666666666664 % of epochs\u001b[0m\n",
      "\u001b[34m#metrics {\"StartTime\": 1698956707.9544806, \"EndTime\": 1698956710.1539714, \"Dimensions\": {\"Algorithm\": \"Linear Learner\", \"Host\": \"algo-1\", \"Operation\": \"training\", \"epoch\": 6, \"Meta\": \"training_data_iter\"}, \"Metrics\": {\"Total Records Seen\": {\"sum\": 501711.0, \"count\": 1, \"min\": 501711, \"max\": 501711}, \"Total Batches Seen\": {\"sum\": 923.0, \"count\": 1, \"min\": 923, \"max\": 923}, \"Max Records Seen Between Resets\": {\"sum\": 70113.0, \"count\": 1, \"min\": 70113, \"max\": 70113}, \"Max Batches Seen Between Resets\": {\"sum\": 129.0, \"count\": 1, \"min\": 129, \"max\": 129}, \"Reset Count\": {\"sum\": 9.0, \"count\": 1, \"min\": 9, \"max\": 9}, \"Number of Records Since Last Reset\": {\"sum\": 70113.0, \"count\": 1, \"min\": 70113, \"max\": 70113}, \"Number of Batches Since Last Reset\": {\"sum\": 129.0, \"count\": 1, \"min\": 129, \"max\": 129}}}\u001b[0m\n",
      "\u001b[34m[11/02/2023 20:25:10 INFO 140043151161152] #throughput_metric: host=algo-1, train throughput=31874.70898487249 records/second\u001b[0m\n",
      "\u001b[34m[2023-11-02 20:25:11.213] [tensorio] [info] epoch_stats={\"data_pipeline\": \"/opt/ml/input/data/train\", \"epoch\": 17, \"duration\": 1059, \"num_examples\": 129, \"num_bytes\": 30569268}\u001b[0m\n",
      "\u001b[34m#metrics {\"StartTime\": 1698956711.2140133, \"EndTime\": 1698956711.2140872, \"Dimensions\": {\"Algorithm\": \"Linear Learner\", \"Host\": \"algo-1\", \"Operation\": \"training\", \"epoch\": 7, \"model\": 0}, \"Metrics\": {\"train_binary_classification_cross_entropy_objective\": {\"sum\": 0.3367568394203326, \"count\": 1, \"min\": 0.3367568394203326, \"max\": 0.3367568394203326}}}\u001b[0m\n",
      "\u001b[34m[11/02/2023 20:25:11 INFO 140043151161152] #quality_metric: host=algo-1, epoch=7, train binary_classification_cross_entropy_objective <loss>=0.3367568394203326\u001b[0m\n",
      "\u001b[34m[2023-11-02 20:25:12.273] [tensorio] [info] epoch_stats={\"data_pipeline\": \"/opt/ml/input/data/validation\", \"epoch\": 23, \"duration\": 1057, \"num_examples\": 37, \"num_bytes\": 8697764}\u001b[0m\n",
      "\u001b[34m#metrics {\"StartTime\": 1698956712.293233, \"EndTime\": 1698956712.2932727, \"Dimensions\": {\"Algorithm\": \"Linear Learner\", \"Host\": \"algo-1\", \"Operation\": \"training\", \"epoch\": 7, \"model\": 0}, \"Metrics\": {\"validation_binary_classification_cross_entropy_objective\": {\"sum\": 0.3342052583820187, \"count\": 1, \"min\": 0.3342052583820187, \"max\": 0.3342052583820187}}}\u001b[0m\n",
      "\u001b[34m[11/02/2023 20:25:12 INFO 140043151161152] #quality_metric: host=algo-1, epoch=7, validation binary_classification_cross_entropy_objective <loss>=0.3342052583820187\u001b[0m\n",
      "\u001b[34m[11/02/2023 20:25:12 INFO 140043151161152] #early_stopping_criteria_metric: host=algo-1, epoch=7, criteria=sampled_accuracy, value=0.8885157150734379\u001b[0m\n",
      "\u001b[34m[11/02/2023 20:25:12 INFO 140043151161152] Epoch 7: Loss improved. Updating best model\u001b[0m\n",
      "\u001b[34m[11/02/2023 20:25:12 INFO 140043151161152] Saving model for epoch: 7\u001b[0m\n",
      "\u001b[34m[11/02/2023 20:25:12 INFO 140043151161152] Saved checkpoint to \"/tmp/tmph5i6p116/mx-mod-0000.params\"\u001b[0m\n",
      "\u001b[34m[11/02/2023 20:25:12 INFO 140043151161152] #progress_metric: host=algo-1, completed 53.333333333333336 % of epochs\u001b[0m\n",
      "\u001b[34m#metrics {\"StartTime\": 1698956710.1545725, \"EndTime\": 1698956712.299958, \"Dimensions\": {\"Algorithm\": \"Linear Learner\", \"Host\": \"algo-1\", \"Operation\": \"training\", \"epoch\": 7, \"Meta\": \"training_data_iter\"}, \"Metrics\": {\"Total Records Seen\": {\"sum\": 571824.0, \"count\": 1, \"min\": 571824, \"max\": 571824}, \"Total Batches Seen\": {\"sum\": 1052.0, \"count\": 1, \"min\": 1052, \"max\": 1052}, \"Max Records Seen Between Resets\": {\"sum\": 70113.0, \"count\": 1, \"min\": 70113, \"max\": 70113}, \"Max Batches Seen Between Resets\": {\"sum\": 129.0, \"count\": 1, \"min\": 129, \"max\": 129}, \"Reset Count\": {\"sum\": 10.0, \"count\": 1, \"min\": 10, \"max\": 10}, \"Number of Records Since Last Reset\": {\"sum\": 70113.0, \"count\": 1, \"min\": 70113, \"max\": 70113}, \"Number of Batches Since Last Reset\": {\"sum\": 129.0, \"count\": 1, \"min\": 129, \"max\": 129}}}\u001b[0m\n",
      "\u001b[34m[11/02/2023 20:25:12 INFO 140043151161152] #throughput_metric: host=algo-1, train throughput=32678.882369452927 records/second\u001b[0m\n"
     ]
    },
    {
     "name": "stdout",
     "output_type": "stream",
     "text": [
      "\u001b[34m[2023-11-02 20:25:13.382] [tensorio] [info] epoch_stats={\"data_pipeline\": \"/opt/ml/input/data/train\", \"epoch\": 19, \"duration\": 1080, \"num_examples\": 129, \"num_bytes\": 30569268}\u001b[0m\n",
      "\u001b[34m#metrics {\"StartTime\": 1698956713.382176, \"EndTime\": 1698956713.3822298, \"Dimensions\": {\"Algorithm\": \"Linear Learner\", \"Host\": \"algo-1\", \"Operation\": \"training\", \"epoch\": 8, \"model\": 0}, \"Metrics\": {\"train_binary_classification_cross_entropy_objective\": {\"sum\": 0.33671747633825727, \"count\": 1, \"min\": 0.33671747633825727, \"max\": 0.33671747633825727}}}\u001b[0m\n",
      "\u001b[34m[11/02/2023 20:25:13 INFO 140043151161152] #quality_metric: host=algo-1, epoch=8, train binary_classification_cross_entropy_objective <loss>=0.33671747633825727\u001b[0m\n",
      "\u001b[34m[2023-11-02 20:25:14.427] [tensorio] [info] epoch_stats={\"data_pipeline\": \"/opt/ml/input/data/validation\", \"epoch\": 26, \"duration\": 1041, \"num_examples\": 37, \"num_bytes\": 8697764}\u001b[0m\n",
      "\u001b[34m#metrics {\"StartTime\": 1698956714.448585, \"EndTime\": 1698956714.4486277, \"Dimensions\": {\"Algorithm\": \"Linear Learner\", \"Host\": \"algo-1\", \"Operation\": \"training\", \"epoch\": 8, \"model\": 0}, \"Metrics\": {\"validation_binary_classification_cross_entropy_objective\": {\"sum\": 0.3341869262652479, \"count\": 1, \"min\": 0.3341869262652479, \"max\": 0.3341869262652479}}}\u001b[0m\n",
      "\u001b[34m[11/02/2023 20:25:14 INFO 140043151161152] #quality_metric: host=algo-1, epoch=8, validation binary_classification_cross_entropy_objective <loss>=0.3341869262652479\u001b[0m\n",
      "\u001b[34m[11/02/2023 20:25:14 INFO 140043151161152] #early_stopping_criteria_metric: host=algo-1, epoch=8, criteria=sampled_accuracy, value=0.8885157150734379\u001b[0m\n",
      "\u001b[34m[11/02/2023 20:25:14 INFO 140043151161152] Epoch 8: Loss improved. Updating best model\u001b[0m\n",
      "\u001b[34m[11/02/2023 20:25:14 INFO 140043151161152] Saving model for epoch: 8\u001b[0m\n",
      "\u001b[34m[11/02/2023 20:25:14 INFO 140043151161152] Saved checkpoint to \"/tmp/tmpb7_nm79e/mx-mod-0000.params\"\u001b[0m\n",
      "\u001b[34m[11/02/2023 20:25:14 INFO 140043151161152] #progress_metric: host=algo-1, completed 60.0 % of epochs\u001b[0m\n",
      "\u001b[34m#metrics {\"StartTime\": 1698956712.3013582, \"EndTime\": 1698956714.457165, \"Dimensions\": {\"Algorithm\": \"Linear Learner\", \"Host\": \"algo-1\", \"Operation\": \"training\", \"epoch\": 8, \"Meta\": \"training_data_iter\"}, \"Metrics\": {\"Total Records Seen\": {\"sum\": 641937.0, \"count\": 1, \"min\": 641937, \"max\": 641937}, \"Total Batches Seen\": {\"sum\": 1181.0, \"count\": 1, \"min\": 1181, \"max\": 1181}, \"Max Records Seen Between Resets\": {\"sum\": 70113.0, \"count\": 1, \"min\": 70113, \"max\": 70113}, \"Max Batches Seen Between Resets\": {\"sum\": 129.0, \"count\": 1, \"min\": 129, \"max\": 129}, \"Reset Count\": {\"sum\": 11.0, \"count\": 1, \"min\": 11, \"max\": 11}, \"Number of Records Since Last Reset\": {\"sum\": 70113.0, \"count\": 1, \"min\": 70113, \"max\": 70113}, \"Number of Batches Since Last Reset\": {\"sum\": 129.0, \"count\": 1, \"min\": 129, \"max\": 129}}}\u001b[0m\n",
      "\u001b[34m[11/02/2023 20:25:14 INFO 140043151161152] #throughput_metric: host=algo-1, train throughput=32520.661521312173 records/second\u001b[0m\n",
      "\u001b[34m[2023-11-02 20:25:15.534] [tensorio] [info] epoch_stats={\"data_pipeline\": \"/opt/ml/input/data/train\", \"epoch\": 21, \"duration\": 1076, \"num_examples\": 129, \"num_bytes\": 30569268}\u001b[0m\n",
      "\u001b[34m#metrics {\"StartTime\": 1698956715.5344005, \"EndTime\": 1698956715.5344417, \"Dimensions\": {\"Algorithm\": \"Linear Learner\", \"Host\": \"algo-1\", \"Operation\": \"training\", \"epoch\": 9, \"model\": 0}, \"Metrics\": {\"train_binary_classification_cross_entropy_objective\": {\"sum\": 0.33667960664728186, \"count\": 1, \"min\": 0.33667960664728186, \"max\": 0.33667960664728186}}}\u001b[0m\n",
      "\u001b[34m[11/02/2023 20:25:15 INFO 140043151161152] #quality_metric: host=algo-1, epoch=9, train binary_classification_cross_entropy_objective <loss>=0.33667960664728186\u001b[0m\n",
      "\u001b[34m[2023-11-02 20:25:16.575] [tensorio] [info] epoch_stats={\"data_pipeline\": \"/opt/ml/input/data/validation\", \"epoch\": 29, \"duration\": 1039, \"num_examples\": 37, \"num_bytes\": 8697764}\u001b[0m\n",
      "\u001b[34m#metrics {\"StartTime\": 1698956716.594557, \"EndTime\": 1698956716.5945973, \"Dimensions\": {\"Algorithm\": \"Linear Learner\", \"Host\": \"algo-1\", \"Operation\": \"training\", \"epoch\": 9, \"model\": 0}, \"Metrics\": {\"validation_binary_classification_cross_entropy_objective\": {\"sum\": 0.3341719267738691, \"count\": 1, \"min\": 0.3341719267738691, \"max\": 0.3341719267738691}}}\u001b[0m\n",
      "\u001b[34m[11/02/2023 20:25:16 INFO 140043151161152] #quality_metric: host=algo-1, epoch=9, validation binary_classification_cross_entropy_objective <loss>=0.3341719267738691\u001b[0m\n",
      "\u001b[34m[11/02/2023 20:25:16 INFO 140043151161152] #early_stopping_criteria_metric: host=algo-1, epoch=9, criteria=sampled_accuracy, value=0.8885157150734379\u001b[0m\n",
      "\u001b[34m[11/02/2023 20:25:16 INFO 140043151161152] Epoch 9: Loss improved. Updating best model\u001b[0m\n",
      "\u001b[34m[11/02/2023 20:25:16 INFO 140043151161152] Saving model for epoch: 9\u001b[0m\n",
      "\u001b[34m[11/02/2023 20:25:16 INFO 140043151161152] Saved checkpoint to \"/tmp/tmpsey86ups/mx-mod-0000.params\"\u001b[0m\n",
      "\u001b[34m[11/02/2023 20:25:16 INFO 140043151161152] #progress_metric: host=algo-1, completed 66.66666666666667 % of epochs\u001b[0m\n",
      "\u001b[34m#metrics {\"StartTime\": 1698956714.45753, \"EndTime\": 1698956716.6026, \"Dimensions\": {\"Algorithm\": \"Linear Learner\", \"Host\": \"algo-1\", \"Operation\": \"training\", \"epoch\": 9, \"Meta\": \"training_data_iter\"}, \"Metrics\": {\"Total Records Seen\": {\"sum\": 712050.0, \"count\": 1, \"min\": 712050, \"max\": 712050}, \"Total Batches Seen\": {\"sum\": 1310.0, \"count\": 1, \"min\": 1310, \"max\": 1310}, \"Max Records Seen Between Resets\": {\"sum\": 70113.0, \"count\": 1, \"min\": 70113, \"max\": 70113}, \"Max Batches Seen Between Resets\": {\"sum\": 129.0, \"count\": 1, \"min\": 129, \"max\": 129}, \"Reset Count\": {\"sum\": 12.0, \"count\": 1, \"min\": 12, \"max\": 12}, \"Number of Records Since Last Reset\": {\"sum\": 70113.0, \"count\": 1, \"min\": 70113, \"max\": 70113}, \"Number of Batches Since Last Reset\": {\"sum\": 129.0, \"count\": 1, \"min\": 129, \"max\": 129}}}\u001b[0m\n",
      "\u001b[34m[11/02/2023 20:25:16 INFO 140043151161152] #throughput_metric: host=algo-1, train throughput=32683.345988628884 records/second\u001b[0m\n",
      "\u001b[34m[2023-11-02 20:25:17.686] [tensorio] [info] epoch_stats={\"data_pipeline\": \"/opt/ml/input/data/train\", \"epoch\": 23, \"duration\": 1082, \"num_examples\": 129, \"num_bytes\": 30569268}\u001b[0m\n",
      "\u001b[34m#metrics {\"StartTime\": 1698956717.6865172, \"EndTime\": 1698956717.6867218, \"Dimensions\": {\"Algorithm\": \"Linear Learner\", \"Host\": \"algo-1\", \"Operation\": \"training\", \"epoch\": 10, \"model\": 0}, \"Metrics\": {\"train_binary_classification_cross_entropy_objective\": {\"sum\": 0.3366453215316102, \"count\": 1, \"min\": 0.3366453215316102, \"max\": 0.3366453215316102}}}\u001b[0m\n",
      "\u001b[34m[11/02/2023 20:25:17 INFO 140043151161152] #quality_metric: host=algo-1, epoch=10, train binary_classification_cross_entropy_objective <loss>=0.3366453215316102\u001b[0m\n",
      "\u001b[34m[2023-11-02 20:25:18.720] [tensorio] [info] epoch_stats={\"data_pipeline\": \"/opt/ml/input/data/validation\", \"epoch\": 32, \"duration\": 1032, \"num_examples\": 37, \"num_bytes\": 8697764}\u001b[0m\n",
      "\u001b[34m#metrics {\"StartTime\": 1698956718.7417977, \"EndTime\": 1698956718.7418387, \"Dimensions\": {\"Algorithm\": \"Linear Learner\", \"Host\": \"algo-1\", \"Operation\": \"training\", \"epoch\": 10, \"model\": 0}, \"Metrics\": {\"validation_binary_classification_cross_entropy_objective\": {\"sum\": 0.3341623220511131, \"count\": 1, \"min\": 0.3341623220511131, \"max\": 0.3341623220511131}}}\u001b[0m\n",
      "\u001b[34m[11/02/2023 20:25:18 INFO 140043151161152] #quality_metric: host=algo-1, epoch=10, validation binary_classification_cross_entropy_objective <loss>=0.3341623220511131\u001b[0m\n",
      "\u001b[34m[11/02/2023 20:25:18 INFO 140043151161152] #early_stopping_criteria_metric: host=algo-1, epoch=10, criteria=sampled_accuracy, value=0.8885157150734379\u001b[0m\n",
      "\u001b[34m[11/02/2023 20:25:18 INFO 140043151161152] Epoch 10: Loss improved. Updating best model\u001b[0m\n",
      "\u001b[34m[11/02/2023 20:25:18 INFO 140043151161152] Saving model for epoch: 10\u001b[0m\n",
      "\u001b[34m[11/02/2023 20:25:18 INFO 140043151161152] Saved checkpoint to \"/tmp/tmpkb677k1s/mx-mod-0000.params\"\u001b[0m\n",
      "\u001b[34m[11/02/2023 20:25:18 INFO 140043151161152] #progress_metric: host=algo-1, completed 73.33333333333333 % of epochs\u001b[0m\n",
      "\u001b[34m#metrics {\"StartTime\": 1698956716.6039307, \"EndTime\": 1698956718.7482386, \"Dimensions\": {\"Algorithm\": \"Linear Learner\", \"Host\": \"algo-1\", \"Operation\": \"training\", \"epoch\": 10, \"Meta\": \"training_data_iter\"}, \"Metrics\": {\"Total Records Seen\": {\"sum\": 782163.0, \"count\": 1, \"min\": 782163, \"max\": 782163}, \"Total Batches Seen\": {\"sum\": 1439.0, \"count\": 1, \"min\": 1439, \"max\": 1439}, \"Max Records Seen Between Resets\": {\"sum\": 70113.0, \"count\": 1, \"min\": 70113, \"max\": 70113}, \"Max Batches Seen Between Resets\": {\"sum\": 129.0, \"count\": 1, \"min\": 129, \"max\": 129}, \"Reset Count\": {\"sum\": 13.0, \"count\": 1, \"min\": 13, \"max\": 13}, \"Number of Records Since Last Reset\": {\"sum\": 70113.0, \"count\": 1, \"min\": 70113, \"max\": 70113}, \"Number of Batches Since Last Reset\": {\"sum\": 129.0, \"count\": 1, \"min\": 129, \"max\": 129}}}\u001b[0m\n",
      "\u001b[34m[11/02/2023 20:25:18 INFO 140043151161152] #throughput_metric: host=algo-1, train throughput=32694.250480615934 records/second\u001b[0m\n",
      "\u001b[34m[2023-11-02 20:25:19.830] [tensorio] [info] epoch_stats={\"data_pipeline\": \"/opt/ml/input/data/train\", \"epoch\": 25, \"duration\": 1082, \"num_examples\": 129, \"num_bytes\": 30569268}\u001b[0m\n",
      "\u001b[34m#metrics {\"StartTime\": 1698956719.831018, \"EndTime\": 1698956719.831066, \"Dimensions\": {\"Algorithm\": \"Linear Learner\", \"Host\": \"algo-1\", \"Operation\": \"training\", \"epoch\": 11, \"model\": 0}, \"Metrics\": {\"train_binary_classification_cross_entropy_objective\": {\"sum\": 0.3366126374447302, \"count\": 1, \"min\": 0.3366126374447302, \"max\": 0.3366126374447302}}}\u001b[0m\n",
      "\u001b[34m[11/02/2023 20:25:19 INFO 140043151161152] #quality_metric: host=algo-1, epoch=11, train binary_classification_cross_entropy_objective <loss>=0.3366126374447302\u001b[0m\n",
      "\u001b[34m[2023-11-02 20:25:20.874] [tensorio] [info] epoch_stats={\"data_pipeline\": \"/opt/ml/input/data/validation\", \"epoch\": 35, \"duration\": 1040, \"num_examples\": 37, \"num_bytes\": 8697764}\u001b[0m\n",
      "\u001b[34m#metrics {\"StartTime\": 1698956720.890956, \"EndTime\": 1698956720.890996, \"Dimensions\": {\"Algorithm\": \"Linear Learner\", \"Host\": \"algo-1\", \"Operation\": \"training\", \"epoch\": 11, \"model\": 0}, \"Metrics\": {\"validation_binary_classification_cross_entropy_objective\": {\"sum\": 0.3341542715846796, \"count\": 1, \"min\": 0.3341542715846796, \"max\": 0.3341542715846796}}}\u001b[0m\n",
      "\u001b[34m[11/02/2023 20:25:20 INFO 140043151161152] #quality_metric: host=algo-1, epoch=11, validation binary_classification_cross_entropy_objective <loss>=0.3341542715846796\u001b[0m\n",
      "\u001b[34m[11/02/2023 20:25:20 INFO 140043151161152] #early_stopping_criteria_metric: host=algo-1, epoch=11, criteria=sampled_accuracy, value=0.8885157150734379\u001b[0m\n",
      "\u001b[34m[11/02/2023 20:25:20 INFO 140043151161152] Epoch 11: Loss improved. Updating best model\u001b[0m\n",
      "\u001b[34m[11/02/2023 20:25:20 INFO 140043151161152] Saving model for epoch: 11\u001b[0m\n",
      "\u001b[34m[11/02/2023 20:25:20 INFO 140043151161152] Saved checkpoint to \"/tmp/tmpy87mb0az/mx-mod-0000.params\"\u001b[0m\n",
      "\u001b[34m[11/02/2023 20:25:20 INFO 140043151161152] #progress_metric: host=algo-1, completed 80.0 % of epochs\u001b[0m\n",
      "\u001b[34m#metrics {\"StartTime\": 1698956718.7486355, \"EndTime\": 1698956720.8980308, \"Dimensions\": {\"Algorithm\": \"Linear Learner\", \"Host\": \"algo-1\", \"Operation\": \"training\", \"epoch\": 11, \"Meta\": \"training_data_iter\"}, \"Metrics\": {\"Total Records Seen\": {\"sum\": 852276.0, \"count\": 1, \"min\": 852276, \"max\": 852276}, \"Total Batches Seen\": {\"sum\": 1568.0, \"count\": 1, \"min\": 1568, \"max\": 1568}, \"Max Records Seen Between Resets\": {\"sum\": 70113.0, \"count\": 1, \"min\": 70113, \"max\": 70113}, \"Max Batches Seen Between Resets\": {\"sum\": 129.0, \"count\": 1, \"min\": 129, \"max\": 129}, \"Reset Count\": {\"sum\": 14.0, \"count\": 1, \"min\": 14, \"max\": 14}, \"Number of Records Since Last Reset\": {\"sum\": 70113.0, \"count\": 1, \"min\": 70113, \"max\": 70113}, \"Number of Batches Since Last Reset\": {\"sum\": 129.0, \"count\": 1, \"min\": 129, \"max\": 129}}}\u001b[0m\n",
      "\u001b[34m[11/02/2023 20:25:20 INFO 140043151161152] #throughput_metric: host=algo-1, train throughput=32617.56136655244 records/second\u001b[0m\n",
      "\u001b[34m[2023-11-02 20:25:21.952] [tensorio] [info] epoch_stats={\"data_pipeline\": \"/opt/ml/input/data/train\", \"epoch\": 27, \"duration\": 1051, \"num_examples\": 129, \"num_bytes\": 30569268}\u001b[0m\n",
      "\u001b[34m#metrics {\"StartTime\": 1698956721.952087, \"EndTime\": 1698956721.9521377, \"Dimensions\": {\"Algorithm\": \"Linear Learner\", \"Host\": \"algo-1\", \"Operation\": \"training\", \"epoch\": 12, \"model\": 0}, \"Metrics\": {\"train_binary_classification_cross_entropy_objective\": {\"sum\": 0.3365834394654075, \"count\": 1, \"min\": 0.3365834394654075, \"max\": 0.3365834394654075}}}\u001b[0m\n",
      "\u001b[34m[11/02/2023 20:25:21 INFO 140043151161152] #quality_metric: host=algo-1, epoch=12, train binary_classification_cross_entropy_objective <loss>=0.3365834394654075\u001b[0m\n",
      "\u001b[34m[2023-11-02 20:25:22.985] [tensorio] [info] epoch_stats={\"data_pipeline\": \"/opt/ml/input/data/validation\", \"epoch\": 38, \"duration\": 1031, \"num_examples\": 37, \"num_bytes\": 8697764}\u001b[0m\n",
      "\u001b[34m#metrics {\"StartTime\": 1698956723.0036645, \"EndTime\": 1698956723.0037026, \"Dimensions\": {\"Algorithm\": \"Linear Learner\", \"Host\": \"algo-1\", \"Operation\": \"training\", \"epoch\": 12, \"model\": 0}, \"Metrics\": {\"validation_binary_classification_cross_entropy_objective\": {\"sum\": 0.33414850546199937, \"count\": 1, \"min\": 0.33414850546199937, \"max\": 0.33414850546199937}}}\u001b[0m\n",
      "\u001b[34m[11/02/2023 20:25:23 INFO 140043151161152] #quality_metric: host=algo-1, epoch=12, validation binary_classification_cross_entropy_objective <loss>=0.33414850546199937\u001b[0m\n",
      "\u001b[34m[11/02/2023 20:25:23 INFO 140043151161152] #early_stopping_criteria_metric: host=algo-1, epoch=12, criteria=sampled_accuracy, value=0.8885157150734379\u001b[0m\n",
      "\u001b[34m[11/02/2023 20:25:23 INFO 140043151161152] Epoch 12: Loss improved. Updating best model\u001b[0m\n",
      "\u001b[34m[11/02/2023 20:25:23 INFO 140043151161152] Saving model for epoch: 12\u001b[0m\n",
      "\u001b[34m[11/02/2023 20:25:23 INFO 140043151161152] Saved checkpoint to \"/tmp/tmpu5ujring/mx-mod-0000.params\"\u001b[0m\n",
      "\u001b[34m[11/02/2023 20:25:23 INFO 140043151161152] #progress_metric: host=algo-1, completed 86.66666666666667 % of epochs\u001b[0m\n",
      "\u001b[34m#metrics {\"StartTime\": 1698956720.899838, \"EndTime\": 1698956723.011837, \"Dimensions\": {\"Algorithm\": \"Linear Learner\", \"Host\": \"algo-1\", \"Operation\": \"training\", \"epoch\": 12, \"Meta\": \"training_data_iter\"}, \"Metrics\": {\"Total Records Seen\": {\"sum\": 922389.0, \"count\": 1, \"min\": 922389, \"max\": 922389}, \"Total Batches Seen\": {\"sum\": 1697.0, \"count\": 1, \"min\": 1697, \"max\": 1697}, \"Max Records Seen Between Resets\": {\"sum\": 70113.0, \"count\": 1, \"min\": 70113, \"max\": 70113}, \"Max Batches Seen Between Resets\": {\"sum\": 129.0, \"count\": 1, \"min\": 129, \"max\": 129}, \"Reset Count\": {\"sum\": 15.0, \"count\": 1, \"min\": 15, \"max\": 15}, \"Number of Records Since Last Reset\": {\"sum\": 70113.0, \"count\": 1, \"min\": 70113, \"max\": 70113}, \"Number of Batches Since Last Reset\": {\"sum\": 129.0, \"count\": 1, \"min\": 129, \"max\": 129}}}\u001b[0m\n",
      "\u001b[34m[11/02/2023 20:25:23 INFO 140043151161152] #throughput_metric: host=algo-1, train throughput=33195.14250753811 records/second\u001b[0m\n"
     ]
    },
    {
     "name": "stdout",
     "output_type": "stream",
     "text": [
      "\u001b[34m[2023-11-02 20:25:24.062] [tensorio] [info] epoch_stats={\"data_pipeline\": \"/opt/ml/input/data/train\", \"epoch\": 29, \"duration\": 1050, \"num_examples\": 129, \"num_bytes\": 30569268}\u001b[0m\n",
      "\u001b[34m#metrics {\"StartTime\": 1698956724.0629237, \"EndTime\": 1698956724.0629654, \"Dimensions\": {\"Algorithm\": \"Linear Learner\", \"Host\": \"algo-1\", \"Operation\": \"training\", \"epoch\": 13, \"model\": 0}, \"Metrics\": {\"train_binary_classification_cross_entropy_objective\": {\"sum\": 0.33655638965494905, \"count\": 1, \"min\": 0.33655638965494905, \"max\": 0.33655638965494905}}}\u001b[0m\n",
      "\u001b[34m[11/02/2023 20:25:24 INFO 140043151161152] #quality_metric: host=algo-1, epoch=13, train binary_classification_cross_entropy_objective <loss>=0.33655638965494905\u001b[0m\n",
      "\u001b[34m[2023-11-02 20:25:25.098] [tensorio] [info] epoch_stats={\"data_pipeline\": \"/opt/ml/input/data/validation\", \"epoch\": 41, \"duration\": 1033, \"num_examples\": 37, \"num_bytes\": 8697764}\u001b[0m\n",
      "\u001b[34m#metrics {\"StartTime\": 1698956725.1165388, \"EndTime\": 1698956725.1165814, \"Dimensions\": {\"Algorithm\": \"Linear Learner\", \"Host\": \"algo-1\", \"Operation\": \"training\", \"epoch\": 13, \"model\": 0}, \"Metrics\": {\"validation_binary_classification_cross_entropy_objective\": {\"sum\": 0.33414598859170963, \"count\": 1, \"min\": 0.33414598859170963, \"max\": 0.33414598859170963}}}\u001b[0m\n",
      "\u001b[34m[11/02/2023 20:25:25 INFO 140043151161152] #quality_metric: host=algo-1, epoch=13, validation binary_classification_cross_entropy_objective <loss>=0.33414598859170963\u001b[0m\n",
      "\u001b[34m[11/02/2023 20:25:25 INFO 140043151161152] #early_stopping_criteria_metric: host=algo-1, epoch=13, criteria=sampled_accuracy, value=0.8885157150734379\u001b[0m\n",
      "\u001b[34m[11/02/2023 20:25:25 INFO 140043151161152] Epoch 13: Loss improved. Updating best model\u001b[0m\n",
      "\u001b[34m[11/02/2023 20:25:25 INFO 140043151161152] Saving model for epoch: 13\u001b[0m\n",
      "\u001b[34m[11/02/2023 20:25:25 INFO 140043151161152] Saved checkpoint to \"/tmp/tmpiby_d9fb/mx-mod-0000.params\"\u001b[0m\n",
      "\u001b[34m[11/02/2023 20:25:25 INFO 140043151161152] #progress_metric: host=algo-1, completed 93.33333333333333 % of epochs\u001b[0m\n",
      "\u001b[34m#metrics {\"StartTime\": 1698956723.0121717, \"EndTime\": 1698956725.1230183, \"Dimensions\": {\"Algorithm\": \"Linear Learner\", \"Host\": \"algo-1\", \"Operation\": \"training\", \"epoch\": 13, \"Meta\": \"training_data_iter\"}, \"Metrics\": {\"Total Records Seen\": {\"sum\": 992502.0, \"count\": 1, \"min\": 992502, \"max\": 992502}, \"Total Batches Seen\": {\"sum\": 1826.0, \"count\": 1, \"min\": 1826, \"max\": 1826}, \"Max Records Seen Between Resets\": {\"sum\": 70113.0, \"count\": 1, \"min\": 70113, \"max\": 70113}, \"Max Batches Seen Between Resets\": {\"sum\": 129.0, \"count\": 1, \"min\": 129, \"max\": 129}, \"Reset Count\": {\"sum\": 16.0, \"count\": 1, \"min\": 16, \"max\": 16}, \"Number of Records Since Last Reset\": {\"sum\": 70113.0, \"count\": 1, \"min\": 70113, \"max\": 70113}, \"Number of Batches Since Last Reset\": {\"sum\": 129.0, \"count\": 1, \"min\": 129, \"max\": 129}}}\u001b[0m\n",
      "\u001b[34m[11/02/2023 20:25:25 INFO 140043151161152] #throughput_metric: host=algo-1, train throughput=33213.213167499496 records/second\u001b[0m\n",
      "\u001b[34m[2023-11-02 20:25:26.169] [tensorio] [info] epoch_stats={\"data_pipeline\": \"/opt/ml/input/data/train\", \"epoch\": 31, \"duration\": 1046, \"num_examples\": 129, \"num_bytes\": 30569268}\u001b[0m\n",
      "\u001b[34m#metrics {\"StartTime\": 1698956726.1696727, \"EndTime\": 1698956726.1697257, \"Dimensions\": {\"Algorithm\": \"Linear Learner\", \"Host\": \"algo-1\", \"Operation\": \"training\", \"epoch\": 14, \"model\": 0}, \"Metrics\": {\"train_binary_classification_cross_entropy_objective\": {\"sum\": 0.33653110549563453, \"count\": 1, \"min\": 0.33653110549563453, \"max\": 0.33653110549563453}}}\u001b[0m\n",
      "\u001b[34m[11/02/2023 20:25:26 INFO 140043151161152] #quality_metric: host=algo-1, epoch=14, train binary_classification_cross_entropy_objective <loss>=0.33653110549563453\u001b[0m\n",
      "\u001b[34m[2023-11-02 20:25:27.217] [tensorio] [info] epoch_stats={\"data_pipeline\": \"/opt/ml/input/data/validation\", \"epoch\": 44, \"duration\": 1045, \"num_examples\": 37, \"num_bytes\": 8697764}\u001b[0m\n",
      "\u001b[34m#metrics {\"StartTime\": 1698956727.2393131, \"EndTime\": 1698956727.2393544, \"Dimensions\": {\"Algorithm\": \"Linear Learner\", \"Host\": \"algo-1\", \"Operation\": \"training\", \"epoch\": 14, \"model\": 0}, \"Metrics\": {\"validation_binary_classification_cross_entropy_objective\": {\"sum\": 0.3341448343728167, \"count\": 1, \"min\": 0.3341448343728167, \"max\": 0.3341448343728167}}}\u001b[0m\n",
      "\u001b[34m[11/02/2023 20:25:27 INFO 140043151161152] #quality_metric: host=algo-1, epoch=14, validation binary_classification_cross_entropy_objective <loss>=0.3341448343728167\u001b[0m\n",
      "\u001b[34m[11/02/2023 20:25:27 INFO 140043151161152] #early_stopping_criteria_metric: host=algo-1, epoch=14, criteria=sampled_accuracy, value=0.888565842899394\u001b[0m\n",
      "\u001b[34m[11/02/2023 20:25:27 INFO 140043151161152] Epoch 14: Loss improved. Updating best model\u001b[0m\n",
      "\u001b[34m[11/02/2023 20:25:27 INFO 140043151161152] Saving model for epoch: 14\u001b[0m\n",
      "\u001b[34m[11/02/2023 20:25:27 INFO 140043151161152] Saved checkpoint to \"/tmp/tmpaagap7la/mx-mod-0000.params\"\u001b[0m\n",
      "\u001b[34m[11/02/2023 20:25:27 INFO 140043151161152] #progress_metric: host=algo-1, completed 100.0 % of epochs\u001b[0m\n",
      "\u001b[34m#metrics {\"StartTime\": 1698956725.1233585, \"EndTime\": 1698956727.2464237, \"Dimensions\": {\"Algorithm\": \"Linear Learner\", \"Host\": \"algo-1\", \"Operation\": \"training\", \"epoch\": 14, \"Meta\": \"training_data_iter\"}, \"Metrics\": {\"Total Records Seen\": {\"sum\": 1062615.0, \"count\": 1, \"min\": 1062615, \"max\": 1062615}, \"Total Batches Seen\": {\"sum\": 1955.0, \"count\": 1, \"min\": 1955, \"max\": 1955}, \"Max Records Seen Between Resets\": {\"sum\": 70113.0, \"count\": 1, \"min\": 70113, \"max\": 70113}, \"Max Batches Seen Between Resets\": {\"sum\": 129.0, \"count\": 1, \"min\": 129, \"max\": 129}, \"Reset Count\": {\"sum\": 17.0, \"count\": 1, \"min\": 17, \"max\": 17}, \"Number of Records Since Last Reset\": {\"sum\": 70113.0, \"count\": 1, \"min\": 70113, \"max\": 70113}, \"Number of Batches Since Last Reset\": {\"sum\": 129.0, \"count\": 1, \"min\": 129, \"max\": 129}}}\u001b[0m\n",
      "\u001b[34m[11/02/2023 20:25:27 INFO 140043151161152] #throughput_metric: host=algo-1, train throughput=33021.843678204285 records/second\u001b[0m\n",
      "\u001b[34m[11/02/2023 20:25:27 WARNING 140043151161152] wait_for_all_workers will not sync workers since the kv store is not running distributed\u001b[0m\n",
      "\u001b[34m[11/02/2023 20:25:27 WARNING 140043151161152] wait_for_all_workers will not sync workers since the kv store is not running distributed\u001b[0m\n",
      "\u001b[34m[2023-11-02 20:25:28.384] [tensorio] [info] epoch_stats={\"data_pipeline\": \"/opt/ml/input/data/validation\", \"epoch\": 47, \"duration\": 1135, \"num_examples\": 37, \"num_bytes\": 8697764}\u001b[0m\n",
      "\u001b[34m[11/02/2023 20:25:28 INFO 140043151161152] #early_stopping_criteria_metric: host=algo-1, epoch=14, criteria=sampled_accuracy, value=0.888565842899394\u001b[0m\n",
      "\u001b[34m[11/02/2023 20:25:28 INFO 140043151161152] Epoch 14: Loss improved. Updating best model\u001b[0m\n",
      "\u001b[34m[2023-11-02 20:25:29.559] [tensorio] [info] epoch_stats={\"data_pipeline\": \"/opt/ml/input/data/validation\", \"epoch\": 49, \"duration\": 1147, \"num_examples\": 37, \"num_bytes\": 8697764}\u001b[0m\n",
      "\u001b[34m[11/02/2023 20:25:29 INFO 140043151161152] #validation_score (algo-1) : ('binary_classification_cross_entropy_objective', 0.3341448343728167)\u001b[0m\n",
      "\u001b[34m[11/02/2023 20:25:29 INFO 140043151161152] #validation_score (algo-1) : ('binary_classification_accuracy', 0.8885157150734373)\u001b[0m\n",
      "\u001b[34m[11/02/2023 20:25:29 INFO 140043151161152] #validation_score (algo-1) : ('binary_f_1.000', 0.009795191451469279)\u001b[0m\n",
      "\u001b[34m[11/02/2023 20:25:29 INFO 140043151161152] #validation_score (algo-1) : ('precision', 0.7857142857142857)\u001b[0m\n",
      "\u001b[34m[11/02/2023 20:25:29 INFO 140043151161152] #validation_score (algo-1) : ('recall', 0.00492831541218638)\u001b[0m\n",
      "\u001b[34m[11/02/2023 20:25:29 INFO 140043151161152] #validation_score (algo-1) : ('roc_auc_score', 0.6589154443932614)\u001b[0m\n",
      "\u001b[34m[11/02/2023 20:25:29 INFO 140043151161152] #validation_score (algo-1) : ('binary_balanced_accuracy', 0.5)\u001b[0m\n",
      "\u001b[34m[11/02/2023 20:25:29 INFO 140043151161152] #validation_score (algo-1) : ('binary_log_loss', 0.7350027417154023)\u001b[0m\n",
      "\u001b[34m[11/02/2023 20:25:29 INFO 140043151161152] #quality_metric: host=algo-1, validation binary_classification_cross_entropy_objective <loss>=0.3341448343728167\u001b[0m\n",
      "\u001b[34m[11/02/2023 20:25:29 INFO 140043151161152] #quality_metric: host=algo-1, validation binary_classification_accuracy <score>=0.8885157150734373\u001b[0m\n",
      "\u001b[34m[11/02/2023 20:25:29 INFO 140043151161152] #quality_metric: host=algo-1, validation binary_f_1.000 <score>=0.009795191451469279\u001b[0m\n",
      "\u001b[34m[11/02/2023 20:25:29 INFO 140043151161152] #quality_metric: host=algo-1, validation precision <score>=0.7857142857142857\u001b[0m\n",
      "\u001b[34m[11/02/2023 20:25:29 INFO 140043151161152] #quality_metric: host=algo-1, validation recall <score>=0.00492831541218638\u001b[0m\n",
      "\u001b[34m[11/02/2023 20:25:29 INFO 140043151161152] #quality_metric: host=algo-1, validation roc_auc_score <score>=0.6589154443932614\u001b[0m\n",
      "\u001b[34m[11/02/2023 20:25:29 INFO 140043151161152] #quality_metric: host=algo-1, validation binary_balanced_accuracy <score>=0.5\u001b[0m\n",
      "\u001b[34m[11/02/2023 20:25:29 INFO 140043151161152] #quality_metric: host=algo-1, validation binary_log_loss <score>=0.7350027417154023\u001b[0m\n",
      "\u001b[34m[11/02/2023 20:25:29 INFO 140043151161152] Best model found for hyperparameters: {\"optimizer\": \"adam\", \"learning_rate\": 0.002478971972691457, \"l1\": 0.8846803538632066, \"wd\": 0.00011040373989387878, \"lr_scheduler_step\": 10, \"lr_scheduler_factor\": 0.99, \"lr_scheduler_minimum_lr\": 1e-05}\u001b[0m\n",
      "\u001b[34m[11/02/2023 20:25:29 INFO 140043151161152] Saved checkpoint to \"/tmp/tmp2etlgt2c/mx-mod-0000.params\"\u001b[0m\n",
      "\u001b[34m[11/02/2023 20:25:29 INFO 140043151161152] Test data is not provided.\u001b[0m\n",
      "\u001b[34m#metrics {\"StartTime\": 1698956691.2948654, \"EndTime\": 1698956729.5988593, \"Dimensions\": {\"Algorithm\": \"Linear Learner\", \"Host\": \"algo-1\", \"Operation\": \"training\"}, \"Metrics\": {\"initialize.time\": {\"sum\": 1862.9798889160156, \"count\": 1, \"min\": 1862.9798889160156, \"max\": 1862.9798889160156}, \"epochs\": {\"sum\": 15.0, \"count\": 1, \"min\": 15, \"max\": 15}, \"check_early_stopping.time\": {\"sum\": 15.898704528808594, \"count\": 16, \"min\": 0.8139610290527344, \"max\": 1.3380050659179688}, \"update.time\": {\"sum\": 34022.263288497925, \"count\": 15, \"min\": 2108.0052852630615, \"max\": 3483.001470565796}, \"finalize.time\": {\"sum\": 2348.010778427124, \"count\": 1, \"min\": 2348.010778427124, \"max\": 2348.010778427124}, \"setuptime\": {\"sum\": 2.2482872009277344, \"count\": 1, \"min\": 2.2482872009277344, \"max\": 2.2482872009277344}, \"totaltime\": {\"sum\": 38420.942544937134, \"count\": 1, \"min\": 38420.942544937134, \"max\": 38420.942544937134}}}\u001b[0m\n"
     ]
    },
    {
     "name": "stdout",
     "output_type": "stream",
     "text": [
      "\n",
      "2023-11-02 20:25:49 Uploading - Uploading generated training model\n",
      "2023-11-02 20:25:49 Completed - Training job completed\n",
      "Training seconds: 178\n",
      "Billable seconds: 178\n",
      "CPU times: user 943 ms, sys: 46.7 ms, total: 990 ms\n",
      "Wall time: 4min 44s\n"
     ]
    }
   ],
   "source": [
    "%%time\n",
    "sess = sagemaker.Session()\n",
    "\n",
    "# Setup the LinearLeaner algorithm from the ECR container\n",
    "linear = sagemaker.estimator.Estimator(container,\n",
    "                                       role,\n",
    "                                       hyperparameters=best_hyperparameters,\n",
    "                                       instance_count=1, \n",
    "                                       instance_type='ml.c4.xlarge',\n",
    "                                       output_path=output_location,\n",
    "                                       sagemaker_session=sess,\n",
    "                                       input_mode='Pipe')\n",
    "\n",
    "\n",
    "# Launch a training job. This method calls the CreateTrainingJob API call\n",
    "data_channels = {\n",
    "    'train': training_data_location,\n",
    "    'validation': validation_data_location\n",
    "}\n",
    "linear.fit(data_channels, job_name=job_name)"
   ]
  },
  {
   "cell_type": "code",
   "execution_count": 8,
   "id": "104b15e6",
   "metadata": {},
   "outputs": [
    {
     "name": "stdout",
     "output_type": "stream",
     "text": [
      "Here is the location of the trained Linear Learner model: s3://diabetes-directory/linear_learner//diabetes-LL-job-optimized-20231102201422/output/model.tar.gz\n"
     ]
    }
   ],
   "source": [
    "print('Here is the location of the trained Linear Learner model: {}/{}/output/model.tar.gz'.format(output_location, job_name))"
   ]
  },
  {
   "cell_type": "markdown",
   "id": "8bf7cbb8",
   "metadata": {},
   "source": [
    "### 3.4 Deploy Optimized Model for Real Time Inference Calls via Gateway API and Lambda"
   ]
  },
  {
   "cell_type": "markdown",
   "id": "6a53205c",
   "metadata": {},
   "source": [
    "We will deploy our Linear Learner model in a similar manner with which we deployed our XGBoost model. \n",
    "\n",
    "With employing the Lambda.py file code within a Lambda function, and accessing this within an API Gateway, we are able to submit a patient record (that is formatted in JSON) to the Gateway, and have a \"Readmitted\"/\"Not Readmitted\" response returned."
   ]
  },
  {
   "cell_type": "code",
   "execution_count": 9,
   "id": "ff9c83a3",
   "metadata": {
    "scrolled": true
   },
   "outputs": [
    {
     "name": "stderr",
     "output_type": "stream",
     "text": [
      "INFO:sagemaker:Creating model with name: linear-learner-2023-11-02-20-25-59-832\n",
      "INFO:sagemaker:Creating endpoint-config with name linear-learner-2023-11-02-20-25-59-832\n",
      "INFO:sagemaker:Creating endpoint with name linear-learner-2023-11-02-20-25-59-832\n"
     ]
    },
    {
     "name": "stdout",
     "output_type": "stream",
     "text": [
      "----------!"
     ]
    }
   ],
   "source": [
    "deployed_predictor = linear.deploy(initial_instance_count=1, instance_type='ml.m4.xlarge')"
   ]
  },
  {
   "cell_type": "markdown",
   "id": "193cb80f",
   "metadata": {},
   "source": [
    "### 3.5 Identify Optimal Likelihood Cutoff for our Predictions"
   ]
  },
  {
   "cell_type": "markdown",
   "id": "a609eec0",
   "metadata": {},
   "source": [
    "#### Here we read in our holdout test dataset for assessment on the deployed model."
   ]
  },
  {
   "cell_type": "code",
   "execution_count": 10,
   "id": "bf8e49f9",
   "metadata": {},
   "outputs": [],
   "source": [
    "def CSV_Reader(bucket, subfolder, source_file_name):\n",
    "    \n",
    "    '''The CSV_Reader() function takes in the names of the bucket, subfolder, and source file name, and desired dataframe name. \n",
    "    It first constructs the filepath, and then imports the file residing at this filepath, based on the title fed to the function.\n",
    "    \n",
    "    Arguments \n",
    "    --------- \n",
    "    bucket: Head S3 repository bucket\n",
    "    subfolder: Subfolder containing the source data\n",
    "    source_file_name: Name of source CSV data file \n",
    "    \n",
    "    Return\n",
    "    ---------\n",
    "    Returns the source data in a pandas dataframe '''\n",
    "    \n",
    "    data_location = 's3://{}/{}/{}'.format(bucket, subfolder, source_file_name)  \n",
    "    dataset = pd.read_csv(data_location, low_memory=False)\n",
    "    return dataset"
   ]
  },
  {
   "cell_type": "code",
   "execution_count": 11,
   "id": "a8dedc2d",
   "metadata": {
    "scrolled": true
   },
   "outputs": [
    {
     "name": "stderr",
     "output_type": "stream",
     "text": [
      "INFO:botocore.credentials:Found credentials from IAM Role: BaseNotebookInstanceEc2InstanceRole\n"
     ]
    }
   ],
   "source": [
    "test_dataset = CSV_Reader(bucket, folder, 'test.csv')"
   ]
  },
  {
   "cell_type": "markdown",
   "id": "404da171",
   "metadata": {},
   "source": [
    "#### We seperate our dependent and independent variables from the test dataset, so that they can be fed to the deployed model for a patch prediction job."
   ]
  },
  {
   "cell_type": "code",
   "execution_count": 12,
   "id": "6890e84b",
   "metadata": {},
   "outputs": [],
   "source": [
    "test_X = test_dataset.drop(columns='readmitted').values\n",
    "test_y = test_dataset['readmitted'].values"
   ]
  },
  {
   "cell_type": "markdown",
   "id": "18ab1672",
   "metadata": {},
   "source": [
    "#### Here we make the necessary specifications to format our data, and then feed it to the deployed model.\n",
    "<br>\n",
    "Our responses are returned to us in a list of values (between 0 and 1) demonstrating how likely each individual record is to be readmitted."
   ]
  },
  {
   "cell_type": "code",
   "execution_count": 13,
   "id": "1702c877",
   "metadata": {},
   "outputs": [
    {
     "name": "stdout",
     "output_type": "stream",
     "text": [
      "10052\n"
     ]
    }
   ],
   "source": [
    "deployed_predictor.serializer = sagemaker.serializers.CSVSerializer()\n",
    "deployed_predictor.deserializer = sagemaker.deserializers.JSONDeserializer()\n",
    "\n",
    "predictions = []\n",
    "results = deployed_predictor.predict(test_X)\n",
    "predictions += [r['score'] for r in results['predictions']]\n",
    "\n",
    "print(len(predictions))"
   ]
  },
  {
   "cell_type": "code",
   "execution_count": 14,
   "id": "ca49c2df",
   "metadata": {},
   "outputs": [],
   "source": [
    "test_dataset['predictions'] = predictions"
   ]
  },
  {
   "cell_type": "markdown",
   "id": "fb7b9861",
   "metadata": {},
   "source": [
    "Here we will look at the distribution of our prediction values."
   ]
  },
  {
   "cell_type": "code",
   "execution_count": 15,
   "id": "d34f1718",
   "metadata": {},
   "outputs": [
    {
     "data": {
      "image/png": "[encoded data removed]",
      "text/plain": [
       "<Figure size 640x480 with 1 Axes>"
      ]
     },
     "metadata": {},
     "output_type": "display_data"
    },
    {
     "name": "stdout",
     "output_type": "stream",
     "text": [
      "The mean predictive value for the test dataset is: 0.1120747877607308\n"
     ]
    }
   ],
   "source": [
    "plt.hist(test_dataset.predictions, bins=1000, density=True, alpha=0.7, color='blue')\n",
    "plt.xlabel('Predicted Values for Holdout Test Dataset')\n",
    "plt.ylabel('Frequency')\n",
    "plt.title('Distribution of Prediction Values from Model')\n",
    "\n",
    "mean_value = np.mean(test_dataset.predictions)\n",
    "max_value = np.max(test_dataset.predictions)\n",
    "min_value = np.min(test_dataset.predictions)\n",
    "\n",
    "\n",
    "# Add mean line to the histogram\n",
    "plt.axvline(mean_value, color='red', linestyle='dashed', linewidth=2, label=f'Mean Prediction Value: {mean_value:.2f}')\n",
    "\n",
    "plt.axvline(max_value, color='orange', linestyle='dashed', linewidth=1, label=f'Maximum Prediction Value: {max_value:.2f}')\n",
    "\n",
    "plt.axvline(min_value, color='green', linestyle='dashed', linewidth=1, label=f'Minimum Prediction Value: {min_value:.2f}')\n",
    "\n",
    "\n",
    "# Display legend\n",
    "plt.legend()\n",
    "\n",
    "# Show the histogram\n",
    "plt.show()\n",
    "\n",
    "print('The mean predictive value for the test dataset is: {}'.format(mean_value))"
   ]
  },
  {
   "cell_type": "markdown",
   "id": "6a10d358",
   "metadata": {},
   "source": [
    "As we can see here, our algorithm is hesitant to place much predictive weight behind any particular patient record, and so the majority of our predictions are centered near 0.1 and skew right. As the dataset is weighted heavily towards those who were not readmitted (i.e about 1 in 10 patients being readmitted), this makes sense.\n",
    "\n",
    "We will therefore institute a prediction/rounding cutoff value lower than 0.5 to determine which records are predicted as being readmitted. As the mean prediction is around 10.5, using this value instead of 0.5 would likely predict around half of records as being classified as readmissions.\n",
    "\n",
    "We will therefore use a average of these predictions is likely a good place to start. Let us try this value, as well with a few other values to see which cutoff value gives us the best statistical outcome.\n",
    "\n",
    "As mentioned earlier, optimizing the Area Under the Curve (AUC) metric will be our highest priority, as this metric takes into account both false positives and false negatives."
   ]
  },
  {
   "cell_type": "markdown",
   "id": "4bff5820",
   "metadata": {},
   "source": [
    "#### Here we create new lists that will cut probabilities (ranging from 50% to 5%), while focusing on cutoff values close to the mean prediction of 10.5%. "
   ]
  },
  {
   "cell_type": "code",
   "execution_count": 26,
   "id": "eb3ed8f3",
   "metadata": {},
   "outputs": [],
   "source": [
    "pred_50 = [1 if i>=0.5 else 0 for i in test_dataset[\"predictions\"]]\n",
    "pred_20 = [1 if i>=0.2 else 0 for i in test_dataset[\"predictions\"]]\n",
    "pred_12 = [1 if i>=0.12 else 0 for i in test_dataset[\"predictions\"]]\n",
    "pred_112 = [1 if i>=0.11207 else 0 for i in test_dataset[\"predictions\"]]\n",
    "pred_11 = [1 if i>=0.11 else 0 for i in test_dataset[\"predictions\"]]\n",
    "pred_105 = [1 if i>=0.105 else 0 for i in test_dataset[\"predictions\"]]\n",
    "pred_10 = [1 if i>=0.1 else 0 for i in test_dataset[\"predictions\"]]\n",
    "pred_05 = [1 if i>=0.05 else 0 for i in test_dataset[\"predictions\"]]"
   ]
  },
  {
   "cell_type": "markdown",
   "id": "b88f1739",
   "metadata": {},
   "source": [
    "#### Each list is now a series of 1/0 values"
   ]
  },
  {
   "cell_type": "code",
   "execution_count": 17,
   "id": "144d1940",
   "metadata": {},
   "outputs": [
    {
     "data": {
      "text/plain": [
       "[1, 1, 0, 0, 0, 0, 0, 0, 0, 0, 0, 0, 0, 0, 0, 1, 0, 0, 0, 0]"
      ]
     },
     "execution_count": 17,
     "metadata": {},
     "output_type": "execute_result"
    }
   ],
   "source": [
    "pred_105[0:20]"
   ]
  },
  {
   "cell_type": "markdown",
   "id": "4d3c3e77",
   "metadata": {},
   "source": [
    "#### Here we list our different prediction lists together"
   ]
  },
  {
   "cell_type": "code",
   "execution_count": 28,
   "id": "5f112dcf",
   "metadata": {},
   "outputs": [],
   "source": [
    "list_of_prediction_lists = [pred_50, pred_20, pred_12, pred_112, pred_11, pred_105, pred_10, pred_05]"
   ]
  },
  {
   "cell_type": "markdown",
   "id": "47ed56da",
   "metadata": {},
   "source": [
    "#### Here we provde an accompanying name for each list, based off of the respective likelihood cutoff value applied to the list "
   ]
  },
  {
   "cell_type": "code",
   "execution_count": 31,
   "id": "1c65317c",
   "metadata": {},
   "outputs": [],
   "source": [
    "names_of_levels = ['50%', '20%', '12%', '11%', '11.207% (mean)', '10.5%', '10%', '5%']"
   ]
  },
  {
   "cell_type": "markdown",
   "id": "61975bd0",
   "metadata": {},
   "source": [
    "#### Here we define the function to conduct our statistical analysis"
   ]
  },
  {
   "cell_type": "code",
   "execution_count": 20,
   "id": "be6e52f5",
   "metadata": {},
   "outputs": [],
   "source": [
    "def Linear_Learner_Statistical_Evaluation(probability_rounding_threshold_values, names_of_levels):\n",
    "    \n",
    "    '''The CSV_Reader() function takes different readmission predictions, based off of different likelihood roundoff \n",
    "    values, and computes different \n",
    "    \n",
    "    Arguments \n",
    "    --------- \n",
    "    probability_rounding_threshold_values: A list of probabilities for each likelihood cutoff value\n",
    "    subfolder: A list of names for each item of the probability_rounding_threshold_values list, representing \n",
    "        the implimented likelihood cutoff value\n",
    "    \n",
    "    Return\n",
    "    ---------\n",
    "    For each prediction list, the following is computed:\n",
    "    -The likelihood cutoff value being used\n",
    "    -The number of predicted positived\n",
    "    -The accuracy of the predictions\n",
    "    -The precision of the predictions\n",
    "    -The recall of the predictions\n",
    "    -The F1 score of the predictions\n",
    "    -The ROC AUC score of the predictions\n",
    "    '''\n",
    "    \n",
    "    for i, j in zip(probability_rounding_threshold_values, names_of_levels):\n",
    "        y_test = test_dataset['readmitted']\n",
    "        scores = precision_recall_fscore_support(y_test, i, average='macro', labels=np.unique(i))\n",
    "        acc = accuracy_score(y_test, i)\n",
    "        roc = roc_auc_score(y_test, i)\n",
    "        positives = sum(i)\n",
    "        \n",
    "        print()\n",
    "        print('The cutoff percentage being used for predictions is: {}'.format(j))\n",
    "        print('Number of predicted readmissions: {}'.format(positives))\n",
    "        print('Accuracy is: {}'.format(acc))\n",
    "        print('Precision is: {}'.format(scores[0]))\n",
    "        print('Recall is: {}'.format(scores[1]))\n",
    "        print('F1 score is: {}'.format(scores[2]))     \n",
    "        print('ROC AUC score (i.e. the metric of primary interest) is: {}'.format(roc))"
   ]
  },
  {
   "cell_type": "markdown",
   "id": "c9271819",
   "metadata": {},
   "source": [
    "#### Here we assess the statistical output for the predictions from each likelihood cutoff level"
   ]
  },
  {
   "cell_type": "code",
   "execution_count": 32,
   "id": "bbae5e6c",
   "metadata": {
    "scrolled": true
   },
   "outputs": [
    {
     "name": "stdout",
     "output_type": "stream",
     "text": [
      "\n",
      "The cutoff percentage being used for predictions is: 50%\n",
      "Number of predicted readmissions: 38\n",
      "Accuracy is: 0.8804218066056506\n",
      "Precision is: 0.730256588145018\n",
      "Recall is: 0.5082013921961535\n",
      "F1 score is: 0.4857867373069695\n",
      "ROC AUC score (i.e. the metric of primary interest) is: 0.5082013921961535\n",
      "\n",
      "The cutoff percentage being used for predictions is: 20%\n",
      "Number of predicted readmissions: 681\n",
      "Accuracy is: 0.8518702745722244\n",
      "Precision is: 0.5930599307295243\n",
      "Recall is: 0.5555878793869305\n",
      "F1 score is: 0.5650032179890017\n",
      "ROC AUC score (i.e. the metric of primary interest) is: 0.5555878793869304\n",
      "\n",
      "The cutoff percentage being used for predictions is: 12%\n",
      "Number of predicted readmissions: 2610\n",
      "Accuracy is: 0.7250298448070036\n",
      "Precision is: 0.5552040247904356\n",
      "Recall is: 0.600365683622825\n",
      "F1 score is: 0.5531722220160107\n",
      "ROC AUC score (i.e. the metric of primary interest) is: 0.600365683622825\n",
      "\n",
      "The cutoff percentage being used for predictions is: 11%\n",
      "Number of predicted readmissions: 3201\n",
      "Accuracy is: 0.684142459212097\n",
      "Precision is: 0.553243743026407\n",
      "Recall is: 0.6092930515993182\n",
      "F1 score is: 0.5387941676539726\n",
      "ROC AUC score (i.e. the metric of primary interest) is: 0.6092930515993183\n",
      "\n",
      "The cutoff percentage being used for predictions is: 11.207% (mean)\n",
      "Number of predicted readmissions: 3393\n",
      "Accuracy is: 0.6696179864703542\n",
      "Precision is: 0.5516627720463856\n",
      "Recall is: 0.6092584189228452\n",
      "F1 score is: 0.5319918939906085\n",
      "ROC AUC score (i.e. the metric of primary interest) is: 0.6092584189228452\n",
      "\n",
      "The cutoff percentage being used for predictions is: 10.5%\n",
      "Number of predicted readmissions: 3842\n",
      "Accuracy is: 0.6372861122164744\n",
      "Precision is: 0.5506179266200089\n",
      "Recall is: 0.613041430415652\n",
      "F1 score is: 0.5179125182346851\n",
      "ROC AUC score (i.e. the metric of primary interest) is: 0.613041430415652\n",
      "\n",
      "The cutoff percentage being used for predictions is: 10%\n",
      "Number of predicted readmissions: 4343\n",
      "Accuracy is: 0.5969956227616394\n",
      "Precision is: 0.5462337401907955\n",
      "Recall is: 0.6072983966381218\n",
      "F1 score is: 0.49592986595328514\n",
      "ROC AUC score (i.e. the metric of primary interest) is: 0.6072983966381219\n",
      "\n",
      "The cutoff percentage being used for predictions is: 5%\n",
      "Number of predicted readmissions: 10051\n",
      "Accuracy is: 0.12027457222443295\n",
      "Precision is: 0.5600935230325341\n",
      "Recall is: 0.5000565355042967\n",
      "F1 score is: 0.10740500244738571\n",
      "ROC AUC score (i.e. the metric of primary interest) is: 0.5000565355042967\n"
     ]
    }
   ],
   "source": [
    "Linear_Learner_Statistical_Evaluation(list_of_prediction_lists, names_of_levels)"
   ]
  },
  {
   "cell_type": "markdown",
   "id": "27da47ae",
   "metadata": {},
   "source": [
    "#### By looking at the above, it would appear that the highest AUC value is somewhere between 10.25% and 10.5%. Let us explore this more granularly..."
   ]
  },
  {
   "cell_type": "code",
   "execution_count": 22,
   "id": "32e7a7ae",
   "metadata": {},
   "outputs": [],
   "source": [
    "pred_104 = [1 if i>=0.104 else 0 for i in test_dataset[\"predictions\"]]\n",
    "pred_10425 = [1 if i>=0.10425 else 0 for i in test_dataset[\"predictions\"]]\n",
    "pred_1045 = [1 if i>=0.1045 else 0 for i in test_dataset[\"predictions\"]]\n",
    "pred_10475 = [1 if i>=0.10475 else 0 for i in test_dataset[\"predictions\"]]\n",
    "pred_105 = [1 if i>=0.105 else 0 for i in test_dataset[\"predictions\"]]\n",
    "pred_10525 = [1 if i>=0.10525 else 0 for i in test_dataset[\"predictions\"]]\n",
    "pred_1055 = [1 if i>=0.1055 else 0 for i in test_dataset[\"predictions\"]]\n",
    "pred_10575 = [1 if i>=0.10575 else 0 for i in test_dataset[\"predictions\"]]\n",
    "pred_106 = [1 if i>=0.106 else 0 for i in test_dataset[\"predictions\"]]"
   ]
  },
  {
   "cell_type": "markdown",
   "id": "9fda1ac3",
   "metadata": {},
   "source": [
    "#### Here we list our different prediction lists together"
   ]
  },
  {
   "cell_type": "code",
   "execution_count": 23,
   "id": "377edaa4",
   "metadata": {},
   "outputs": [],
   "source": [
    "more_precise_rounding_threshold_predictions = [pred_104, pred_10425, pred_1045, pred_10475, pred_105, pred_10525, pred_1055, pred_10575, pred_106]"
   ]
  },
  {
   "cell_type": "markdown",
   "id": "9a814670",
   "metadata": {},
   "source": [
    "#### Here we provde an accompanying name for each list, based off of the respective likelihood cutoff value applied to the list "
   ]
  },
  {
   "cell_type": "code",
   "execution_count": 24,
   "id": "df8923b5",
   "metadata": {},
   "outputs": [],
   "source": [
    "more_precise_names_of_levels = ['10.4%', '10.425%','10.45%', '10.475%','10.5%', '10.525%', '10.55%', '10.575%', '10.6%']"
   ]
  },
  {
   "cell_type": "code",
   "execution_count": 25,
   "id": "1588aec9",
   "metadata": {
    "scrolled": true
   },
   "outputs": [
    {
     "name": "stdout",
     "output_type": "stream",
     "text": [
      "\n",
      "The cutoff percentage being used for predictions is: 10.4%\n",
      "Number of predicted readmissions: 3942\n",
      "Accuracy is: 0.6293274970155193\n",
      "Precision is: 0.549720289533755\n",
      "Recall is: 0.6120923078766314\n",
      "F1 score is: 0.5136703755594827\n",
      "ROC AUC score (i.e. the metric of primary interest) is: 0.6120923078766314\n",
      "\n",
      "The cutoff percentage being used for predictions is: 10.425%\n",
      "Number of predicted readmissions: 3915\n",
      "Accuracy is: 0.6316155988857939\n",
      "Precision is: 0.5501033136320511\n",
      "Recall is: 0.6126778809145124\n",
      "F1 score is: 0.5150007890142532\n",
      "ROC AUC score (i.e. the metric of primary interest) is: 0.6126778809145123\n",
      "\n",
      "The cutoff percentage being used for predictions is: 10.45%\n",
      "Number of predicted readmissions: 3895\n",
      "Accuracy is: 0.6332073219259848\n",
      "Precision is: 0.5502815606103284\n",
      "Recall is: 0.6128677054223164\n",
      "F1 score is: 0.5158501093068417\n",
      "ROC AUC score (i.e. the metric of primary interest) is: 0.6128677054223165\n",
      "\n",
      "The cutoff percentage being used for predictions is: 10.475%\n",
      "Number of predicted readmissions: 3872\n",
      "Accuracy is: 0.6352964584162356\n",
      "Precision is: 0.5507625070207816\n",
      "Recall is: 0.6136975792320756\n",
      "F1 score is: 0.5171684360141884\n",
      "ROC AUC score (i.e. the metric of primary interest) is: 0.6136975792320757\n",
      "\n",
      "The cutoff percentage being used for predictions is: 10.5%\n",
      "Number of predicted readmissions: 3842\n",
      "Accuracy is: 0.6372861122164744\n",
      "Precision is: 0.5506179266200089\n",
      "Recall is: 0.613041430415652\n",
      "F1 score is: 0.5179125182346851\n",
      "ROC AUC score (i.e. the metric of primary interest) is: 0.613041430415652\n",
      "\n",
      "The cutoff percentage being used for predictions is: 10.525%\n",
      "Number of predicted readmissions: 3822\n",
      "Accuracy is: 0.6384799044966176\n",
      "Precision is: 0.5503824693230793\n",
      "Recall is: 0.6122903693453263\n",
      "F1 score is: 0.5182287197605135\n",
      "ROC AUC score (i.e. the metric of primary interest) is: 0.6122903693453263\n",
      "\n",
      "The cutoff percentage being used for predictions is: 10.55%\n",
      "Number of predicted readmissions: 3798\n",
      "Accuracy is: 0.6404695582968564\n",
      "Precision is: 0.5506933698294071\n",
      "Recall is: 0.6127063358703173\n",
      "F1 score is: 0.5193484337539158\n",
      "ROC AUC score (i.e. the metric of primary interest) is: 0.6127063358703172\n",
      "\n",
      "The cutoff percentage being used for predictions is: 10.575%\n",
      "Number of predicted readmissions: 3769\n",
      "Accuracy is: 0.6431555909271787\n",
      "Precision is: 0.551375075499479\n",
      "Recall is: 0.6138754227058566\n",
      "F1 score is: 0.5210795201657379\n",
      "ROC AUC score (i.e. the metric of primary interest) is: 0.6138754227058566\n",
      "\n",
      "The cutoff percentage being used for predictions is: 10.6%\n",
      "Number of predicted readmissions: 3747\n",
      "Accuracy is: 0.6445483485873458\n",
      "Precision is: 0.5512078920339549\n",
      "Recall is: 0.6132374326441243\n",
      "F1 score is: 0.521526519719125\n",
      "ROC AUC score (i.e. the metric of primary interest) is: 0.6132374326441243\n"
     ]
    }
   ],
   "source": [
    "Linear_Learner_Statistical_Evaluation(more_precise_rounding_threshold_predictions, more_precise_names_of_levels)"
   ]
  },
  {
   "cell_type": "markdown",
   "id": "8391d68d",
   "metadata": {},
   "source": [
    "From the above results, we can see that a cutoff value of 10.575% (i.e. those predicted as being at 10.58% risk of readmission) gives us the greatest Area-Under-The-Curve value of 0.6138.\n",
    "\n",
    "This can be roughly interpreted as: \"Given a random readmitted/positive record, and random not-readmitted/negative record, the algorithm will correctly identify the positive record as being more likely to be readmitted than the negative record, 61% of the time.\n",
    "\n",
    "This value of 0.61 is fairly close to the AUC value of 0.65 that we recieved from our best hyperparameter tuning session off of the validation data subset. This indicates that while there is likely some degree of overfitting present, generally, generally our model does a good job at providing generalizable, unbiased predictions across the entirity of the patient population.\n",
    "\n",
    "Although the accuracy and precission have decreased due to our lower prediction cutoff point, we are able to predict these costly readmissions demonstratably better with the algorithm than without."
   ]
  },
  {
   "cell_type": "markdown",
   "id": "ca31b3ae",
   "metadata": {},
   "source": [
    "### 3.6 Evaluate Model"
   ]
  },
  {
   "cell_type": "code",
   "execution_count": 33,
   "id": "81e69cb9",
   "metadata": {},
   "outputs": [],
   "source": [
    "optimal_cutoff = pred_10575"
   ]
  },
  {
   "cell_type": "code",
   "execution_count": 34,
   "id": "75d2b8fe",
   "metadata": {},
   "outputs": [],
   "source": [
    "from sklearn.metrics import confusion_matrix\n",
    "from sklearn.utils.multiclass import unique_labels\n",
    "\n",
    "def Plot_Confusion_Matrix(y_true, y_pred, classes,\n",
    "                          normalize=False,\n",
    "                          title=None, \n",
    "                          cmap=None):\n",
    "    \n",
    "    '''The Plot_Confusion_Matrix() function produces a confusion matrix with which to view our final results.\n",
    "    \n",
    "    Arguments \n",
    "    --------- \n",
    "    y_true: the actual readmission values for the test dataset\n",
    "    y_pred: the predicted readmission values for the test dataset\n",
    "    classes: The names for the outcome possibilities (i.e. readmitted/not readmitted) \n",
    "    title: chart title\n",
    "    cmap: sets the color gradient\n",
    "    \n",
    "    Return\n",
    "    ---------\n",
    "    Returns the specified confusion matrix '''\n",
    "    \n",
    "    if not title:\n",
    "        if normalize:\n",
    "            title = 'Normalized confusion matrix'\n",
    "            plt.cm.Greens\n",
    "        else:\n",
    "            title = 'Confusion matrix, without normalization'\n",
    "\n",
    "    # Compute confusion matrix\n",
    "    cm = confusion_matrix(y_true, y_pred)\n",
    "    # Only use the labels that appear in the data\n",
    "    classes = classes[unique_labels(y_true, y_pred)]\n",
    "    if normalize:\n",
    "        cm = cm.astype('float') / cm.sum(axis=1)[:, np.newaxis]\n",
    "\n",
    "    fig, ax = plt.subplots()\n",
    "    im = ax.imshow(cm, interpolation='nearest', cmap=cmap)\n",
    "    ax.figure.colorbar(im, ax=ax)\n",
    "    # We want to show all ticks...\n",
    "    ax.set(xticks=np.arange(cm.shape[1]),\n",
    "           yticks=np.arange(cm.shape[0]),\n",
    "           # ... and label them with the respective list entries\n",
    "           xticklabels=classes, yticklabels=classes,\n",
    "           title=title,\n",
    "           ylabel='Actual',\n",
    "           xlabel='Predicted')\n",
    "\n",
    "    # Rotate the tick labels and set their alignment.\n",
    "    plt.setp(ax.get_xticklabels(), rotation=45, ha=\"right\",\n",
    "             rotation_mode=\"anchor\")\n",
    "\n",
    "    # Loop over data dimensions and create text annotations.\n",
    "    fmt = '.2f' if normalize else 'd'\n",
    "    thresh = cm.max() / 2.\n",
    "    for i in range(cm.shape[0]):\n",
    "        for j in range(cm.shape[1]):\n",
    "            ax.text(j, i, format(cm[i, j], fmt),\n",
    "                    ha=\"center\", va=\"center\",\n",
    "                    color=\"white\" if cm[i, j] > thresh else \"black\")\n",
    "    fig.tight_layout()\n",
    "    return ax\n",
    "\n",
    "\n",
    "np.set_printoptions(precision=2)"
   ]
  },
  {
   "cell_type": "code",
   "execution_count": 37,
   "id": "53802df0",
   "metadata": {},
   "outputs": [
    {
     "data": {
      "image/png": "[encoded data removed]",
      "text/plain": [
       "<Figure size 640x480 with 2 Axes>"
      ]
     },
     "metadata": {},
     "output_type": "display_data"
    },
    {
     "data": {
      "text/plain": [
       "<Figure size 640x480 with 0 Axes>"
      ]
     },
     "metadata": {},
     "output_type": "display_data"
    }
   ],
   "source": [
    "%matplotlib inline\n",
    "sns.set_context(\"paper\", font_scale=1.4)\n",
    "\n",
    "y_test = test_dataset['readmitted']\n",
    "y_pred = optimal_cutoff\n",
    "\n",
    "class_names = np.array(['Not Readmitted', 'Readmitted'])\n",
    "\n",
    "# Plot non-normalized confusion matrix\n",
    "Plot_Confusion_Matrix(y_test, y_pred, classes=class_names,\n",
    "                      title='Confusion matrix',\n",
    "                      cmap=plt.cm.Blues)\n",
    "plt.grid(False)\n",
    "plt.show()\n",
    "\n",
    "# Save the table as a PNG image in memory\n",
    "buffer = BytesIO()\n",
    "plt.savefig(buffer, format='png')\n",
    "buffer.seek(0)\n",
    "\n",
    "# Upload the image to S3\n",
    "file_path = 'image_outputs/'\n",
    "file_name = 'll_confusion_matrix.png'  # Specify the desired file name in S3\n",
    "file_key = file_path + file_name\n",
    "\n",
    "#s3_client = boto3.client('s3')\n",
    "s3_client.upload_fileobj(buffer, bucket, file_key)\n",
    "\n",
    "\n",
    "plt.show()"
   ]
  },
  {
   "cell_type": "markdown",
   "id": "ae6b35fa",
   "metadata": {},
   "source": [
    "#### Our final predictive statistics:"
   ]
  },
  {
   "cell_type": "code",
   "execution_count": 39,
   "id": "2a853d14",
   "metadata": {
    "scrolled": true
   },
   "outputs": [
    {
     "name": "stdout",
     "output_type": "stream",
     "text": [
      "\n",
      "The cutoff percentage being used for predictions is: 10.575% Cutoff\n",
      "Number of predicted readmissions: 3769\n",
      "Accuracy is: 0.6431555909271787\n",
      "Precision is: 0.551375075499479\n",
      "Recall is: 0.6138754227058566\n",
      "F1 score is: 0.5210795201657379\n",
      "ROC AUC score (i.e. the metric of primary interest) is: 0.6138754227058566\n"
     ]
    }
   ],
   "source": [
    "Linear_Learner_Statistical_Evaluation([optimal_cutoff], ['10.575% Cutoff'])"
   ]
  },
  {
   "cell_type": "markdown",
   "id": "a57b1634",
   "metadata": {},
   "source": [
    "For further discussion of these results, please see the accompanying assessment located here:<br>\n",
    "https://wbst-bkt.s3.amazonaws.com/index.html"
   ]
  }
 ],
 "metadata": {
  "kernelspec": {
   "display_name": "conda_python3",
   "language": "python",
   "name": "conda_python3"
  },
  "language_info": {
   "codemirror_mode": {
    "name": "ipython",
    "version": 3
   },
   "file_extension": ".py",
   "mimetype": "text/x-python",
   "name": "python",
   "nbconvert_exporter": "python",
   "pygments_lexer": "ipython3",
   "version": "3.10.12"
  }
 },
 "nbformat": 4,
 "nbformat_minor": 5
}
